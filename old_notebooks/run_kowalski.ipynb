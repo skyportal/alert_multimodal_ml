{
 "cells": [
  {
   "cell_type": "code",
   "execution_count": 6,
   "metadata": {},
   "outputs": [
    {
     "data": {
      "text/plain": [
       "<module 'src.preprocessing.gaussian_process' from '/home/theob/Documents/stage/ML_skyportal/src/preprocessing/gaussian_process.py'>"
      ]
     },
     "execution_count": 6,
     "metadata": {},
     "output_type": "execute_result"
    }
   ],
   "source": [
    "import src.preprocessing.load_csv as load_csv\n",
    "import src.preprocessing.plot_data as plot_data\n",
    "import src.preprocessing.preprocessing_run as preprocessing_run\n",
    "import src.models.T2_model as T2_model\n",
    "import src.evaluation.predict as predict\n",
    "import src.preprocessing.tools as tools\n",
    "import src.preprocessing.kowalski as kowalski\n",
    "import src.evaluation.plot_evaluation as plot_evaluation\n",
    "import src.preprocessing.gaussian_process as gp\n",
    "\n",
    "import importlib\n",
    "import numpy as np\n",
    "import pandas as pd\n",
    "\n",
    "importlib.reload(load_csv)\n",
    "importlib.reload(plot_data)\n",
    "importlib.reload(preprocessing_run)\n",
    "importlib.reload(T2_model)\n",
    "importlib.reload(predict)\n",
    "importlib.reload(tools)\n",
    "importlib.reload(kowalski)\n",
    "importlib.reload(plot_evaluation)\n",
    "importlib.reload(gp)"
   ]
  },
  {
   "cell_type": "code",
   "execution_count": 138,
   "metadata": {},
   "outputs": [
    {
     "name": "stdout",
     "output_type": "stream",
     "text": [
      "Connected to Kowalski\n",
      "Total number of objects: 14153\n",
      "0 ZTF17aaaeqms 0.0\n",
      "1 ZTF17aaajowi 7.065639793683318e-05\n",
      "2 ZTF17aaanztg 0.00014131279587366636\n",
      "3 ZTF17aaaocnx 0.00021196919381049955\n",
      "4 ZTF17aaaptxx 0.0002826255917473327\n",
      "5 ZTF17aaapufz 0.0003532819896841659\n",
      "6 ZTF17aaazdba 0.0004239383876209991\n",
      "7 ZTF17aabgaoo 0.0004945947855578322\n",
      "8 ZTF17aabhmby 0.0005652511834946654\n",
      "9 ZTF17aabtvsy 0.0006359075814314987\n",
      "10 ZTF17aabwkio 0.0007065639793683318\n",
      "11 ZTF17aacldgo 0.000777220377305165\n",
      "12 ZTF17aacpbmv 0.0008478767752419982\n",
      "13 ZTF17aacxacr 0.0009185331731788313\n",
      "14 ZTF17aadlxmv 0.0009891895711156644\n",
      "15 ZTF18aaaecnk 0.0010598459690524978\n",
      "16 ZTF18aaaehwv 0.0011305023669893309\n",
      "17 ZTF18aaahyvk 0.001201158764926164\n",
      "18 ZTF18aaaibml 0.0012718151628629973\n",
      "19 ZTF18aaajljy 0.0013424715607998304\n",
      "20 ZTF18aaanaev 0.0014131279587366635\n",
      "21 ZTF18aaaonon 0.0014837843566734969\n",
      "22 ZTF18aaaqbhp 0.00155444075461033\n",
      "23 ZTF18aaaqexr 0.001625097152547163\n",
      "24 ZTF18aaaqgyc 0.0016957535504839964\n",
      "25 ZTF18aabcgyb 0.0017664099484208295\n",
      "26 ZTF18aabdajx 0.0018370663463576626\n",
      "27 ZTF18aabdgik 0.0019077227442944958\n",
      "28 ZTF18aabdjmb 0.001978379142231329\n",
      "29 ZTF18aabedfq 0.002049035540168162\n",
      "30 ZTF18aabezhk 0.0021196919381049955\n",
      "31 ZTF18aabgroi 0.0021903483360418284\n",
      "32 ZTF18aabiwhf 0.0022610047339786618\n",
      "33 ZTF18aabkvpi 0.002331661131915495\n",
      "34 ZTF18aabssth 0.002402317529852328\n",
      "35 ZTF18aabtahy 0.0024729739277891613\n",
      "36 ZTF18aabtxvd 0.0025436303257259946\n",
      "37 ZTF18aabuoud 0.0026142867236628275\n",
      "38 ZTF18aabuoxd 0.002684943121599661\n",
      "39 ZTF18aabutpp 0.002755599519536494\n",
      "40 ZTF18aabxlsv 0.002826255917473327\n",
      "41 ZTF18aabxyys 0.0028969123154101604\n",
      "42 ZTF18aacdblq 0.0029675687133469937\n",
      "43 ZTF18aaceepu 0.0030382251112838266\n",
      "44 ZTF18aacemcn 0.00310888150922066\n",
      "45 ZTF18aacfiij 0.0031795379071574933\n",
      "46 ZTF18aaclshi 0.003250194305094326\n",
      "47 ZTF18aacmwsq 0.0033208507030311595\n",
      "48 ZTF18aacnlxz 0.003391507100967993\n",
      "49 ZTF18aacopwm 0.0034621634989048257\n",
      "50 ZTF18aacornn 0.003532819896841659\n",
      "51 ZTF18aacrptw 0.0036034762947784924\n",
      "52 ZTF18aaczmob 0.0036741326927153253\n",
      "53 ZTF18aadaexi 0.0037447890906521586\n",
      "54 ZTF18aadbtae 0.0038154454885889915\n",
      "55 ZTF18aadlaxo 0.003886101886525825\n",
      "56 ZTF18aadmssd 0.003956758284462658\n",
      "57 ZTF18aadqmyy 0.004027414682399491\n",
      "58 ZTF18aadsuxd 0.004098071080336324\n",
      "59 ZTF18aadvifa 0.004168727478273158\n",
      "60 ZTF18aadvsxy 0.004239383876209991\n",
      "61 ZTF18aadxnul 0.004310040274146824\n",
      "62 ZTF18aadzfso 0.004380696672083657\n",
      "63 ZTF18aaegvyd 0.00445135307002049\n",
      "64 ZTF18aaeipng 0.0045220094679573235\n",
      "65 ZTF18aaemivw 0.004592665865894157\n",
      "66 ZTF18aaenucd 0.00466332226383099\n",
      "67 ZTF18aaeqjmc 0.0047339786617678235\n",
      "68 ZTF18aaermez 0.004804635059704656\n",
      "69 ZTF18aaewdgq 0.004875291457641489\n",
      "70 ZTF18aaexyql 0.004945947855578323\n",
      "71 ZTF18aaeyilr 0.005016604253515156\n",
      "72 ZTF18aaezzww 0.005087260651451989\n",
      "73 ZTF18aafcpdd 0.005157917049388822\n",
      "74 ZTF18aafctgp 0.005228573447325655\n",
      "75 ZTF18aafdigb 0.005299229845262488\n",
      "76 ZTF18aafmmdy 0.005369886243199322\n",
      "77 ZTF18aafpfwr 0.005440542641136155\n",
      "78 ZTF18aafzers 0.005511199039072988\n",
      "79 ZTF18aagaypc 0.005581855437009821\n",
      "80 ZTF18aagftma 0.005652511834946654\n",
      "81 ZTF18aagguqz 0.0057231682328834875\n",
      "82 ZTF18aagpzjk 0.005793824630820321\n",
      "83 ZTF18aagrdcs 0.005864481028757154\n",
      "84 ZTF18aagrtxs 0.0059351374266939875\n",
      "85 ZTF18aagstdc 0.00600579382463082\n",
      "86 ZTF18aagtcxj 0.006076450222567653\n",
      "87 ZTF18aagtwyh 0.006147106620504487\n",
      "88 ZTF18aahatvc 0.00621776301844132\n",
      "89 ZTF18aahesrp 0.006288419416378153\n",
      "90 ZTF18aahfbqp 0.006359075814314987\n",
      "91 ZTF18aahfcri 0.006429732212251819\n",
      "92 ZTF18aahfeiy 0.006500388610188652\n",
      "93 ZTF18aahfgid 0.006571045008125486\n",
      "94 ZTF18aahfgyz 0.006641701406062319\n",
      "95 ZTF18aahfkwu 0.006712357803999152\n",
      "96 ZTF18aahfqbc 0.006783014201935986\n",
      "97 ZTF18aahfxnn 0.006853670599872818\n",
      "98 ZTF18aahfzea 0.0069243269978096515\n",
      "99 ZTF18aahheaj 0.006994983395746485\n",
      "100 ZTF18aahhenr 0.007065639793683318\n",
      "101 ZTF18aahhqih 0.0071362961916201515\n",
      "102 ZTF18aahhzqn 0.007206952589556985\n",
      "103 ZTF18aahjafd 0.007277608987493817\n",
      "104 ZTF18aahmhxu 0.007348265385430651\n",
      "105 ZTF18aahpbwz 0.007418921783367484\n",
      "106 ZTF18aahpouv 0.007489578181304317\n",
      "107 ZTF18aahptcq 0.007560234579241151\n",
      "108 ZTF18aahqkbt 0.007630890977177983\n",
      "109 ZTF18aahqmsr 0.007701547375114816\n",
      "110 ZTF18aahrzkb 0.00777220377305165\n",
      "111 ZTF18aahshhp 0.007842860170988482\n",
      "112 ZTF18aahsuyl 0.007913516568925315\n",
      "113 ZTF18aahtjsc 0.007984172966862149\n",
      "114 ZTF18aahuujv 0.008054829364798982\n",
      "115 ZTF18aahvkwq 0.008125485762735815\n",
      "116 ZTF18aahvndq 0.008196142160672649\n",
      "117 ZTF18aahvpcy 0.008266798558609482\n",
      "118 ZTF18aahwhbk 0.008337454956546315\n",
      "119 ZTF18aahxmjf 0.008408111354483149\n",
      "120 ZTF18aaihpfs 0.008478767752419982\n",
      "121 ZTF18aaiiigm 0.008549424150356815\n",
      "122 ZTF18aaikyip 0.008620080548293649\n",
      "123 ZTF18aailmnv 0.00869073694623048\n",
      "124 ZTF18aairuad 0.008761393344167314\n",
      "125 ZTF18aaisqmw 0.008832049742104147\n",
      "126 ZTF18aaisuxz 0.00890270614004098\n",
      "127 ZTF18aaisvqg 0.008973362537977814\n",
      "128 ZTF18aaisybp 0.009044018935914647\n",
      "129 ZTF18aaisyyp 0.00911467533385148\n",
      "130 ZTF18aaitfrq 0.009185331731788314\n",
      "131 ZTF18aaivnak 0.009255988129725147\n",
      "132 ZTF18aaiwewk 0.00932664452766198\n",
      "133 ZTF18aaiwzie 0.009397300925598814\n",
      "134 ZTF18aaiykoz 0.009467957323535647\n",
      "135 ZTF18aaizerg 0.009538613721472479\n",
      "136 ZTF18aajawol 0.009609270119409312\n",
      "137 ZTF18aajeezy 0.009679926517346145\n",
      "138 ZTF18aajfrro 0.009750582915282979\n",
      "139 ZTF18aajfspz 0.009821239313219812\n",
      "140 ZTF18aajigto 0.009891895711156645\n",
      "141 ZTF18aajivpr 0.009962552109093479\n",
      "142 ZTF18aajjhkq 0.010033208507030312\n",
      "143 ZTF18aajkcdn 0.010103864904967145\n",
      "144 ZTF18aajkrxi 0.010174521302903979\n",
      "145 ZTF18aajmpck 0.010245177700840812\n",
      "146 ZTF18aajpjdi 0.010315834098777643\n",
      "147 ZTF18aajqcue 0.010386490496714477\n",
      "148 ZTF18aajtlbf 0.01045714689465131\n",
      "149 ZTF18aajvqye 0.010527803292588143\n",
      "150 ZTF18aakaljn 0.010598459690524977\n",
      "151 ZTF18aakbuks 0.01066911608846181\n",
      "152 ZTF18aakctzv 0.010739772486398643\n",
      "153 ZTF18aakdxos 0.010810428884335477\n",
      "154 ZTF18aakeayh 0.01088108528227231\n",
      "155 ZTF18aakecej 0.010951741680209143\n",
      "156 ZTF18aakfabl 0.011022398078145977\n",
      "157 ZTF18aakibjv 0.01109305447608281\n",
      "158 ZTF18aakiwbs 0.011163710874019642\n",
      "159 ZTF18aakkrjm 0.011234367271956475\n",
      "160 ZTF18aaklpdo 0.011305023669893308\n",
      "161 ZTF18aakogek 0.011375680067830142\n",
      "162 ZTF18aakrnvd 0.011446336465766975\n",
      "163 ZTF18aaksbbs 0.011516992863703808\n",
      "164 ZTF18aakzliv 0.011587649261640642\n",
      "165 ZTF18aalcxig 0.011658305659577475\n",
      "166 ZTF18aalpcph 0.011728962057514308\n",
      "167 ZTF18aalpdyt 0.011799618455451142\n",
      "168 ZTF18aaluzrx 0.011870274853387975\n",
      "169 ZTF18aalzqvs 0.011940931251324808\n",
      "170 ZTF18aamasph 0.01201158764926164\n",
      "171 ZTF18aamfrvy 0.012082244047198473\n",
      "172 ZTF18aamftst 0.012152900445135307\n",
      "173 ZTF18aamigmk 0.01222355684307214\n",
      "174 ZTF18aamrkmd 0.012294213241008973\n",
      "175 ZTF18aamsgjq 0.012364869638945807\n",
      "176 ZTF18aamsnge 0.01243552603688264\n",
      "177 ZTF18aamstrn 0.012506182434819473\n",
      "178 ZTF18aamtiwb 0.012576838832756307\n",
      "179 ZTF18aamurzy 0.01264749523069314\n",
      "180 ZTF18aamvfeb 0.012718151628629973\n",
      "181 ZTF18aamxads 0.012788808026566805\n",
      "182 ZTF18aamzgzi 0.012859464424503638\n",
      "183 ZTF18aanckuh 0.012930120822440471\n",
      "184 ZTF18aanggvq 0.013000777220377305\n",
      "185 ZTF18aangpkx 0.013071433618314138\n",
      "186 ZTF18aanhpii 0.013142090016250971\n",
      "187 ZTF18aanjzkp 0.013212746414187805\n",
      "188 ZTF18aankjav 0.013283402812124638\n",
      "189 ZTF18aankxqv 0.013354059210061471\n",
      "190 ZTF18aanlyba 0.013424715607998305\n",
      "191 ZTF18aannern 0.013495372005935138\n",
      "192 ZTF18aansqom 0.013566028403871971\n",
      "193 ZTF18aansqov 0.013636684801808803\n",
      "194 ZTF18aansqun 0.013707341199745636\n",
      "195 ZTF18aanxbdh 0.01377799759768247\n",
      "196 ZTF18aanxlcr 0.013848653995619303\n",
      "197 ZTF18aanygjk 0.013919310393556136\n",
      "198 ZTF18aanyhfb 0.01398996679149297\n",
      "199 ZTF18aaorexe 0.014060623189429803\n",
      "200 ZTF18aaotzhu 0.014131279587366636\n",
      "201 ZTF18aaoufjt 0.01420193598530347\n",
      "202 ZTF18aaovbiy 0.014272592383240303\n",
      "203 ZTF18aaowtgn 0.014343248781177136\n",
      "204 ZTF18aaoxrup 0.01441390517911397\n",
      "205 ZTF18aapgrxo 0.014484561577050801\n",
      "206 ZTF18aaphzut 0.014555217974987635\n",
      "207 ZTF18aapictz 0.014625874372924468\n",
      "208 ZTF18aapifti 0.014696530770861301\n",
      "209 ZTF18aapxjzs 0.014767187168798135\n",
      "210 ZTF18aaqcqvr 0.014837843566734968\n",
      "211 ZTF18aaqcugm 0.014908499964671801\n",
      "212 ZTF18aaqedfj 0.014979156362608635\n",
      "213 ZTF18aaqehoc 0.015049812760545468\n",
      "214 ZTF18aaqfqaa 0.015120469158482301\n",
      "215 ZTF18aaqfziz 0.015191125556419134\n",
      "216 ZTF18aaqgadq 0.015261781954355966\n",
      "217 ZTF18aaqgbju 0.0153324383522928\n",
      "218 ZTF18aaqjhqz 0.015403094750229633\n",
      "219 ZTF18aaqjovh 0.015473751148166466\n",
      "220 ZTF18aaqjqqc 0.0155444075461033\n",
      "221 ZTF18aaqkcso 0.015615063944040133\n",
      "222 ZTF18aaqkdwu 0.015685720341976964\n",
      "223 ZTF18aaqkjuw 0.0157563767399138\n",
      "224 ZTF18aaqkoyr 0.01582703313785063\n",
      "225 ZTF18aaqkqxi 0.015897689535787466\n",
      "226 ZTF18aaqldvl 0.015968345933724298\n",
      "227 ZTF18aaqnxjb 0.016039002331661133\n",
      "228 ZTF18aaqpeoq 0.016109658729597964\n",
      "229 ZTF18aaqpjja 0.0161803151275348\n",
      "230 ZTF18aaqpkvx 0.01625097152547163\n",
      "231 ZTF18aaqqhis 0.016321627923408466\n",
      "232 ZTF18aaqqoqs 0.016392284321345298\n",
      "233 ZTF18aaqrxza 0.016462940719282133\n",
      "234 ZTF18aaqskoy 0.016533597117218964\n",
      "235 ZTF18aaqttsv 0.016604253515155796\n",
      "236 ZTF18aaquwqi 0.01667490991309263\n",
      "237 ZTF18aaqvuhl 0.016745566311029463\n",
      "238 ZTF18aaqwacv 0.016816222708966298\n",
      "239 ZTF18aaqwbsq 0.01688687910690313\n",
      "240 ZTF18aaqwiic 0.016957535504839964\n",
      "241 ZTF18aaqxpsi 0.017028191902776796\n",
      "242 ZTF18aaqybzx 0.01709884830071363\n",
      "243 ZTF18aaqydat 0.017169504698650462\n",
      "244 ZTF18aarasof 0.017240161096587298\n",
      "245 ZTF18aarbaba 0.01731081749452413\n",
      "246 ZTF18aarbgdn 0.01738147389246096\n",
      "247 ZTF18aarbify 0.017452130290397796\n",
      "248 ZTF18aarbixk 0.017522786688334627\n",
      "249 ZTF18aarcchg 0.017593443086271462\n",
      "250 ZTF18aarcehs 0.017664099484208294\n",
      "251 ZTF18aarcouj 0.01773475588214513\n",
      "252 ZTF18aarcygc 0.01780541228008196\n",
      "253 ZTF18aarcypa 0.017876068678018796\n",
      "254 ZTF18aardava 0.017946725075955627\n",
      "255 ZTF18aarikzk 0.018017381473892462\n",
      "256 ZTF18aaripcr 0.018088037871829294\n",
      "257 ZTF18aarlpzd 0.018158694269766126\n",
      "258 ZTF18aarlukc 0.01822935066770296\n",
      "259 ZTF18aarmlzn 0.018300007065639792\n",
      "260 ZTF18aarmnnd 0.018370663463576627\n",
      "261 ZTF18aarnbhk 0.01844131986151346\n",
      "262 ZTF18aaroihe 0.018511976259450294\n",
      "263 ZTF18aartimj 0.018582632657387126\n",
      "264 ZTF18aartjmf 0.01865328905532396\n",
      "265 ZTF18aartjod 0.018723945453260792\n",
      "266 ZTF18aarujtm 0.018794601851197627\n",
      "267 ZTF18aarunub 0.01886525824913446\n",
      "268 ZTF18aarwxum 0.018935914647071294\n",
      "269 ZTF18aarxzmv 0.019006571045008126\n",
      "270 ZTF18aarzojc 0.019077227442944957\n",
      "271 ZTF18aasdted 0.019147883840881792\n",
      "272 ZTF18aaslhxt 0.019218540238818624\n",
      "273 ZTF18aasprui 0.01928919663675546\n",
      "274 ZTF18aassbst 0.01935985303469229\n",
      "275 ZTF18aasufva 0.019430509432629126\n",
      "276 ZTF18aasvias 0.019501165830565957\n",
      "277 ZTF18aaswfhl 0.019571822228502792\n",
      "278 ZTF18aaswrap 0.019642478626439624\n",
      "279 ZTF18aasxvsg 0.01971313502437646\n",
      "280 ZTF18aasxwhv 0.01978379142231329\n",
      "281 ZTF18aasycak 0.019854447820250122\n",
      "282 ZTF18aasycpd 0.019925104218186957\n",
      "283 ZTF18aasyjhd 0.01999576061612379\n",
      "284 ZTF18aasypqx 0.020066417014060624\n",
      "285 ZTF18aaszfhi 0.020137073411997455\n",
      "286 ZTF18aaszvfn 0.02020772980993429\n",
      "287 ZTF18aataafd 0.020278386207871122\n",
      "288 ZTF18aateoek 0.020349042605807957\n",
      "289 ZTF18aatezaj 0.02041969900374479\n",
      "290 ZTF18aatfujv 0.020490355401681624\n",
      "291 ZTF18aatgdph 0.020561011799618455\n",
      "292 ZTF18aathgma 0.020631668197555287\n",
      "293 ZTF18aatiffa 0.020702324595492122\n",
      "294 ZTF18aatiudp 0.020772980993428954\n",
      "295 ZTF18aatjfoe 0.02084363739136579\n",
      "296 ZTF18aatjhup 0.02091429378930262\n",
      "297 ZTF18aatjlhe 0.020984950187239455\n",
      "298 ZTF18aatjmcx 0.021055606585176287\n",
      "299 ZTF18aatlfus 0.021126262983113122\n",
      "300 ZTF18aatmlsy 0.021196919381049954\n",
      "301 ZTF18aatpqxq 0.02126757577898679\n",
      "302 ZTF18aatquwd 0.02133823217692362\n",
      "303 ZTF18aatrkga 0.021408888574860455\n",
      "304 ZTF18aatrllk 0.021479544972797287\n",
      "305 ZTF18aatvjwr 0.02155020137073412\n",
      "306 ZTF18aatyqds 0.021620857768670954\n",
      "307 ZTF18aatzygk 0.021691514166607785\n",
      "308 ZTF18aauenwu 0.02176217056454462\n",
      "309 ZTF18aauhxce 0.021832826962481452\n",
      "310 ZTF18aauizcr 0.021903483360418287\n",
      "311 ZTF18aaumeys 0.02197413975835512\n",
      "312 ZTF18aaunfqq 0.022044796156291954\n",
      "313 ZTF18aaupmks 0.022115452554228785\n",
      "314 ZTF18aauuqrh 0.02218610895216562\n",
      "315 ZTF18aauuzmf 0.022256765350102452\n",
      "316 ZTF18aauvmnq 0.022327421748039283\n",
      "317 ZTF18aauvnhh 0.02239807814597612\n",
      "318 ZTF18aauworo 0.02246873454391295\n",
      "319 ZTF18aauxltf 0.022539390941849785\n",
      "320 ZTF18aauxzle 0.022610047339786617\n",
      "321 ZTF18aavdwmh 0.022680703737723452\n",
      "322 ZTF18aaviokz 0.022751360135660283\n",
      "323 ZTF18aavjcpf 0.02282201653359712\n",
      "324 ZTF18aavjnfx 0.02289267293153395\n",
      "325 ZTF18aavnvmp 0.022963329329470785\n",
      "326 ZTF18aavnxar 0.023033985727407617\n",
      "327 ZTF18aavpets 0.023104642125344448\n",
      "328 ZTF18aavqdyq 0.023175298523281283\n",
      "329 ZTF18aavrmcg 0.023245954921218115\n",
      "330 ZTF18aavrmlf 0.02331661131915495\n",
      "331 ZTF18aavrwhu 0.02338726771709178\n",
      "332 ZTF18aavryhc 0.023457924115028617\n",
      "333 ZTF18aavrzxp 0.023528580512965448\n",
      "334 ZTF18aavsilo 0.023599236910902283\n",
      "335 ZTF18aavskep 0.023669893308839115\n",
      "336 ZTF18aavuzhe 0.02374054970677595\n",
      "337 ZTF18aavvnzu 0.02381120610471278\n",
      "338 ZTF18aavylrw 0.023881862502649617\n",
      "339 ZTF18aawczad 0.023952518900586448\n",
      "340 ZTF18aawdpnm 0.02402317529852328\n",
      "341 ZTF18aawdynj 0.024093831696460115\n",
      "342 ZTF18aawgrxz 0.024164488094396946\n",
      "343 ZTF18aawitoj 0.02423514449233378\n",
      "344 ZTF18aawitry 0.024305800890270613\n",
      "345 ZTF18aawiwhp 0.024376457288207448\n",
      "346 ZTF18aawjhmu 0.02444711368614428\n",
      "347 ZTF18aawjnhy 0.024517770084081115\n",
      "348 ZTF18aawjywv 0.024588426482017946\n",
      "349 ZTF18aawlfnj 0.02465908287995478\n",
      "350 ZTF18aawlxls 0.024729739277891613\n",
      "351 ZTF18aawmeiw 0.024800395675828445\n",
      "352 ZTF18aawmxdx 0.02487105207376528\n",
      "353 ZTF18aawpbgm 0.02494170847170211\n",
      "354 ZTF18aawpcel 0.025012364869638946\n",
      "355 ZTF18aawpwlf 0.025083021267575778\n",
      "356 ZTF18aawseij 0.025153677665512613\n",
      "357 ZTF18aawurud 0.025224334063449445\n",
      "358 ZTF18aawwzrq 0.02529499046138628\n",
      "359 ZTF18aawxgqp 0.02536564685932311\n",
      "360 ZTF18aawxlxf 0.025436303257259946\n",
      "361 ZTF18aawxnkz 0.025506959655196778\n",
      "362 ZTF18aawyjjq 0.02557761605313361\n",
      "363 ZTF18aawzens 0.025648272451070445\n",
      "364 ZTF18aawznqy 0.025718928849007276\n",
      "365 ZTF18aawzxky 0.02578958524694411\n",
      "366 ZTF18aaxavsk 0.025860241644880943\n",
      "367 ZTF18aaxcfbt 0.025930898042817778\n",
      "368 ZTF18aaxcntm 0.02600155444075461\n",
      "369 ZTF18aaxcxih 0.026072210838691445\n",
      "370 ZTF18aaxdrjn 0.026142867236628276\n",
      "371 ZTF18aaxeoqk 0.02621352363456511\n",
      "372 ZTF18aaxgwpl 0.026284180032501943\n",
      "373 ZTF18aaxiuyp 0.026354836430438778\n",
      "374 ZTF18aaxjuwy 0.02642549282837561\n",
      "375 ZTF18aaxkfos 0.02649614922631244\n",
      "376 ZTF18aaxkjmm 0.026566805624249276\n",
      "377 ZTF18aaxkqgy 0.026637462022186108\n",
      "378 ZTF18aaxmhvk 0.026708118420122943\n",
      "379 ZTF18aaxmixe 0.026778774818059774\n",
      "380 ZTF18aaxnkos 0.02684943121599661\n",
      "381 ZTF18aaxnmge 0.02692008761393344\n",
      "382 ZTF18aaxnqjb 0.026990744011870276\n",
      "383 ZTF18aaxokeg 0.027061400409807108\n",
      "384 ZTF18aaxqyki 0.027132056807743943\n",
      "385 ZTF18aaxsioa 0.027202713205680774\n",
      "386 ZTF18aaxtcdm 0.027273369603617606\n",
      "387 ZTF18aaxvpsw 0.02734402600155444\n",
      "388 ZTF18aaxwjmp 0.027414682399491273\n",
      "389 ZTF18aaxxewy 0.027485338797428108\n",
      "390 ZTF18aaxxfah 0.02755599519536494\n",
      "391 ZTF18aaxxfgs 0.027626651593301774\n",
      "392 ZTF18aaybfsd 0.027697307991238606\n",
      "393 ZTF18aaybjxm 0.02776796438917544\n",
      "394 ZTF18aaydmkh 0.027838620787112273\n",
      "395 ZTF18aaygwqd 0.027909277185049108\n",
      "396 ZTF18aayiahw 0.02797993358298594\n",
      "397 ZTF18aayidfz 0.02805058998092277\n",
      "398 ZTF18aayiono 0.028121246378859606\n",
      "399 ZTF18aayivoq 0.028191902776796438\n",
      "400 ZTF18aayivxm 0.028262559174733273\n",
      "401 ZTF18aayjflv 0.028333215572670104\n",
      "402 ZTF18aayjvve 0.02840387197060694\n",
      "403 ZTF18aayjyub 0.02847452836854377\n",
      "404 ZTF18aaykjei 0.028545184766480606\n",
      "405 ZTF18aaykmzg 0.028615841164417437\n",
      "406 ZTF18aaylbjm 0.028686497562354273\n",
      "407 ZTF18aaylcvo 0.028757153960291104\n",
      "408 ZTF18aaypxlu 0.02882781035822794\n",
      "409 ZTF18aaytovs 0.02889846675616477\n",
      "410 ZTF18aayxupv 0.028969123154101602\n",
      "411 ZTF18aayyqia 0.029039779552038437\n",
      "412 ZTF18aayyxxp 0.02911043594997527\n",
      "413 ZTF18aazabmh 0.029181092347912104\n",
      "414 ZTF18aazblzy 0.029251748745848936\n",
      "415 ZTF18aazcoob 0.02932240514378577\n",
      "416 ZTF18aazgfkq 0.029393061541722602\n",
      "417 ZTF18aazhklh 0.029463717939659437\n",
      "418 ZTF18aazhwnh 0.02953437433759627\n",
      "419 ZTF18aazijke 0.029605030735533104\n",
      "420 ZTF18aazixbw 0.029675687133469936\n",
      "421 ZTF18aazjflo 0.029746343531406767\n",
      "422 ZTF18aazjked 0.029816999929343602\n",
      "423 ZTF18aazjztm 0.029887656327280434\n",
      "424 ZTF18aazsabq 0.02995831272521727\n",
      "425 ZTF18aazxthg 0.0300289691231541\n",
      "426 ZTF18abadjhx 0.030099625521090936\n",
      "427 ZTF18abadmpz 0.030170281919027767\n",
      "428 ZTF18abaeawz 0.030240938316964602\n",
      "429 ZTF18abaelhi 0.030311594714901434\n",
      "430 ZTF18abafxmt 0.03038225111283827\n",
      "431 ZTF18abakjgq 0.0304529075107751\n",
      "432 ZTF18abakunn 0.030523563908711932\n",
      "433 ZTF18abalzzd 0.030594220306648767\n",
      "434 ZTF18abauprj 0.0306648767045856\n"
     ]
    },
    {
     "ename": "KeyboardInterrupt",
     "evalue": "",
     "output_type": "error",
     "traceback": [
      "\u001b[0;31m---------------------------------------------------------------------------\u001b[0m",
      "\u001b[0;31mKeyboardInterrupt\u001b[0m                         Traceback (most recent call last)",
      "Cell \u001b[0;32mIn[138], line 2\u001b[0m\n\u001b[1;32m      1\u001b[0m path \u001b[38;5;241m=\u001b[39m \u001b[38;5;124m'\u001b[39m\u001b[38;5;124m/media/theob/E/ML_project_data/data_kowalski/\u001b[39m\u001b[38;5;124m'\u001b[39m\n\u001b[0;32m----> 2\u001b[0m \u001b[43mkowalski\u001b[49m\u001b[38;5;241;43m.\u001b[39;49m\u001b[43mget_data_from_kowalski\u001b[49m\u001b[43m(\u001b[49m\u001b[38;5;28;43mall\u001b[39;49m\u001b[38;5;241;43m=\u001b[39;49m\u001b[38;5;28;43;01mTrue\u001b[39;49;00m\u001b[43m,\u001b[49m\u001b[43m \u001b[49m\u001b[43mnb_obj\u001b[49m\u001b[38;5;241;43m=\u001b[39;49m\u001b[38;5;241;43m500\u001b[39;49m\u001b[43m,\u001b[49m\u001b[43m \u001b[49m\u001b[43mdataDir\u001b[49m\u001b[38;5;241;43m=\u001b[39;49m\u001b[43mpath\u001b[49m\u001b[43m)\u001b[49m\n",
      "File \u001b[0;32m~/Documents/stage/ML_skyportal/src/preprocessing/kowalski.py:174\u001b[0m, in \u001b[0;36mget_data_from_kowalski\u001b[0;34m(all, nb_obj, dataDir)\u001b[0m\n\u001b[1;32m     69\u001b[0m     json\u001b[38;5;241m.\u001b[39mdump(spectra, fp)\n\u001b[1;32m     71\u001b[0m query \u001b[38;5;241m=\u001b[39m {\n\u001b[1;32m     72\u001b[0m     \u001b[38;5;124m\"\u001b[39m\u001b[38;5;124mquery_type\u001b[39m\u001b[38;5;124m\"\u001b[39m: \u001b[38;5;124m\"\u001b[39m\u001b[38;5;124mfind\u001b[39m\u001b[38;5;124m\"\u001b[39m,\n\u001b[1;32m     73\u001b[0m     \u001b[38;5;124m\"\u001b[39m\u001b[38;5;124mquery\u001b[39m\u001b[38;5;124m\"\u001b[39m: {\n\u001b[0;32m   (...)\u001b[0m\n\u001b[1;32m    171\u001b[0m     }\n\u001b[1;32m    172\u001b[0m }\n\u001b[0;32m--> 174\u001b[0m r \u001b[38;5;241m=\u001b[39m \u001b[43mkowalski\u001b[49m\u001b[38;5;241;43m.\u001b[39;49m\u001b[43mquery\u001b[49m\u001b[43m(\u001b[49m\u001b[43mquery\u001b[49m\u001b[43m)\u001b[49m\n\u001b[1;32m    175\u001b[0m object_alerts \u001b[38;5;241m=\u001b[39m r[\u001b[38;5;124m\"\u001b[39m\u001b[38;5;124mkowalski\u001b[39m\u001b[38;5;124m\"\u001b[39m][\u001b[38;5;124m'\u001b[39m\u001b[38;5;124mdata\u001b[39m\u001b[38;5;124m'\u001b[39m]\n\u001b[1;32m    176\u001b[0m alertsFile \u001b[38;5;241m=\u001b[39m os\u001b[38;5;241m.\u001b[39mpath\u001b[38;5;241m.\u001b[39mjoin(objDirectory, \u001b[38;5;124m'\u001b[39m\u001b[38;5;124malerts.npy\u001b[39m\u001b[38;5;124m'\u001b[39m) \n",
      "File \u001b[0;32m~/anaconda3/envs/ml_skyportal_env/lib/python3.10/site-packages/penquins/penquins.py:676\u001b[0m, in \u001b[0;36mKowalski.query\u001b[0;34m(self, query, queries, name, use_batch_query, max_n_threads)\u001b[0m\n\u001b[1;32m    673\u001b[0m     \u001b[38;5;28;01mreturn\u001b[39;00m \u001b[38;5;28mself\u001b[39m\u001b[38;5;241m.\u001b[39msingle_query((query_split_in_queries[name], name))\n\u001b[1;32m    675\u001b[0m \u001b[38;5;28;01mif\u001b[39;00m \u001b[38;5;28mlen\u001b[39m(query_split_in_queries) \u001b[38;5;241m==\u001b[39m \u001b[38;5;241m1\u001b[39m:\n\u001b[0;32m--> 676\u001b[0m     \u001b[38;5;28;01mreturn\u001b[39;00m \u001b[38;5;28;43mself\u001b[39;49m\u001b[38;5;241;43m.\u001b[39;49m\u001b[43msingle_query\u001b[49m\u001b[43m(\u001b[49m\n\u001b[1;32m    677\u001b[0m \u001b[43m        \u001b[49m\u001b[43m(\u001b[49m\n\u001b[1;32m    678\u001b[0m \u001b[43m            \u001b[49m\u001b[43mquery_split_in_queries\u001b[49m\u001b[43m[\u001b[49m\u001b[38;5;28;43mlist\u001b[39;49m\u001b[43m(\u001b[49m\u001b[43mquery_split_in_queries\u001b[49m\u001b[38;5;241;43m.\u001b[39;49m\u001b[43mkeys\u001b[49m\u001b[43m(\u001b[49m\u001b[43m)\u001b[49m\u001b[43m)\u001b[49m\u001b[43m[\u001b[49m\u001b[38;5;241;43m0\u001b[39;49m\u001b[43m]\u001b[49m\u001b[43m]\u001b[49m\u001b[43m,\u001b[49m\n\u001b[1;32m    679\u001b[0m \u001b[43m            \u001b[49m\u001b[38;5;28;43mlist\u001b[39;49m\u001b[43m(\u001b[49m\u001b[43mquery_split_in_queries\u001b[49m\u001b[38;5;241;43m.\u001b[39;49m\u001b[43mkeys\u001b[49m\u001b[43m(\u001b[49m\u001b[43m)\u001b[49m\u001b[43m)\u001b[49m\u001b[43m[\u001b[49m\u001b[38;5;241;43m0\u001b[39;49m\u001b[43m]\u001b[49m\u001b[43m,\u001b[49m\n\u001b[1;32m    680\u001b[0m \u001b[43m        \u001b[49m\u001b[43m)\u001b[49m\n\u001b[1;32m    681\u001b[0m \u001b[43m    \u001b[49m\u001b[43m)\u001b[49m\n\u001b[1;32m    683\u001b[0m \u001b[38;5;28;01mif\u001b[39;00m use_batch_query:\n\u001b[1;32m    684\u001b[0m     \u001b[38;5;28;01mif\u001b[39;00m \u001b[38;5;28mlen\u001b[39m(query_split_in_queries) \u001b[38;5;241m==\u001b[39m \u001b[38;5;241m0\u001b[39m:\n",
      "File \u001b[0;32m~/anaconda3/envs/ml_skyportal_env/lib/python3.10/site-packages/penquins/penquins.py:645\u001b[0m, in \u001b[0;36mKowalski.single_query\u001b[0;34m(self, query_tpl)\u001b[0m\n\u001b[1;32m    638\u001b[0m         _id \u001b[38;5;241m=\u001b[39m \u001b[38;5;124m\"\u001b[39m\u001b[38;5;124m\"\u001b[39m\u001b[38;5;241m.\u001b[39mjoin(\n\u001b[1;32m    639\u001b[0m             secrets\u001b[38;5;241m.\u001b[39mchoice(string\u001b[38;5;241m.\u001b[39mascii_lowercase \u001b[38;5;241m+\u001b[39m string\u001b[38;5;241m.\u001b[39mdigits)\n\u001b[1;32m    640\u001b[0m             \u001b[38;5;28;01mfor\u001b[39;00m _ \u001b[38;5;129;01min\u001b[39;00m \u001b[38;5;28mrange\u001b[39m(\u001b[38;5;241m32\u001b[39m)\n\u001b[1;32m    641\u001b[0m         )\n\u001b[1;32m    643\u001b[0m         _query[\u001b[38;5;124m\"\u001b[39m\u001b[38;5;124mkwargs\u001b[39m\u001b[38;5;124m\"\u001b[39m][\u001b[38;5;124m\"\u001b[39m\u001b[38;5;124m_id\u001b[39m\u001b[38;5;124m\"\u001b[39m] \u001b[38;5;241m=\u001b[39m _id\n\u001b[0;32m--> 645\u001b[0m resp \u001b[38;5;241m=\u001b[39m \u001b[38;5;28;43mself\u001b[39;49m\u001b[38;5;241;43m.\u001b[39;49m\u001b[43minstances\u001b[49m\u001b[43m[\u001b[49m\u001b[43mname\u001b[49m\u001b[43m]\u001b[49m\u001b[43m[\u001b[49m\u001b[38;5;124;43m\"\u001b[39;49m\u001b[38;5;124;43msession\u001b[39;49m\u001b[38;5;124;43m\"\u001b[39;49m\u001b[43m]\u001b[49m\u001b[38;5;241;43m.\u001b[39;49m\u001b[43mpost\u001b[49m\u001b[43m(\u001b[49m\n\u001b[1;32m    646\u001b[0m \u001b[43m    \u001b[49m\u001b[43murljoin\u001b[49m\u001b[43m(\u001b[49m\u001b[38;5;28;43mself\u001b[39;49m\u001b[38;5;241;43m.\u001b[39;49m\u001b[43minstances\u001b[49m\u001b[43m[\u001b[49m\u001b[43mname\u001b[49m\u001b[43m]\u001b[49m\u001b[43m[\u001b[49m\u001b[38;5;124;43m\"\u001b[39;49m\u001b[38;5;124;43mbase_url\u001b[39;49m\u001b[38;5;124;43m\"\u001b[39;49m\u001b[43m]\u001b[49m\u001b[43m,\u001b[49m\u001b[43m \u001b[49m\u001b[38;5;124;43m\"\u001b[39;49m\u001b[38;5;124;43mapi/queries\u001b[39;49m\u001b[38;5;124;43m\"\u001b[39;49m\u001b[43m)\u001b[49m\u001b[43m,\u001b[49m\n\u001b[1;32m    647\u001b[0m \u001b[43m    \u001b[49m\u001b[43mjson\u001b[49m\u001b[38;5;241;43m=\u001b[39;49m\u001b[43m_query\u001b[49m\u001b[43m,\u001b[49m\n\u001b[1;32m    648\u001b[0m \u001b[43m    \u001b[49m\u001b[43mheaders\u001b[49m\u001b[38;5;241;43m=\u001b[39;49m\u001b[38;5;28;43mself\u001b[39;49m\u001b[38;5;241;43m.\u001b[39;49m\u001b[43minstances\u001b[49m\u001b[43m[\u001b[49m\u001b[43mname\u001b[49m\u001b[43m]\u001b[49m\u001b[43m[\u001b[49m\u001b[38;5;124;43m\"\u001b[39;49m\u001b[38;5;124;43mheaders\u001b[39;49m\u001b[38;5;124;43m\"\u001b[39;49m\u001b[43m]\u001b[49m\u001b[43m,\u001b[49m\n\u001b[1;32m    649\u001b[0m \u001b[43m\u001b[49m\u001b[43m)\u001b[49m\n\u001b[1;32m    650\u001b[0m \u001b[38;5;28;01mreturn\u001b[39;00m {name: loads(resp\u001b[38;5;241m.\u001b[39mtext)}\n",
      "File \u001b[0;32m~/anaconda3/envs/ml_skyportal_env/lib/python3.10/site-packages/requests/sessions.py:637\u001b[0m, in \u001b[0;36mSession.post\u001b[0;34m(self, url, data, json, **kwargs)\u001b[0m\n\u001b[1;32m    626\u001b[0m \u001b[38;5;28;01mdef\u001b[39;00m \u001b[38;5;21mpost\u001b[39m(\u001b[38;5;28mself\u001b[39m, url, data\u001b[38;5;241m=\u001b[39m\u001b[38;5;28;01mNone\u001b[39;00m, json\u001b[38;5;241m=\u001b[39m\u001b[38;5;28;01mNone\u001b[39;00m, \u001b[38;5;241m*\u001b[39m\u001b[38;5;241m*\u001b[39mkwargs):\n\u001b[1;32m    627\u001b[0m \u001b[38;5;250m    \u001b[39m\u001b[38;5;124mr\u001b[39m\u001b[38;5;124;03m\"\"\"Sends a POST request. Returns :class:`Response` object.\u001b[39;00m\n\u001b[1;32m    628\u001b[0m \n\u001b[1;32m    629\u001b[0m \u001b[38;5;124;03m    :param url: URL for the new :class:`Request` object.\u001b[39;00m\n\u001b[0;32m   (...)\u001b[0m\n\u001b[1;32m    634\u001b[0m \u001b[38;5;124;03m    :rtype: requests.Response\u001b[39;00m\n\u001b[1;32m    635\u001b[0m \u001b[38;5;124;03m    \"\"\"\u001b[39;00m\n\u001b[0;32m--> 637\u001b[0m     \u001b[38;5;28;01mreturn\u001b[39;00m \u001b[38;5;28;43mself\u001b[39;49m\u001b[38;5;241;43m.\u001b[39;49m\u001b[43mrequest\u001b[49m\u001b[43m(\u001b[49m\u001b[38;5;124;43m\"\u001b[39;49m\u001b[38;5;124;43mPOST\u001b[39;49m\u001b[38;5;124;43m\"\u001b[39;49m\u001b[43m,\u001b[49m\u001b[43m \u001b[49m\u001b[43murl\u001b[49m\u001b[43m,\u001b[49m\u001b[43m \u001b[49m\u001b[43mdata\u001b[49m\u001b[38;5;241;43m=\u001b[39;49m\u001b[43mdata\u001b[49m\u001b[43m,\u001b[49m\u001b[43m \u001b[49m\u001b[43mjson\u001b[49m\u001b[38;5;241;43m=\u001b[39;49m\u001b[43mjson\u001b[49m\u001b[43m,\u001b[49m\u001b[43m \u001b[49m\u001b[38;5;241;43m*\u001b[39;49m\u001b[38;5;241;43m*\u001b[39;49m\u001b[43mkwargs\u001b[49m\u001b[43m)\u001b[49m\n",
      "File \u001b[0;32m~/anaconda3/envs/ml_skyportal_env/lib/python3.10/site-packages/requests/sessions.py:589\u001b[0m, in \u001b[0;36mSession.request\u001b[0;34m(self, method, url, params, data, headers, cookies, files, auth, timeout, allow_redirects, proxies, hooks, stream, verify, cert, json)\u001b[0m\n\u001b[1;32m    584\u001b[0m send_kwargs \u001b[38;5;241m=\u001b[39m {\n\u001b[1;32m    585\u001b[0m     \u001b[38;5;124m\"\u001b[39m\u001b[38;5;124mtimeout\u001b[39m\u001b[38;5;124m\"\u001b[39m: timeout,\n\u001b[1;32m    586\u001b[0m     \u001b[38;5;124m\"\u001b[39m\u001b[38;5;124mallow_redirects\u001b[39m\u001b[38;5;124m\"\u001b[39m: allow_redirects,\n\u001b[1;32m    587\u001b[0m }\n\u001b[1;32m    588\u001b[0m send_kwargs\u001b[38;5;241m.\u001b[39mupdate(settings)\n\u001b[0;32m--> 589\u001b[0m resp \u001b[38;5;241m=\u001b[39m \u001b[38;5;28;43mself\u001b[39;49m\u001b[38;5;241;43m.\u001b[39;49m\u001b[43msend\u001b[49m\u001b[43m(\u001b[49m\u001b[43mprep\u001b[49m\u001b[43m,\u001b[49m\u001b[43m \u001b[49m\u001b[38;5;241;43m*\u001b[39;49m\u001b[38;5;241;43m*\u001b[39;49m\u001b[43msend_kwargs\u001b[49m\u001b[43m)\u001b[49m\n\u001b[1;32m    591\u001b[0m \u001b[38;5;28;01mreturn\u001b[39;00m resp\n",
      "File \u001b[0;32m~/anaconda3/envs/ml_skyportal_env/lib/python3.10/site-packages/requests/sessions.py:703\u001b[0m, in \u001b[0;36mSession.send\u001b[0;34m(self, request, **kwargs)\u001b[0m\n\u001b[1;32m    700\u001b[0m start \u001b[38;5;241m=\u001b[39m preferred_clock()\n\u001b[1;32m    702\u001b[0m \u001b[38;5;66;03m# Send the request\u001b[39;00m\n\u001b[0;32m--> 703\u001b[0m r \u001b[38;5;241m=\u001b[39m \u001b[43madapter\u001b[49m\u001b[38;5;241;43m.\u001b[39;49m\u001b[43msend\u001b[49m\u001b[43m(\u001b[49m\u001b[43mrequest\u001b[49m\u001b[43m,\u001b[49m\u001b[43m \u001b[49m\u001b[38;5;241;43m*\u001b[39;49m\u001b[38;5;241;43m*\u001b[39;49m\u001b[43mkwargs\u001b[49m\u001b[43m)\u001b[49m\n\u001b[1;32m    705\u001b[0m \u001b[38;5;66;03m# Total elapsed time of the request (approximately)\u001b[39;00m\n\u001b[1;32m    706\u001b[0m elapsed \u001b[38;5;241m=\u001b[39m preferred_clock() \u001b[38;5;241m-\u001b[39m start\n",
      "File \u001b[0;32m~/anaconda3/envs/ml_skyportal_env/lib/python3.10/site-packages/penquins/penquins.py:52\u001b[0m, in \u001b[0;36mTimeoutHTTPAdapter.send\u001b[0;34m(self, request, **kwargs)\u001b[0m\n\u001b[1;32m     50\u001b[0m     \u001b[38;5;28;01mif\u001b[39;00m timeout \u001b[38;5;129;01mis\u001b[39;00m \u001b[38;5;28;01mNone\u001b[39;00m:\n\u001b[1;32m     51\u001b[0m         kwargs[\u001b[38;5;124m\"\u001b[39m\u001b[38;5;124mtimeout\u001b[39m\u001b[38;5;124m\"\u001b[39m] \u001b[38;5;241m=\u001b[39m \u001b[38;5;28mself\u001b[39m\u001b[38;5;241m.\u001b[39mtimeout\n\u001b[0;32m---> 52\u001b[0m     \u001b[38;5;28;01mreturn\u001b[39;00m \u001b[38;5;28;43msuper\u001b[39;49m\u001b[43m(\u001b[49m\u001b[43m)\u001b[49m\u001b[38;5;241;43m.\u001b[39;49m\u001b[43msend\u001b[49m\u001b[43m(\u001b[49m\u001b[43mrequest\u001b[49m\u001b[43m,\u001b[49m\u001b[43m \u001b[49m\u001b[38;5;241;43m*\u001b[39;49m\u001b[38;5;241;43m*\u001b[39;49m\u001b[43mkwargs\u001b[49m\u001b[43m)\u001b[49m\n\u001b[1;32m     53\u001b[0m \u001b[38;5;28;01mexcept\u001b[39;00m \u001b[38;5;167;01mAttributeError\u001b[39;00m:\n\u001b[1;32m     54\u001b[0m     kwargs[\u001b[38;5;124m\"\u001b[39m\u001b[38;5;124mtimeout\u001b[39m\u001b[38;5;124m\"\u001b[39m] \u001b[38;5;241m=\u001b[39m DEFAULT_TIMEOUT\n",
      "File \u001b[0;32m~/anaconda3/envs/ml_skyportal_env/lib/python3.10/site-packages/requests/adapters.py:486\u001b[0m, in \u001b[0;36mHTTPAdapter.send\u001b[0;34m(self, request, stream, timeout, verify, cert, proxies)\u001b[0m\n\u001b[1;32m    483\u001b[0m     timeout \u001b[38;5;241m=\u001b[39m TimeoutSauce(connect\u001b[38;5;241m=\u001b[39mtimeout, read\u001b[38;5;241m=\u001b[39mtimeout)\n\u001b[1;32m    485\u001b[0m \u001b[38;5;28;01mtry\u001b[39;00m:\n\u001b[0;32m--> 486\u001b[0m     resp \u001b[38;5;241m=\u001b[39m \u001b[43mconn\u001b[49m\u001b[38;5;241;43m.\u001b[39;49m\u001b[43murlopen\u001b[49m\u001b[43m(\u001b[49m\n\u001b[1;32m    487\u001b[0m \u001b[43m        \u001b[49m\u001b[43mmethod\u001b[49m\u001b[38;5;241;43m=\u001b[39;49m\u001b[43mrequest\u001b[49m\u001b[38;5;241;43m.\u001b[39;49m\u001b[43mmethod\u001b[49m\u001b[43m,\u001b[49m\n\u001b[1;32m    488\u001b[0m \u001b[43m        \u001b[49m\u001b[43murl\u001b[49m\u001b[38;5;241;43m=\u001b[39;49m\u001b[43murl\u001b[49m\u001b[43m,\u001b[49m\n\u001b[1;32m    489\u001b[0m \u001b[43m        \u001b[49m\u001b[43mbody\u001b[49m\u001b[38;5;241;43m=\u001b[39;49m\u001b[43mrequest\u001b[49m\u001b[38;5;241;43m.\u001b[39;49m\u001b[43mbody\u001b[49m\u001b[43m,\u001b[49m\n\u001b[1;32m    490\u001b[0m \u001b[43m        \u001b[49m\u001b[43mheaders\u001b[49m\u001b[38;5;241;43m=\u001b[39;49m\u001b[43mrequest\u001b[49m\u001b[38;5;241;43m.\u001b[39;49m\u001b[43mheaders\u001b[49m\u001b[43m,\u001b[49m\n\u001b[1;32m    491\u001b[0m \u001b[43m        \u001b[49m\u001b[43mredirect\u001b[49m\u001b[38;5;241;43m=\u001b[39;49m\u001b[38;5;28;43;01mFalse\u001b[39;49;00m\u001b[43m,\u001b[49m\n\u001b[1;32m    492\u001b[0m \u001b[43m        \u001b[49m\u001b[43massert_same_host\u001b[49m\u001b[38;5;241;43m=\u001b[39;49m\u001b[38;5;28;43;01mFalse\u001b[39;49;00m\u001b[43m,\u001b[49m\n\u001b[1;32m    493\u001b[0m \u001b[43m        \u001b[49m\u001b[43mpreload_content\u001b[49m\u001b[38;5;241;43m=\u001b[39;49m\u001b[38;5;28;43;01mFalse\u001b[39;49;00m\u001b[43m,\u001b[49m\n\u001b[1;32m    494\u001b[0m \u001b[43m        \u001b[49m\u001b[43mdecode_content\u001b[49m\u001b[38;5;241;43m=\u001b[39;49m\u001b[38;5;28;43;01mFalse\u001b[39;49;00m\u001b[43m,\u001b[49m\n\u001b[1;32m    495\u001b[0m \u001b[43m        \u001b[49m\u001b[43mretries\u001b[49m\u001b[38;5;241;43m=\u001b[39;49m\u001b[38;5;28;43mself\u001b[39;49m\u001b[38;5;241;43m.\u001b[39;49m\u001b[43mmax_retries\u001b[49m\u001b[43m,\u001b[49m\n\u001b[1;32m    496\u001b[0m \u001b[43m        \u001b[49m\u001b[43mtimeout\u001b[49m\u001b[38;5;241;43m=\u001b[39;49m\u001b[43mtimeout\u001b[49m\u001b[43m,\u001b[49m\n\u001b[1;32m    497\u001b[0m \u001b[43m        \u001b[49m\u001b[43mchunked\u001b[49m\u001b[38;5;241;43m=\u001b[39;49m\u001b[43mchunked\u001b[49m\u001b[43m,\u001b[49m\n\u001b[1;32m    498\u001b[0m \u001b[43m    \u001b[49m\u001b[43m)\u001b[49m\n\u001b[1;32m    500\u001b[0m \u001b[38;5;28;01mexcept\u001b[39;00m (ProtocolError, \u001b[38;5;167;01mOSError\u001b[39;00m) \u001b[38;5;28;01mas\u001b[39;00m err:\n\u001b[1;32m    501\u001b[0m     \u001b[38;5;28;01mraise\u001b[39;00m \u001b[38;5;167;01mConnectionError\u001b[39;00m(err, request\u001b[38;5;241m=\u001b[39mrequest)\n",
      "File \u001b[0;32m~/anaconda3/envs/ml_skyportal_env/lib/python3.10/site-packages/urllib3/connectionpool.py:793\u001b[0m, in \u001b[0;36mHTTPConnectionPool.urlopen\u001b[0;34m(self, method, url, body, headers, retries, redirect, assert_same_host, timeout, pool_timeout, release_conn, chunked, body_pos, preload_content, decode_content, **response_kw)\u001b[0m\n\u001b[1;32m    790\u001b[0m response_conn \u001b[38;5;241m=\u001b[39m conn \u001b[38;5;28;01mif\u001b[39;00m \u001b[38;5;129;01mnot\u001b[39;00m release_conn \u001b[38;5;28;01melse\u001b[39;00m \u001b[38;5;28;01mNone\u001b[39;00m\n\u001b[1;32m    792\u001b[0m \u001b[38;5;66;03m# Make the request on the HTTPConnection object\u001b[39;00m\n\u001b[0;32m--> 793\u001b[0m response \u001b[38;5;241m=\u001b[39m \u001b[38;5;28;43mself\u001b[39;49m\u001b[38;5;241;43m.\u001b[39;49m\u001b[43m_make_request\u001b[49m\u001b[43m(\u001b[49m\n\u001b[1;32m    794\u001b[0m \u001b[43m    \u001b[49m\u001b[43mconn\u001b[49m\u001b[43m,\u001b[49m\n\u001b[1;32m    795\u001b[0m \u001b[43m    \u001b[49m\u001b[43mmethod\u001b[49m\u001b[43m,\u001b[49m\n\u001b[1;32m    796\u001b[0m \u001b[43m    \u001b[49m\u001b[43murl\u001b[49m\u001b[43m,\u001b[49m\n\u001b[1;32m    797\u001b[0m \u001b[43m    \u001b[49m\u001b[43mtimeout\u001b[49m\u001b[38;5;241;43m=\u001b[39;49m\u001b[43mtimeout_obj\u001b[49m\u001b[43m,\u001b[49m\n\u001b[1;32m    798\u001b[0m \u001b[43m    \u001b[49m\u001b[43mbody\u001b[49m\u001b[38;5;241;43m=\u001b[39;49m\u001b[43mbody\u001b[49m\u001b[43m,\u001b[49m\n\u001b[1;32m    799\u001b[0m \u001b[43m    \u001b[49m\u001b[43mheaders\u001b[49m\u001b[38;5;241;43m=\u001b[39;49m\u001b[43mheaders\u001b[49m\u001b[43m,\u001b[49m\n\u001b[1;32m    800\u001b[0m \u001b[43m    \u001b[49m\u001b[43mchunked\u001b[49m\u001b[38;5;241;43m=\u001b[39;49m\u001b[43mchunked\u001b[49m\u001b[43m,\u001b[49m\n\u001b[1;32m    801\u001b[0m \u001b[43m    \u001b[49m\u001b[43mretries\u001b[49m\u001b[38;5;241;43m=\u001b[39;49m\u001b[43mretries\u001b[49m\u001b[43m,\u001b[49m\n\u001b[1;32m    802\u001b[0m \u001b[43m    \u001b[49m\u001b[43mresponse_conn\u001b[49m\u001b[38;5;241;43m=\u001b[39;49m\u001b[43mresponse_conn\u001b[49m\u001b[43m,\u001b[49m\n\u001b[1;32m    803\u001b[0m \u001b[43m    \u001b[49m\u001b[43mpreload_content\u001b[49m\u001b[38;5;241;43m=\u001b[39;49m\u001b[43mpreload_content\u001b[49m\u001b[43m,\u001b[49m\n\u001b[1;32m    804\u001b[0m \u001b[43m    \u001b[49m\u001b[43mdecode_content\u001b[49m\u001b[38;5;241;43m=\u001b[39;49m\u001b[43mdecode_content\u001b[49m\u001b[43m,\u001b[49m\n\u001b[1;32m    805\u001b[0m \u001b[43m    \u001b[49m\u001b[38;5;241;43m*\u001b[39;49m\u001b[38;5;241;43m*\u001b[39;49m\u001b[43mresponse_kw\u001b[49m\u001b[43m,\u001b[49m\n\u001b[1;32m    806\u001b[0m \u001b[43m\u001b[49m\u001b[43m)\u001b[49m\n\u001b[1;32m    808\u001b[0m \u001b[38;5;66;03m# Everything went great!\u001b[39;00m\n\u001b[1;32m    809\u001b[0m clean_exit \u001b[38;5;241m=\u001b[39m \u001b[38;5;28;01mTrue\u001b[39;00m\n",
      "File \u001b[0;32m~/anaconda3/envs/ml_skyportal_env/lib/python3.10/site-packages/urllib3/connectionpool.py:537\u001b[0m, in \u001b[0;36mHTTPConnectionPool._make_request\u001b[0;34m(self, conn, method, url, body, headers, retries, timeout, chunked, response_conn, preload_content, decode_content, enforce_content_length)\u001b[0m\n\u001b[1;32m    535\u001b[0m \u001b[38;5;66;03m# Receive the response from the server\u001b[39;00m\n\u001b[1;32m    536\u001b[0m \u001b[38;5;28;01mtry\u001b[39;00m:\n\u001b[0;32m--> 537\u001b[0m     response \u001b[38;5;241m=\u001b[39m \u001b[43mconn\u001b[49m\u001b[38;5;241;43m.\u001b[39;49m\u001b[43mgetresponse\u001b[49m\u001b[43m(\u001b[49m\u001b[43m)\u001b[49m\n\u001b[1;32m    538\u001b[0m \u001b[38;5;28;01mexcept\u001b[39;00m (BaseSSLError, \u001b[38;5;167;01mOSError\u001b[39;00m) \u001b[38;5;28;01mas\u001b[39;00m e:\n\u001b[1;32m    539\u001b[0m     \u001b[38;5;28mself\u001b[39m\u001b[38;5;241m.\u001b[39m_raise_timeout(err\u001b[38;5;241m=\u001b[39me, url\u001b[38;5;241m=\u001b[39murl, timeout_value\u001b[38;5;241m=\u001b[39mread_timeout)\n",
      "File \u001b[0;32m~/anaconda3/envs/ml_skyportal_env/lib/python3.10/site-packages/urllib3/connection.py:466\u001b[0m, in \u001b[0;36mHTTPConnection.getresponse\u001b[0;34m(self)\u001b[0m\n\u001b[1;32m    463\u001b[0m \u001b[38;5;28;01mfrom\u001b[39;00m \u001b[38;5;21;01m.\u001b[39;00m\u001b[38;5;21;01mresponse\u001b[39;00m \u001b[38;5;28;01mimport\u001b[39;00m HTTPResponse\n\u001b[1;32m    465\u001b[0m \u001b[38;5;66;03m# Get the response from http.client.HTTPConnection\u001b[39;00m\n\u001b[0;32m--> 466\u001b[0m httplib_response \u001b[38;5;241m=\u001b[39m \u001b[38;5;28;43msuper\u001b[39;49m\u001b[43m(\u001b[49m\u001b[43m)\u001b[49m\u001b[38;5;241;43m.\u001b[39;49m\u001b[43mgetresponse\u001b[49m\u001b[43m(\u001b[49m\u001b[43m)\u001b[49m\n\u001b[1;32m    468\u001b[0m \u001b[38;5;28;01mtry\u001b[39;00m:\n\u001b[1;32m    469\u001b[0m     assert_header_parsing(httplib_response\u001b[38;5;241m.\u001b[39mmsg)\n",
      "File \u001b[0;32m~/anaconda3/envs/ml_skyportal_env/lib/python3.10/http/client.py:1375\u001b[0m, in \u001b[0;36mHTTPConnection.getresponse\u001b[0;34m(self)\u001b[0m\n\u001b[1;32m   1373\u001b[0m \u001b[38;5;28;01mtry\u001b[39;00m:\n\u001b[1;32m   1374\u001b[0m     \u001b[38;5;28;01mtry\u001b[39;00m:\n\u001b[0;32m-> 1375\u001b[0m         \u001b[43mresponse\u001b[49m\u001b[38;5;241;43m.\u001b[39;49m\u001b[43mbegin\u001b[49m\u001b[43m(\u001b[49m\u001b[43m)\u001b[49m\n\u001b[1;32m   1376\u001b[0m     \u001b[38;5;28;01mexcept\u001b[39;00m \u001b[38;5;167;01mConnectionError\u001b[39;00m:\n\u001b[1;32m   1377\u001b[0m         \u001b[38;5;28mself\u001b[39m\u001b[38;5;241m.\u001b[39mclose()\n",
      "File \u001b[0;32m~/anaconda3/envs/ml_skyportal_env/lib/python3.10/http/client.py:318\u001b[0m, in \u001b[0;36mHTTPResponse.begin\u001b[0;34m(self)\u001b[0m\n\u001b[1;32m    316\u001b[0m \u001b[38;5;66;03m# read until we get a non-100 response\u001b[39;00m\n\u001b[1;32m    317\u001b[0m \u001b[38;5;28;01mwhile\u001b[39;00m \u001b[38;5;28;01mTrue\u001b[39;00m:\n\u001b[0;32m--> 318\u001b[0m     version, status, reason \u001b[38;5;241m=\u001b[39m \u001b[38;5;28;43mself\u001b[39;49m\u001b[38;5;241;43m.\u001b[39;49m\u001b[43m_read_status\u001b[49m\u001b[43m(\u001b[49m\u001b[43m)\u001b[49m\n\u001b[1;32m    319\u001b[0m     \u001b[38;5;28;01mif\u001b[39;00m status \u001b[38;5;241m!=\u001b[39m CONTINUE:\n\u001b[1;32m    320\u001b[0m         \u001b[38;5;28;01mbreak\u001b[39;00m\n",
      "File \u001b[0;32m~/anaconda3/envs/ml_skyportal_env/lib/python3.10/http/client.py:279\u001b[0m, in \u001b[0;36mHTTPResponse._read_status\u001b[0;34m(self)\u001b[0m\n\u001b[1;32m    278\u001b[0m \u001b[38;5;28;01mdef\u001b[39;00m \u001b[38;5;21m_read_status\u001b[39m(\u001b[38;5;28mself\u001b[39m):\n\u001b[0;32m--> 279\u001b[0m     line \u001b[38;5;241m=\u001b[39m \u001b[38;5;28mstr\u001b[39m(\u001b[38;5;28;43mself\u001b[39;49m\u001b[38;5;241;43m.\u001b[39;49m\u001b[43mfp\u001b[49m\u001b[38;5;241;43m.\u001b[39;49m\u001b[43mreadline\u001b[49m\u001b[43m(\u001b[49m\u001b[43m_MAXLINE\u001b[49m\u001b[43m \u001b[49m\u001b[38;5;241;43m+\u001b[39;49m\u001b[43m \u001b[49m\u001b[38;5;241;43m1\u001b[39;49m\u001b[43m)\u001b[49m, \u001b[38;5;124m\"\u001b[39m\u001b[38;5;124miso-8859-1\u001b[39m\u001b[38;5;124m\"\u001b[39m)\n\u001b[1;32m    280\u001b[0m     \u001b[38;5;28;01mif\u001b[39;00m \u001b[38;5;28mlen\u001b[39m(line) \u001b[38;5;241m>\u001b[39m _MAXLINE:\n\u001b[1;32m    281\u001b[0m         \u001b[38;5;28;01mraise\u001b[39;00m LineTooLong(\u001b[38;5;124m\"\u001b[39m\u001b[38;5;124mstatus line\u001b[39m\u001b[38;5;124m\"\u001b[39m)\n",
      "File \u001b[0;32m~/anaconda3/envs/ml_skyportal_env/lib/python3.10/socket.py:705\u001b[0m, in \u001b[0;36mSocketIO.readinto\u001b[0;34m(self, b)\u001b[0m\n\u001b[1;32m    703\u001b[0m \u001b[38;5;28;01mwhile\u001b[39;00m \u001b[38;5;28;01mTrue\u001b[39;00m:\n\u001b[1;32m    704\u001b[0m     \u001b[38;5;28;01mtry\u001b[39;00m:\n\u001b[0;32m--> 705\u001b[0m         \u001b[38;5;28;01mreturn\u001b[39;00m \u001b[38;5;28;43mself\u001b[39;49m\u001b[38;5;241;43m.\u001b[39;49m\u001b[43m_sock\u001b[49m\u001b[38;5;241;43m.\u001b[39;49m\u001b[43mrecv_into\u001b[49m\u001b[43m(\u001b[49m\u001b[43mb\u001b[49m\u001b[43m)\u001b[49m\n\u001b[1;32m    706\u001b[0m     \u001b[38;5;28;01mexcept\u001b[39;00m timeout:\n\u001b[1;32m    707\u001b[0m         \u001b[38;5;28mself\u001b[39m\u001b[38;5;241m.\u001b[39m_timeout_occurred \u001b[38;5;241m=\u001b[39m \u001b[38;5;28;01mTrue\u001b[39;00m\n",
      "File \u001b[0;32m~/anaconda3/envs/ml_skyportal_env/lib/python3.10/ssl.py:1307\u001b[0m, in \u001b[0;36mSSLSocket.recv_into\u001b[0;34m(self, buffer, nbytes, flags)\u001b[0m\n\u001b[1;32m   1303\u001b[0m     \u001b[38;5;28;01mif\u001b[39;00m flags \u001b[38;5;241m!=\u001b[39m \u001b[38;5;241m0\u001b[39m:\n\u001b[1;32m   1304\u001b[0m         \u001b[38;5;28;01mraise\u001b[39;00m \u001b[38;5;167;01mValueError\u001b[39;00m(\n\u001b[1;32m   1305\u001b[0m           \u001b[38;5;124m\"\u001b[39m\u001b[38;5;124mnon-zero flags not allowed in calls to recv_into() on \u001b[39m\u001b[38;5;132;01m%s\u001b[39;00m\u001b[38;5;124m\"\u001b[39m \u001b[38;5;241m%\u001b[39m\n\u001b[1;32m   1306\u001b[0m           \u001b[38;5;28mself\u001b[39m\u001b[38;5;241m.\u001b[39m\u001b[38;5;18m__class__\u001b[39m)\n\u001b[0;32m-> 1307\u001b[0m     \u001b[38;5;28;01mreturn\u001b[39;00m \u001b[38;5;28;43mself\u001b[39;49m\u001b[38;5;241;43m.\u001b[39;49m\u001b[43mread\u001b[49m\u001b[43m(\u001b[49m\u001b[43mnbytes\u001b[49m\u001b[43m,\u001b[49m\u001b[43m \u001b[49m\u001b[43mbuffer\u001b[49m\u001b[43m)\u001b[49m\n\u001b[1;32m   1308\u001b[0m \u001b[38;5;28;01melse\u001b[39;00m:\n\u001b[1;32m   1309\u001b[0m     \u001b[38;5;28;01mreturn\u001b[39;00m \u001b[38;5;28msuper\u001b[39m()\u001b[38;5;241m.\u001b[39mrecv_into(buffer, nbytes, flags)\n",
      "File \u001b[0;32m~/anaconda3/envs/ml_skyportal_env/lib/python3.10/ssl.py:1163\u001b[0m, in \u001b[0;36mSSLSocket.read\u001b[0;34m(self, len, buffer)\u001b[0m\n\u001b[1;32m   1161\u001b[0m \u001b[38;5;28;01mtry\u001b[39;00m:\n\u001b[1;32m   1162\u001b[0m     \u001b[38;5;28;01mif\u001b[39;00m buffer \u001b[38;5;129;01mis\u001b[39;00m \u001b[38;5;129;01mnot\u001b[39;00m \u001b[38;5;28;01mNone\u001b[39;00m:\n\u001b[0;32m-> 1163\u001b[0m         \u001b[38;5;28;01mreturn\u001b[39;00m \u001b[38;5;28;43mself\u001b[39;49m\u001b[38;5;241;43m.\u001b[39;49m\u001b[43m_sslobj\u001b[49m\u001b[38;5;241;43m.\u001b[39;49m\u001b[43mread\u001b[49m\u001b[43m(\u001b[49m\u001b[38;5;28;43mlen\u001b[39;49m\u001b[43m,\u001b[49m\u001b[43m \u001b[49m\u001b[43mbuffer\u001b[49m\u001b[43m)\u001b[49m\n\u001b[1;32m   1164\u001b[0m     \u001b[38;5;28;01melse\u001b[39;00m:\n\u001b[1;32m   1165\u001b[0m         \u001b[38;5;28;01mreturn\u001b[39;00m \u001b[38;5;28mself\u001b[39m\u001b[38;5;241m.\u001b[39m_sslobj\u001b[38;5;241m.\u001b[39mread(\u001b[38;5;28mlen\u001b[39m)\n",
      "\u001b[0;31mKeyboardInterrupt\u001b[0m: "
     ]
    }
   ],
   "source": [
    "path = '=data_kowalski/'\n",
    "kowalski.get_data_from_kowalski(all=True, nb_obj=500, dataDir=path)"
   ]
  },
  {
   "cell_type": "markdown",
   "metadata": {},
   "source": [
    "# Load data"
   ]
  },
  {
   "cell_type": "code",
   "execution_count": 7,
   "metadata": {},
   "outputs": [
    {
     "data": {
      "text/html": [
       "<div>\n",
       "<style scoped>\n",
       "    .dataframe tbody tr th:only-of-type {\n",
       "        vertical-align: middle;\n",
       "    }\n",
       "\n",
       "    .dataframe tbody tr th {\n",
       "        vertical-align: top;\n",
       "    }\n",
       "\n",
       "    .dataframe thead th {\n",
       "        text-align: right;\n",
       "    }\n",
       "</style>\n",
       "<table border=\"1\" class=\"dataframe\">\n",
       "  <thead>\n",
       "    <tr style=\"text-align: right;\">\n",
       "      <th></th>\n",
       "      <th>objectId</th>\n",
       "      <th>type</th>\n",
       "    </tr>\n",
       "  </thead>\n",
       "  <tbody>\n",
       "    <tr>\n",
       "      <th>0</th>\n",
       "      <td>ZTF17aaaeqms</td>\n",
       "      <td>-</td>\n",
       "    </tr>\n",
       "    <tr>\n",
       "      <th>1</th>\n",
       "      <td>ZTF17aaajowi</td>\n",
       "      <td>-</td>\n",
       "    </tr>\n",
       "    <tr>\n",
       "      <th>2</th>\n",
       "      <td>ZTF17aaanztg</td>\n",
       "      <td>-</td>\n",
       "    </tr>\n",
       "    <tr>\n",
       "      <th>3</th>\n",
       "      <td>ZTF17aaaocnx</td>\n",
       "      <td>-</td>\n",
       "    </tr>\n",
       "    <tr>\n",
       "      <th>4</th>\n",
       "      <td>ZTF17aaaptxx</td>\n",
       "      <td>-</td>\n",
       "    </tr>\n",
       "    <tr>\n",
       "      <th>...</th>\n",
       "      <td>...</td>\n",
       "      <td>...</td>\n",
       "    </tr>\n",
       "    <tr>\n",
       "      <th>14148</th>\n",
       "      <td>ZTF24aaguphd</td>\n",
       "      <td>-</td>\n",
       "    </tr>\n",
       "    <tr>\n",
       "      <th>14149</th>\n",
       "      <td>ZTF24aagwfly</td>\n",
       "      <td>-</td>\n",
       "    </tr>\n",
       "    <tr>\n",
       "      <th>14150</th>\n",
       "      <td>ZTF24aagwwkr</td>\n",
       "      <td>-</td>\n",
       "    </tr>\n",
       "    <tr>\n",
       "      <th>14151</th>\n",
       "      <td>ZTF24aagzzye</td>\n",
       "      <td>-</td>\n",
       "    </tr>\n",
       "    <tr>\n",
       "      <th>14152</th>\n",
       "      <td>ZTF24aahdisu</td>\n",
       "      <td>-</td>\n",
       "    </tr>\n",
       "  </tbody>\n",
       "</table>\n",
       "<p>14153 rows × 2 columns</p>\n",
       "</div>"
      ],
      "text/plain": [
       "           objectId type\n",
       "0      ZTF17aaaeqms    -\n",
       "1      ZTF17aaajowi    -\n",
       "2      ZTF17aaanztg    -\n",
       "3      ZTF17aaaocnx    -\n",
       "4      ZTF17aaaptxx    -\n",
       "...             ...  ...\n",
       "14148  ZTF24aaguphd    -\n",
       "14149  ZTF24aagwfly    -\n",
       "14150  ZTF24aagwwkr    -\n",
       "14151  ZTF24aagzzye    -\n",
       "14152  ZTF24aahdisu    -\n",
       "\n",
       "[14153 rows x 2 columns]"
      ]
     },
     "execution_count": 7,
     "metadata": {},
     "output_type": "execute_result"
    }
   ],
   "source": [
    "bts_df = load_csv.load_BTS_data('data/BTS.csv')\n",
    "bts_df = bts_df[['objectId', 'type']]\n",
    "bts_df"
   ]
  },
  {
   "cell_type": "code",
   "execution_count": 8,
   "metadata": {},
   "outputs": [
    {
     "data": {
      "text/html": [
       "<div>\n",
       "<style scoped>\n",
       "    .dataframe tbody tr th:only-of-type {\n",
       "        vertical-align: middle;\n",
       "    }\n",
       "\n",
       "    .dataframe tbody tr th {\n",
       "        vertical-align: top;\n",
       "    }\n",
       "\n",
       "    .dataframe thead th {\n",
       "        text-align: right;\n",
       "    }\n",
       "</style>\n",
       "<table border=\"1\" class=\"dataframe\">\n",
       "  <thead>\n",
       "    <tr style=\"text-align: right;\">\n",
       "      <th></th>\n",
       "      <th>objectId</th>\n",
       "      <th>type</th>\n",
       "    </tr>\n",
       "  </thead>\n",
       "  <tbody>\n",
       "    <tr>\n",
       "      <th>398</th>\n",
       "      <td>ZTF18aayiono</td>\n",
       "      <td>SN Ia</td>\n",
       "    </tr>\n",
       "  </tbody>\n",
       "</table>\n",
       "</div>"
      ],
      "text/plain": [
       "         objectId   type\n",
       "398  ZTF18aayiono  SN Ia"
      ]
     },
     "execution_count": 8,
     "metadata": {},
     "output_type": "execute_result"
    }
   ],
   "source": [
    "bts_df[bts_df['objectId'] == 'ZTF18aayiono']"
   ]
  },
  {
   "cell_type": "code",
   "execution_count": 14,
   "metadata": {},
   "outputs": [],
   "source": [
    "import os\n",
    "path = 'data_kowalski/'\n",
    "objIds = os.listdir(path)\n",
    "\n",
    "photo_df, object_alerts = kowalski.load_kowalski_data(objIds[1], path)"
   ]
  },
  {
   "cell_type": "markdown",
   "metadata": {},
   "source": [
    "# Get one Object"
   ]
  },
  {
   "cell_type": "code",
   "execution_count": 15,
   "metadata": {},
   "outputs": [
    {
     "data": {
      "image/png": "[encoded data removed]",
      "text/plain": [
       "<Figure size 900x600 with 1 Axes>"
      ]
     },
     "metadata": {},
     "output_type": "display_data"
    },
    {
     "data": {
      "image/png": "[encoded data removed]",
      "text/plain": [
       "<Figure size 1500x500 with 3 Axes>"
      ]
     },
     "metadata": {},
     "output_type": "display_data"
    },
    {
     "name": "stdout",
     "output_type": "stream",
     "text": [
      "         obj_id  sgscore1  sgscore2  distpsnr1  distpsnr2  fwhm     magpsf  \\\n",
      "0  ZTF17aaapufz   0.06775       0.5   0.163545   0.933447  2.28  18.497599   \n",
      "\n",
      "   sigmapsf          ra        dec  diffmaglim  ndethist  nmtchps  ncovhist  \\\n",
      "0  0.040777  188.967838  27.932036   20.597931        91       19       132   \n",
      "\n",
      "   sharpnr      scorr      sky  \n",
      "0    0.173  27.777838 -0.16213  \n"
     ]
    }
   ],
   "source": [
    "one_photo, one_metadata, one_image, index = kowalski.get_data(photo_df, object_alerts, index=100)\n",
    "plot_data.plot_all(one_photo, one_metadata, one_image)"
   ]
  },
  {
   "cell_type": "code",
   "execution_count": 123,
   "metadata": {},
   "outputs": [
    {
     "data": {
      "text/html": [
       "<div>\n",
       "<style scoped>\n",
       "    .dataframe tbody tr th:only-of-type {\n",
       "        vertical-align: middle;\n",
       "    }\n",
       "\n",
       "    .dataframe tbody tr th {\n",
       "        vertical-align: top;\n",
       "    }\n",
       "\n",
       "    .dataframe thead th {\n",
       "        text-align: right;\n",
       "    }\n",
       "</style>\n",
       "<table border=\"1\" class=\"dataframe\">\n",
       "  <thead>\n",
       "    <tr style=\"text-align: right;\">\n",
       "      <th></th>\n",
       "      <th>obj_id</th>\n",
       "      <th>mjd</th>\n",
       "      <th>mag</th>\n",
       "      <th>magerr</th>\n",
       "      <th>snr</th>\n",
       "      <th>limiting_mag</th>\n",
       "      <th>filter</th>\n",
       "      <th>type</th>\n",
       "      <th>jd</th>\n",
       "    </tr>\n",
       "  </thead>\n",
       "  <tbody>\n",
       "    <tr>\n",
       "      <th>0</th>\n",
       "      <td>ZTF17aaazdba</td>\n",
       "      <td>58205.15596</td>\n",
       "      <td>16.023001</td>\n",
       "      <td>0.012</td>\n",
       "      <td>90.478016</td>\n",
       "      <td>23.9</td>\n",
       "      <td>ztfg</td>\n",
       "      <td>?</td>\n",
       "      <td>2.458206e+06</td>\n",
       "    </tr>\n",
       "    <tr>\n",
       "      <th>1</th>\n",
       "      <td>ZTF17aaazdba</td>\n",
       "      <td>58206.16989</td>\n",
       "      <td>16.139999</td>\n",
       "      <td>0.012</td>\n",
       "      <td>90.478016</td>\n",
       "      <td>23.9</td>\n",
       "      <td>ztfg</td>\n",
       "      <td>?</td>\n",
       "      <td>2.458207e+06</td>\n",
       "    </tr>\n",
       "    <tr>\n",
       "      <th>2</th>\n",
       "      <td>ZTF17aaazdba</td>\n",
       "      <td>58206.25484</td>\n",
       "      <td>16.136000</td>\n",
       "      <td>0.012</td>\n",
       "      <td>90.478016</td>\n",
       "      <td>23.9</td>\n",
       "      <td>ztfg</td>\n",
       "      <td>?</td>\n",
       "      <td>2.458207e+06</td>\n",
       "    </tr>\n",
       "    <tr>\n",
       "      <th>3</th>\n",
       "      <td>ZTF17aaazdba</td>\n",
       "      <td>58210.19764</td>\n",
       "      <td>16.087000</td>\n",
       "      <td>0.012</td>\n",
       "      <td>90.478016</td>\n",
       "      <td>23.9</td>\n",
       "      <td>ztfg</td>\n",
       "      <td>?</td>\n",
       "      <td>2.458211e+06</td>\n",
       "    </tr>\n",
       "    <tr>\n",
       "      <th>4</th>\n",
       "      <td>ZTF17aaazdba</td>\n",
       "      <td>58210.25621</td>\n",
       "      <td>16.118000</td>\n",
       "      <td>0.012</td>\n",
       "      <td>90.478016</td>\n",
       "      <td>23.9</td>\n",
       "      <td>ztfg</td>\n",
       "      <td>?</td>\n",
       "      <td>2.458211e+06</td>\n",
       "    </tr>\n",
       "    <tr>\n",
       "      <th>...</th>\n",
       "      <td>...</td>\n",
       "      <td>...</td>\n",
       "      <td>...</td>\n",
       "      <td>...</td>\n",
       "      <td>...</td>\n",
       "      <td>...</td>\n",
       "      <td>...</td>\n",
       "      <td>...</td>\n",
       "      <td>...</td>\n",
       "    </tr>\n",
       "    <tr>\n",
       "      <th>414</th>\n",
       "      <td>ZTF17aaazdba</td>\n",
       "      <td>58788.50557</td>\n",
       "      <td>15.964000</td>\n",
       "      <td>0.011</td>\n",
       "      <td>98.703292</td>\n",
       "      <td>23.9</td>\n",
       "      <td>ztfg</td>\n",
       "      <td>?</td>\n",
       "      <td>2.458789e+06</td>\n",
       "    </tr>\n",
       "    <tr>\n",
       "      <th>415</th>\n",
       "      <td>ZTF17aaazdba</td>\n",
       "      <td>58788.50602</td>\n",
       "      <td>15.974000</td>\n",
       "      <td>0.012</td>\n",
       "      <td>90.478016</td>\n",
       "      <td>23.9</td>\n",
       "      <td>ztfg</td>\n",
       "      <td>?</td>\n",
       "      <td>2.458789e+06</td>\n",
       "    </tr>\n",
       "    <tr>\n",
       "      <th>416</th>\n",
       "      <td>ZTF17aaazdba</td>\n",
       "      <td>58788.52622</td>\n",
       "      <td>15.655000</td>\n",
       "      <td>0.011</td>\n",
       "      <td>98.703292</td>\n",
       "      <td>23.9</td>\n",
       "      <td>ztfr</td>\n",
       "      <td>?</td>\n",
       "      <td>2.458789e+06</td>\n",
       "    </tr>\n",
       "    <tr>\n",
       "      <th>417</th>\n",
       "      <td>ZTF17aaazdba</td>\n",
       "      <td>58788.52667</td>\n",
       "      <td>15.620000</td>\n",
       "      <td>0.010</td>\n",
       "      <td>108.573623</td>\n",
       "      <td>23.9</td>\n",
       "      <td>ztfr</td>\n",
       "      <td>?</td>\n",
       "      <td>2.458789e+06</td>\n",
       "    </tr>\n",
       "    <tr>\n",
       "      <th>418</th>\n",
       "      <td>ZTF17aaazdba</td>\n",
       "      <td>58790.51640</td>\n",
       "      <td>15.618000</td>\n",
       "      <td>0.010</td>\n",
       "      <td>108.573623</td>\n",
       "      <td>23.9</td>\n",
       "      <td>ztfr</td>\n",
       "      <td>?</td>\n",
       "      <td>2.458791e+06</td>\n",
       "    </tr>\n",
       "  </tbody>\n",
       "</table>\n",
       "<p>419 rows × 9 columns</p>\n",
       "</div>"
      ],
      "text/plain": [
       "           obj_id          mjd        mag  magerr         snr  limiting_mag  \\\n",
       "0    ZTF17aaazdba  58205.15596  16.023001   0.012   90.478016          23.9   \n",
       "1    ZTF17aaazdba  58206.16989  16.139999   0.012   90.478016          23.9   \n",
       "2    ZTF17aaazdba  58206.25484  16.136000   0.012   90.478016          23.9   \n",
       "3    ZTF17aaazdba  58210.19764  16.087000   0.012   90.478016          23.9   \n",
       "4    ZTF17aaazdba  58210.25621  16.118000   0.012   90.478016          23.9   \n",
       "..            ...          ...        ...     ...         ...           ...   \n",
       "414  ZTF17aaazdba  58788.50557  15.964000   0.011   98.703292          23.9   \n",
       "415  ZTF17aaazdba  58788.50602  15.974000   0.012   90.478016          23.9   \n",
       "416  ZTF17aaazdba  58788.52622  15.655000   0.011   98.703292          23.9   \n",
       "417  ZTF17aaazdba  58788.52667  15.620000   0.010  108.573623          23.9   \n",
       "418  ZTF17aaazdba  58790.51640  15.618000   0.010  108.573623          23.9   \n",
       "\n",
       "    filter type            jd  \n",
       "0     ztfg    ?  2.458206e+06  \n",
       "1     ztfg    ?  2.458207e+06  \n",
       "2     ztfg    ?  2.458207e+06  \n",
       "3     ztfg    ?  2.458211e+06  \n",
       "4     ztfg    ?  2.458211e+06  \n",
       "..     ...  ...           ...  \n",
       "414   ztfg    ?  2.458789e+06  \n",
       "415   ztfg    ?  2.458789e+06  \n",
       "416   ztfr    ?  2.458789e+06  \n",
       "417   ztfr    ?  2.458789e+06  \n",
       "418   ztfr    ?  2.458791e+06  \n",
       "\n",
       "[419 rows x 9 columns]"
      ]
     },
     "execution_count": 123,
     "metadata": {},
     "output_type": "execute_result"
    }
   ],
   "source": [
    "one_photo"
   ]
  },
  {
   "cell_type": "markdown",
   "metadata": {},
   "source": [
    "# Preprocessing"
   ]
  },
  {
   "cell_type": "code",
   "execution_count": 133,
   "metadata": {},
   "outputs": [
    {
     "data": {
      "image/png": "[encoded data removed]",
      "text/plain": [
       "<Figure size 1000x600 with 1 Axes>"
      ]
     },
     "metadata": {},
     "output_type": "display_data"
    },
    {
     "data": {
      "image/png": "[encoded data removed]",
      "text/plain": [
       "<Figure size 1500x500 with 3 Axes>"
      ]
     },
     "metadata": {},
     "output_type": "display_data"
    }
   ],
   "source": [
    "photo_ready, cand_ready, image_ready = preprocessing_run.process_data(one_photo, one_metadata, one_image, verbose=True)"
   ]
  },
  {
   "cell_type": "markdown",
   "metadata": {},
   "source": [
    "# Load model"
   ]
  },
  {
   "cell_type": "code",
   "execution_count": 67,
   "metadata": {},
   "outputs": [
    {
     "data": {
      "text/html": [
       "<pre style=\"white-space:pre;overflow-x:auto;line-height:normal;font-family:Menlo,'DejaVu Sans Mono',consolas,'Courier New',monospace\"><span style=\"font-weight: bold\">Model: \"t2_model_2\"</span>\n",
       "</pre>\n"
      ],
      "text/plain": [
       "\u001b[1mModel: \"t2_model_2\"\u001b[0m\n"
      ]
     },
     "metadata": {},
     "output_type": "display_data"
    },
    {
     "data": {
      "text/html": [
       "<pre style=\"white-space:pre;overflow-x:auto;line-height:normal;font-family:Menlo,'DejaVu Sans Mono',consolas,'Courier New',monospace\">┏━━━━━━━━━━━━━━━━━━━━━━━━━━━━━━━━━┳━━━━━━━━━━━━━━━━━━━━━━━━┳━━━━━━━━━━━━━━━┓\n",
       "┃<span style=\"font-weight: bold\"> Layer (type)                    </span>┃<span style=\"font-weight: bold\"> Output Shape           </span>┃<span style=\"font-weight: bold\">       Param # </span>┃\n",
       "┡━━━━━━━━━━━━━━━━━━━━━━━━━━━━━━━━━╇━━━━━━━━━━━━━━━━━━━━━━━━╇━━━━━━━━━━━━━━━┩\n",
       "│ multimodal_model_2              │ (<span style=\"color: #00d7ff; text-decoration-color: #00d7ff\">None</span>, <span style=\"color: #00af00; text-decoration-color: #00af00\">1</span>)              │       <span style=\"color: #00af00; text-decoration-color: #00af00\">226,673</span> │\n",
       "│ (<span style=\"color: #0087ff; text-decoration-color: #0087ff\">MultimodalModel</span>)               │                        │               │\n",
       "├─────────────────────────────────┼────────────────────────┼───────────────┤\n",
       "│ conv_embedding_2                │ (<span style=\"color: #00d7ff; text-decoration-color: #00d7ff\">None</span>, <span style=\"color: #00af00; text-decoration-color: #00af00\">100</span>, <span style=\"color: #00af00; text-decoration-color: #00af00\">64</span>)        │           <span style=\"color: #00af00; text-decoration-color: #00af00\">832</span> │\n",
       "│ (<span style=\"color: #0087ff; text-decoration-color: #0087ff\">ConvEmbedding</span>)                 │                        │               │\n",
       "├─────────────────────────────────┼────────────────────────┼───────────────┤\n",
       "│ positional_encoding_2           │ (<span style=\"color: #00d7ff; text-decoration-color: #00d7ff\">None</span>, <span style=\"color: #00af00; text-decoration-color: #00af00\">100</span>, <span style=\"color: #00af00; text-decoration-color: #00af00\">64</span>)        │             <span style=\"color: #00af00; text-decoration-color: #00af00\">0</span> │\n",
       "│ (<span style=\"color: #0087ff; text-decoration-color: #0087ff\">PositionalEncoding</span>)            │                        │               │\n",
       "├─────────────────────────────────┼────────────────────────┼───────────────┤\n",
       "│ transformer_block_2             │ (<span style=\"color: #00d7ff; text-decoration-color: #00d7ff\">None</span>, <span style=\"color: #00af00; text-decoration-color: #00af00\">100</span>, <span style=\"color: #00af00; text-decoration-color: #00af00\">64</span>)        │        <span style=\"color: #00af00; text-decoration-color: #00af00\">33,472</span> │\n",
       "│ (<span style=\"color: #0087ff; text-decoration-color: #0087ff\">TransformerBlock</span>)              │                        │               │\n",
       "├─────────────────────────────────┼────────────────────────┼───────────────┤\n",
       "│ dropout_20 (<span style=\"color: #0087ff; text-decoration-color: #0087ff\">Dropout</span>)            │ (<span style=\"color: #00d7ff; text-decoration-color: #00d7ff\">None</span>, <span style=\"color: #00af00; text-decoration-color: #00af00\">65</span>)             │             <span style=\"color: #00af00; text-decoration-color: #00af00\">0</span> │\n",
       "├─────────────────────────────────┼────────────────────────┼───────────────┤\n",
       "│ concatenate_5 (<span style=\"color: #0087ff; text-decoration-color: #0087ff\">Concatenate</span>)     │ (<span style=\"color: #00d7ff; text-decoration-color: #00d7ff\">None</span>, <span style=\"color: #00af00; text-decoration-color: #00af00\">65</span>)             │             <span style=\"color: #00af00; text-decoration-color: #00af00\">0</span> │\n",
       "├─────────────────────────────────┼────────────────────────┼───────────────┤\n",
       "│ dense_32 (<span style=\"color: #0087ff; text-decoration-color: #0087ff\">Dense</span>)                │ (<span style=\"color: #00d7ff; text-decoration-color: #00d7ff\">None</span>, <span style=\"color: #00af00; text-decoration-color: #00af00\">2</span>)              │           <span style=\"color: #00af00; text-decoration-color: #00af00\">132</span> │\n",
       "└─────────────────────────────────┴────────────────────────┴───────────────┘\n",
       "</pre>\n"
      ],
      "text/plain": [
       "┏━━━━━━━━━━━━━━━━━━━━━━━━━━━━━━━━━┳━━━━━━━━━━━━━━━━━━━━━━━━┳━━━━━━━━━━━━━━━┓\n",
       "┃\u001b[1m \u001b[0m\u001b[1mLayer (type)                   \u001b[0m\u001b[1m \u001b[0m┃\u001b[1m \u001b[0m\u001b[1mOutput Shape          \u001b[0m\u001b[1m \u001b[0m┃\u001b[1m \u001b[0m\u001b[1m      Param #\u001b[0m\u001b[1m \u001b[0m┃\n",
       "┡━━━━━━━━━━━━━━━━━━━━━━━━━━━━━━━━━╇━━━━━━━━━━━━━━━━━━━━━━━━╇━━━━━━━━━━━━━━━┩\n",
       "│ multimodal_model_2              │ (\u001b[38;5;45mNone\u001b[0m, \u001b[38;5;34m1\u001b[0m)              │       \u001b[38;5;34m226,673\u001b[0m │\n",
       "│ (\u001b[38;5;33mMultimodalModel\u001b[0m)               │                        │               │\n",
       "├─────────────────────────────────┼────────────────────────┼───────────────┤\n",
       "│ conv_embedding_2                │ (\u001b[38;5;45mNone\u001b[0m, \u001b[38;5;34m100\u001b[0m, \u001b[38;5;34m64\u001b[0m)        │           \u001b[38;5;34m832\u001b[0m │\n",
       "│ (\u001b[38;5;33mConvEmbedding\u001b[0m)                 │                        │               │\n",
       "├─────────────────────────────────┼────────────────────────┼───────────────┤\n",
       "│ positional_encoding_2           │ (\u001b[38;5;45mNone\u001b[0m, \u001b[38;5;34m100\u001b[0m, \u001b[38;5;34m64\u001b[0m)        │             \u001b[38;5;34m0\u001b[0m │\n",
       "│ (\u001b[38;5;33mPositionalEncoding\u001b[0m)            │                        │               │\n",
       "├─────────────────────────────────┼────────────────────────┼───────────────┤\n",
       "│ transformer_block_2             │ (\u001b[38;5;45mNone\u001b[0m, \u001b[38;5;34m100\u001b[0m, \u001b[38;5;34m64\u001b[0m)        │        \u001b[38;5;34m33,472\u001b[0m │\n",
       "│ (\u001b[38;5;33mTransformerBlock\u001b[0m)              │                        │               │\n",
       "├─────────────────────────────────┼────────────────────────┼───────────────┤\n",
       "│ dropout_20 (\u001b[38;5;33mDropout\u001b[0m)            │ (\u001b[38;5;45mNone\u001b[0m, \u001b[38;5;34m65\u001b[0m)             │             \u001b[38;5;34m0\u001b[0m │\n",
       "├─────────────────────────────────┼────────────────────────┼───────────────┤\n",
       "│ concatenate_5 (\u001b[38;5;33mConcatenate\u001b[0m)     │ (\u001b[38;5;45mNone\u001b[0m, \u001b[38;5;34m65\u001b[0m)             │             \u001b[38;5;34m0\u001b[0m │\n",
       "├─────────────────────────────────┼────────────────────────┼───────────────┤\n",
       "│ dense_32 (\u001b[38;5;33mDense\u001b[0m)                │ (\u001b[38;5;45mNone\u001b[0m, \u001b[38;5;34m2\u001b[0m)              │           \u001b[38;5;34m132\u001b[0m │\n",
       "└─────────────────────────────────┴────────────────────────┴───────────────┘\n"
      ]
     },
     "metadata": {},
     "output_type": "display_data"
    },
    {
     "data": {
      "text/html": [
       "<pre style=\"white-space:pre;overflow-x:auto;line-height:normal;font-family:Menlo,'DejaVu Sans Mono',consolas,'Courier New',monospace\"><span style=\"font-weight: bold\"> Total params: </span><span style=\"color: #00af00; text-decoration-color: #00af00\">261,109</span> (1019.96 KB)\n",
       "</pre>\n"
      ],
      "text/plain": [
       "\u001b[1m Total params: \u001b[0m\u001b[38;5;34m261,109\u001b[0m (1019.96 KB)\n"
      ]
     },
     "metadata": {},
     "output_type": "display_data"
    },
    {
     "data": {
      "text/html": [
       "<pre style=\"white-space:pre;overflow-x:auto;line-height:normal;font-family:Menlo,'DejaVu Sans Mono',consolas,'Courier New',monospace\"><span style=\"font-weight: bold\"> Trainable params: </span><span style=\"color: #00af00; text-decoration-color: #00af00\">261,077</span> (1019.83 KB)\n",
       "</pre>\n"
      ],
      "text/plain": [
       "\u001b[1m Trainable params: \u001b[0m\u001b[38;5;34m261,077\u001b[0m (1019.83 KB)\n"
      ]
     },
     "metadata": {},
     "output_type": "display_data"
    },
    {
     "data": {
      "text/html": [
       "<pre style=\"white-space:pre;overflow-x:auto;line-height:normal;font-family:Menlo,'DejaVu Sans Mono',consolas,'Courier New',monospace\"><span style=\"font-weight: bold\"> Non-trainable params: </span><span style=\"color: #00af00; text-decoration-color: #00af00\">32</span> (128.00 B)\n",
       "</pre>\n"
      ],
      "text/plain": [
       "\u001b[1m Non-trainable params: \u001b[0m\u001b[38;5;34m32\u001b[0m (128.00 B)\n"
      ]
     },
     "metadata": {},
     "output_type": "display_data"
    },
    {
     "name": "stderr",
     "output_type": "stream",
     "text": [
      "/home/theob/anaconda3/envs/ml_skyportal_env/lib/python3.10/site-packages/keras/src/saving/saving_lib.py:396: UserWarning:\n",
      "\n",
      "Skipping variable loading for optimizer 'adam', because it has 2 variables whereas the saved optimizer has 78 variables. \n",
      "\n"
     ]
    }
   ],
   "source": [
    "from tensorflow.keras.optimizers import Adam\n",
    "\n",
    "num_filters = 64\n",
    "num_classes = 2\n",
    "num_layers = 1\n",
    "d_model = 64\n",
    "num_heads = 16\n",
    "dff = 128\n",
    "rate = 0.5\n",
    "\n",
    "shapes = [(100, 4), (16,), (63, 63, 3)]\n",
    "\n",
    "# Initialize the T2Model with the proper configuration\n",
    "model_step1 = T2_model.T2Model(num_filters=num_filters, num_classes=num_classes, num_layers=num_layers,\n",
    "                d_model=d_model, num_heads=num_heads, dff=dff, input_shapes=shapes, \n",
    "                rate=rate)\n",
    "\n",
    "# Compile the model\n",
    "model_step1.compile(optimizer=Adam(learning_rate=1e-3), loss='binary_crossentropy', metrics=['accuracy'])\n",
    "\n",
    "# Creating the final model instance\n",
    "model_step1.build(input_shapes=shapes)\n",
    "\n",
    "# Print the model summary\n",
    "model_step1.summary()\n",
    "\n",
    "model_step1.load_weights('checkpoints/step_1.weights.h5')"
   ]
  },
  {
   "cell_type": "code",
   "execution_count": 68,
   "metadata": {},
   "outputs": [],
   "source": [
    "final_data = predict.predict_classes(photo_ready, cand_ready, image_ready)"
   ]
  },
  {
   "cell_type": "code",
   "execution_count": 69,
   "metadata": {},
   "outputs": [
    {
     "name": "stdout",
     "output_type": "stream",
     "text": [
      "(1, 100, 4) (1, 16) (1, 63, 63, 3)\n"
     ]
    }
   ],
   "source": [
    "print(final_data[0].shape, final_data[1].shape, final_data[2].shape)"
   ]
  },
  {
   "cell_type": "markdown",
   "metadata": {},
   "source": [
    "# Predict and display"
   ]
  },
  {
   "cell_type": "code",
   "execution_count": 70,
   "metadata": {},
   "outputs": [
    {
     "name": "stdout",
     "output_type": "stream",
     "text": [
      "\u001b[1m1/1\u001b[0m \u001b[32m━━━━━━━━━━━━━━━━━━━━\u001b[0m\u001b[37m\u001b[0m \u001b[1m0s\u001b[0m 362ms/step\n"
     ]
    }
   ],
   "source": [
    "y_pred, y_pred_classes = predict.predict_T2(final_data, model)"
   ]
  },
  {
   "cell_type": "code",
   "execution_count": 71,
   "metadata": {},
   "outputs": [
    {
     "name": "stdout",
     "output_type": "stream",
     "text": [
      "The object is a SN with a probability of 0.77\n"
     ]
    }
   ],
   "source": [
    "types = ['Other', 'SN']\n",
    "\n",
    "print(f'The object is a {types[y_pred_classes[0]]} with a probability of {y_pred[0][y_pred_classes[0]]:.2f}')"
   ]
  },
  {
   "cell_type": "markdown",
   "metadata": {},
   "source": [
    "# Loop"
   ]
  },
  {
   "cell_type": "code",
   "execution_count": 79,
   "metadata": {},
   "outputs": [],
   "source": [
    "def merge_filter_counts(dict_list):\n",
    "    merged_dict = {}\n",
    "    for d in dict_list:\n",
    "        merged_dict.update(d)\n",
    "    return merged_dict\n",
    "\n",
    "def count_points_by_filter(df, alert_num):\n",
    "    count_df = df.groupby(['filter']).size().reindex(['ztfr', 'ztfg', 'ztfi'], fill_value=0)\n",
    "    return {alert_num: count_df.to_dict()}"
   ]
  },
  {
   "cell_type": "code",
   "execution_count": 72,
   "metadata": {},
   "outputs": [],
   "source": [
    "from tqdm import tqdm\n",
    "\n",
    "def prepare_all_data(photo_df, object_alerts, nb_max=None):\n",
    "    df_photometry = pd.DataFrame()\n",
    "    df_metadata = pd.DataFrame()\n",
    "    all_images = []\n",
    "\n",
    "    counts_dict = {}\n",
    "    \n",
    "    index = 0\n",
    "    max_index = nb_max if nb_max is not None else len(object_alerts)\n",
    "    \n",
    "    shape_image_expected = (63, 63, 3)\n",
    "    with tqdm(total=max_index, desc=\"Processing alerts\") as pbar:\n",
    "        while index < max_index:\n",
    "            one_photo, one_metadata, one_image, index = kowalski.get_data(photo_df, object_alerts, index=index)\n",
    "\n",
    "            nb_filter = count_points_by_filter(one_photo, index)\n",
    "            counts_dict = merge_filter_counts([counts_dict, nb_filter])\n",
    "\n",
    "            if one_image.shape == shape_image_expected:\n",
    "                photo_ready, cand_ready, image_ready = preprocessing_run.process_data(one_photo, one_metadata, one_image, verbose=False)\n",
    "            \n",
    "                photo_ready['obj_id'] = index\n",
    "                cand_ready['obj_id'] = index\n",
    "\n",
    "                df_photometry = pd.concat([df_photometry, photo_ready], ignore_index=True)\n",
    "                df_metadata = pd.concat([df_metadata, cand_ready], ignore_index=True)\n",
    "                all_images.append(image_ready)\n",
    "\n",
    "            index += 1\n",
    "            pbar.update(1)\n",
    "    \n",
    "    all_images = np.concatenate(all_images, axis=0)\n",
    "    \n",
    "    return df_photometry, df_metadata, all_images, counts_dict"
   ]
  },
  {
   "cell_type": "code",
   "execution_count": 73,
   "metadata": {},
   "outputs": [],
   "source": [
    "def predict_all(photo_df, object_alerts, model, nb_max=None, types=['type 1', 'type 2']):\n",
    "\n",
    "    all_photometry, all_metadata, all_images, counts_dict = prepare_all_data(photo_df, object_alerts, nb_max=nb_max)\n",
    "\n",
    "    final_data = predict.predict_classes(all_photometry, all_metadata, all_images)\n",
    "    \n",
    "    y_pred, y_pred_classes = predict.predict_T2(final_data, model)\n",
    "\n",
    "    df_results = pd.DataFrame(y_pred, columns=['type_1', 'type_2'])\n",
    "    df_results['prediction'] = y_pred_classes\n",
    "    df_results['alertes'] = all_photometry['obj_id'].unique()\n",
    "    df_results = df_results[['alertes', 'type_1', 'type_2', 'prediction']]\n",
    "    \n",
    "    plot_evaluation.plot_interactive_supernova_classification(df_results, types=types, counts_dict=counts_dict)\n",
    "\n",
    "    count_type_1 = df_results['prediction'].value_counts()[0]\n",
    "    count_type_2 = df_results['prediction'].value_counts()[1]\n",
    "    print(f'Type 1: {count_type_1}, Type 2: {count_type_2}')\n",
    "    \n",
    "    if count_type_1 == count_type_2:\n",
    "        print(f'Equal number of type 1 and type 2')\n",
    "    else:\n",
    "        print(f'The object is a {types[df_results[\"prediction\"].value_counts().idxmax()]}')\n",
    "\n",
    "    type_1 = df_results['type_1'].sum()\n",
    "    type_2 = df_results['type_2'].sum()\n",
    "\n",
    "    print(f'Type 1: {type_1}, Type 2: {type_2}')\n",
    "    \n",
    "    final_prediction = types[0] if type_1 > type_2 else types[1]\n",
    "    print(f'Final prediction: {final_prediction}')\n",
    "\n",
    "    \n",
    "    return df_results, counts_dict"
   ]
  },
  {
   "cell_type": "code",
   "execution_count": 74,
   "metadata": {},
   "outputs": [
    {
     "name": "stdout",
     "output_type": "stream",
     "text": [
      "['ZTF18aayiahw', 'ZTF18aayidfz', 'ZTF18aayiono', 'ZTF18aayivoq', 'ZTF18aayivxm', 'ZTF18aayjflv', 'ZTF18aayjvve', 'ZTF18aayjyub', 'ZTF18aaykjei', 'ZTF18aaykmzg', 'ZTF18aaylbjm', 'ZTF18aaylcvo', 'ZTF18aaypxlu', 'ZTF18aaytovs', 'ZTF18aayxupv', 'ZTF18aayyqia', 'ZTF18aayyxxp', 'ZTF18aazabmh', 'ZTF18aazblzy', 'ZTF18aazcoob', 'ZTF18aazgfkq', 'ZTF18aazhklh', 'ZTF17aaaeqms', 'ZTF17aaajowi', 'ZTF17aaanztg', 'ZTF17aaaocnx', 'ZTF17aaaptxx', 'ZTF17aaapufz', 'ZTF17aaazdba', 'ZTF17aabgaoo', 'ZTF17aabhmby', 'ZTF17aabtvsy', 'ZTF17aabwkio', 'ZTF17aacldgo', 'ZTF17aacpbmv', 'ZTF17aacxacr', 'ZTF17aadlxmv', 'ZTF18aaaecnk', 'ZTF18aaaehwv', 'ZTF18aaaibml', 'ZTF18aaajljy', 'ZTF18aaanaev', 'ZTF18aaaonon', 'ZTF18aaaqbhp', 'ZTF18aaaqexr', 'ZTF18aaaqgyc', 'ZTF18aabcgyb', 'ZTF18aabdajx', 'ZTF18aabdgik', 'ZTF18aabdjmb', 'ZTF18aabedfq', 'ZTF18aabezhk', 'ZTF18aabgroi', 'ZTF18aabiwhf', 'ZTF18aabkvpi', 'ZTF18aabssth', 'ZTF18aabtxvd', 'ZTF18aabuoud', 'ZTF18aabuoxd', 'ZTF18aabutpp', 'ZTF18aabxlsv', 'ZTF18aabxyys', 'ZTF18aacdblq', 'ZTF18aaceepu', 'ZTF18aacemcn', 'ZTF18aacfiij', 'ZTF18aaclshi', 'ZTF18aacmwsq', 'ZTF18aacnlxz', 'ZTF18aacopwm', 'ZTF18aacornn', 'ZTF18aacrptw', 'ZTF18aaczmob', 'ZTF18aadbtae', 'ZTF18aadlaxo', 'ZTF18aadmssd', 'ZTF18aadqmyy', 'ZTF18aadsuxd', 'ZTF18aadvifa', 'ZTF18aadvsxy', 'ZTF18aadxnul', 'ZTF18aadzfso', 'ZTF18aaegvyd', 'ZTF18aaeipng', 'ZTF18aaemivw', 'ZTF18aaenucd', 'ZTF18aaeqjmc', 'ZTF18aaermez', 'ZTF18aaewdgq', 'ZTF18aaexyql', 'ZTF18aaahyvk', 'ZTF18aabtahy', 'ZTF18aadaexi', 'ZTF18aaeyilr', 'ZTF18aahesrp', 'ZTF18aahptcq', 'ZTF18aaisqmw', 'ZTF18aajkcdn', 'ZTF18aakogek', 'ZTF18aamurzy', 'ZTF18aanygjk', 'ZTF18aaqfziz', 'ZTF18aaqrxza', 'ZTF18aarcouj', 'ZTF18aarxzmv', 'ZTF18aataafd', 'ZTF18aatvjwr', 'ZTF18aavjcpf', 'ZTF18aawdynj', 'ZTF18aawxgqp', 'ZTF18aaxkqgy', 'ZTF18aaygwqd', 'ZTF18aaezzww', 'ZTF18aafcpdd', 'ZTF18aafctgp', 'ZTF18aafdigb', 'ZTF18aafmmdy', 'ZTF18aafpfwr', 'ZTF18aafzers', 'ZTF18aagaypc', 'ZTF18aagftma', 'ZTF18aagguqz', 'ZTF18aagpzjk', 'ZTF18aagrdcs', 'ZTF18aagrtxs', 'ZTF18aagstdc', 'ZTF18aagtcxj', 'ZTF18aagtwyh', 'ZTF18aahatvc', 'ZTF18aahfbqp', 'ZTF18aahfcri', 'ZTF18aahfeiy', 'ZTF18aahfgid', 'ZTF18aahfgyz', 'ZTF18aahfkwu', 'ZTF18aahfqbc', 'ZTF18aahfxnn', 'ZTF18aahfzea', 'ZTF18aahheaj', 'ZTF18aahhenr', 'ZTF18aahhqih', 'ZTF18aahhzqn', 'ZTF18aahjafd', 'ZTF18aahmhxu', 'ZTF18aahpbwz', 'ZTF18aahpouv', 'ZTF18aahqkbt', 'ZTF18aahqmsr', 'ZTF18aahrzkb', 'ZTF18aahshhp', 'ZTF18aahsuyl', 'ZTF18aahtjsc', 'ZTF18aahuujv', 'ZTF18aahvkwq', 'ZTF18aahvndq', 'ZTF18aahvpcy', 'ZTF18aahwhbk', 'ZTF18aahxmjf', 'ZTF18aaihpfs', 'ZTF18aaiiigm', 'ZTF18aaikyip', 'ZTF18aailmnv', 'ZTF18aairuad', 'ZTF18aaisuxz', 'ZTF18aaisvqg', 'ZTF18aaisybp', 'ZTF18aaisyyp', 'ZTF18aaitfrq', 'ZTF18aaivnak', 'ZTF18aaiwewk', 'ZTF18aaiwzie', 'ZTF18aaiykoz', 'ZTF18aaizerg', 'ZTF18aajawol', 'ZTF18aajeezy', 'ZTF18aajfrro', 'ZTF18aajfspz', 'ZTF18aajigto', 'ZTF18aajivpr', 'ZTF18aajjhkq', 'ZTF18aajkrxi', 'ZTF18aajmpck', 'ZTF18aajpjdi', 'ZTF18aajqcue', 'ZTF18aajtlbf', 'ZTF18aajvqye', 'ZTF18aakaljn', 'ZTF18aakbuks', 'ZTF18aakctzv', 'ZTF18aakdxos', 'ZTF18aakeayh', 'ZTF18aakecej', 'ZTF18aakfabl', 'ZTF18aakibjv', 'ZTF18aakiwbs', 'ZTF18aakkrjm', 'ZTF18aaklpdo', 'ZTF18aakrnvd', 'ZTF18aaksbbs', 'ZTF18aakzliv', 'ZTF18aalcxig', 'ZTF18aalpcph', 'ZTF18aalpdyt', 'ZTF18aaluzrx', 'ZTF18aalzqvs', 'ZTF18aamasph', 'ZTF18aamfrvy', 'ZTF18aamftst', 'ZTF18aamigmk', 'ZTF18aamrkmd', 'ZTF18aamsgjq', 'ZTF18aamsnge', 'ZTF18aamstrn', 'ZTF18aamtiwb', 'ZTF18aamvfeb', 'ZTF18aamxads', 'ZTF18aamzgzi', 'ZTF18aanckuh', 'ZTF18aanggvq', 'ZTF18aangpkx', 'ZTF18aanhpii', 'ZTF18aanjzkp', 'ZTF18aankjav', 'ZTF18aankxqv', 'ZTF18aanlyba', 'ZTF18aannern', 'ZTF18aansqom', 'ZTF18aansqov', 'ZTF18aansqun', 'ZTF18aanxbdh', 'ZTF18aanxlcr', 'ZTF18aanyhfb', 'ZTF18aaorexe', 'ZTF18aaotzhu', 'ZTF18aaoufjt', 'ZTF18aaovbiy', 'ZTF18aaowtgn', 'ZTF18aaoxrup', 'ZTF18aapgrxo', 'ZTF18aaphzut', 'ZTF18aapictz', 'ZTF18aapifti', 'ZTF18aapxjzs', 'ZTF18aaqcqvr', 'ZTF18aaqcugm', 'ZTF18aaqedfj', 'ZTF18aaqehoc', 'ZTF18aaqfqaa', 'ZTF18aaqgadq', 'ZTF18aaqgbju', 'ZTF18aaqjhqz', 'ZTF18aaqjovh', 'ZTF18aaqjqqc', 'ZTF18aaqkcso', 'ZTF18aaqkdwu', 'ZTF18aaqkjuw', 'ZTF18aaqkoyr', 'ZTF18aaqkqxi', 'ZTF18aaqldvl', 'ZTF18aaqnxjb', 'ZTF18aaqpeoq', 'ZTF18aaqpjja', 'ZTF18aaqpkvx', 'ZTF18aaqqhis', 'ZTF18aaqqoqs', 'ZTF18aaqskoy', 'ZTF18aaqttsv', 'ZTF18aaquwqi', 'ZTF18aaqvuhl', 'ZTF18aaqwacv', 'ZTF18aaqwbsq', 'ZTF18aaqwiic', 'ZTF18aaqxpsi', 'ZTF18aaqybzx', 'ZTF18aaqydat', 'ZTF18aarasof', 'ZTF18aarbaba', 'ZTF18aarbgdn', 'ZTF18aarbify', 'ZTF18aarbixk', 'ZTF18aarcchg', 'ZTF18aarcehs', 'ZTF18aarcygc', 'ZTF18aarcypa', 'ZTF18aardava', 'ZTF18aarikzk', 'ZTF18aaripcr', 'ZTF18aarlpzd', 'ZTF18aarlukc', 'ZTF18aarmlzn', 'ZTF18aarmnnd', 'ZTF18aarnbhk', 'ZTF18aaroihe', 'ZTF18aartimj', 'ZTF18aartjmf', 'ZTF18aartjod', 'ZTF18aarujtm', 'ZTF18aarunub', 'ZTF18aarwxum', 'ZTF18aarzojc', 'ZTF18aasdted', 'ZTF18aaslhxt', 'ZTF18aasprui', 'ZTF18aassbst', 'ZTF18aasufva', 'ZTF18aasvias', 'ZTF18aaswfhl', 'ZTF18aaswrap', 'ZTF18aasxvsg', 'ZTF18aasxwhv', 'ZTF18aasycak', 'ZTF18aasycpd', 'ZTF18aasyjhd', 'ZTF18aasypqx', 'ZTF18aaszfhi', 'ZTF18aaszvfn', 'ZTF18aateoek', 'ZTF18aatezaj', 'ZTF18aatfujv', 'ZTF18aatgdph', 'ZTF18aathgma', 'ZTF18aatiffa', 'ZTF18aatiudp', 'ZTF18aatjfoe', 'ZTF18aatjhup', 'ZTF18aatjlhe', 'ZTF18aatjmcx', 'ZTF18aatlfus', 'ZTF18aatmlsy', 'ZTF18aatpqxq', 'ZTF18aatquwd', 'ZTF18aatrkga', 'ZTF18aatrllk', 'ZTF18aatyqds', 'ZTF18aatzygk', 'ZTF18aauenwu', 'ZTF18aauhxce', 'ZTF18aauizcr', 'ZTF18aaumeys', 'ZTF18aaunfqq', 'ZTF18aaupmks', 'ZTF18aauuqrh', 'ZTF18aauuzmf', 'ZTF18aauvmnq', 'ZTF18aauvnhh', 'ZTF18aauworo', 'ZTF18aauxltf', 'ZTF18aauxzle', 'ZTF18aavdwmh', 'ZTF18aaviokz', 'ZTF18aavjnfx', 'ZTF18aavnvmp', 'ZTF18aavnxar', 'ZTF18aavpets', 'ZTF18aavqdyq', 'ZTF18aavrmcg', 'ZTF18aavrmlf', 'ZTF18aavrwhu', 'ZTF18aavryhc', 'ZTF18aavrzxp', 'ZTF18aavsilo', 'ZTF18aavskep', 'ZTF18aavuzhe', 'ZTF18aavvnzu', 'ZTF18aavylrw', 'ZTF18aawczad', 'ZTF18aawdpnm', 'ZTF18aawgrxz', 'ZTF18aawitoj', 'ZTF18aawitry', 'ZTF18aawiwhp', 'ZTF18aawjhmu', 'ZTF18aawjnhy', 'ZTF18aawjywv', 'ZTF18aawlfnj', 'ZTF18aawlxls', 'ZTF18aawmeiw', 'ZTF18aawmxdx', 'ZTF18aawpbgm', 'ZTF18aawpcel', 'ZTF18aawpwlf', 'ZTF18aawseij', 'ZTF18aawurud', 'ZTF18aawwzrq', 'ZTF18aawxlxf', 'ZTF18aawxnkz', 'ZTF18aawyjjq', 'ZTF18aawzens', 'ZTF18aawznqy', 'ZTF18aawzxky', 'ZTF18aaxavsk', 'ZTF18aaxcfbt', 'ZTF18aaxcntm', 'ZTF18aaxcxih', 'ZTF18aaxdrjn', 'ZTF18aaxeoqk', 'ZTF18aaxgwpl', 'ZTF18aaxiuyp', 'ZTF18aaxjuwy', 'ZTF18aaxkfos', 'ZTF18aaxkjmm', 'ZTF18aaxmhvk', 'ZTF18aaxmixe', 'ZTF18aaxnkos', 'ZTF18aaxnmge', 'ZTF18aaxnqjb', 'ZTF18aaxokeg', 'ZTF18aaxqyki', 'ZTF18aaxsioa', 'ZTF18aaxtcdm', 'ZTF18aaxvpsw', 'ZTF18aaxwjmp', 'ZTF18aaxxewy', 'ZTF18aaxxfah', 'ZTF18aaxxfgs', 'ZTF18aaybfsd', 'ZTF18aaybjxm', 'ZTF18aaydmkh']\n"
     ]
    }
   ],
   "source": [
    "import os\n",
    "objIds = os.listdir(path)\n",
    "print(objIds)"
   ]
  },
  {
   "cell_type": "code",
   "execution_count": 75,
   "metadata": {},
   "outputs": [
    {
     "data": {
      "text/plain": [
       "418"
      ]
     },
     "execution_count": 75,
     "metadata": {},
     "output_type": "execute_result"
    }
   ],
   "source": [
    "len(objIds)"
   ]
  },
  {
   "cell_type": "code",
   "execution_count": 24,
   "metadata": {},
   "outputs": [
    {
     "data": {
      "text/plain": [
       "'SN Ia'"
      ]
     },
     "execution_count": 24,
     "metadata": {},
     "output_type": "execute_result"
    }
   ],
   "source": [
    "# type de l'obj dans bts_df\n",
    "nb_id = 42\n",
    "bts_df[bts_df['objectId'] == objIds[nb_id]]['type'].values[0]"
   ]
  },
  {
   "cell_type": "code",
   "execution_count": 25,
   "metadata": {},
   "outputs": [
    {
     "data": {
      "text/plain": [
       "14"
      ]
     },
     "execution_count": 25,
     "metadata": {},
     "output_type": "execute_result"
    }
   ],
   "source": [
    "photo_df, object_alerts = kowalski.load_kowalski_data(objIds[nb_id], path)\n",
    "len(object_alerts)"
   ]
  },
  {
   "cell_type": "code",
   "execution_count": 26,
   "metadata": {},
   "outputs": [
    {
     "ename": "TypeError",
     "evalue": "'<' not supported between instances of 'dict' and 'int'",
     "output_type": "error",
     "traceback": [
      "\u001b[0;31m---------------------------------------------------------------------------\u001b[0m",
      "\u001b[0;31mTypeError\u001b[0m                                 Traceback (most recent call last)",
      "Cell \u001b[0;32mIn[26], line 2\u001b[0m\n\u001b[1;32m      1\u001b[0m counts \u001b[38;5;241m=\u001b[39m count_points_by_filter(photo_df, \u001b[38;5;241m100\u001b[39m)\n\u001b[0;32m----> 2\u001b[0m \u001b[38;5;28;01mif\u001b[39;00m \u001b[38;5;28;43mall\u001b[39;49m\u001b[43m(\u001b[49m\u001b[43mcounts\u001b[49m\u001b[43m[\u001b[49m\u001b[38;5;28;43mfilter\u001b[39;49m\u001b[43m]\u001b[49m\u001b[43m \u001b[49m\u001b[38;5;241;43m<\u001b[39;49m\u001b[43m \u001b[49m\u001b[38;5;241;43m3\u001b[39;49m\u001b[43m \u001b[49m\u001b[38;5;28;43;01mfor\u001b[39;49;00m\u001b[43m \u001b[49m\u001b[38;5;28;43mfilter\u001b[39;49m\u001b[43m \u001b[49m\u001b[38;5;129;43;01min\u001b[39;49;00m\u001b[43m \u001b[49m\u001b[43mcounts\u001b[49m\u001b[43m)\u001b[49m:\n\u001b[1;32m      3\u001b[0m     \u001b[38;5;28mprint\u001b[39m(\u001b[38;5;124mf\u001b[39m\u001b[38;5;124m\"\u001b[39m\u001b[38;5;124mNo filter has at least 3 points for object \u001b[39m\u001b[38;5;132;01m{\u001b[39;00mobjIds[nb_id]\u001b[38;5;132;01m}\u001b[39;00m\u001b[38;5;124m. Skipping.\u001b[39m\u001b[38;5;124m\"\u001b[39m)\n",
      "Cell \u001b[0;32mIn[26], line 2\u001b[0m, in \u001b[0;36m<genexpr>\u001b[0;34m(.0)\u001b[0m\n\u001b[1;32m      1\u001b[0m counts \u001b[38;5;241m=\u001b[39m count_points_by_filter(photo_df, \u001b[38;5;241m100\u001b[39m)\n\u001b[0;32m----> 2\u001b[0m \u001b[38;5;28;01mif\u001b[39;00m \u001b[38;5;28mall\u001b[39m(\u001b[43mcounts\u001b[49m\u001b[43m[\u001b[49m\u001b[38;5;28;43mfilter\u001b[39;49m\u001b[43m]\u001b[49m\u001b[43m \u001b[49m\u001b[38;5;241;43m<\u001b[39;49m\u001b[43m \u001b[49m\u001b[38;5;241;43m3\u001b[39;49m \u001b[38;5;28;01mfor\u001b[39;00m \u001b[38;5;28mfilter\u001b[39m \u001b[38;5;129;01min\u001b[39;00m counts):\n\u001b[1;32m      3\u001b[0m     \u001b[38;5;28mprint\u001b[39m(\u001b[38;5;124mf\u001b[39m\u001b[38;5;124m\"\u001b[39m\u001b[38;5;124mNo filter has at least 3 points for object \u001b[39m\u001b[38;5;132;01m{\u001b[39;00mobjIds[nb_id]\u001b[38;5;132;01m}\u001b[39;00m\u001b[38;5;124m. Skipping.\u001b[39m\u001b[38;5;124m\"\u001b[39m)\n",
      "\u001b[0;31mTypeError\u001b[0m: '<' not supported between instances of 'dict' and 'int'"
     ]
    }
   ],
   "source": [
    "counts = count_points_by_filter(photo_df, 100)\n",
    "if all(counts[filter] < 3 for filter in counts):\n",
    "    print(f\"No filter has at least 3 points for object {objIds[nb_id]}. Skipping.\")"
   ]
  },
  {
   "cell_type": "code",
   "execution_count": 27,
   "metadata": {},
   "outputs": [
    {
     "data": {
      "text/plain": [
       "{100: {'ztfr': 11, 'ztfg': 17, 'ztfi': 0}}"
      ]
     },
     "execution_count": 27,
     "metadata": {},
     "output_type": "execute_result"
    }
   ],
   "source": [
    "count_points_by_filter(photo_df, 100)"
   ]
  },
  {
   "cell_type": "code",
   "execution_count": 80,
   "metadata": {},
   "outputs": [
    {
     "name": "stderr",
     "output_type": "stream",
     "text": [
      "Processing alerts:   4%|▎         | 34/965 [00:03<01:46,  8.75it/s]\n"
     ]
    },
    {
     "ename": "KeyboardInterrupt",
     "evalue": "",
     "output_type": "error",
     "traceback": [
      "\u001b[0;31m---------------------------------------------------------------------------\u001b[0m",
      "\u001b[0;31mKeyboardInterrupt\u001b[0m                         Traceback (most recent call last)",
      "\u001b[0;32m/tmp/ipykernel_7909/3908094373.py\u001b[0m in \u001b[0;36m?\u001b[0;34m()\u001b[0m\n\u001b[0;32m----> 1\u001b[0;31m \u001b[0mdf_result\u001b[0m\u001b[0;34m,\u001b[0m \u001b[0mcounts_dict\u001b[0m \u001b[0;34m=\u001b[0m \u001b[0mpredict_all\u001b[0m\u001b[0;34m(\u001b[0m\u001b[0mphoto_df\u001b[0m\u001b[0;34m,\u001b[0m \u001b[0mobject_alerts\u001b[0m\u001b[0;34m,\u001b[0m \u001b[0mmodel\u001b[0m\u001b[0;34m,\u001b[0m \u001b[0mnb_max\u001b[0m\u001b[0;34m=\u001b[0m\u001b[0mlen\u001b[0m\u001b[0;34m(\u001b[0m\u001b[0mobject_alerts\u001b[0m\u001b[0;34m)\u001b[0m\u001b[0;34m,\u001b[0m \u001b[0mtypes\u001b[0m\u001b[0;34m=\u001b[0m\u001b[0;34m[\u001b[0m\u001b[0;34m'Other'\u001b[0m\u001b[0;34m,\u001b[0m \u001b[0;34m'SN'\u001b[0m\u001b[0;34m]\u001b[0m\u001b[0;34m)\u001b[0m\u001b[0;34m\u001b[0m\u001b[0;34m\u001b[0m\u001b[0m\n\u001b[0m",
      "\u001b[0;32m/tmp/ipykernel_7909/869790986.py\u001b[0m in \u001b[0;36m?\u001b[0;34m(photo_df, object_alerts, model, nb_max, types)\u001b[0m\n\u001b[1;32m      1\u001b[0m \u001b[0;32mdef\u001b[0m \u001b[0mpredict_all\u001b[0m\u001b[0;34m(\u001b[0m\u001b[0mphoto_df\u001b[0m\u001b[0;34m,\u001b[0m \u001b[0mobject_alerts\u001b[0m\u001b[0;34m,\u001b[0m \u001b[0mmodel\u001b[0m\u001b[0;34m,\u001b[0m \u001b[0mnb_max\u001b[0m\u001b[0;34m=\u001b[0m\u001b[0;32mNone\u001b[0m\u001b[0;34m,\u001b[0m \u001b[0mtypes\u001b[0m\u001b[0;34m=\u001b[0m\u001b[0;34m[\u001b[0m\u001b[0;34m'type 1'\u001b[0m\u001b[0;34m,\u001b[0m \u001b[0;34m'type 2'\u001b[0m\u001b[0;34m]\u001b[0m\u001b[0;34m)\u001b[0m\u001b[0;34m:\u001b[0m\u001b[0;34m\u001b[0m\u001b[0;34m\u001b[0m\u001b[0m\n\u001b[1;32m      2\u001b[0m \u001b[0;34m\u001b[0m\u001b[0m\n\u001b[0;32m----> 3\u001b[0;31m     \u001b[0mall_photometry\u001b[0m\u001b[0;34m,\u001b[0m \u001b[0mall_metadata\u001b[0m\u001b[0;34m,\u001b[0m \u001b[0mall_images\u001b[0m\u001b[0;34m,\u001b[0m \u001b[0mcounts_dict\u001b[0m \u001b[0;34m=\u001b[0m \u001b[0mprepare_all_data\u001b[0m\u001b[0;34m(\u001b[0m\u001b[0mphoto_df\u001b[0m\u001b[0;34m,\u001b[0m \u001b[0mobject_alerts\u001b[0m\u001b[0;34m,\u001b[0m \u001b[0mnb_max\u001b[0m\u001b[0;34m=\u001b[0m\u001b[0mnb_max\u001b[0m\u001b[0;34m)\u001b[0m\u001b[0;34m\u001b[0m\u001b[0;34m\u001b[0m\u001b[0m\n\u001b[0m\u001b[1;32m      4\u001b[0m \u001b[0;34m\u001b[0m\u001b[0m\n\u001b[1;32m      5\u001b[0m     \u001b[0mfinal_data\u001b[0m \u001b[0;34m=\u001b[0m \u001b[0mpredict\u001b[0m\u001b[0;34m.\u001b[0m\u001b[0mpredict_classes\u001b[0m\u001b[0;34m(\u001b[0m\u001b[0mall_photometry\u001b[0m\u001b[0;34m,\u001b[0m \u001b[0mall_metadata\u001b[0m\u001b[0;34m,\u001b[0m \u001b[0mall_images\u001b[0m\u001b[0;34m)\u001b[0m\u001b[0;34m\u001b[0m\u001b[0;34m\u001b[0m\u001b[0m\n\u001b[1;32m      6\u001b[0m \u001b[0;34m\u001b[0m\u001b[0m\n",
      "\u001b[0;32m/tmp/ipykernel_7909/2888117501.py\u001b[0m in \u001b[0;36m?\u001b[0;34m(photo_df, object_alerts, nb_max)\u001b[0m\n\u001b[1;32m     12\u001b[0m \u001b[0;34m\u001b[0m\u001b[0m\n\u001b[1;32m     13\u001b[0m     \u001b[0mshape_image_expected\u001b[0m \u001b[0;34m=\u001b[0m \u001b[0;34m(\u001b[0m\u001b[0;36m63\u001b[0m\u001b[0;34m,\u001b[0m \u001b[0;36m63\u001b[0m\u001b[0;34m,\u001b[0m \u001b[0;36m3\u001b[0m\u001b[0;34m)\u001b[0m\u001b[0;34m\u001b[0m\u001b[0;34m\u001b[0m\u001b[0m\n\u001b[1;32m     14\u001b[0m     \u001b[0;32mwith\u001b[0m \u001b[0mtqdm\u001b[0m\u001b[0;34m(\u001b[0m\u001b[0mtotal\u001b[0m\u001b[0;34m=\u001b[0m\u001b[0mmax_index\u001b[0m\u001b[0;34m,\u001b[0m \u001b[0mdesc\u001b[0m\u001b[0;34m=\u001b[0m\u001b[0;34m\"Processing alerts\"\u001b[0m\u001b[0;34m)\u001b[0m \u001b[0;32mas\u001b[0m \u001b[0mpbar\u001b[0m\u001b[0;34m:\u001b[0m\u001b[0;34m\u001b[0m\u001b[0;34m\u001b[0m\u001b[0m\n\u001b[1;32m     15\u001b[0m         \u001b[0;32mwhile\u001b[0m \u001b[0mindex\u001b[0m \u001b[0;34m<\u001b[0m \u001b[0mmax_index\u001b[0m\u001b[0;34m:\u001b[0m\u001b[0;34m\u001b[0m\u001b[0;34m\u001b[0m\u001b[0m\n\u001b[0;32m---> 16\u001b[0;31m             \u001b[0mone_photo\u001b[0m\u001b[0;34m,\u001b[0m \u001b[0mone_metadata\u001b[0m\u001b[0;34m,\u001b[0m \u001b[0mone_image\u001b[0m\u001b[0;34m,\u001b[0m \u001b[0mindex\u001b[0m \u001b[0;34m=\u001b[0m \u001b[0mkowalski\u001b[0m\u001b[0;34m.\u001b[0m\u001b[0mget_data\u001b[0m\u001b[0;34m(\u001b[0m\u001b[0mphoto_df\u001b[0m\u001b[0;34m,\u001b[0m \u001b[0mobject_alerts\u001b[0m\u001b[0;34m,\u001b[0m \u001b[0mindex\u001b[0m\u001b[0;34m=\u001b[0m\u001b[0mindex\u001b[0m\u001b[0;34m)\u001b[0m\u001b[0;34m\u001b[0m\u001b[0;34m\u001b[0m\u001b[0m\n\u001b[0m\u001b[1;32m     17\u001b[0m \u001b[0;34m\u001b[0m\u001b[0m\n\u001b[1;32m     18\u001b[0m             \u001b[0mnb_filter\u001b[0m \u001b[0;34m=\u001b[0m \u001b[0mcount_points_by_filter\u001b[0m\u001b[0;34m(\u001b[0m\u001b[0mone_photo\u001b[0m\u001b[0;34m,\u001b[0m \u001b[0mindex\u001b[0m\u001b[0;34m)\u001b[0m\u001b[0;34m\u001b[0m\u001b[0;34m\u001b[0m\u001b[0m\n\u001b[1;32m     19\u001b[0m             \u001b[0mcounts_dict\u001b[0m \u001b[0;34m=\u001b[0m \u001b[0mmerge_filter_counts\u001b[0m\u001b[0;34m(\u001b[0m\u001b[0;34m[\u001b[0m\u001b[0mcounts_dict\u001b[0m\u001b[0;34m,\u001b[0m \u001b[0mnb_filter\u001b[0m\u001b[0;34m]\u001b[0m\u001b[0;34m)\u001b[0m\u001b[0;34m\u001b[0m\u001b[0;34m\u001b[0m\u001b[0m\n",
      "\u001b[0;32m~/Documents/stage/ML_skyportal/src/preprocessing/kowalski.py\u001b[0m in \u001b[0;36m?\u001b[0;34m(photometry, object_alerts, index)\u001b[0m\n\u001b[1;32m    272\u001b[0m \u001b[0;32mdef\u001b[0m \u001b[0mget_data\u001b[0m\u001b[0;34m(\u001b[0m\u001b[0mphotometry\u001b[0m\u001b[0;34m,\u001b[0m \u001b[0mobject_alerts\u001b[0m\u001b[0;34m,\u001b[0m \u001b[0mindex\u001b[0m\u001b[0;34m=\u001b[0m\u001b[0;36m0\u001b[0m\u001b[0;34m)\u001b[0m\u001b[0;34m:\u001b[0m\u001b[0;34m\u001b[0m\u001b[0;34m\u001b[0m\u001b[0m\n\u001b[1;32m    273\u001b[0m     \u001b[0;32mtry\u001b[0m\u001b[0;34m:\u001b[0m\u001b[0;34m\u001b[0m\u001b[0;34m\u001b[0m\u001b[0m\n\u001b[1;32m    274\u001b[0m         \u001b[0mfirst_index\u001b[0m \u001b[0;34m=\u001b[0m \u001b[0mget_first_valid_index\u001b[0m\u001b[0;34m(\u001b[0m\u001b[0mphotometry\u001b[0m\u001b[0;34m,\u001b[0m \u001b[0mobject_alerts\u001b[0m\u001b[0;34m)\u001b[0m\u001b[0;34m\u001b[0m\u001b[0;34m\u001b[0m\u001b[0m\n\u001b[0;32m--> 275\u001b[0;31m     \u001b[0;32mexcept\u001b[0m \u001b[0mException\u001b[0m \u001b[0;32mas\u001b[0m \u001b[0me\u001b[0m\u001b[0;34m:\u001b[0m\u001b[0;34m\u001b[0m\u001b[0;34m\u001b[0m\u001b[0m\n\u001b[0m\u001b[1;32m    276\u001b[0m         \u001b[0mprint\u001b[0m\u001b[0;34m(\u001b[0m\u001b[0;34mf\"Error in get_first_valid_index: {e}\"\u001b[0m\u001b[0;34m)\u001b[0m\u001b[0;34m\u001b[0m\u001b[0;34m\u001b[0m\u001b[0m\n\u001b[1;32m    277\u001b[0m         \u001b[0;32mreturn\u001b[0m \u001b[0;32mNone\u001b[0m\u001b[0;34m,\u001b[0m \u001b[0;32mNone\u001b[0m\u001b[0;34m,\u001b[0m \u001b[0;32mNone\u001b[0m\u001b[0;34m,\u001b[0m \u001b[0;32mNone\u001b[0m\u001b[0;34m\u001b[0m\u001b[0;34m\u001b[0m\u001b[0m\n\u001b[1;32m    278\u001b[0m \u001b[0;34m\u001b[0m\u001b[0m\n",
      "\u001b[0;32m~/Documents/stage/ML_skyportal/src/preprocessing/kowalski.py\u001b[0m in \u001b[0;36m?\u001b[0;34m(photometry, object_alertes)\u001b[0m\n\u001b[1;32m    243\u001b[0m         \u001b[0mphotometry_filtered\u001b[0m \u001b[0;34m=\u001b[0m \u001b[0mphotometry\u001b[0m\u001b[0;34m[\u001b[0m\u001b[0mphotometry\u001b[0m\u001b[0;34m[\u001b[0m\u001b[0;34m'jd'\u001b[0m\u001b[0;34m]\u001b[0m \u001b[0;34m<\u001b[0m \u001b[0mjd_current\u001b[0m\u001b[0;34m]\u001b[0m\u001b[0;34m\u001b[0m\u001b[0;34m\u001b[0m\u001b[0m\n\u001b[1;32m    244\u001b[0m \u001b[0;34m\u001b[0m\u001b[0m\n\u001b[1;32m    245\u001b[0m         \u001b[0mfilters_to_check\u001b[0m \u001b[0;34m=\u001b[0m \u001b[0;34m[\u001b[0m\u001b[0;34m'ztfr'\u001b[0m\u001b[0;34m,\u001b[0m \u001b[0;34m'ztfg'\u001b[0m\u001b[0;34m,\u001b[0m \u001b[0;34m'ztfi'\u001b[0m\u001b[0;34m]\u001b[0m\u001b[0;34m\u001b[0m\u001b[0;34m\u001b[0m\u001b[0m\n\u001b[1;32m    246\u001b[0m         \u001b[0;32mfor\u001b[0m \u001b[0mfilt\u001b[0m \u001b[0;32min\u001b[0m \u001b[0mfilters_to_check\u001b[0m\u001b[0;34m:\u001b[0m\u001b[0;34m\u001b[0m\u001b[0;34m\u001b[0m\u001b[0m\n\u001b[0;32m--> 247\u001b[0;31m             \u001b[0;32mif\u001b[0m \u001b[0;34m(\u001b[0m\u001b[0mphotometry_filtered\u001b[0m\u001b[0;34m[\u001b[0m\u001b[0;34m'filter'\u001b[0m\u001b[0;34m]\u001b[0m \u001b[0;34m==\u001b[0m \u001b[0mfilt\u001b[0m\u001b[0;34m)\u001b[0m\u001b[0;34m.\u001b[0m\u001b[0msum\u001b[0m\u001b[0;34m(\u001b[0m\u001b[0;34m)\u001b[0m \u001b[0;34m>=\u001b[0m \u001b[0;36m3\u001b[0m\u001b[0;34m:\u001b[0m\u001b[0;34m\u001b[0m\u001b[0;34m\u001b[0m\u001b[0m\n\u001b[0m\u001b[1;32m    248\u001b[0m                 \u001b[0;32mreturn\u001b[0m \u001b[0mi\u001b[0m\u001b[0;34m\u001b[0m\u001b[0;34m\u001b[0m\u001b[0m\n\u001b[1;32m    249\u001b[0m \u001b[0;34m\u001b[0m\u001b[0m\n\u001b[1;32m    250\u001b[0m     \u001b[0;32mreturn\u001b[0m \u001b[0;34m-\u001b[0m\u001b[0;36m1\u001b[0m\u001b[0;34m\u001b[0m\u001b[0;34m\u001b[0m\u001b[0m\n",
      "\u001b[0;32m~/anaconda3/envs/ml_skyportal_env/lib/python3.10/site-packages/pandas/core/frame.py\u001b[0m in \u001b[0;36m?\u001b[0;34m(self, key)\u001b[0m\n\u001b[0;32m-> 3713\u001b[0;31m     \u001b[0;32mdef\u001b[0m \u001b[0m__getitem__\u001b[0m\u001b[0;34m(\u001b[0m\u001b[0mself\u001b[0m\u001b[0;34m,\u001b[0m \u001b[0mkey\u001b[0m\u001b[0;34m)\u001b[0m\u001b[0;34m:\u001b[0m\u001b[0;34m\u001b[0m\u001b[0;34m\u001b[0m\u001b[0m\n\u001b[0m\u001b[1;32m   3714\u001b[0m         \u001b[0mcheck_dict_or_set_indexers\u001b[0m\u001b[0;34m(\u001b[0m\u001b[0mkey\u001b[0m\u001b[0;34m)\u001b[0m\u001b[0;34m\u001b[0m\u001b[0;34m\u001b[0m\u001b[0m\n\u001b[1;32m   3715\u001b[0m         \u001b[0mkey\u001b[0m \u001b[0;34m=\u001b[0m \u001b[0mlib\u001b[0m\u001b[0;34m.\u001b[0m\u001b[0mitem_from_zerodim\u001b[0m\u001b[0;34m(\u001b[0m\u001b[0mkey\u001b[0m\u001b[0;34m)\u001b[0m\u001b[0;34m\u001b[0m\u001b[0;34m\u001b[0m\u001b[0m\n\u001b[1;32m   3716\u001b[0m         \u001b[0mkey\u001b[0m \u001b[0;34m=\u001b[0m \u001b[0mcom\u001b[0m\u001b[0;34m.\u001b[0m\u001b[0mapply_if_callable\u001b[0m\u001b[0;34m(\u001b[0m\u001b[0mkey\u001b[0m\u001b[0;34m,\u001b[0m \u001b[0mself\u001b[0m\u001b[0;34m)\u001b[0m\u001b[0;34m\u001b[0m\u001b[0;34m\u001b[0m\u001b[0m\n",
      "\u001b[0;31mKeyboardInterrupt\u001b[0m: "
     ]
    }
   ],
   "source": [
    "df_result, counts_dict = predict_all(photo_df, object_alerts, model, nb_max=len(object_alerts), types=['Other', 'SN'])"
   ]
  },
  {
   "cell_type": "code",
   "execution_count": 29,
   "metadata": {},
   "outputs": [],
   "source": [
    "def has_valid_filter(counts_dict):\n",
    "    for obj_id, filters in counts_dict.items():\n",
    "        if any(count >= 3 for count in filters.values()):\n",
    "            return True\n",
    "    return False"
   ]
  },
  {
   "cell_type": "code",
   "execution_count": 78,
   "metadata": {},
   "outputs": [
    {
     "ename": "TypeError",
     "evalue": "count_points_by_filter() takes 1 positional argument but 2 were given",
     "output_type": "error",
     "traceback": [
      "\u001b[0;31m---------------------------------------------------------------------------\u001b[0m",
      "\u001b[0;31mTypeError\u001b[0m                                 Traceback (most recent call last)",
      "Cell \u001b[0;32mIn[78], line 3\u001b[0m\n\u001b[1;32m      1\u001b[0m \u001b[38;5;66;03m# test has_valid_filter\u001b[39;00m\n\u001b[0;32m----> 3\u001b[0m counts \u001b[38;5;241m=\u001b[39m \u001b[43mcount_points_by_filter\u001b[49m\u001b[43m(\u001b[49m\u001b[43mphoto_df\u001b[49m\u001b[43m,\u001b[49m\u001b[43m \u001b[49m\u001b[38;5;241;43m100\u001b[39;49m\u001b[43m)\u001b[49m\n\u001b[1;32m      4\u001b[0m \u001b[38;5;28mprint\u001b[39m(counts)\n\u001b[1;32m      5\u001b[0m \u001b[38;5;28;01mif\u001b[39;00m \u001b[38;5;129;01mnot\u001b[39;00m has_valid_filter(counts):\n",
      "\u001b[0;31mTypeError\u001b[0m: count_points_by_filter() takes 1 positional argument but 2 were given"
     ]
    }
   ],
   "source": [
    "# test has_valid_filter\n",
    "\n",
    "counts = count_points_by_filter(photo_df, 100)\n",
    "print(counts)\n",
    "if not has_valid_filter(counts):\n",
    "    print(f\"At least one filter has at least 3 points for object {objIds[nb_id]}.\")"
   ]
  },
  {
   "cell_type": "code",
   "execution_count": 116,
   "metadata": {},
   "outputs": [],
   "source": [
    "def loop_on_all(objIds, model_step1, model_step2, model_step3a, model_step3b):\n",
    "\n",
    "    df_res = pd.DataFrame(columns=['objectId', 'true_class', 'nb_predictions_type_1', 'nb_predictions_type_2', 'nb_type_1', 'nb_type_2', 'final_prediction_by_counts', 'final_prediction_by_sum'])\n",
    "\n",
    "    types = ['Other', 'SN']\n",
    "\n",
    "    for nb_id in range(30):\n",
    "        try:\n",
    "            photo_df, object_alerts = kowalski.load_kowalski_data(objIds[nb_id], path)\n",
    "\n",
    "            if photo_df is None:\n",
    "                continue\n",
    "\n",
    "            nb_max = len(object_alerts) if len(object_alerts) < 301 else 301\n",
    "\n",
    "            counts = count_points_by_filter(photo_df, nb_max)\n",
    "\n",
    "            if not has_valid_filter(counts):\n",
    "                continue\n",
    "\n",
    "            true_class = bts_df[bts_df['objectId'] == objIds[nb_id]]['type'].values[0]\n",
    "\n",
    "            print(f'True class: {true_class}')\n",
    "            df_result, counts_dict = predict_all(photo_df, object_alerts, model, nb_max=nb_max, types=types)\n",
    "\n",
    "            res = -1\n",
    "            # si prediction d'un type est superieur à 60% de l'autre type alors on prend cette prediction\n",
    "            if df_result['type_1'].sum() > 0.6 * df_result['type_2'].sum():\n",
    "                res = 0\n",
    "            elif df_result['type_2'].sum() > 0.6 * df_result['type_1'].sum():\n",
    "                res = 1\n",
    "\n",
    "            # si type 2 on passe à la suite\n",
    "\n",
    "\n",
    "            df_temp = pd.DataFrame({\n",
    "                'objectId': [objIds[nb_id]],\n",
    "                'true_class': [true_class],\n",
    "                'nb_predictions_type_1': [df_result['prediction'].value_counts().get(0, 0)],\n",
    "                'nb_predictions_type_2': [df_result['prediction'].value_counts().get(1, 0)],\n",
    "                'nb_type_1': [df_result['type_1'].sum()],\n",
    "                'nb_type_2': [df_result['type_2'].sum()],\n",
    "                'last_type_1_prediction': [df_result['type_1'].iloc[-1]],\n",
    "                'last_type_2_prediction': [df_result['type_2'].iloc[-1]]\n",
    "            })\n",
    "\n",
    "            df_temp['final_prediction_by_counts'] = types[df_result['prediction'].value_counts().idxmax()] if not df_result['prediction'].value_counts().empty else None\n",
    "            df_temp['final_prediction_by_sum'] = types[0] if df_temp['nb_type_1'][0] > df_temp['nb_type_2'][0] else types[1]\n",
    "\n",
    "            print(df_temp)\n",
    "\n",
    "            df_res = pd.concat([df_res, df_temp], ignore_index=True)\n",
    "\n",
    "        except Exception as e:\n",
    "            print(f\"Error processing object {objIds[nb_id]}: {e}\")\n",
    "            continue\n",
    "\n",
    "    return df_res"
   ]
  },
  {
   "cell_type": "code",
   "execution_count": 39,
   "metadata": {},
   "outputs": [],
   "source": [
    "objDirectory = os.path.join(path, 'ZTF18aadvifa')\n",
    "\n",
    "photo_df = pd.read_json(os.path.join(objDirectory, 'photometry.json'))"
   ]
  },
  {
   "cell_type": "code",
   "execution_count": 40,
   "metadata": {},
   "outputs": [
    {
     "data": {
      "text/html": [
       "<div>\n",
       "<style scoped>\n",
       "    .dataframe tbody tr th:only-of-type {\n",
       "        vertical-align: middle;\n",
       "    }\n",
       "\n",
       "    .dataframe tbody tr th {\n",
       "        vertical-align: top;\n",
       "    }\n",
       "\n",
       "    .dataframe thead th {\n",
       "        text-align: right;\n",
       "    }\n",
       "</style>\n",
       "<table border=\"1\" class=\"dataframe\">\n",
       "  <thead>\n",
       "    <tr style=\"text-align: right;\">\n",
       "      <th></th>\n",
       "    </tr>\n",
       "  </thead>\n",
       "  <tbody>\n",
       "  </tbody>\n",
       "</table>\n",
       "</div>"
      ],
      "text/plain": [
       "Empty DataFrame\n",
       "Columns: []\n",
       "Index: []"
      ]
     },
     "execution_count": 40,
     "metadata": {},
     "output_type": "execute_result"
    }
   ],
   "source": [
    "photo_df"
   ]
  },
  {
   "cell_type": "code",
   "execution_count": 117,
   "metadata": {},
   "outputs": [
    {
     "name": "stdout",
     "output_type": "stream",
     "text": [
      "True class: SN Ia\n"
     ]
    },
    {
     "name": "stderr",
     "output_type": "stream",
     "text": [
      "Processing alerts:  88%|████████▊ | 23/26 [00:02<00:00, 10.00it/s]\n"
     ]
    },
    {
     "name": "stdout",
     "output_type": "stream",
     "text": [
      "\u001b[1m1/1\u001b[0m \u001b[32m━━━━━━━━━━━━━━━━━━━━\u001b[0m\u001b[37m\u001b[0m \u001b[1m0s\u001b[0m 101ms/step\n"
     ]
    },
    {
     "data": {
      "application/vnd.plotly.v1+json": {
       "config": {
        "plotlyServerURL": "https://plot.ly"
       },
       "data": [
        {
         "fill": "tozeroy",
         "fillcolor": "orange",
         "hoverinfo": "text",
         "mode": "none",
         "name": "Other",
         "text": [
          "<br>Other: 99.1762%",
          "<br>Other: 99.3572%",
          "<br>Other: 97.5558%",
          "<br>Other: 97.9723%",
          "<br>Other: 99.0819%",
          "<br>Other: 98.9254%",
          "<br>Other: 98.4951%",
          "<br>Other: 99.0115%",
          "<br>Other: 99.3993%",
          "<br>Other: 99.3218%",
          "<br>Other: 94.9828%",
          "<br>Other: 96.0705%",
          "<br>Other: 93.4801%",
          "<br>Other: 14.5319%",
          "<br>Other: 13.8375%",
          "<br>Other: 15.8595%",
          "<br>Other: 13.2045%",
          "<br>Other: 6.6626%",
          "<br>Other: 6.171%",
          "<br>Other: 5.7146%",
          "<br>Other: 5.5189%",
          "<br>Other: 2.9211%",
          "<br>Other: 2.978%"
         ],
         "type": "scatter",
         "x": [
          3,
          4,
          5,
          6,
          7,
          8,
          9,
          10,
          11,
          12,
          13,
          14,
          15,
          16,
          17,
          18,
          19,
          20,
          21,
          22,
          23,
          24,
          25
         ],
         "y": [
          0.9917623996734619,
          0.9935723543167114,
          0.9755584597587585,
          0.9797227382659912,
          0.9908190965652466,
          0.9892538189888,
          0.9849505424499512,
          0.9901145696640015,
          0.99399334192276,
          0.993217945098877,
          0.9498284459114075,
          0.9607051014900208,
          0.9348007440567017,
          0.14531870186328888,
          0.1383754163980484,
          0.15859492123126984,
          0.13204459846019745,
          0.06662638485431671,
          0.06170954927802086,
          0.05714626610279083,
          0.05518941581249237,
          0.02921088971197605,
          0.029780035838484764
         ]
        },
        {
         "fill": "tonexty",
         "fillcolor": "blue",
         "hoverinfo": "text",
         "mode": "none",
         "name": "SN",
         "text": [
          "Alerte: 3<br>Prediction: Other<br>---<br>ztfr: 4 | ztfg: 1 | ztfi: 0<br>---<br>SN: 0.7807%",
          "Alerte: 4<br>Prediction: Other<br>---<br>ztfr: 4 | ztfg: 3 | ztfi: 0<br>---<br>SN: 0.6157%",
          "Alerte: 5<br>Prediction: Other<br>---<br>ztfr: 6 | ztfg: 3 | ztfi: 0<br>---<br>SN: 2.2684%",
          "Alerte: 6<br>Prediction: Other<br>---<br>ztfr: 6 | ztfg: 5 | ztfi: 0<br>---<br>SN: 1.8701%",
          "Alerte: 7<br>Prediction: Other<br>---<br>ztfr: 8 | ztfg: 5 | ztfi: 0<br>---<br>SN: 0.9033%",
          "Alerte: 8<br>Prediction: Other<br>---<br>ztfr: 10 | ztfg: 5 | ztfi: 0<br>---<br>SN: 1.081%",
          "Alerte: 9<br>Prediction: Other<br>---<br>ztfr: 10 | ztfg: 7 | ztfi: 0<br>---<br>SN: 1.5202%",
          "Alerte: 10<br>Prediction: Other<br>---<br>ztfr: 10 | ztfg: 9 | ztfi: 0<br>---<br>SN: 1.0001%",
          "Alerte: 11<br>Prediction: Other<br>---<br>ztfr: 10 | ztfg: 11 | ztfi: 0<br>---<br>SN: 0.6242%",
          "Alerte: 12<br>Prediction: Other<br>---<br>ztfr: 10 | ztfg: 11 | ztfi: 1<br>---<br>SN: 0.707%",
          "Alerte: 13<br>Prediction: Other<br>---<br>ztfr: 12 | ztfg: 11 | ztfi: 1<br>---<br>SN: 5.17%",
          "Alerte: 14<br>Prediction: Other<br>---<br>ztfr: 13 | ztfg: 13 | ztfi: 1<br>---<br>SN: 4.0818%",
          "Alerte: 15<br>Prediction: Other<br>---<br>ztfr: 13 | ztfg: 15 | ztfi: 1<br>---<br>SN: 6.7892%",
          "Alerte: 16<br>Prediction: SN<br>---<br>ztfr: 15 | ztfg: 15 | ztfi: 1<br>---<br>SN: 82.9168%",
          "Alerte: 17<br>Prediction: SN<br>---<br>ztfr: 16 | ztfg: 15 | ztfi: 1<br>---<br>SN: 83.6841%",
          "Alerte: 18<br>Prediction: SN<br>---<br>ztfr: 17 | ztfg: 15 | ztfi: 1<br>---<br>SN: 81.3745%",
          "Alerte: 19<br>Prediction: SN<br>---<br>ztfr: 17 | ztfg: 17 | ztfi: 1<br>---<br>SN: 84.3414%",
          "Alerte: 20<br>Prediction: SN<br>---<br>ztfr: 19 | ztfg: 18 | ztfi: 1<br>---<br>SN: 91.8088%",
          "Alerte: 21<br>Prediction: SN<br>---<br>ztfr: 19 | ztfg: 21 | ztfi: 1<br>---<br>SN: 92.3725%",
          "Alerte: 22<br>Prediction: SN<br>---<br>ztfr: 21 | ztfg: 21 | ztfi: 1<br>---<br>SN: 92.9335%",
          "Alerte: 23<br>Prediction: SN<br>---<br>ztfr: 23 | ztfg: 21 | ztfi: 1<br>---<br>SN: 93.1703%",
          "Alerte: 24<br>Prediction: SN<br>---<br>ztfr: 25 | ztfg: 21 | ztfi: 1<br>---<br>SN: 96.1493%",
          "Alerte: 25<br>Prediction: SN<br>---<br>ztfr: 27 | ztfg: 22 | ztfi: 1<br>---<br>SN: 96.0375%"
         ],
         "type": "scatter",
         "x": [
          3,
          4,
          5,
          6,
          7,
          8,
          9,
          10,
          11,
          12,
          13,
          14,
          15,
          16,
          17,
          18,
          19,
          20,
          21,
          22,
          23,
          24,
          25
         ],
         "y": [
          0.9995691180229187,
          0.9997296929359436,
          0.9982429146766663,
          0.9984233975410461,
          0.9998521208763123,
          1.0000635385513306,
          1.0001527070999146,
          1.0001157522201538,
          1.000235676765442,
          1.0002881288528442,
          1.0015283823013306,
          1.0015231370925903,
          1.0026923418045044,
          0.9744865298271179,
          0.9752166271209717,
          0.9723401069641113,
          0.9754585027694702,
          0.9847144484519958,
          0.9854345917701721,
          0.9864808320999146,
          0.9868924617767334,
          0.9907034635543823,
          0.9901547431945801
         ]
        }
       ],
       "layout": {
        "hovermode": "x unified",
        "template": {
         "data": {
          "bar": [
           {
            "error_x": {
             "color": "#2a3f5f"
            },
            "error_y": {
             "color": "#2a3f5f"
            },
            "marker": {
             "line": {
              "color": "#E5ECF6",
              "width": 0.5
             },
             "pattern": {
              "fillmode": "overlay",
              "size": 10,
              "solidity": 0.2
             }
            },
            "type": "bar"
           }
          ],
          "barpolar": [
           {
            "marker": {
             "line": {
              "color": "#E5ECF6",
              "width": 0.5
             },
             "pattern": {
              "fillmode": "overlay",
              "size": 10,
              "solidity": 0.2
             }
            },
            "type": "barpolar"
           }
          ],
          "carpet": [
           {
            "aaxis": {
             "endlinecolor": "#2a3f5f",
             "gridcolor": "white",
             "linecolor": "white",
             "minorgridcolor": "white",
             "startlinecolor": "#2a3f5f"
            },
            "baxis": {
             "endlinecolor": "#2a3f5f",
             "gridcolor": "white",
             "linecolor": "white",
             "minorgridcolor": "white",
             "startlinecolor": "#2a3f5f"
            },
            "type": "carpet"
           }
          ],
          "choropleth": [
           {
            "colorbar": {
             "outlinewidth": 0,
             "ticks": ""
            },
            "type": "choropleth"
           }
          ],
          "contour": [
           {
            "colorbar": {
             "outlinewidth": 0,
             "ticks": ""
            },
            "colorscale": [
             [
              0,
              "#0d0887"
             ],
             [
              0.1111111111111111,
              "#46039f"
             ],
             [
              0.2222222222222222,
              "#7201a8"
             ],
             [
              0.3333333333333333,
              "#9c179e"
             ],
             [
              0.4444444444444444,
              "#bd3786"
             ],
             [
              0.5555555555555556,
              "#d8576b"
             ],
             [
              0.6666666666666666,
              "#ed7953"
             ],
             [
              0.7777777777777778,
              "#fb9f3a"
             ],
             [
              0.8888888888888888,
              "#fdca26"
             ],
             [
              1,
              "#f0f921"
             ]
            ],
            "type": "contour"
           }
          ],
          "contourcarpet": [
           {
            "colorbar": {
             "outlinewidth": 0,
             "ticks": ""
            },
            "type": "contourcarpet"
           }
          ],
          "heatmap": [
           {
            "colorbar": {
             "outlinewidth": 0,
             "ticks": ""
            },
            "colorscale": [
             [
              0,
              "#0d0887"
             ],
             [
              0.1111111111111111,
              "#46039f"
             ],
             [
              0.2222222222222222,
              "#7201a8"
             ],
             [
              0.3333333333333333,
              "#9c179e"
             ],
             [
              0.4444444444444444,
              "#bd3786"
             ],
             [
              0.5555555555555556,
              "#d8576b"
             ],
             [
              0.6666666666666666,
              "#ed7953"
             ],
             [
              0.7777777777777778,
              "#fb9f3a"
             ],
             [
              0.8888888888888888,
              "#fdca26"
             ],
             [
              1,
              "#f0f921"
             ]
            ],
            "type": "heatmap"
           }
          ],
          "heatmapgl": [
           {
            "colorbar": {
             "outlinewidth": 0,
             "ticks": ""
            },
            "colorscale": [
             [
              0,
              "#0d0887"
             ],
             [
              0.1111111111111111,
              "#46039f"
             ],
             [
              0.2222222222222222,
              "#7201a8"
             ],
             [
              0.3333333333333333,
              "#9c179e"
             ],
             [
              0.4444444444444444,
              "#bd3786"
             ],
             [
              0.5555555555555556,
              "#d8576b"
             ],
             [
              0.6666666666666666,
              "#ed7953"
             ],
             [
              0.7777777777777778,
              "#fb9f3a"
             ],
             [
              0.8888888888888888,
              "#fdca26"
             ],
             [
              1,
              "#f0f921"
             ]
            ],
            "type": "heatmapgl"
           }
          ],
          "histogram": [
           {
            "marker": {
             "pattern": {
              "fillmode": "overlay",
              "size": 10,
              "solidity": 0.2
             }
            },
            "type": "histogram"
           }
          ],
          "histogram2d": [
           {
            "colorbar": {
             "outlinewidth": 0,
             "ticks": ""
            },
            "colorscale": [
             [
              0,
              "#0d0887"
             ],
             [
              0.1111111111111111,
              "#46039f"
             ],
             [
              0.2222222222222222,
              "#7201a8"
             ],
             [
              0.3333333333333333,
              "#9c179e"
             ],
             [
              0.4444444444444444,
              "#bd3786"
             ],
             [
              0.5555555555555556,
              "#d8576b"
             ],
             [
              0.6666666666666666,
              "#ed7953"
             ],
             [
              0.7777777777777778,
              "#fb9f3a"
             ],
             [
              0.8888888888888888,
              "#fdca26"
             ],
             [
              1,
              "#f0f921"
             ]
            ],
            "type": "histogram2d"
           }
          ],
          "histogram2dcontour": [
           {
            "colorbar": {
             "outlinewidth": 0,
             "ticks": ""
            },
            "colorscale": [
             [
              0,
              "#0d0887"
             ],
             [
              0.1111111111111111,
              "#46039f"
             ],
             [
              0.2222222222222222,
              "#7201a8"
             ],
             [
              0.3333333333333333,
              "#9c179e"
             ],
             [
              0.4444444444444444,
              "#bd3786"
             ],
             [
              0.5555555555555556,
              "#d8576b"
             ],
             [
              0.6666666666666666,
              "#ed7953"
             ],
             [
              0.7777777777777778,
              "#fb9f3a"
             ],
             [
              0.8888888888888888,
              "#fdca26"
             ],
             [
              1,
              "#f0f921"
             ]
            ],
            "type": "histogram2dcontour"
           }
          ],
          "mesh3d": [
           {
            "colorbar": {
             "outlinewidth": 0,
             "ticks": ""
            },
            "type": "mesh3d"
           }
          ],
          "parcoords": [
           {
            "line": {
             "colorbar": {
              "outlinewidth": 0,
              "ticks": ""
             }
            },
            "type": "parcoords"
           }
          ],
          "pie": [
           {
            "automargin": true,
            "type": "pie"
           }
          ],
          "scatter": [
           {
            "fillpattern": {
             "fillmode": "overlay",
             "size": 10,
             "solidity": 0.2
            },
            "type": "scatter"
           }
          ],
          "scatter3d": [
           {
            "line": {
             "colorbar": {
              "outlinewidth": 0,
              "ticks": ""
             }
            },
            "marker": {
             "colorbar": {
              "outlinewidth": 0,
              "ticks": ""
             }
            },
            "type": "scatter3d"
           }
          ],
          "scattercarpet": [
           {
            "marker": {
             "colorbar": {
              "outlinewidth": 0,
              "ticks": ""
             }
            },
            "type": "scattercarpet"
           }
          ],
          "scattergeo": [
           {
            "marker": {
             "colorbar": {
              "outlinewidth": 0,
              "ticks": ""
             }
            },
            "type": "scattergeo"
           }
          ],
          "scattergl": [
           {
            "marker": {
             "colorbar": {
              "outlinewidth": 0,
              "ticks": ""
             }
            },
            "type": "scattergl"
           }
          ],
          "scattermapbox": [
           {
            "marker": {
             "colorbar": {
              "outlinewidth": 0,
              "ticks": ""
             }
            },
            "type": "scattermapbox"
           }
          ],
          "scatterpolar": [
           {
            "marker": {
             "colorbar": {
              "outlinewidth": 0,
              "ticks": ""
             }
            },
            "type": "scatterpolar"
           }
          ],
          "scatterpolargl": [
           {
            "marker": {
             "colorbar": {
              "outlinewidth": 0,
              "ticks": ""
             }
            },
            "type": "scatterpolargl"
           }
          ],
          "scatterternary": [
           {
            "marker": {
             "colorbar": {
              "outlinewidth": 0,
              "ticks": ""
             }
            },
            "type": "scatterternary"
           }
          ],
          "surface": [
           {
            "colorbar": {
             "outlinewidth": 0,
             "ticks": ""
            },
            "colorscale": [
             [
              0,
              "#0d0887"
             ],
             [
              0.1111111111111111,
              "#46039f"
             ],
             [
              0.2222222222222222,
              "#7201a8"
             ],
             [
              0.3333333333333333,
              "#9c179e"
             ],
             [
              0.4444444444444444,
              "#bd3786"
             ],
             [
              0.5555555555555556,
              "#d8576b"
             ],
             [
              0.6666666666666666,
              "#ed7953"
             ],
             [
              0.7777777777777778,
              "#fb9f3a"
             ],
             [
              0.8888888888888888,
              "#fdca26"
             ],
             [
              1,
              "#f0f921"
             ]
            ],
            "type": "surface"
           }
          ],
          "table": [
           {
            "cells": {
             "fill": {
              "color": "#EBF0F8"
             },
             "line": {
              "color": "white"
             }
            },
            "header": {
             "fill": {
              "color": "#C8D4E3"
             },
             "line": {
              "color": "white"
             }
            },
            "type": "table"
           }
          ]
         },
         "layout": {
          "annotationdefaults": {
           "arrowcolor": "#2a3f5f",
           "arrowhead": 0,
           "arrowwidth": 1
          },
          "autotypenumbers": "strict",
          "coloraxis": {
           "colorbar": {
            "outlinewidth": 0,
            "ticks": ""
           }
          },
          "colorscale": {
           "diverging": [
            [
             0,
             "#8e0152"
            ],
            [
             0.1,
             "#c51b7d"
            ],
            [
             0.2,
             "#de77ae"
            ],
            [
             0.3,
             "#f1b6da"
            ],
            [
             0.4,
             "#fde0ef"
            ],
            [
             0.5,
             "#f7f7f7"
            ],
            [
             0.6,
             "#e6f5d0"
            ],
            [
             0.7,
             "#b8e186"
            ],
            [
             0.8,
             "#7fbc41"
            ],
            [
             0.9,
             "#4d9221"
            ],
            [
             1,
             "#276419"
            ]
           ],
           "sequential": [
            [
             0,
             "#0d0887"
            ],
            [
             0.1111111111111111,
             "#46039f"
            ],
            [
             0.2222222222222222,
             "#7201a8"
            ],
            [
             0.3333333333333333,
             "#9c179e"
            ],
            [
             0.4444444444444444,
             "#bd3786"
            ],
            [
             0.5555555555555556,
             "#d8576b"
            ],
            [
             0.6666666666666666,
             "#ed7953"
            ],
            [
             0.7777777777777778,
             "#fb9f3a"
            ],
            [
             0.8888888888888888,
             "#fdca26"
            ],
            [
             1,
             "#f0f921"
            ]
           ],
           "sequentialminus": [
            [
             0,
             "#0d0887"
            ],
            [
             0.1111111111111111,
             "#46039f"
            ],
            [
             0.2222222222222222,
             "#7201a8"
            ],
            [
             0.3333333333333333,
             "#9c179e"
            ],
            [
             0.4444444444444444,
             "#bd3786"
            ],
            [
             0.5555555555555556,
             "#d8576b"
            ],
            [
             0.6666666666666666,
             "#ed7953"
            ],
            [
             0.7777777777777778,
             "#fb9f3a"
            ],
            [
             0.8888888888888888,
             "#fdca26"
            ],
            [
             1,
             "#f0f921"
            ]
           ]
          },
          "colorway": [
           "#636efa",
           "#EF553B",
           "#00cc96",
           "#ab63fa",
           "#FFA15A",
           "#19d3f3",
           "#FF6692",
           "#B6E880",
           "#FF97FF",
           "#FECB52"
          ],
          "font": {
           "color": "#2a3f5f"
          },
          "geo": {
           "bgcolor": "white",
           "lakecolor": "white",
           "landcolor": "#E5ECF6",
           "showlakes": true,
           "showland": true,
           "subunitcolor": "white"
          },
          "hoverlabel": {
           "align": "left"
          },
          "hovermode": "closest",
          "mapbox": {
           "style": "light"
          },
          "paper_bgcolor": "white",
          "plot_bgcolor": "#E5ECF6",
          "polar": {
           "angularaxis": {
            "gridcolor": "white",
            "linecolor": "white",
            "ticks": ""
           },
           "bgcolor": "#E5ECF6",
           "radialaxis": {
            "gridcolor": "white",
            "linecolor": "white",
            "ticks": ""
           }
          },
          "scene": {
           "xaxis": {
            "backgroundcolor": "#E5ECF6",
            "gridcolor": "white",
            "gridwidth": 2,
            "linecolor": "white",
            "showbackground": true,
            "ticks": "",
            "zerolinecolor": "white"
           },
           "yaxis": {
            "backgroundcolor": "#E5ECF6",
            "gridcolor": "white",
            "gridwidth": 2,
            "linecolor": "white",
            "showbackground": true,
            "ticks": "",
            "zerolinecolor": "white"
           },
           "zaxis": {
            "backgroundcolor": "#E5ECF6",
            "gridcolor": "white",
            "gridwidth": 2,
            "linecolor": "white",
            "showbackground": true,
            "ticks": "",
            "zerolinecolor": "white"
           }
          },
          "shapedefaults": {
           "line": {
            "color": "#2a3f5f"
           }
          },
          "ternary": {
           "aaxis": {
            "gridcolor": "white",
            "linecolor": "white",
            "ticks": ""
           },
           "baxis": {
            "gridcolor": "white",
            "linecolor": "white",
            "ticks": ""
           },
           "bgcolor": "#E5ECF6",
           "caxis": {
            "gridcolor": "white",
            "linecolor": "white",
            "ticks": ""
           }
          },
          "title": {
           "x": 0.05
          },
          "xaxis": {
           "automargin": true,
           "gridcolor": "white",
           "linecolor": "white",
           "ticks": "",
           "title": {
            "standoff": 15
           },
           "zerolinecolor": "white",
           "zerolinewidth": 2
          },
          "yaxis": {
           "automargin": true,
           "gridcolor": "white",
           "linecolor": "white",
           "ticks": "",
           "title": {
            "standoff": 15
           },
           "zerolinecolor": "white",
           "zerolinewidth": 2
          }
         }
        },
        "title": {
         "text": "Supernova Classification Over Time"
        },
        "xaxis": {
         "title": {
          "text": "Alertes"
         }
        },
        "yaxis": {
         "range": [
          0,
          1
         ],
         "title": {
          "text": "Probability"
         }
        }
       }
      }
     },
     "metadata": {},
     "output_type": "display_data"
    },
    {
     "name": "stdout",
     "output_type": "stream",
     "text": [
      "Type 1: 13, Type 2: 10\n",
      "The object is a Other\n",
      "Type 1: 13.602295875549316, Type 2: 9.222003936767578\n",
      "Final prediction: Other\n",
      "       objectId true_class  nb_predictions_type_1  nb_predictions_type_2  \\\n",
      "0  ZTF18aayiono      SN Ia                     13                     10   \n",
      "\n",
      "   nb_type_1  nb_type_2  last_type_1_prediction  last_type_2_prediction  \\\n",
      "0  13.602296   9.222004                 0.02978                0.960375   \n",
      "\n",
      "  final_prediction_by_counts final_prediction_by_sum  \n",
      "0                      Other                   Other  \n",
      "Error processing object ZTF18aazhklh: [Errno 2] No such file or directory: '/media/theob/E/ML_project_data/data_kowalski/ZTF18aazhklh/alerts.npy'\n",
      "True class: -\n"
     ]
    },
    {
     "name": "stderr",
     "output_type": "stream",
     "text": [
      "Processing alerts:  98%|█████████▊| 97/99 [00:20<00:00,  4.69it/s]\n"
     ]
    },
    {
     "name": "stdout",
     "output_type": "stream",
     "text": [
      "\u001b[1m4/4\u001b[0m \u001b[32m━━━━━━━━━━━━━━━━━━━━\u001b[0m\u001b[37m\u001b[0m \u001b[1m0s\u001b[0m 83ms/step \n"
     ]
    },
    {
     "data": {
      "application/vnd.plotly.v1+json": {
       "config": {
        "plotlyServerURL": "https://plot.ly"
       },
       "data": [
        {
         "fill": "tozeroy",
         "fillcolor": "orange",
         "hoverinfo": "text",
         "mode": "none",
         "name": "Other",
         "text": [
          "<br>Other: 99.344%",
          "<br>Other: 99.5557%",
          "<br>Other: 99.4607%",
          "<br>Other: 99.4615%",
          "<br>Other: 99.3786%",
          "<br>Other: 99.4655%",
          "<br>Other: 97.692%",
          "<br>Other: 98.253%",
          "<br>Other: 98.9644%",
          "<br>Other: 98.2452%",
          "<br>Other: 99.0123%",
          "<br>Other: 84.795%",
          "<br>Other: 98.8181%",
          "<br>Other: 96.6032%",
          "<br>Other: 96.9224%",
          "<br>Other: 99.2991%",
          "<br>Other: 99.3078%",
          "<br>Other: 99.4668%",
          "<br>Other: 98.801%",
          "<br>Other: 99.1646%",
          "<br>Other: 93.2585%",
          "<br>Other: 18.1271%",
          "<br>Other: 99.4038%",
          "<br>Other: 99.0754%",
          "<br>Other: 98.7087%",
          "<br>Other: 2.8041%",
          "<br>Other: 98.7246%",
          "<br>Other: 37.3849%",
          "<br>Other: 97.7715%",
          "<br>Other: 99.1889%",
          "<br>Other: 6.7882%",
          "<br>Other: 98.7838%",
          "<br>Other: 59.2354%",
          "<br>Other: 86.6191%",
          "<br>Other: 97.0702%",
          "<br>Other: 96.4185%",
          "<br>Other: 77.7006%",
          "<br>Other: 94.1143%",
          "<br>Other: 81.3057%",
          "<br>Other: 86.1242%",
          "<br>Other: 56.5668%",
          "<br>Other: 91.9793%",
          "<br>Other: 62.1919%",
          "<br>Other: 93.5345%",
          "<br>Other: 60.2545%",
          "<br>Other: 81.1702%",
          "<br>Other: 71.1069%",
          "<br>Other: 74.2694%",
          "<br>Other: 87.6231%",
          "<br>Other: 87.0873%",
          "<br>Other: 62.8343%",
          "<br>Other: 39.7409%",
          "<br>Other: 90.8377%",
          "<br>Other: 85.376%",
          "<br>Other: 94.8567%",
          "<br>Other: 92.1268%",
          "<br>Other: 85.0929%",
          "<br>Other: 87.5954%",
          "<br>Other: 84.9192%",
          "<br>Other: 86.4604%",
          "<br>Other: 83.6034%",
          "<br>Other: 84.9612%",
          "<br>Other: 82.1868%",
          "<br>Other: 93.0621%",
          "<br>Other: 86.4121%",
          "<br>Other: 83.8865%",
          "<br>Other: 82.5603%",
          "<br>Other: 80.9254%",
          "<br>Other: 80.8335%",
          "<br>Other: 73.8205%",
          "<br>Other: 75.5989%",
          "<br>Other: 72.0379%",
          "<br>Other: 58.0232%",
          "<br>Other: 1.8126%",
          "<br>Other: 2.6131%",
          "<br>Other: 1.5661%",
          "<br>Other: 2.708%",
          "<br>Other: 0.78%",
          "<br>Other: 0.9442%",
          "<br>Other: 0.7493%",
          "<br>Other: 0.7435%",
          "<br>Other: 0.7676%",
          "<br>Other: 0.7195%",
          "<br>Other: 0.8671%",
          "<br>Other: 0.7621%",
          "<br>Other: 0.8233%",
          "<br>Other: 0.7935%",
          "<br>Other: 0.5741%",
          "<br>Other: 0.5602%",
          "<br>Other: 0.5968%",
          "<br>Other: 0.7416%",
          "<br>Other: 1.6297%",
          "<br>Other: 1.1023%",
          "<br>Other: 0.6836%",
          "<br>Other: 0.6221%",
          "<br>Other: 77.8052%",
          "<br>Other: 38.9433%"
         ],
         "type": "scatter",
         "x": [
          2,
          3,
          4,
          5,
          6,
          7,
          8,
          9,
          10,
          11,
          12,
          13,
          14,
          15,
          16,
          17,
          18,
          19,
          20,
          21,
          22,
          23,
          24,
          25,
          26,
          27,
          28,
          29,
          30,
          31,
          32,
          33,
          34,
          35,
          36,
          37,
          38,
          39,
          40,
          41,
          42,
          43,
          44,
          45,
          46,
          47,
          48,
          49,
          50,
          51,
          52,
          53,
          54,
          55,
          56,
          57,
          58,
          59,
          60,
          61,
          62,
          63,
          64,
          65,
          66,
          67,
          68,
          69,
          70,
          71,
          72,
          73,
          74,
          75,
          76,
          77,
          78,
          79,
          80,
          81,
          82,
          83,
          84,
          85,
          86,
          87,
          88,
          89,
          90,
          91,
          92,
          93,
          94,
          95,
          96,
          97,
          98
         ],
         "y": [
          0.9934397339820862,
          0.9955572485923767,
          0.9946067333221436,
          0.9946147203445435,
          0.9937857985496521,
          0.994655191898346,
          0.9769195914268494,
          0.9825296998023987,
          0.989643931388855,
          0.9824515581130981,
          0.9901230931282043,
          0.8479502201080322,
          0.9881811141967773,
          0.966032087802887,
          0.9692236185073853,
          0.992991030216217,
          0.993078351020813,
          0.9946678876876831,
          0.9880104064941406,
          0.9916463494300842,
          0.9325847029685974,
          0.1812712550163269,
          0.9940378665924072,
          0.9907541871070862,
          0.987087070941925,
          0.028040686622262,
          0.9872459173202515,
          0.37384939193725586,
          0.977715015411377,
          0.9918893575668335,
          0.0678824856877327,
          0.9878381490707397,
          0.5923540592193604,
          0.8661906123161316,
          0.9707022905349731,
          0.9641849398612976,
          0.7770064473152161,
          0.941143274307251,
          0.8130567073822021,
          0.8612415194511414,
          0.5656676292419434,
          0.9197933077812195,
          0.6219189763069153,
          0.9353445172309875,
          0.6025453805923462,
          0.8117023706436157,
          0.7110690474510193,
          0.7426939010620117,
          0.8762308359146118,
          0.8708731532096863,
          0.6283433437347412,
          0.3974093794822693,
          0.9083767533302307,
          0.8537604212760925,
          0.948567271232605,
          0.9212680459022522,
          0.8509286642074585,
          0.8759541511535645,
          0.8491916656494141,
          0.8646035194396973,
          0.8360335826873779,
          0.8496118783950806,
          0.821868360042572,
          0.9306209683418274,
          0.8641211986541748,
          0.8388650417327881,
          0.8256025910377502,
          0.8092541694641113,
          0.8083354830741882,
          0.7382053732872009,
          0.7559889554977417,
          0.7203790545463562,
          0.5802318453788757,
          0.01812639646232128,
          0.026130707934498787,
          0.015661083161830902,
          0.027079861611127853,
          0.007799734827131033,
          0.009441501460969448,
          0.007492545992136002,
          0.007435168605297804,
          0.0076764668338000774,
          0.007195265963673592,
          0.008670669049024582,
          0.00762140890583396,
          0.008233461529016495,
          0.007935410365462303,
          0.005740941036492586,
          0.005602093413472176,
          0.005968011915683746,
          0.007415972650051117,
          0.016296537593007088,
          0.011022773571312428,
          0.006835751235485077,
          0.006220923736691475,
          0.7780522108078003,
          0.3894331455230713
         ]
        },
        {
         "fill": "tonexty",
         "fillcolor": "blue",
         "hoverinfo": "text",
         "mode": "none",
         "name": "SN",
         "text": [
          "Alerte: 2<br>Prediction: Other<br>---<br>ztfr: 6 | ztfg: 0 | ztfi: 0<br>---<br>SN: 0.6606%",
          "Alerte: 3<br>Prediction: Other<br>---<br>ztfr: 4 | ztfg: 0 | ztfi: 0<br>---<br>SN: 0.4534%",
          "Alerte: 4<br>Prediction: Other<br>---<br>ztfr: 8 | ztfg: 0 | ztfi: 0<br>---<br>SN: 0.5501%",
          "Alerte: 5<br>Prediction: Other<br>---<br>ztfr: 10 | ztfg: 0 | ztfi: 0<br>---<br>SN: 0.5511%",
          "Alerte: 6<br>Prediction: Other<br>---<br>ztfr: 12 | ztfg: 0 | ztfi: 0<br>---<br>SN: 0.6282%",
          "Alerte: 7<br>Prediction: Other<br>---<br>ztfr: 14 | ztfg: 0 | ztfi: 0<br>---<br>SN: 0.5459%",
          "Alerte: 8<br>Prediction: Other<br>---<br>ztfr: 16 | ztfg: 0 | ztfi: 0<br>---<br>SN: 2.1035%",
          "Alerte: 9<br>Prediction: Other<br>---<br>ztfr: 18 | ztfg: 0 | ztfi: 0<br>---<br>SN: 1.6018%",
          "Alerte: 10<br>Prediction: Other<br>---<br>ztfr: 20 | ztfg: 0 | ztfi: 0<br>---<br>SN: 0.9475%",
          "Alerte: 11<br>Prediction: Other<br>---<br>ztfr: 22 | ztfg: 0 | ztfi: 0<br>---<br>SN: 1.5101%",
          "Alerte: 12<br>Prediction: Other<br>---<br>ztfr: 32 | ztfg: 0 | ztfi: 0<br>---<br>SN: 0.9323%",
          "Alerte: 13<br>Prediction: Other<br>---<br>ztfr: 24 | ztfg: 0 | ztfi: 0<br>---<br>SN: 12.8824%",
          "Alerte: 14<br>Prediction: Other<br>---<br>ztfr: 30 | ztfg: 0 | ztfi: 0<br>---<br>SN: 1.1153%",
          "Alerte: 15<br>Prediction: Other<br>---<br>ztfr: 26 | ztfg: 0 | ztfi: 0<br>---<br>SN: 3.138%",
          "Alerte: 16<br>Prediction: Other<br>---<br>ztfr: 28 | ztfg: 0 | ztfi: 0<br>---<br>SN: 2.8335%",
          "Alerte: 17<br>Prediction: Other<br>---<br>ztfr: 40 | ztfg: 0 | ztfi: 0<br>---<br>SN: 0.6791%",
          "Alerte: 18<br>Prediction: Other<br>---<br>ztfr: 38 | ztfg: 0 | ztfi: 0<br>---<br>SN: 0.67%",
          "Alerte: 19<br>Prediction: Other<br>---<br>ztfr: 42 | ztfg: 0 | ztfi: 0<br>---<br>SN: 0.5152%",
          "Alerte: 20<br>Prediction: Other<br>---<br>ztfr: 34 | ztfg: 0 | ztfi: 0<br>---<br>SN: 1.1371%",
          "Alerte: 21<br>Prediction: Other<br>---<br>ztfr: 36 | ztfg: 0 | ztfi: 0<br>---<br>SN: 0.8054%",
          "Alerte: 22<br>Prediction: Other<br>---<br>ztfr: 48 | ztfg: 0 | ztfi: 0<br>---<br>SN: 6.1923%",
          "Alerte: 23<br>Prediction: SN<br>---<br>ztfr: 46 | ztfg: 0 | ztfi: 0<br>---<br>SN: 81.9267%",
          "Alerte: 24<br>Prediction: Other<br>---<br>ztfr: 44 | ztfg: 0 | ztfi: 0<br>---<br>SN: 0.5716%",
          "Alerte: 25<br>Prediction: Other<br>---<br>ztfr: 50 | ztfg: 0 | ztfi: 0<br>---<br>SN: 0.8586%",
          "Alerte: 26<br>Prediction: Other<br>---<br>ztfr: 58 | ztfg: 0 | ztfi: 0<br>---<br>SN: 1.285%",
          "Alerte: 27<br>Prediction: SN<br>---<br>ztfr: 54 | ztfg: 0 | ztfi: 0<br>---<br>SN: 97.2055%",
          "Alerte: 28<br>Prediction: Other<br>---<br>ztfr: 60 | ztfg: 0 | ztfi: 0<br>---<br>SN: 1.2738%",
          "Alerte: 29<br>Prediction: SN<br>---<br>ztfr: 56 | ztfg: 0 | ztfi: 0<br>---<br>SN: 62.8697%",
          "Alerte: 30<br>Prediction: Other<br>---<br>ztfr: 52 | ztfg: 0 | ztfi: 0<br>---<br>SN: 1.9774%",
          "Alerte: 31<br>Prediction: Other<br>---<br>ztfr: 62 | ztfg: 0 | ztfi: 0<br>---<br>SN: 0.8123%",
          "Alerte: 32<br>Prediction: SN<br>---<br>ztfr: 64 | ztfg: 0 | ztfi: 0<br>---<br>SN: 93.284%",
          "Alerte: 33<br>Prediction: Other<br>---<br>ztfr: 68 | ztfg: 0 | ztfi: 0<br>---<br>SN: 1.1884%",
          "Alerte: 34<br>Prediction: Other<br>---<br>ztfr: 66 | ztfg: 0 | ztfi: 0<br>---<br>SN: 40.3245%",
          "Alerte: 35<br>Prediction: Other<br>---<br>ztfr: 72 | ztfg: 0 | ztfi: 0<br>---<br>SN: 12.2085%",
          "Alerte: 36<br>Prediction: Other<br>---<br>ztfr: 74 | ztfg: 0 | ztfi: 0<br>---<br>SN: 2.7335%",
          "Alerte: 37<br>Prediction: Other<br>---<br>ztfr: 70 | ztfg: 0 | ztfi: 0<br>---<br>SN: 3.4435%",
          "Alerte: 38<br>Prediction: Other<br>---<br>ztfr: 82 | ztfg: 0 | ztfi: 0<br>---<br>SN: 20.7234%",
          "Alerte: 39<br>Prediction: Other<br>---<br>ztfr: 76 | ztfg: 0 | ztfi: 0<br>---<br>SN: 5.4817%",
          "Alerte: 40<br>Prediction: Other<br>---<br>ztfr: 78 | ztfg: 0 | ztfi: 0<br>---<br>SN: 17.401%",
          "Alerte: 41<br>Prediction: Other<br>---<br>ztfr: 84 | ztfg: 0 | ztfi: 0<br>---<br>SN: 12.8379%",
          "Alerte: 42<br>Prediction: Other<br>---<br>ztfr: 80 | ztfg: 0 | ztfi: 0<br>---<br>SN: 41.2923%",
          "Alerte: 43<br>Prediction: Other<br>---<br>ztfr: 86 | ztfg: 0 | ztfi: 0<br>---<br>SN: 7.4288%",
          "Alerte: 44<br>Prediction: Other<br>---<br>ztfr: 90 | ztfg: 0 | ztfi: 0<br>---<br>SN: 35.8171%",
          "Alerte: 45<br>Prediction: Other<br>---<br>ztfr: 88 | ztfg: 0 | ztfi: 0<br>---<br>SN: 6.0005%",
          "Alerte: 46<br>Prediction: Other<br>---<br>ztfr: 104 | ztfg: 0 | ztfi: 0<br>---<br>SN: 37.2309%",
          "Alerte: 47<br>Prediction: Other<br>---<br>ztfr: 96 | ztfg: 0 | ztfi: 0<br>---<br>SN: 17.6823%",
          "Alerte: 48<br>Prediction: Other<br>---<br>ztfr: 100 | ztfg: 0 | ztfi: 0<br>---<br>SN: 26.9379%",
          "Alerte: 49<br>Prediction: Other<br>---<br>ztfr: 98 | ztfg: 0 | ztfi: 0<br>---<br>SN: 24.0209%",
          "Alerte: 50<br>Prediction: Other<br>---<br>ztfr: 94 | ztfg: 0 | ztfi: 0<br>---<br>SN: 11.7027%",
          "Alerte: 51<br>Prediction: Other<br>---<br>ztfr: 92 | ztfg: 0 | ztfi: 0<br>---<br>SN: 12.1451%",
          "Alerte: 52<br>Prediction: Other<br>---<br>ztfr: 102 | ztfg: 0 | ztfi: 0<br>---<br>SN: 34.7779%",
          "Alerte: 53<br>Prediction: SN<br>---<br>ztfr: 106 | ztfg: 0 | ztfi: 0<br>---<br>SN: 57.559%",
          "Alerte: 54<br>Prediction: Other<br>---<br>ztfr: 108 | ztfg: 0 | ztfi: 0<br>---<br>SN: 9.1848%",
          "Alerte: 55<br>Prediction: Other<br>---<br>ztfr: 114 | ztfg: 0 | ztfi: 0<br>---<br>SN: 14.5675%",
          "Alerte: 56<br>Prediction: Other<br>---<br>ztfr: 110 | ztfg: 0 | ztfi: 0<br>---<br>SN: 5.2571%",
          "Alerte: 57<br>Prediction: Other<br>---<br>ztfr: 112 | ztfg: 0 | ztfi: 0<br>---<br>SN: 7.9645%",
          "Alerte: 58<br>Prediction: Other<br>---<br>ztfr: 116 | ztfg: 0 | ztfi: 0<br>---<br>SN: 14.8484%",
          "Alerte: 59<br>Prediction: Other<br>---<br>ztfr: 124 | ztfg: 0 | ztfi: 0<br>---<br>SN: 12.459%",
          "Alerte: 60<br>Prediction: Other<br>---<br>ztfr: 118 | ztfg: 0 | ztfi: 0<br>---<br>SN: 15.0393%",
          "Alerte: 61<br>Prediction: Other<br>---<br>ztfr: 122 | ztfg: 0 | ztfi: 0<br>---<br>SN: 13.5456%",
          "Alerte: 62<br>Prediction: Other<br>---<br>ztfr: 120 | ztfg: 0 | ztfi: 0<br>---<br>SN: 16.3659%",
          "Alerte: 63<br>Prediction: Other<br>---<br>ztfr: 130 | ztfg: 0 | ztfi: 0<br>---<br>SN: 15.6921%",
          "Alerte: 64<br>Prediction: Other<br>---<br>ztfr: 134 | ztfg: 0 | ztfi: 0<br>---<br>SN: 18.5317%",
          "Alerte: 65<br>Prediction: Other<br>---<br>ztfr: 128 | ztfg: 0 | ztfi: 0<br>---<br>SN: 7.3199%",
          "Alerte: 66<br>Prediction: Other<br>---<br>ztfr: 132 | ztfg: 0 | ztfi: 0<br>---<br>SN: 14.2356%",
          "Alerte: 67<br>Prediction: Other<br>---<br>ztfr: 126 | ztfg: 0 | ztfi: 0<br>---<br>SN: 16.1896%",
          "Alerte: 68<br>Prediction: Other<br>---<br>ztfr: 136 | ztfg: 0 | ztfi: 0<br>---<br>SN: 18.1968%",
          "Alerte: 69<br>Prediction: Other<br>---<br>ztfr: 138 | ztfg: 0 | ztfi: 0<br>---<br>SN: 19.8746%",
          "Alerte: 70<br>Prediction: Other<br>---<br>ztfr: 140 | ztfg: 0 | ztfi: 0<br>---<br>SN: 20.0279%",
          "Alerte: 71<br>Prediction: Other<br>---<br>ztfr: 142 | ztfg: 0 | ztfi: 0<br>---<br>SN: 27.1183%",
          "Alerte: 72<br>Prediction: Other<br>---<br>ztfr: 144 | ztfg: 0 | ztfi: 0<br>---<br>SN: 25.387%",
          "Alerte: 73<br>Prediction: Other<br>---<br>ztfr: 146 | ztfg: 0 | ztfi: 0<br>---<br>SN: 29.0589%",
          "Alerte: 74<br>Prediction: Other<br>---<br>ztfr: 148 | ztfg: 0 | ztfi: 0<br>---<br>SN: 41.8775%",
          "Alerte: 75<br>Prediction: SN<br>---<br>ztfr: 150 | ztfg: 0 | ztfi: 0<br>---<br>SN: 98.1794%",
          "Alerte: 76<br>Prediction: SN<br>---<br>ztfr: 154 | ztfg: 0 | ztfi: 0<br>---<br>SN: 97.3598%",
          "Alerte: 77<br>Prediction: SN<br>---<br>ztfr: 152 | ztfg: 0 | ztfi: 0<br>---<br>SN: 98.4122%",
          "Alerte: 78<br>Prediction: SN<br>---<br>ztfr: 156 | ztfg: 0 | ztfi: 0<br>---<br>SN: 97.2631%",
          "Alerte: 79<br>Prediction: SN<br>---<br>ztfr: 160 | ztfg: 0 | ztfi: 0<br>---<br>SN: 99.2017%",
          "Alerte: 80<br>Prediction: SN<br>---<br>ztfr: 158 | ztfg: 0 | ztfi: 0<br>---<br>SN: 99.0405%",
          "Alerte: 81<br>Prediction: SN<br>---<br>ztfr: 164 | ztfg: 0 | ztfi: 0<br>---<br>SN: 99.2307%",
          "Alerte: 82<br>Prediction: SN<br>---<br>ztfr: 162 | ztfg: 0 | ztfi: 0<br>---<br>SN: 99.2368%",
          "Alerte: 83<br>Prediction: SN<br>---<br>ztfr: 166 | ztfg: 0 | ztfi: 0<br>---<br>SN: 99.2116%",
          "Alerte: 84<br>Prediction: SN<br>---<br>ztfr: 174 | ztfg: 0 | ztfi: 0<br>---<br>SN: 99.2607%",
          "Alerte: 85<br>Prediction: SN<br>---<br>ztfr: 172 | ztfg: 0 | ztfi: 0<br>---<br>SN: 99.1091%",
          "Alerte: 86<br>Prediction: SN<br>---<br>ztfr: 170 | ztfg: 0 | ztfi: 0<br>---<br>SN: 99.2174%",
          "Alerte: 87<br>Prediction: SN<br>---<br>ztfr: 168 | ztfg: 0 | ztfi: 0<br>---<br>SN: 99.1542%",
          "Alerte: 88<br>Prediction: SN<br>---<br>ztfr: 176 | ztfg: 0 | ztfi: 0<br>---<br>SN: 99.1842%",
          "Alerte: 89<br>Prediction: SN<br>---<br>ztfr: 178 | ztfg: 0 | ztfi: 0<br>---<br>SN: 99.4056%",
          "Alerte: 90<br>Prediction: SN<br>---<br>ztfr: 180 | ztfg: 0 | ztfi: 0<br>---<br>SN: 99.4193%",
          "Alerte: 91<br>Prediction: SN<br>---<br>ztfr: 184 | ztfg: 0 | ztfi: 0<br>---<br>SN: 99.3809%",
          "Alerte: 92<br>Prediction: SN<br>---<br>ztfr: 182 | ztfg: 0 | ztfi: 0<br>---<br>SN: 99.2307%",
          "Alerte: 93<br>Prediction: SN<br>---<br>ztfr: 186 | ztfg: 0 | ztfi: 0<br>---<br>SN: 98.3072%",
          "Alerte: 94<br>Prediction: SN<br>---<br>ztfr: 190 | ztfg: 0 | ztfi: 0<br>---<br>SN: 98.8518%",
          "Alerte: 95<br>Prediction: SN<br>---<br>ztfr: 188 | ztfg: 0 | ztfi: 0<br>---<br>SN: 99.2905%",
          "Alerte: 96<br>Prediction: SN<br>---<br>ztfr: 192 | ztfg: 0 | ztfi: 0<br>---<br>SN: 99.353%",
          "Alerte: 97<br>Prediction: Other<br>---<br>ztfr: 194 | ztfg: 0 | ztfi: 0<br>---<br>SN: 20.7178%",
          "Alerte: 98<br>Prediction: SN<br>---<br>ztfr: 197 | ztfg: 1 | ztfi: 0<br>---<br>SN: 56.7659%"
         ],
         "type": "scatter",
         "x": [
          2,
          3,
          4,
          5,
          6,
          7,
          8,
          9,
          10,
          11,
          12,
          13,
          14,
          15,
          16,
          17,
          18,
          19,
          20,
          21,
          22,
          23,
          24,
          25,
          26,
          27,
          28,
          29,
          30,
          31,
          32,
          33,
          34,
          35,
          36,
          37,
          38,
          39,
          40,
          41,
          42,
          43,
          44,
          45,
          46,
          47,
          48,
          49,
          50,
          51,
          52,
          53,
          54,
          55,
          56,
          57,
          58,
          59,
          60,
          61,
          62,
          63,
          64,
          65,
          66,
          67,
          68,
          69,
          70,
          71,
          72,
          73,
          74,
          75,
          76,
          77,
          78,
          79,
          80,
          81,
          82,
          83,
          84,
          85,
          86,
          87,
          88,
          89,
          90,
          91,
          92,
          93,
          94,
          95,
          96,
          97,
          98
         ],
         "y": [
          1.0000454187393188,
          1.0000916719436646,
          1.0001078844070435,
          1.0001252889633179,
          1.0000680685043335,
          1.0001142024993896,
          0.9979544878005981,
          0.9985479712486267,
          0.999119222164154,
          0.9975529313087463,
          0.9994456768035889,
          0.9767742156982422,
          0.9993342161178589,
          0.9974120855331421,
          0.9975586533546448,
          0.9997815489768982,
          0.9997782111167908,
          0.9998196959495544,
          0.9993811845779419,
          0.9996999502182007,
          0.9945072531700134,
          1.0005383491516113,
          0.9997537136077881,
          0.9993405938148499,
          0.9999367594718933,
          1.000095248222351,
          0.9999839663505554,
          1.0025463104248047,
          0.997489333152771,
          1.000012755393982,
          1.0007221698760986,
          0.9997225999832153,
          0.9955993890762329,
          0.9882760047912598,
          0.9980369806289673,
          0.9986200332641602,
          0.9842401742935181,
          0.9959607720375061,
          0.9870668649673462,
          0.989620566368103,
          0.9785904884338379,
          0.9940816164016724,
          0.9800900220870972,
          0.9953491687774658,
          0.9748541116714478,
          0.9885254502296448,
          0.9804477691650391,
          0.9829028248786926,
          0.993257999420166,
          0.9923237562179565,
          0.9761223793029785,
          0.9729989171028137,
          1.0002245903015137,
          0.9994354248046875,
          1.0011385679244995,
          1.000913381576538,
          0.9994122982025146,
          1.000544548034668,
          0.999584436416626,
          1.0000598430633545,
          0.9996923208236694,
          1.006533145904541,
          1.0071848630905151,
          1.003819465637207,
          1.0064775943756104,
          1.0007610321044922,
          1.0075711011886597,
          1.0079998970031738,
          1.008614182472229,
          1.0093886852264404,
          1.0098590850830078,
          1.01096773147583,
          0.9990073442459106,
          0.9999203085899353,
          0.9997287392616272,
          0.999783456325531,
          0.9997109770774841,
          0.9998164176940918,
          0.9998460412025452,
          0.9997992515563965,
          0.9998028874397278,
          0.9997925758361816,
          0.99980229139328,
          0.9997618794441223,
          0.9997953176498413,
          0.9997756481170654,
          0.9997773766517639,
          0.9997969269752502,
          0.9997947812080383,
          0.9997773170471191,
          0.9997225999832153,
          0.9993683695793152,
          0.9995408058166504,
          0.9997405409812927,
          0.9997506141662598,
          0.9852305054664612,
          0.9570926427841187
         ]
        }
       ],
       "layout": {
        "hovermode": "x unified",
        "template": {
         "data": {
          "bar": [
           {
            "error_x": {
             "color": "#2a3f5f"
            },
            "error_y": {
             "color": "#2a3f5f"
            },
            "marker": {
             "line": {
              "color": "#E5ECF6",
              "width": 0.5
             },
             "pattern": {
              "fillmode": "overlay",
              "size": 10,
              "solidity": 0.2
             }
            },
            "type": "bar"
           }
          ],
          "barpolar": [
           {
            "marker": {
             "line": {
              "color": "#E5ECF6",
              "width": 0.5
             },
             "pattern": {
              "fillmode": "overlay",
              "size": 10,
              "solidity": 0.2
             }
            },
            "type": "barpolar"
           }
          ],
          "carpet": [
           {
            "aaxis": {
             "endlinecolor": "#2a3f5f",
             "gridcolor": "white",
             "linecolor": "white",
             "minorgridcolor": "white",
             "startlinecolor": "#2a3f5f"
            },
            "baxis": {
             "endlinecolor": "#2a3f5f",
             "gridcolor": "white",
             "linecolor": "white",
             "minorgridcolor": "white",
             "startlinecolor": "#2a3f5f"
            },
            "type": "carpet"
           }
          ],
          "choropleth": [
           {
            "colorbar": {
             "outlinewidth": 0,
             "ticks": ""
            },
            "type": "choropleth"
           }
          ],
          "contour": [
           {
            "colorbar": {
             "outlinewidth": 0,
             "ticks": ""
            },
            "colorscale": [
             [
              0,
              "#0d0887"
             ],
             [
              0.1111111111111111,
              "#46039f"
             ],
             [
              0.2222222222222222,
              "#7201a8"
             ],
             [
              0.3333333333333333,
              "#9c179e"
             ],
             [
              0.4444444444444444,
              "#bd3786"
             ],
             [
              0.5555555555555556,
              "#d8576b"
             ],
             [
              0.6666666666666666,
              "#ed7953"
             ],
             [
              0.7777777777777778,
              "#fb9f3a"
             ],
             [
              0.8888888888888888,
              "#fdca26"
             ],
             [
              1,
              "#f0f921"
             ]
            ],
            "type": "contour"
           }
          ],
          "contourcarpet": [
           {
            "colorbar": {
             "outlinewidth": 0,
             "ticks": ""
            },
            "type": "contourcarpet"
           }
          ],
          "heatmap": [
           {
            "colorbar": {
             "outlinewidth": 0,
             "ticks": ""
            },
            "colorscale": [
             [
              0,
              "#0d0887"
             ],
             [
              0.1111111111111111,
              "#46039f"
             ],
             [
              0.2222222222222222,
              "#7201a8"
             ],
             [
              0.3333333333333333,
              "#9c179e"
             ],
             [
              0.4444444444444444,
              "#bd3786"
             ],
             [
              0.5555555555555556,
              "#d8576b"
             ],
             [
              0.6666666666666666,
              "#ed7953"
             ],
             [
              0.7777777777777778,
              "#fb9f3a"
             ],
             [
              0.8888888888888888,
              "#fdca26"
             ],
             [
              1,
              "#f0f921"
             ]
            ],
            "type": "heatmap"
           }
          ],
          "heatmapgl": [
           {
            "colorbar": {
             "outlinewidth": 0,
             "ticks": ""
            },
            "colorscale": [
             [
              0,
              "#0d0887"
             ],
             [
              0.1111111111111111,
              "#46039f"
             ],
             [
              0.2222222222222222,
              "#7201a8"
             ],
             [
              0.3333333333333333,
              "#9c179e"
             ],
             [
              0.4444444444444444,
              "#bd3786"
             ],
             [
              0.5555555555555556,
              "#d8576b"
             ],
             [
              0.6666666666666666,
              "#ed7953"
             ],
             [
              0.7777777777777778,
              "#fb9f3a"
             ],
             [
              0.8888888888888888,
              "#fdca26"
             ],
             [
              1,
              "#f0f921"
             ]
            ],
            "type": "heatmapgl"
           }
          ],
          "histogram": [
           {
            "marker": {
             "pattern": {
              "fillmode": "overlay",
              "size": 10,
              "solidity": 0.2
             }
            },
            "type": "histogram"
           }
          ],
          "histogram2d": [
           {
            "colorbar": {
             "outlinewidth": 0,
             "ticks": ""
            },
            "colorscale": [
             [
              0,
              "#0d0887"
             ],
             [
              0.1111111111111111,
              "#46039f"
             ],
             [
              0.2222222222222222,
              "#7201a8"
             ],
             [
              0.3333333333333333,
              "#9c179e"
             ],
             [
              0.4444444444444444,
              "#bd3786"
             ],
             [
              0.5555555555555556,
              "#d8576b"
             ],
             [
              0.6666666666666666,
              "#ed7953"
             ],
             [
              0.7777777777777778,
              "#fb9f3a"
             ],
             [
              0.8888888888888888,
              "#fdca26"
             ],
             [
              1,
              "#f0f921"
             ]
            ],
            "type": "histogram2d"
           }
          ],
          "histogram2dcontour": [
           {
            "colorbar": {
             "outlinewidth": 0,
             "ticks": ""
            },
            "colorscale": [
             [
              0,
              "#0d0887"
             ],
             [
              0.1111111111111111,
              "#46039f"
             ],
             [
              0.2222222222222222,
              "#7201a8"
             ],
             [
              0.3333333333333333,
              "#9c179e"
             ],
             [
              0.4444444444444444,
              "#bd3786"
             ],
             [
              0.5555555555555556,
              "#d8576b"
             ],
             [
              0.6666666666666666,
              "#ed7953"
             ],
             [
              0.7777777777777778,
              "#fb9f3a"
             ],
             [
              0.8888888888888888,
              "#fdca26"
             ],
             [
              1,
              "#f0f921"
             ]
            ],
            "type": "histogram2dcontour"
           }
          ],
          "mesh3d": [
           {
            "colorbar": {
             "outlinewidth": 0,
             "ticks": ""
            },
            "type": "mesh3d"
           }
          ],
          "parcoords": [
           {
            "line": {
             "colorbar": {
              "outlinewidth": 0,
              "ticks": ""
             }
            },
            "type": "parcoords"
           }
          ],
          "pie": [
           {
            "automargin": true,
            "type": "pie"
           }
          ],
          "scatter": [
           {
            "fillpattern": {
             "fillmode": "overlay",
             "size": 10,
             "solidity": 0.2
            },
            "type": "scatter"
           }
          ],
          "scatter3d": [
           {
            "line": {
             "colorbar": {
              "outlinewidth": 0,
              "ticks": ""
             }
            },
            "marker": {
             "colorbar": {
              "outlinewidth": 0,
              "ticks": ""
             }
            },
            "type": "scatter3d"
           }
          ],
          "scattercarpet": [
           {
            "marker": {
             "colorbar": {
              "outlinewidth": 0,
              "ticks": ""
             }
            },
            "type": "scattercarpet"
           }
          ],
          "scattergeo": [
           {
            "marker": {
             "colorbar": {
              "outlinewidth": 0,
              "ticks": ""
             }
            },
            "type": "scattergeo"
           }
          ],
          "scattergl": [
           {
            "marker": {
             "colorbar": {
              "outlinewidth": 0,
              "ticks": ""
             }
            },
            "type": "scattergl"
           }
          ],
          "scattermapbox": [
           {
            "marker": {
             "colorbar": {
              "outlinewidth": 0,
              "ticks": ""
             }
            },
            "type": "scattermapbox"
           }
          ],
          "scatterpolar": [
           {
            "marker": {
             "colorbar": {
              "outlinewidth": 0,
              "ticks": ""
             }
            },
            "type": "scatterpolar"
           }
          ],
          "scatterpolargl": [
           {
            "marker": {
             "colorbar": {
              "outlinewidth": 0,
              "ticks": ""
             }
            },
            "type": "scatterpolargl"
           }
          ],
          "scatterternary": [
           {
            "marker": {
             "colorbar": {
              "outlinewidth": 0,
              "ticks": ""
             }
            },
            "type": "scatterternary"
           }
          ],
          "surface": [
           {
            "colorbar": {
             "outlinewidth": 0,
             "ticks": ""
            },
            "colorscale": [
             [
              0,
              "#0d0887"
             ],
             [
              0.1111111111111111,
              "#46039f"
             ],
             [
              0.2222222222222222,
              "#7201a8"
             ],
             [
              0.3333333333333333,
              "#9c179e"
             ],
             [
              0.4444444444444444,
              "#bd3786"
             ],
             [
              0.5555555555555556,
              "#d8576b"
             ],
             [
              0.6666666666666666,
              "#ed7953"
             ],
             [
              0.7777777777777778,
              "#fb9f3a"
             ],
             [
              0.8888888888888888,
              "#fdca26"
             ],
             [
              1,
              "#f0f921"
             ]
            ],
            "type": "surface"
           }
          ],
          "table": [
           {
            "cells": {
             "fill": {
              "color": "#EBF0F8"
             },
             "line": {
              "color": "white"
             }
            },
            "header": {
             "fill": {
              "color": "#C8D4E3"
             },
             "line": {
              "color": "white"
             }
            },
            "type": "table"
           }
          ]
         },
         "layout": {
          "annotationdefaults": {
           "arrowcolor": "#2a3f5f",
           "arrowhead": 0,
           "arrowwidth": 1
          },
          "autotypenumbers": "strict",
          "coloraxis": {
           "colorbar": {
            "outlinewidth": 0,
            "ticks": ""
           }
          },
          "colorscale": {
           "diverging": [
            [
             0,
             "#8e0152"
            ],
            [
             0.1,
             "#c51b7d"
            ],
            [
             0.2,
             "#de77ae"
            ],
            [
             0.3,
             "#f1b6da"
            ],
            [
             0.4,
             "#fde0ef"
            ],
            [
             0.5,
             "#f7f7f7"
            ],
            [
             0.6,
             "#e6f5d0"
            ],
            [
             0.7,
             "#b8e186"
            ],
            [
             0.8,
             "#7fbc41"
            ],
            [
             0.9,
             "#4d9221"
            ],
            [
             1,
             "#276419"
            ]
           ],
           "sequential": [
            [
             0,
             "#0d0887"
            ],
            [
             0.1111111111111111,
             "#46039f"
            ],
            [
             0.2222222222222222,
             "#7201a8"
            ],
            [
             0.3333333333333333,
             "#9c179e"
            ],
            [
             0.4444444444444444,
             "#bd3786"
            ],
            [
             0.5555555555555556,
             "#d8576b"
            ],
            [
             0.6666666666666666,
             "#ed7953"
            ],
            [
             0.7777777777777778,
             "#fb9f3a"
            ],
            [
             0.8888888888888888,
             "#fdca26"
            ],
            [
             1,
             "#f0f921"
            ]
           ],
           "sequentialminus": [
            [
             0,
             "#0d0887"
            ],
            [
             0.1111111111111111,
             "#46039f"
            ],
            [
             0.2222222222222222,
             "#7201a8"
            ],
            [
             0.3333333333333333,
             "#9c179e"
            ],
            [
             0.4444444444444444,
             "#bd3786"
            ],
            [
             0.5555555555555556,
             "#d8576b"
            ],
            [
             0.6666666666666666,
             "#ed7953"
            ],
            [
             0.7777777777777778,
             "#fb9f3a"
            ],
            [
             0.8888888888888888,
             "#fdca26"
            ],
            [
             1,
             "#f0f921"
            ]
           ]
          },
          "colorway": [
           "#636efa",
           "#EF553B",
           "#00cc96",
           "#ab63fa",
           "#FFA15A",
           "#19d3f3",
           "#FF6692",
           "#B6E880",
           "#FF97FF",
           "#FECB52"
          ],
          "font": {
           "color": "#2a3f5f"
          },
          "geo": {
           "bgcolor": "white",
           "lakecolor": "white",
           "landcolor": "#E5ECF6",
           "showlakes": true,
           "showland": true,
           "subunitcolor": "white"
          },
          "hoverlabel": {
           "align": "left"
          },
          "hovermode": "closest",
          "mapbox": {
           "style": "light"
          },
          "paper_bgcolor": "white",
          "plot_bgcolor": "#E5ECF6",
          "polar": {
           "angularaxis": {
            "gridcolor": "white",
            "linecolor": "white",
            "ticks": ""
           },
           "bgcolor": "#E5ECF6",
           "radialaxis": {
            "gridcolor": "white",
            "linecolor": "white",
            "ticks": ""
           }
          },
          "scene": {
           "xaxis": {
            "backgroundcolor": "#E5ECF6",
            "gridcolor": "white",
            "gridwidth": 2,
            "linecolor": "white",
            "showbackground": true,
            "ticks": "",
            "zerolinecolor": "white"
           },
           "yaxis": {
            "backgroundcolor": "#E5ECF6",
            "gridcolor": "white",
            "gridwidth": 2,
            "linecolor": "white",
            "showbackground": true,
            "ticks": "",
            "zerolinecolor": "white"
           },
           "zaxis": {
            "backgroundcolor": "#E5ECF6",
            "gridcolor": "white",
            "gridwidth": 2,
            "linecolor": "white",
            "showbackground": true,
            "ticks": "",
            "zerolinecolor": "white"
           }
          },
          "shapedefaults": {
           "line": {
            "color": "#2a3f5f"
           }
          },
          "ternary": {
           "aaxis": {
            "gridcolor": "white",
            "linecolor": "white",
            "ticks": ""
           },
           "baxis": {
            "gridcolor": "white",
            "linecolor": "white",
            "ticks": ""
           },
           "bgcolor": "#E5ECF6",
           "caxis": {
            "gridcolor": "white",
            "linecolor": "white",
            "ticks": ""
           }
          },
          "title": {
           "x": 0.05
          },
          "xaxis": {
           "automargin": true,
           "gridcolor": "white",
           "linecolor": "white",
           "ticks": "",
           "title": {
            "standoff": 15
           },
           "zerolinecolor": "white",
           "zerolinewidth": 2
          },
          "yaxis": {
           "automargin": true,
           "gridcolor": "white",
           "linecolor": "white",
           "ticks": "",
           "title": {
            "standoff": 15
           },
           "zerolinecolor": "white",
           "zerolinewidth": 2
          }
         }
        },
        "title": {
         "text": "Supernova Classification Over Time"
        },
        "xaxis": {
         "title": {
          "text": "Alertes"
         }
        },
        "yaxis": {
         "range": [
          0,
          1
         ],
         "title": {
          "text": "Probability"
         }
        }
       }
      }
     },
     "metadata": {},
     "output_type": "display_data"
    },
    {
     "name": "stdout",
     "output_type": "stream",
     "text": [
      "Type 1: 69, Type 2: 28\n",
      "The object is a Other\n",
      "Type 1: 62.440635681152344, Type 2: 34.27981185913086\n",
      "Final prediction: Other\n",
      "       objectId true_class  nb_predictions_type_1  nb_predictions_type_2  \\\n",
      "0  ZTF17aaaeqms          -                     69                     28   \n",
      "\n",
      "   nb_type_1  nb_type_2  last_type_1_prediction  last_type_2_prediction  \\\n",
      "0  62.440636  34.279812                0.389433                0.567659   \n",
      "\n",
      "  final_prediction_by_counts final_prediction_by_sum  \n",
      "0                      Other                   Other  \n",
      "True class: -\n"
     ]
    },
    {
     "name": "stderr",
     "output_type": "stream",
     "text": [
      "Processing alerts:   7%|▋         | 2/27 [00:00<00:01, 14.13it/s]\n"
     ]
    },
    {
     "name": "stdout",
     "output_type": "stream",
     "text": [
      "\u001b[1m1/1\u001b[0m \u001b[32m━━━━━━━━━━━━━━━━━━━━\u001b[0m\u001b[37m\u001b[0m \u001b[1m0s\u001b[0m 28ms/step\n"
     ]
    },
    {
     "data": {
      "application/vnd.plotly.v1+json": {
       "config": {
        "plotlyServerURL": "https://plot.ly"
       },
       "data": [
        {
         "fill": "tozeroy",
         "fillcolor": "orange",
         "hoverinfo": "text",
         "mode": "none",
         "name": "Other",
         "text": [
          "<br>Other: 35.0848%",
          "<br>Other: 68.9461%"
         ],
         "type": "scatter",
         "x": [
          25,
          26
         ],
         "y": [
          0.3508484363555908,
          0.6894608736038208
         ]
        },
        {
         "fill": "tonexty",
         "fillcolor": "blue",
         "hoverinfo": "text",
         "mode": "none",
         "name": "SN",
         "text": [
          "Alerte: 25<br>Prediction: SN<br>---<br>ztfr: 2 | ztfg: 3 | ztfi: 0<br>---<br>SN: 64.6835%",
          "Alerte: 26<br>Prediction: Other<br>---<br>ztfr: 4 | ztfg: 3 | ztfi: 0<br>---<br>SN: 30.6375%"
         ],
         "type": "scatter",
         "x": [
          25,
          26
         ],
         "y": [
          0.9976834058761597,
          0.9958360195159912
         ]
        }
       ],
       "layout": {
        "hovermode": "x unified",
        "template": {
         "data": {
          "bar": [
           {
            "error_x": {
             "color": "#2a3f5f"
            },
            "error_y": {
             "color": "#2a3f5f"
            },
            "marker": {
             "line": {
              "color": "#E5ECF6",
              "width": 0.5
             },
             "pattern": {
              "fillmode": "overlay",
              "size": 10,
              "solidity": 0.2
             }
            },
            "type": "bar"
           }
          ],
          "barpolar": [
           {
            "marker": {
             "line": {
              "color": "#E5ECF6",
              "width": 0.5
             },
             "pattern": {
              "fillmode": "overlay",
              "size": 10,
              "solidity": 0.2
             }
            },
            "type": "barpolar"
           }
          ],
          "carpet": [
           {
            "aaxis": {
             "endlinecolor": "#2a3f5f",
             "gridcolor": "white",
             "linecolor": "white",
             "minorgridcolor": "white",
             "startlinecolor": "#2a3f5f"
            },
            "baxis": {
             "endlinecolor": "#2a3f5f",
             "gridcolor": "white",
             "linecolor": "white",
             "minorgridcolor": "white",
             "startlinecolor": "#2a3f5f"
            },
            "type": "carpet"
           }
          ],
          "choropleth": [
           {
            "colorbar": {
             "outlinewidth": 0,
             "ticks": ""
            },
            "type": "choropleth"
           }
          ],
          "contour": [
           {
            "colorbar": {
             "outlinewidth": 0,
             "ticks": ""
            },
            "colorscale": [
             [
              0,
              "#0d0887"
             ],
             [
              0.1111111111111111,
              "#46039f"
             ],
             [
              0.2222222222222222,
              "#7201a8"
             ],
             [
              0.3333333333333333,
              "#9c179e"
             ],
             [
              0.4444444444444444,
              "#bd3786"
             ],
             [
              0.5555555555555556,
              "#d8576b"
             ],
             [
              0.6666666666666666,
              "#ed7953"
             ],
             [
              0.7777777777777778,
              "#fb9f3a"
             ],
             [
              0.8888888888888888,
              "#fdca26"
             ],
             [
              1,
              "#f0f921"
             ]
            ],
            "type": "contour"
           }
          ],
          "contourcarpet": [
           {
            "colorbar": {
             "outlinewidth": 0,
             "ticks": ""
            },
            "type": "contourcarpet"
           }
          ],
          "heatmap": [
           {
            "colorbar": {
             "outlinewidth": 0,
             "ticks": ""
            },
            "colorscale": [
             [
              0,
              "#0d0887"
             ],
             [
              0.1111111111111111,
              "#46039f"
             ],
             [
              0.2222222222222222,
              "#7201a8"
             ],
             [
              0.3333333333333333,
              "#9c179e"
             ],
             [
              0.4444444444444444,
              "#bd3786"
             ],
             [
              0.5555555555555556,
              "#d8576b"
             ],
             [
              0.6666666666666666,
              "#ed7953"
             ],
             [
              0.7777777777777778,
              "#fb9f3a"
             ],
             [
              0.8888888888888888,
              "#fdca26"
             ],
             [
              1,
              "#f0f921"
             ]
            ],
            "type": "heatmap"
           }
          ],
          "heatmapgl": [
           {
            "colorbar": {
             "outlinewidth": 0,
             "ticks": ""
            },
            "colorscale": [
             [
              0,
              "#0d0887"
             ],
             [
              0.1111111111111111,
              "#46039f"
             ],
             [
              0.2222222222222222,
              "#7201a8"
             ],
             [
              0.3333333333333333,
              "#9c179e"
             ],
             [
              0.4444444444444444,
              "#bd3786"
             ],
             [
              0.5555555555555556,
              "#d8576b"
             ],
             [
              0.6666666666666666,
              "#ed7953"
             ],
             [
              0.7777777777777778,
              "#fb9f3a"
             ],
             [
              0.8888888888888888,
              "#fdca26"
             ],
             [
              1,
              "#f0f921"
             ]
            ],
            "type": "heatmapgl"
           }
          ],
          "histogram": [
           {
            "marker": {
             "pattern": {
              "fillmode": "overlay",
              "size": 10,
              "solidity": 0.2
             }
            },
            "type": "histogram"
           }
          ],
          "histogram2d": [
           {
            "colorbar": {
             "outlinewidth": 0,
             "ticks": ""
            },
            "colorscale": [
             [
              0,
              "#0d0887"
             ],
             [
              0.1111111111111111,
              "#46039f"
             ],
             [
              0.2222222222222222,
              "#7201a8"
             ],
             [
              0.3333333333333333,
              "#9c179e"
             ],
             [
              0.4444444444444444,
              "#bd3786"
             ],
             [
              0.5555555555555556,
              "#d8576b"
             ],
             [
              0.6666666666666666,
              "#ed7953"
             ],
             [
              0.7777777777777778,
              "#fb9f3a"
             ],
             [
              0.8888888888888888,
              "#fdca26"
             ],
             [
              1,
              "#f0f921"
             ]
            ],
            "type": "histogram2d"
           }
          ],
          "histogram2dcontour": [
           {
            "colorbar": {
             "outlinewidth": 0,
             "ticks": ""
            },
            "colorscale": [
             [
              0,
              "#0d0887"
             ],
             [
              0.1111111111111111,
              "#46039f"
             ],
             [
              0.2222222222222222,
              "#7201a8"
             ],
             [
              0.3333333333333333,
              "#9c179e"
             ],
             [
              0.4444444444444444,
              "#bd3786"
             ],
             [
              0.5555555555555556,
              "#d8576b"
             ],
             [
              0.6666666666666666,
              "#ed7953"
             ],
             [
              0.7777777777777778,
              "#fb9f3a"
             ],
             [
              0.8888888888888888,
              "#fdca26"
             ],
             [
              1,
              "#f0f921"
             ]
            ],
            "type": "histogram2dcontour"
           }
          ],
          "mesh3d": [
           {
            "colorbar": {
             "outlinewidth": 0,
             "ticks": ""
            },
            "type": "mesh3d"
           }
          ],
          "parcoords": [
           {
            "line": {
             "colorbar": {
              "outlinewidth": 0,
              "ticks": ""
             }
            },
            "type": "parcoords"
           }
          ],
          "pie": [
           {
            "automargin": true,
            "type": "pie"
           }
          ],
          "scatter": [
           {
            "fillpattern": {
             "fillmode": "overlay",
             "size": 10,
             "solidity": 0.2
            },
            "type": "scatter"
           }
          ],
          "scatter3d": [
           {
            "line": {
             "colorbar": {
              "outlinewidth": 0,
              "ticks": ""
             }
            },
            "marker": {
             "colorbar": {
              "outlinewidth": 0,
              "ticks": ""
             }
            },
            "type": "scatter3d"
           }
          ],
          "scattercarpet": [
           {
            "marker": {
             "colorbar": {
              "outlinewidth": 0,
              "ticks": ""
             }
            },
            "type": "scattercarpet"
           }
          ],
          "scattergeo": [
           {
            "marker": {
             "colorbar": {
              "outlinewidth": 0,
              "ticks": ""
             }
            },
            "type": "scattergeo"
           }
          ],
          "scattergl": [
           {
            "marker": {
             "colorbar": {
              "outlinewidth": 0,
              "ticks": ""
             }
            },
            "type": "scattergl"
           }
          ],
          "scattermapbox": [
           {
            "marker": {
             "colorbar": {
              "outlinewidth": 0,
              "ticks": ""
             }
            },
            "type": "scattermapbox"
           }
          ],
          "scatterpolar": [
           {
            "marker": {
             "colorbar": {
              "outlinewidth": 0,
              "ticks": ""
             }
            },
            "type": "scatterpolar"
           }
          ],
          "scatterpolargl": [
           {
            "marker": {
             "colorbar": {
              "outlinewidth": 0,
              "ticks": ""
             }
            },
            "type": "scatterpolargl"
           }
          ],
          "scatterternary": [
           {
            "marker": {
             "colorbar": {
              "outlinewidth": 0,
              "ticks": ""
             }
            },
            "type": "scatterternary"
           }
          ],
          "surface": [
           {
            "colorbar": {
             "outlinewidth": 0,
             "ticks": ""
            },
            "colorscale": [
             [
              0,
              "#0d0887"
             ],
             [
              0.1111111111111111,
              "#46039f"
             ],
             [
              0.2222222222222222,
              "#7201a8"
             ],
             [
              0.3333333333333333,
              "#9c179e"
             ],
             [
              0.4444444444444444,
              "#bd3786"
             ],
             [
              0.5555555555555556,
              "#d8576b"
             ],
             [
              0.6666666666666666,
              "#ed7953"
             ],
             [
              0.7777777777777778,
              "#fb9f3a"
             ],
             [
              0.8888888888888888,
              "#fdca26"
             ],
             [
              1,
              "#f0f921"
             ]
            ],
            "type": "surface"
           }
          ],
          "table": [
           {
            "cells": {
             "fill": {
              "color": "#EBF0F8"
             },
             "line": {
              "color": "white"
             }
            },
            "header": {
             "fill": {
              "color": "#C8D4E3"
             },
             "line": {
              "color": "white"
             }
            },
            "type": "table"
           }
          ]
         },
         "layout": {
          "annotationdefaults": {
           "arrowcolor": "#2a3f5f",
           "arrowhead": 0,
           "arrowwidth": 1
          },
          "autotypenumbers": "strict",
          "coloraxis": {
           "colorbar": {
            "outlinewidth": 0,
            "ticks": ""
           }
          },
          "colorscale": {
           "diverging": [
            [
             0,
             "#8e0152"
            ],
            [
             0.1,
             "#c51b7d"
            ],
            [
             0.2,
             "#de77ae"
            ],
            [
             0.3,
             "#f1b6da"
            ],
            [
             0.4,
             "#fde0ef"
            ],
            [
             0.5,
             "#f7f7f7"
            ],
            [
             0.6,
             "#e6f5d0"
            ],
            [
             0.7,
             "#b8e186"
            ],
            [
             0.8,
             "#7fbc41"
            ],
            [
             0.9,
             "#4d9221"
            ],
            [
             1,
             "#276419"
            ]
           ],
           "sequential": [
            [
             0,
             "#0d0887"
            ],
            [
             0.1111111111111111,
             "#46039f"
            ],
            [
             0.2222222222222222,
             "#7201a8"
            ],
            [
             0.3333333333333333,
             "#9c179e"
            ],
            [
             0.4444444444444444,
             "#bd3786"
            ],
            [
             0.5555555555555556,
             "#d8576b"
            ],
            [
             0.6666666666666666,
             "#ed7953"
            ],
            [
             0.7777777777777778,
             "#fb9f3a"
            ],
            [
             0.8888888888888888,
             "#fdca26"
            ],
            [
             1,
             "#f0f921"
            ]
           ],
           "sequentialminus": [
            [
             0,
             "#0d0887"
            ],
            [
             0.1111111111111111,
             "#46039f"
            ],
            [
             0.2222222222222222,
             "#7201a8"
            ],
            [
             0.3333333333333333,
             "#9c179e"
            ],
            [
             0.4444444444444444,
             "#bd3786"
            ],
            [
             0.5555555555555556,
             "#d8576b"
            ],
            [
             0.6666666666666666,
             "#ed7953"
            ],
            [
             0.7777777777777778,
             "#fb9f3a"
            ],
            [
             0.8888888888888888,
             "#fdca26"
            ],
            [
             1,
             "#f0f921"
            ]
           ]
          },
          "colorway": [
           "#636efa",
           "#EF553B",
           "#00cc96",
           "#ab63fa",
           "#FFA15A",
           "#19d3f3",
           "#FF6692",
           "#B6E880",
           "#FF97FF",
           "#FECB52"
          ],
          "font": {
           "color": "#2a3f5f"
          },
          "geo": {
           "bgcolor": "white",
           "lakecolor": "white",
           "landcolor": "#E5ECF6",
           "showlakes": true,
           "showland": true,
           "subunitcolor": "white"
          },
          "hoverlabel": {
           "align": "left"
          },
          "hovermode": "closest",
          "mapbox": {
           "style": "light"
          },
          "paper_bgcolor": "white",
          "plot_bgcolor": "#E5ECF6",
          "polar": {
           "angularaxis": {
            "gridcolor": "white",
            "linecolor": "white",
            "ticks": ""
           },
           "bgcolor": "#E5ECF6",
           "radialaxis": {
            "gridcolor": "white",
            "linecolor": "white",
            "ticks": ""
           }
          },
          "scene": {
           "xaxis": {
            "backgroundcolor": "#E5ECF6",
            "gridcolor": "white",
            "gridwidth": 2,
            "linecolor": "white",
            "showbackground": true,
            "ticks": "",
            "zerolinecolor": "white"
           },
           "yaxis": {
            "backgroundcolor": "#E5ECF6",
            "gridcolor": "white",
            "gridwidth": 2,
            "linecolor": "white",
            "showbackground": true,
            "ticks": "",
            "zerolinecolor": "white"
           },
           "zaxis": {
            "backgroundcolor": "#E5ECF6",
            "gridcolor": "white",
            "gridwidth": 2,
            "linecolor": "white",
            "showbackground": true,
            "ticks": "",
            "zerolinecolor": "white"
           }
          },
          "shapedefaults": {
           "line": {
            "color": "#2a3f5f"
           }
          },
          "ternary": {
           "aaxis": {
            "gridcolor": "white",
            "linecolor": "white",
            "ticks": ""
           },
           "baxis": {
            "gridcolor": "white",
            "linecolor": "white",
            "ticks": ""
           },
           "bgcolor": "#E5ECF6",
           "caxis": {
            "gridcolor": "white",
            "linecolor": "white",
            "ticks": ""
           }
          },
          "title": {
           "x": 0.05
          },
          "xaxis": {
           "automargin": true,
           "gridcolor": "white",
           "linecolor": "white",
           "ticks": "",
           "title": {
            "standoff": 15
           },
           "zerolinecolor": "white",
           "zerolinewidth": 2
          },
          "yaxis": {
           "automargin": true,
           "gridcolor": "white",
           "linecolor": "white",
           "ticks": "",
           "title": {
            "standoff": 15
           },
           "zerolinecolor": "white",
           "zerolinewidth": 2
          }
         }
        },
        "title": {
         "text": "Supernova Classification Over Time"
        },
        "xaxis": {
         "title": {
          "text": "Alertes"
         }
        },
        "yaxis": {
         "range": [
          0,
          1
         ],
         "title": {
          "text": "Probability"
         }
        }
       }
      }
     },
     "metadata": {},
     "output_type": "display_data"
    },
    {
     "name": "stdout",
     "output_type": "stream",
     "text": [
      "Type 1: 1, Type 2: 1\n",
      "Equal number of type 1 and type 2\n",
      "Type 1: 1.0403093099594116, Type 2: 0.9532101154327393\n",
      "Final prediction: Other\n",
      "       objectId true_class  nb_predictions_type_1  nb_predictions_type_2  \\\n",
      "0  ZTF17aaajowi          -                      1                      1   \n",
      "\n",
      "   nb_type_1  nb_type_2  last_type_1_prediction  last_type_2_prediction  \\\n",
      "0   1.040309    0.95321                0.689461                0.306375   \n",
      "\n",
      "  final_prediction_by_counts final_prediction_by_sum  \n",
      "0                         SN                   Other  \n",
      "True class: -\n"
     ]
    },
    {
     "name": "stderr",
     "output_type": "stream",
     "text": [
      "Processing alerts:  97%|█████████▋| 34/35 [00:04<00:00,  8.49it/s]\n"
     ]
    },
    {
     "name": "stdout",
     "output_type": "stream",
     "text": [
      "\u001b[1m2/2\u001b[0m \u001b[32m━━━━━━━━━━━━━━━━━━━━\u001b[0m\u001b[37m\u001b[0m \u001b[1m0s\u001b[0m 11ms/step \n"
     ]
    },
    {
     "data": {
      "application/vnd.plotly.v1+json": {
       "config": {
        "plotlyServerURL": "https://plot.ly"
       },
       "data": [
        {
         "fill": "tozeroy",
         "fillcolor": "orange",
         "hoverinfo": "text",
         "mode": "none",
         "name": "Other",
         "text": [
          "<br>Other: 99.8049%",
          "<br>Other: 99.5846%",
          "<br>Other: 99.7601%",
          "<br>Other: 99.7634%",
          "<br>Other: 99.7731%",
          "<br>Other: 99.7417%",
          "<br>Other: 99.6995%",
          "<br>Other: 99.7697%",
          "<br>Other: 99.7213%",
          "<br>Other: 99.6248%",
          "<br>Other: 99.6356%",
          "<br>Other: 84.8599%",
          "<br>Other: 99.7154%",
          "<br>Other: 99.7476%",
          "<br>Other: 99.7273%",
          "<br>Other: 99.7466%",
          "<br>Other: 99.3437%",
          "<br>Other: 96.9984%",
          "<br>Other: 99.4912%",
          "<br>Other: 99.5178%",
          "<br>Other: 99.635%",
          "<br>Other: 99.6674%",
          "<br>Other: 99.5636%",
          "<br>Other: 99.5861%",
          "<br>Other: 99.517%",
          "<br>Other: 99.6471%",
          "<br>Other: 99.6876%",
          "<br>Other: 99.5877%",
          "<br>Other: 99.6097%",
          "<br>Other: 99.4981%",
          "<br>Other: 92.2821%",
          "<br>Other: 89.3109%",
          "<br>Other: 77.0418%",
          "<br>Other: 72.8494%"
         ],
         "type": "scatter",
         "x": [
          1,
          2,
          3,
          4,
          5,
          6,
          7,
          8,
          9,
          10,
          11,
          12,
          13,
          14,
          15,
          16,
          17,
          18,
          19,
          20,
          21,
          22,
          23,
          24,
          25,
          26,
          27,
          28,
          29,
          30,
          31,
          32,
          33,
          34
         ],
         "y": [
          0.998048722743988,
          0.9958463907241821,
          0.997600793838501,
          0.99763423204422,
          0.9977313280105591,
          0.9974167943000793,
          0.9969954490661621,
          0.9976967573165894,
          0.9972129464149475,
          0.9962476491928101,
          0.9963560104370117,
          0.8485991954803467,
          0.9971536993980408,
          0.9974757432937622,
          0.997272789478302,
          0.9974657297134399,
          0.9934371113777161,
          0.9699840545654297,
          0.994912326335907,
          0.9951784610748291,
          0.9963504672050476,
          0.9966741800308228,
          0.9956358075141907,
          0.9958605766296387,
          0.9951700568199158,
          0.9964709877967834,
          0.9968764781951904,
          0.9958773255348206,
          0.9960969686508179,
          0.9949805736541748,
          0.9228212833404541,
          0.893109142780304,
          0.7704184651374817,
          0.7284935712814331
         ]
        },
        {
         "fill": "tonexty",
         "fillcolor": "blue",
         "hoverinfo": "text",
         "mode": "none",
         "name": "SN",
         "text": [
          "Alerte: 1<br>Prediction: Other<br>---<br>ztfr: 6 | ztfg: 0 | ztfi: 0<br>---<br>SN: 0.2009%",
          "Alerte: 2<br>Prediction: Other<br>---<br>ztfr: 3 | ztfg: 0 | ztfi: 0<br>---<br>SN: 0.4207%",
          "Alerte: 3<br>Prediction: Other<br>---<br>ztfr: 9 | ztfg: 0 | ztfi: 0<br>---<br>SN: 0.2517%",
          "Alerte: 4<br>Prediction: Other<br>---<br>ztfr: 12 | ztfg: 0 | ztfi: 0<br>---<br>SN: 0.247%",
          "Alerte: 5<br>Prediction: Other<br>---<br>ztfr: 15 | ztfg: 0 | ztfi: 0<br>---<br>SN: 0.2336%",
          "Alerte: 6<br>Prediction: Other<br>---<br>ztfr: 18 | ztfg: 0 | ztfi: 0<br>---<br>SN: 0.2717%",
          "Alerte: 7<br>Prediction: Other<br>---<br>ztfr: 24 | ztfg: 0 | ztfi: 0<br>---<br>SN: 0.3123%",
          "Alerte: 8<br>Prediction: Other<br>---<br>ztfr: 27 | ztfg: 0 | ztfi: 0<br>---<br>SN: 0.2297%",
          "Alerte: 9<br>Prediction: Other<br>---<br>ztfr: 21 | ztfg: 0 | ztfi: 0<br>---<br>SN: 0.2921%",
          "Alerte: 10<br>Prediction: Other<br>---<br>ztfr: 30 | ztfg: 0 | ztfi: 0<br>---<br>SN: 0.3592%",
          "Alerte: 11<br>Prediction: Other<br>---<br>ztfr: 33 | ztfg: 0 | ztfi: 0<br>---<br>SN: 0.3763%",
          "Alerte: 12<br>Prediction: Other<br>---<br>ztfr: 36 | ztfg: 0 | ztfi: 0<br>---<br>SN: 13.7546%",
          "Alerte: 13<br>Prediction: Other<br>---<br>ztfr: 39 | ztfg: 0 | ztfi: 0<br>---<br>SN: 0.2898%",
          "Alerte: 14<br>Prediction: Other<br>---<br>ztfr: 42 | ztfg: 0 | ztfi: 0<br>---<br>SN: 0.2526%",
          "Alerte: 15<br>Prediction: Other<br>---<br>ztfr: 45 | ztfg: 0 | ztfi: 0<br>---<br>SN: 0.2651%",
          "Alerte: 16<br>Prediction: Other<br>---<br>ztfr: 48 | ztfg: 0 | ztfi: 0<br>---<br>SN: 0.2513%",
          "Alerte: 17<br>Prediction: Other<br>---<br>ztfr: 51 | ztfg: 0 | ztfi: 0<br>---<br>SN: 0.6002%",
          "Alerte: 18<br>Prediction: Other<br>---<br>ztfr: 54 | ztfg: 0 | ztfi: 0<br>---<br>SN: 2.5458%",
          "Alerte: 19<br>Prediction: Other<br>---<br>ztfr: 57 | ztfg: 0 | ztfi: 0<br>---<br>SN: 0.4513%",
          "Alerte: 20<br>Prediction: Other<br>---<br>ztfr: 60 | ztfg: 0 | ztfi: 0<br>---<br>SN: 0.4248%",
          "Alerte: 21<br>Prediction: Other<br>---<br>ztfr: 63 | ztfg: 0 | ztfi: 0<br>---<br>SN: 0.3328%",
          "Alerte: 22<br>Prediction: Other<br>---<br>ztfr: 66 | ztfg: 0 | ztfi: 0<br>---<br>SN: 0.3024%",
          "Alerte: 23<br>Prediction: Other<br>---<br>ztfr: 69 | ztfg: 0 | ztfi: 0<br>---<br>SN: 0.3896%",
          "Alerte: 24<br>Prediction: Other<br>---<br>ztfr: 72 | ztfg: 0 | ztfi: 0<br>---<br>SN: 0.3659%",
          "Alerte: 25<br>Prediction: Other<br>---<br>ztfr: 75 | ztfg: 0 | ztfi: 0<br>---<br>SN: 0.4275%",
          "Alerte: 26<br>Prediction: Other<br>---<br>ztfr: 78 | ztfg: 0 | ztfi: 0<br>---<br>SN: 0.3282%",
          "Alerte: 27<br>Prediction: Other<br>---<br>ztfr: 81 | ztfg: 0 | ztfi: 0<br>---<br>SN: 0.2877%",
          "Alerte: 28<br>Prediction: Other<br>---<br>ztfr: 84 | ztfg: 0 | ztfi: 0<br>---<br>SN: 0.37%",
          "Alerte: 29<br>Prediction: Other<br>---<br>ztfr: 87 | ztfg: 0 | ztfi: 0<br>---<br>SN: 0.345%",
          "Alerte: 30<br>Prediction: Other<br>---<br>ztfr: 90 | ztfg: 0 | ztfi: 0<br>---<br>SN: 0.4431%",
          "Alerte: 31<br>Prediction: Other<br>---<br>ztfr: 93 | ztfg: 0 | ztfi: 0<br>---<br>SN: 7.3318%",
          "Alerte: 32<br>Prediction: Other<br>---<br>ztfr: 96 | ztfg: 0 | ztfi: 0<br>---<br>SN: 9.8095%",
          "Alerte: 33<br>Prediction: Other<br>---<br>ztfr: 99 | ztfg: 0 | ztfi: 0<br>---<br>SN: 21.0743%",
          "Alerte: 34<br>Prediction: Other<br>---<br>ztfr: 102 | ztfg: 0 | ztfi: 0<br>---<br>SN: 24.8889%"
         ],
         "type": "scatter",
         "x": [
          1,
          2,
          3,
          4,
          5,
          6,
          7,
          8,
          9,
          10,
          11,
          12,
          13,
          14,
          15,
          16,
          17,
          18,
          19,
          20,
          21,
          22,
          23,
          24,
          25,
          26,
          27,
          28,
          29,
          30,
          31,
          32,
          33,
          34
         ],
         "y": [
          1.0000576972961426,
          1.000053882598877,
          1.0001174211502075,
          1.0001044273376465,
          1.000067114830017,
          1.0001342296600342,
          1.0001182556152344,
          0.9999937415122986,
          1.000133752822876,
          0.9998399019241333,
          1.0001187324523926,
          0.9861452579498291,
          1.0000518560409546,
          1.0000020265579224,
          0.9999237656593323,
          0.9999783635139465,
          0.9994388222694397,
          0.9954416751861572,
          0.9994254112243652,
          0.9994262456893921,
          0.9996787905693054,
          0.9996980428695679,
          0.9995317459106445,
          0.9995192885398865,
          0.9994447231292725,
          0.9997530579566956,
          0.9997532963752747,
          0.9995771646499634,
          0.9995474219322205,
          0.9994114637374878,
          0.996139407157898,
          0.9912046194076538,
          0.9811615943908691,
          0.9773823618888855
         ]
        }
       ],
       "layout": {
        "hovermode": "x unified",
        "template": {
         "data": {
          "bar": [
           {
            "error_x": {
             "color": "#2a3f5f"
            },
            "error_y": {
             "color": "#2a3f5f"
            },
            "marker": {
             "line": {
              "color": "#E5ECF6",
              "width": 0.5
             },
             "pattern": {
              "fillmode": "overlay",
              "size": 10,
              "solidity": 0.2
             }
            },
            "type": "bar"
           }
          ],
          "barpolar": [
           {
            "marker": {
             "line": {
              "color": "#E5ECF6",
              "width": 0.5
             },
             "pattern": {
              "fillmode": "overlay",
              "size": 10,
              "solidity": 0.2
             }
            },
            "type": "barpolar"
           }
          ],
          "carpet": [
           {
            "aaxis": {
             "endlinecolor": "#2a3f5f",
             "gridcolor": "white",
             "linecolor": "white",
             "minorgridcolor": "white",
             "startlinecolor": "#2a3f5f"
            },
            "baxis": {
             "endlinecolor": "#2a3f5f",
             "gridcolor": "white",
             "linecolor": "white",
             "minorgridcolor": "white",
             "startlinecolor": "#2a3f5f"
            },
            "type": "carpet"
           }
          ],
          "choropleth": [
           {
            "colorbar": {
             "outlinewidth": 0,
             "ticks": ""
            },
            "type": "choropleth"
           }
          ],
          "contour": [
           {
            "colorbar": {
             "outlinewidth": 0,
             "ticks": ""
            },
            "colorscale": [
             [
              0,
              "#0d0887"
             ],
             [
              0.1111111111111111,
              "#46039f"
             ],
             [
              0.2222222222222222,
              "#7201a8"
             ],
             [
              0.3333333333333333,
              "#9c179e"
             ],
             [
              0.4444444444444444,
              "#bd3786"
             ],
             [
              0.5555555555555556,
              "#d8576b"
             ],
             [
              0.6666666666666666,
              "#ed7953"
             ],
             [
              0.7777777777777778,
              "#fb9f3a"
             ],
             [
              0.8888888888888888,
              "#fdca26"
             ],
             [
              1,
              "#f0f921"
             ]
            ],
            "type": "contour"
           }
          ],
          "contourcarpet": [
           {
            "colorbar": {
             "outlinewidth": 0,
             "ticks": ""
            },
            "type": "contourcarpet"
           }
          ],
          "heatmap": [
           {
            "colorbar": {
             "outlinewidth": 0,
             "ticks": ""
            },
            "colorscale": [
             [
              0,
              "#0d0887"
             ],
             [
              0.1111111111111111,
              "#46039f"
             ],
             [
              0.2222222222222222,
              "#7201a8"
             ],
             [
              0.3333333333333333,
              "#9c179e"
             ],
             [
              0.4444444444444444,
              "#bd3786"
             ],
             [
              0.5555555555555556,
              "#d8576b"
             ],
             [
              0.6666666666666666,
              "#ed7953"
             ],
             [
              0.7777777777777778,
              "#fb9f3a"
             ],
             [
              0.8888888888888888,
              "#fdca26"
             ],
             [
              1,
              "#f0f921"
             ]
            ],
            "type": "heatmap"
           }
          ],
          "heatmapgl": [
           {
            "colorbar": {
             "outlinewidth": 0,
             "ticks": ""
            },
            "colorscale": [
             [
              0,
              "#0d0887"
             ],
             [
              0.1111111111111111,
              "#46039f"
             ],
             [
              0.2222222222222222,
              "#7201a8"
             ],
             [
              0.3333333333333333,
              "#9c179e"
             ],
             [
              0.4444444444444444,
              "#bd3786"
             ],
             [
              0.5555555555555556,
              "#d8576b"
             ],
             [
              0.6666666666666666,
              "#ed7953"
             ],
             [
              0.7777777777777778,
              "#fb9f3a"
             ],
             [
              0.8888888888888888,
              "#fdca26"
             ],
             [
              1,
              "#f0f921"
             ]
            ],
            "type": "heatmapgl"
           }
          ],
          "histogram": [
           {
            "marker": {
             "pattern": {
              "fillmode": "overlay",
              "size": 10,
              "solidity": 0.2
             }
            },
            "type": "histogram"
           }
          ],
          "histogram2d": [
           {
            "colorbar": {
             "outlinewidth": 0,
             "ticks": ""
            },
            "colorscale": [
             [
              0,
              "#0d0887"
             ],
             [
              0.1111111111111111,
              "#46039f"
             ],
             [
              0.2222222222222222,
              "#7201a8"
             ],
             [
              0.3333333333333333,
              "#9c179e"
             ],
             [
              0.4444444444444444,
              "#bd3786"
             ],
             [
              0.5555555555555556,
              "#d8576b"
             ],
             [
              0.6666666666666666,
              "#ed7953"
             ],
             [
              0.7777777777777778,
              "#fb9f3a"
             ],
             [
              0.8888888888888888,
              "#fdca26"
             ],
             [
              1,
              "#f0f921"
             ]
            ],
            "type": "histogram2d"
           }
          ],
          "histogram2dcontour": [
           {
            "colorbar": {
             "outlinewidth": 0,
             "ticks": ""
            },
            "colorscale": [
             [
              0,
              "#0d0887"
             ],
             [
              0.1111111111111111,
              "#46039f"
             ],
             [
              0.2222222222222222,
              "#7201a8"
             ],
             [
              0.3333333333333333,
              "#9c179e"
             ],
             [
              0.4444444444444444,
              "#bd3786"
             ],
             [
              0.5555555555555556,
              "#d8576b"
             ],
             [
              0.6666666666666666,
              "#ed7953"
             ],
             [
              0.7777777777777778,
              "#fb9f3a"
             ],
             [
              0.8888888888888888,
              "#fdca26"
             ],
             [
              1,
              "#f0f921"
             ]
            ],
            "type": "histogram2dcontour"
           }
          ],
          "mesh3d": [
           {
            "colorbar": {
             "outlinewidth": 0,
             "ticks": ""
            },
            "type": "mesh3d"
           }
          ],
          "parcoords": [
           {
            "line": {
             "colorbar": {
              "outlinewidth": 0,
              "ticks": ""
             }
            },
            "type": "parcoords"
           }
          ],
          "pie": [
           {
            "automargin": true,
            "type": "pie"
           }
          ],
          "scatter": [
           {
            "fillpattern": {
             "fillmode": "overlay",
             "size": 10,
             "solidity": 0.2
            },
            "type": "scatter"
           }
          ],
          "scatter3d": [
           {
            "line": {
             "colorbar": {
              "outlinewidth": 0,
              "ticks": ""
             }
            },
            "marker": {
             "colorbar": {
              "outlinewidth": 0,
              "ticks": ""
             }
            },
            "type": "scatter3d"
           }
          ],
          "scattercarpet": [
           {
            "marker": {
             "colorbar": {
              "outlinewidth": 0,
              "ticks": ""
             }
            },
            "type": "scattercarpet"
           }
          ],
          "scattergeo": [
           {
            "marker": {
             "colorbar": {
              "outlinewidth": 0,
              "ticks": ""
             }
            },
            "type": "scattergeo"
           }
          ],
          "scattergl": [
           {
            "marker": {
             "colorbar": {
              "outlinewidth": 0,
              "ticks": ""
             }
            },
            "type": "scattergl"
           }
          ],
          "scattermapbox": [
           {
            "marker": {
             "colorbar": {
              "outlinewidth": 0,
              "ticks": ""
             }
            },
            "type": "scattermapbox"
           }
          ],
          "scatterpolar": [
           {
            "marker": {
             "colorbar": {
              "outlinewidth": 0,
              "ticks": ""
             }
            },
            "type": "scatterpolar"
           }
          ],
          "scatterpolargl": [
           {
            "marker": {
             "colorbar": {
              "outlinewidth": 0,
              "ticks": ""
             }
            },
            "type": "scatterpolargl"
           }
          ],
          "scatterternary": [
           {
            "marker": {
             "colorbar": {
              "outlinewidth": 0,
              "ticks": ""
             }
            },
            "type": "scatterternary"
           }
          ],
          "surface": [
           {
            "colorbar": {
             "outlinewidth": 0,
             "ticks": ""
            },
            "colorscale": [
             [
              0,
              "#0d0887"
             ],
             [
              0.1111111111111111,
              "#46039f"
             ],
             [
              0.2222222222222222,
              "#7201a8"
             ],
             [
              0.3333333333333333,
              "#9c179e"
             ],
             [
              0.4444444444444444,
              "#bd3786"
             ],
             [
              0.5555555555555556,
              "#d8576b"
             ],
             [
              0.6666666666666666,
              "#ed7953"
             ],
             [
              0.7777777777777778,
              "#fb9f3a"
             ],
             [
              0.8888888888888888,
              "#fdca26"
             ],
             [
              1,
              "#f0f921"
             ]
            ],
            "type": "surface"
           }
          ],
          "table": [
           {
            "cells": {
             "fill": {
              "color": "#EBF0F8"
             },
             "line": {
              "color": "white"
             }
            },
            "header": {
             "fill": {
              "color": "#C8D4E3"
             },
             "line": {
              "color": "white"
             }
            },
            "type": "table"
           }
          ]
         },
         "layout": {
          "annotationdefaults": {
           "arrowcolor": "#2a3f5f",
           "arrowhead": 0,
           "arrowwidth": 1
          },
          "autotypenumbers": "strict",
          "coloraxis": {
           "colorbar": {
            "outlinewidth": 0,
            "ticks": ""
           }
          },
          "colorscale": {
           "diverging": [
            [
             0,
             "#8e0152"
            ],
            [
             0.1,
             "#c51b7d"
            ],
            [
             0.2,
             "#de77ae"
            ],
            [
             0.3,
             "#f1b6da"
            ],
            [
             0.4,
             "#fde0ef"
            ],
            [
             0.5,
             "#f7f7f7"
            ],
            [
             0.6,
             "#e6f5d0"
            ],
            [
             0.7,
             "#b8e186"
            ],
            [
             0.8,
             "#7fbc41"
            ],
            [
             0.9,
             "#4d9221"
            ],
            [
             1,
             "#276419"
            ]
           ],
           "sequential": [
            [
             0,
             "#0d0887"
            ],
            [
             0.1111111111111111,
             "#46039f"
            ],
            [
             0.2222222222222222,
             "#7201a8"
            ],
            [
             0.3333333333333333,
             "#9c179e"
            ],
            [
             0.4444444444444444,
             "#bd3786"
            ],
            [
             0.5555555555555556,
             "#d8576b"
            ],
            [
             0.6666666666666666,
             "#ed7953"
            ],
            [
             0.7777777777777778,
             "#fb9f3a"
            ],
            [
             0.8888888888888888,
             "#fdca26"
            ],
            [
             1,
             "#f0f921"
            ]
           ],
           "sequentialminus": [
            [
             0,
             "#0d0887"
            ],
            [
             0.1111111111111111,
             "#46039f"
            ],
            [
             0.2222222222222222,
             "#7201a8"
            ],
            [
             0.3333333333333333,
             "#9c179e"
            ],
            [
             0.4444444444444444,
             "#bd3786"
            ],
            [
             0.5555555555555556,
             "#d8576b"
            ],
            [
             0.6666666666666666,
             "#ed7953"
            ],
            [
             0.7777777777777778,
             "#fb9f3a"
            ],
            [
             0.8888888888888888,
             "#fdca26"
            ],
            [
             1,
             "#f0f921"
            ]
           ]
          },
          "colorway": [
           "#636efa",
           "#EF553B",
           "#00cc96",
           "#ab63fa",
           "#FFA15A",
           "#19d3f3",
           "#FF6692",
           "#B6E880",
           "#FF97FF",
           "#FECB52"
          ],
          "font": {
           "color": "#2a3f5f"
          },
          "geo": {
           "bgcolor": "white",
           "lakecolor": "white",
           "landcolor": "#E5ECF6",
           "showlakes": true,
           "showland": true,
           "subunitcolor": "white"
          },
          "hoverlabel": {
           "align": "left"
          },
          "hovermode": "closest",
          "mapbox": {
           "style": "light"
          },
          "paper_bgcolor": "white",
          "plot_bgcolor": "#E5ECF6",
          "polar": {
           "angularaxis": {
            "gridcolor": "white",
            "linecolor": "white",
            "ticks": ""
           },
           "bgcolor": "#E5ECF6",
           "radialaxis": {
            "gridcolor": "white",
            "linecolor": "white",
            "ticks": ""
           }
          },
          "scene": {
           "xaxis": {
            "backgroundcolor": "#E5ECF6",
            "gridcolor": "white",
            "gridwidth": 2,
            "linecolor": "white",
            "showbackground": true,
            "ticks": "",
            "zerolinecolor": "white"
           },
           "yaxis": {
            "backgroundcolor": "#E5ECF6",
            "gridcolor": "white",
            "gridwidth": 2,
            "linecolor": "white",
            "showbackground": true,
            "ticks": "",
            "zerolinecolor": "white"
           },
           "zaxis": {
            "backgroundcolor": "#E5ECF6",
            "gridcolor": "white",
            "gridwidth": 2,
            "linecolor": "white",
            "showbackground": true,
            "ticks": "",
            "zerolinecolor": "white"
           }
          },
          "shapedefaults": {
           "line": {
            "color": "#2a3f5f"
           }
          },
          "ternary": {
           "aaxis": {
            "gridcolor": "white",
            "linecolor": "white",
            "ticks": ""
           },
           "baxis": {
            "gridcolor": "white",
            "linecolor": "white",
            "ticks": ""
           },
           "bgcolor": "#E5ECF6",
           "caxis": {
            "gridcolor": "white",
            "linecolor": "white",
            "ticks": ""
           }
          },
          "title": {
           "x": 0.05
          },
          "xaxis": {
           "automargin": true,
           "gridcolor": "white",
           "linecolor": "white",
           "ticks": "",
           "title": {
            "standoff": 15
           },
           "zerolinecolor": "white",
           "zerolinewidth": 2
          },
          "yaxis": {
           "automargin": true,
           "gridcolor": "white",
           "linecolor": "white",
           "ticks": "",
           "title": {
            "standoff": 15
           },
           "zerolinecolor": "white",
           "zerolinewidth": 2
          }
         }
        },
        "title": {
         "text": "Supernova Classification Over Time"
        },
        "xaxis": {
         "title": {
          "text": "Alertes"
         }
        },
        "yaxis": {
         "range": [
          0,
          1
         ],
         "title": {
          "text": "Probability"
         }
        }
       }
      }
     },
     "metadata": {},
     "output_type": "display_data"
    },
    {
     "name": "stdout",
     "output_type": "stream",
     "text": [
      "Error processing object ZTF17aaanztg: 1\n",
      "True class: -\n"
     ]
    },
    {
     "name": "stderr",
     "output_type": "stream",
     "text": [
      "Processing alerts:  71%|███████   | 32/45 [00:04<00:01,  7.75it/s]\n"
     ]
    },
    {
     "name": "stdout",
     "output_type": "stream",
     "text": [
      "\u001b[1m1/1\u001b[0m \u001b[32m━━━━━━━━━━━━━━━━━━━━\u001b[0m\u001b[37m\u001b[0m \u001b[1m0s\u001b[0m 121ms/step\n"
     ]
    },
    {
     "data": {
      "application/vnd.plotly.v1+json": {
       "config": {
        "plotlyServerURL": "https://plot.ly"
       },
       "data": [
        {
         "fill": "tozeroy",
         "fillcolor": "orange",
         "hoverinfo": "text",
         "mode": "none",
         "name": "Other",
         "text": [
          "<br>Other: 99.9438%",
          "<br>Other: 99.9324%",
          "<br>Other: 99.9455%",
          "<br>Other: 99.9369%",
          "<br>Other: 99.9558%",
          "<br>Other: 99.9181%",
          "<br>Other: 99.8763%",
          "<br>Other: 99.9379%",
          "<br>Other: 99.9375%",
          "<br>Other: 99.9398%",
          "<br>Other: 99.9377%",
          "<br>Other: 99.4382%",
          "<br>Other: 99.7989%",
          "<br>Other: 99.8678%",
          "<br>Other: 99.8731%",
          "<br>Other: 99.8484%",
          "<br>Other: 51.4229%",
          "<br>Other: 15.6271%",
          "<br>Other: 25.9219%",
          "<br>Other: 19.0022%",
          "<br>Other: 15.887%",
          "<br>Other: 15.973%",
          "<br>Other: 12.6362%",
          "<br>Other: 11.4404%",
          "<br>Other: 12.7591%",
          "<br>Other: 12.7875%",
          "<br>Other: 35.8322%",
          "<br>Other: 33.5937%",
          "<br>Other: 25.0736%",
          "<br>Other: 13.9195%",
          "<br>Other: 17.3653%",
          "<br>Other: 11.908%"
         ],
         "type": "scatter",
         "x": [
          13,
          14,
          15,
          16,
          17,
          18,
          19,
          20,
          21,
          22,
          23,
          24,
          25,
          26,
          27,
          28,
          29,
          30,
          31,
          32,
          33,
          34,
          35,
          36,
          37,
          38,
          39,
          40,
          41,
          42,
          43,
          44
         ],
         "y": [
          0.9994381070137024,
          0.999324381351471,
          0.9994553327560425,
          0.9993690252304077,
          0.9995582699775696,
          0.9991809129714966,
          0.9987626671791077,
          0.9993793964385986,
          0.999374508857727,
          0.999397873878479,
          0.9993770122528076,
          0.9943815469741821,
          0.997989296913147,
          0.9986779093742371,
          0.9987308979034424,
          0.9984839558601379,
          0.5142289400100708,
          0.15627101063728333,
          0.25921908020973206,
          0.19002173840999603,
          0.15887045860290527,
          0.15972992777824402,
          0.126362144947052,
          0.1144043430685997,
          0.12759123742580414,
          0.12787500023841858,
          0.35832223296165466,
          0.33593738079071045,
          0.2507363557815552,
          0.13919517397880554,
          0.17365311086177826,
          0.11908034235239029
         ]
        },
        {
         "fill": "tonexty",
         "fillcolor": "blue",
         "hoverinfo": "text",
         "mode": "none",
         "name": "SN",
         "text": [
          "Alerte: 13<br>Prediction: Other<br>---<br>ztfr: 3 | ztfg: 0 | ztfi: 0<br>---<br>SN: 0.0567%",
          "Alerte: 14<br>Prediction: Other<br>---<br>ztfr: 6 | ztfg: 0 | ztfi: 0<br>---<br>SN: 0.0655%",
          "Alerte: 15<br>Prediction: Other<br>---<br>ztfr: 9 | ztfg: 0 | ztfi: 0<br>---<br>SN: 0.0571%",
          "Alerte: 16<br>Prediction: Other<br>---<br>ztfr: 12 | ztfg: 0 | ztfi: 0<br>---<br>SN: 0.0652%",
          "Alerte: 17<br>Prediction: Other<br>---<br>ztfr: 15 | ztfg: 0 | ztfi: 0<br>---<br>SN: 0.0442%",
          "Alerte: 18<br>Prediction: Other<br>---<br>ztfr: 18 | ztfg: 0 | ztfi: 0<br>---<br>SN: 0.0787%",
          "Alerte: 19<br>Prediction: Other<br>---<br>ztfr: 21 | ztfg: 0 | ztfi: 0<br>---<br>SN: 0.1146%",
          "Alerte: 20<br>Prediction: Other<br>---<br>ztfr: 24 | ztfg: 0 | ztfi: 0<br>---<br>SN: 0.0634%",
          "Alerte: 21<br>Prediction: Other<br>---<br>ztfr: 27 | ztfg: 0 | ztfi: 0<br>---<br>SN: 0.0637%",
          "Alerte: 22<br>Prediction: Other<br>---<br>ztfr: 30 | ztfg: 0 | ztfi: 0<br>---<br>SN: 0.0603%",
          "Alerte: 23<br>Prediction: Other<br>---<br>ztfr: 33 | ztfg: 0 | ztfi: 0<br>---<br>SN: 0.0609%",
          "Alerte: 24<br>Prediction: Other<br>---<br>ztfr: 36 | ztfg: 0 | ztfi: 0<br>---<br>SN: 0.4908%",
          "Alerte: 25<br>Prediction: Other<br>---<br>ztfr: 39 | ztfg: 0 | ztfi: 0<br>---<br>SN: 0.1993%",
          "Alerte: 26<br>Prediction: Other<br>---<br>ztfr: 42 | ztfg: 0 | ztfi: 0<br>---<br>SN: 0.1305%",
          "Alerte: 27<br>Prediction: Other<br>---<br>ztfr: 45 | ztfg: 0 | ztfi: 0<br>---<br>SN: 0.125%",
          "Alerte: 28<br>Prediction: Other<br>---<br>ztfr: 47 | ztfg: 0 | ztfi: 0<br>---<br>SN: 0.1493%",
          "Alerte: 29<br>Prediction: Other<br>---<br>ztfr: 50 | ztfg: 0 | ztfi: 0<br>---<br>SN: 44.2473%",
          "Alerte: 30<br>Prediction: SN<br>---<br>ztfr: 52 | ztfg: 2 | ztfi: 0<br>---<br>SN: 86.4394%",
          "Alerte: 31<br>Prediction: SN<br>---<br>ztfr: 50 | ztfg: 2 | ztfi: 0<br>---<br>SN: 74.6594%",
          "Alerte: 32<br>Prediction: SN<br>---<br>ztfr: 54 | ztfg: 2 | ztfi: 0<br>---<br>SN: 83.4136%",
          "Alerte: 33<br>Prediction: SN<br>---<br>ztfr: 56 | ztfg: 2 | ztfi: 0<br>---<br>SN: 86.2047%",
          "Alerte: 34<br>Prediction: SN<br>---<br>ztfr: 58 | ztfg: 2 | ztfi: 0<br>---<br>SN: 86.1252%",
          "Alerte: 35<br>Prediction: SN<br>---<br>ztfr: 62 | ztfg: 2 | ztfi: 0<br>---<br>SN: 88.8838%",
          "Alerte: 36<br>Prediction: SN<br>---<br>ztfr: 60 | ztfg: 2 | ztfi: 0<br>---<br>SN: 90.139%",
          "Alerte: 37<br>Prediction: SN<br>---<br>ztfr: 64 | ztfg: 2 | ztfi: 0<br>---<br>SN: 88.732%",
          "Alerte: 38<br>Prediction: SN<br>---<br>ztfr: 66 | ztfg: 2 | ztfi: 0<br>---<br>SN: 88.6998%",
          "Alerte: 39<br>Prediction: SN<br>---<br>ztfr: 67 | ztfg: 2 | ztfi: 0<br>---<br>SN: 67.2677%",
          "Alerte: 40<br>Prediction: SN<br>---<br>ztfr: 67 | ztfg: 2 | ztfi: 0<br>---<br>SN: 69.4091%",
          "Alerte: 41<br>Prediction: SN<br>---<br>ztfr: 67 | ztfg: 2 | ztfi: 0<br>---<br>SN: 77.4409%",
          "Alerte: 42<br>Prediction: SN<br>---<br>ztfr: 67 | ztfg: 2 | ztfi: 0<br>---<br>SN: 87.6764%",
          "Alerte: 43<br>Prediction: SN<br>---<br>ztfr: 70 | ztfg: 2 | ztfi: 0<br>---<br>SN: 84.9436%",
          "Alerte: 44<br>Prediction: SN<br>---<br>ztfr: 70 | ztfg: 5 | ztfi: 0<br>---<br>SN: 89.9307%"
         ],
         "type": "scatter",
         "x": [
          13,
          14,
          15,
          16,
          17,
          18,
          19,
          20,
          21,
          22,
          23,
          24,
          25,
          26,
          27,
          28,
          29,
          30,
          31,
          32,
          33,
          34,
          35,
          36,
          37,
          38,
          39,
          40,
          41,
          42,
          43,
          44
         ],
         "y": [
          1.0000050067901611,
          0.9999792575836182,
          1.0000267028808594,
          1.00002121925354,
          1.0000004768371582,
          0.9999679327011108,
          0.9999086856842041,
          1.0000135898590088,
          1.000011920928955,
          1.0000008344650269,
          0.9999858140945435,
          0.9992892742156982,
          0.9999821186065674,
          0.9999825358390808,
          0.9999812245368958,
          0.9999765157699585,
          0.9567017555236816,
          1.020664930343628,
          1.005813479423523,
          1.024158000946045,
          1.0209174156188965,
          1.020982265472412,
          1.0152003765106201,
          1.0157945156097412,
          1.0149115324020386,
          1.0148725509643555,
          1.0309996604919434,
          1.0300283432006836,
          1.0251457691192627,
          1.0159589052200317,
          1.023088812828064,
          1.0183871984481812
         ]
        }
       ],
       "layout": {
        "hovermode": "x unified",
        "template": {
         "data": {
          "bar": [
           {
            "error_x": {
             "color": "#2a3f5f"
            },
            "error_y": {
             "color": "#2a3f5f"
            },
            "marker": {
             "line": {
              "color": "#E5ECF6",
              "width": 0.5
             },
             "pattern": {
              "fillmode": "overlay",
              "size": 10,
              "solidity": 0.2
             }
            },
            "type": "bar"
           }
          ],
          "barpolar": [
           {
            "marker": {
             "line": {
              "color": "#E5ECF6",
              "width": 0.5
             },
             "pattern": {
              "fillmode": "overlay",
              "size": 10,
              "solidity": 0.2
             }
            },
            "type": "barpolar"
           }
          ],
          "carpet": [
           {
            "aaxis": {
             "endlinecolor": "#2a3f5f",
             "gridcolor": "white",
             "linecolor": "white",
             "minorgridcolor": "white",
             "startlinecolor": "#2a3f5f"
            },
            "baxis": {
             "endlinecolor": "#2a3f5f",
             "gridcolor": "white",
             "linecolor": "white",
             "minorgridcolor": "white",
             "startlinecolor": "#2a3f5f"
            },
            "type": "carpet"
           }
          ],
          "choropleth": [
           {
            "colorbar": {
             "outlinewidth": 0,
             "ticks": ""
            },
            "type": "choropleth"
           }
          ],
          "contour": [
           {
            "colorbar": {
             "outlinewidth": 0,
             "ticks": ""
            },
            "colorscale": [
             [
              0,
              "#0d0887"
             ],
             [
              0.1111111111111111,
              "#46039f"
             ],
             [
              0.2222222222222222,
              "#7201a8"
             ],
             [
              0.3333333333333333,
              "#9c179e"
             ],
             [
              0.4444444444444444,
              "#bd3786"
             ],
             [
              0.5555555555555556,
              "#d8576b"
             ],
             [
              0.6666666666666666,
              "#ed7953"
             ],
             [
              0.7777777777777778,
              "#fb9f3a"
             ],
             [
              0.8888888888888888,
              "#fdca26"
             ],
             [
              1,
              "#f0f921"
             ]
            ],
            "type": "contour"
           }
          ],
          "contourcarpet": [
           {
            "colorbar": {
             "outlinewidth": 0,
             "ticks": ""
            },
            "type": "contourcarpet"
           }
          ],
          "heatmap": [
           {
            "colorbar": {
             "outlinewidth": 0,
             "ticks": ""
            },
            "colorscale": [
             [
              0,
              "#0d0887"
             ],
             [
              0.1111111111111111,
              "#46039f"
             ],
             [
              0.2222222222222222,
              "#7201a8"
             ],
             [
              0.3333333333333333,
              "#9c179e"
             ],
             [
              0.4444444444444444,
              "#bd3786"
             ],
             [
              0.5555555555555556,
              "#d8576b"
             ],
             [
              0.6666666666666666,
              "#ed7953"
             ],
             [
              0.7777777777777778,
              "#fb9f3a"
             ],
             [
              0.8888888888888888,
              "#fdca26"
             ],
             [
              1,
              "#f0f921"
             ]
            ],
            "type": "heatmap"
           }
          ],
          "heatmapgl": [
           {
            "colorbar": {
             "outlinewidth": 0,
             "ticks": ""
            },
            "colorscale": [
             [
              0,
              "#0d0887"
             ],
             [
              0.1111111111111111,
              "#46039f"
             ],
             [
              0.2222222222222222,
              "#7201a8"
             ],
             [
              0.3333333333333333,
              "#9c179e"
             ],
             [
              0.4444444444444444,
              "#bd3786"
             ],
             [
              0.5555555555555556,
              "#d8576b"
             ],
             [
              0.6666666666666666,
              "#ed7953"
             ],
             [
              0.7777777777777778,
              "#fb9f3a"
             ],
             [
              0.8888888888888888,
              "#fdca26"
             ],
             [
              1,
              "#f0f921"
             ]
            ],
            "type": "heatmapgl"
           }
          ],
          "histogram": [
           {
            "marker": {
             "pattern": {
              "fillmode": "overlay",
              "size": 10,
              "solidity": 0.2
             }
            },
            "type": "histogram"
           }
          ],
          "histogram2d": [
           {
            "colorbar": {
             "outlinewidth": 0,
             "ticks": ""
            },
            "colorscale": [
             [
              0,
              "#0d0887"
             ],
             [
              0.1111111111111111,
              "#46039f"
             ],
             [
              0.2222222222222222,
              "#7201a8"
             ],
             [
              0.3333333333333333,
              "#9c179e"
             ],
             [
              0.4444444444444444,
              "#bd3786"
             ],
             [
              0.5555555555555556,
              "#d8576b"
             ],
             [
              0.6666666666666666,
              "#ed7953"
             ],
             [
              0.7777777777777778,
              "#fb9f3a"
             ],
             [
              0.8888888888888888,
              "#fdca26"
             ],
             [
              1,
              "#f0f921"
             ]
            ],
            "type": "histogram2d"
           }
          ],
          "histogram2dcontour": [
           {
            "colorbar": {
             "outlinewidth": 0,
             "ticks": ""
            },
            "colorscale": [
             [
              0,
              "#0d0887"
             ],
             [
              0.1111111111111111,
              "#46039f"
             ],
             [
              0.2222222222222222,
              "#7201a8"
             ],
             [
              0.3333333333333333,
              "#9c179e"
             ],
             [
              0.4444444444444444,
              "#bd3786"
             ],
             [
              0.5555555555555556,
              "#d8576b"
             ],
             [
              0.6666666666666666,
              "#ed7953"
             ],
             [
              0.7777777777777778,
              "#fb9f3a"
             ],
             [
              0.8888888888888888,
              "#fdca26"
             ],
             [
              1,
              "#f0f921"
             ]
            ],
            "type": "histogram2dcontour"
           }
          ],
          "mesh3d": [
           {
            "colorbar": {
             "outlinewidth": 0,
             "ticks": ""
            },
            "type": "mesh3d"
           }
          ],
          "parcoords": [
           {
            "line": {
             "colorbar": {
              "outlinewidth": 0,
              "ticks": ""
             }
            },
            "type": "parcoords"
           }
          ],
          "pie": [
           {
            "automargin": true,
            "type": "pie"
           }
          ],
          "scatter": [
           {
            "fillpattern": {
             "fillmode": "overlay",
             "size": 10,
             "solidity": 0.2
            },
            "type": "scatter"
           }
          ],
          "scatter3d": [
           {
            "line": {
             "colorbar": {
              "outlinewidth": 0,
              "ticks": ""
             }
            },
            "marker": {
             "colorbar": {
              "outlinewidth": 0,
              "ticks": ""
             }
            },
            "type": "scatter3d"
           }
          ],
          "scattercarpet": [
           {
            "marker": {
             "colorbar": {
              "outlinewidth": 0,
              "ticks": ""
             }
            },
            "type": "scattercarpet"
           }
          ],
          "scattergeo": [
           {
            "marker": {
             "colorbar": {
              "outlinewidth": 0,
              "ticks": ""
             }
            },
            "type": "scattergeo"
           }
          ],
          "scattergl": [
           {
            "marker": {
             "colorbar": {
              "outlinewidth": 0,
              "ticks": ""
             }
            },
            "type": "scattergl"
           }
          ],
          "scattermapbox": [
           {
            "marker": {
             "colorbar": {
              "outlinewidth": 0,
              "ticks": ""
             }
            },
            "type": "scattermapbox"
           }
          ],
          "scatterpolar": [
           {
            "marker": {
             "colorbar": {
              "outlinewidth": 0,
              "ticks": ""
             }
            },
            "type": "scatterpolar"
           }
          ],
          "scatterpolargl": [
           {
            "marker": {
             "colorbar": {
              "outlinewidth": 0,
              "ticks": ""
             }
            },
            "type": "scatterpolargl"
           }
          ],
          "scatterternary": [
           {
            "marker": {
             "colorbar": {
              "outlinewidth": 0,
              "ticks": ""
             }
            },
            "type": "scatterternary"
           }
          ],
          "surface": [
           {
            "colorbar": {
             "outlinewidth": 0,
             "ticks": ""
            },
            "colorscale": [
             [
              0,
              "#0d0887"
             ],
             [
              0.1111111111111111,
              "#46039f"
             ],
             [
              0.2222222222222222,
              "#7201a8"
             ],
             [
              0.3333333333333333,
              "#9c179e"
             ],
             [
              0.4444444444444444,
              "#bd3786"
             ],
             [
              0.5555555555555556,
              "#d8576b"
             ],
             [
              0.6666666666666666,
              "#ed7953"
             ],
             [
              0.7777777777777778,
              "#fb9f3a"
             ],
             [
              0.8888888888888888,
              "#fdca26"
             ],
             [
              1,
              "#f0f921"
             ]
            ],
            "type": "surface"
           }
          ],
          "table": [
           {
            "cells": {
             "fill": {
              "color": "#EBF0F8"
             },
             "line": {
              "color": "white"
             }
            },
            "header": {
             "fill": {
              "color": "#C8D4E3"
             },
             "line": {
              "color": "white"
             }
            },
            "type": "table"
           }
          ]
         },
         "layout": {
          "annotationdefaults": {
           "arrowcolor": "#2a3f5f",
           "arrowhead": 0,
           "arrowwidth": 1
          },
          "autotypenumbers": "strict",
          "coloraxis": {
           "colorbar": {
            "outlinewidth": 0,
            "ticks": ""
           }
          },
          "colorscale": {
           "diverging": [
            [
             0,
             "#8e0152"
            ],
            [
             0.1,
             "#c51b7d"
            ],
            [
             0.2,
             "#de77ae"
            ],
            [
             0.3,
             "#f1b6da"
            ],
            [
             0.4,
             "#fde0ef"
            ],
            [
             0.5,
             "#f7f7f7"
            ],
            [
             0.6,
             "#e6f5d0"
            ],
            [
             0.7,
             "#b8e186"
            ],
            [
             0.8,
             "#7fbc41"
            ],
            [
             0.9,
             "#4d9221"
            ],
            [
             1,
             "#276419"
            ]
           ],
           "sequential": [
            [
             0,
             "#0d0887"
            ],
            [
             0.1111111111111111,
             "#46039f"
            ],
            [
             0.2222222222222222,
             "#7201a8"
            ],
            [
             0.3333333333333333,
             "#9c179e"
            ],
            [
             0.4444444444444444,
             "#bd3786"
            ],
            [
             0.5555555555555556,
             "#d8576b"
            ],
            [
             0.6666666666666666,
             "#ed7953"
            ],
            [
             0.7777777777777778,
             "#fb9f3a"
            ],
            [
             0.8888888888888888,
             "#fdca26"
            ],
            [
             1,
             "#f0f921"
            ]
           ],
           "sequentialminus": [
            [
             0,
             "#0d0887"
            ],
            [
             0.1111111111111111,
             "#46039f"
            ],
            [
             0.2222222222222222,
             "#7201a8"
            ],
            [
             0.3333333333333333,
             "#9c179e"
            ],
            [
             0.4444444444444444,
             "#bd3786"
            ],
            [
             0.5555555555555556,
             "#d8576b"
            ],
            [
             0.6666666666666666,
             "#ed7953"
            ],
            [
             0.7777777777777778,
             "#fb9f3a"
            ],
            [
             0.8888888888888888,
             "#fdca26"
            ],
            [
             1,
             "#f0f921"
            ]
           ]
          },
          "colorway": [
           "#636efa",
           "#EF553B",
           "#00cc96",
           "#ab63fa",
           "#FFA15A",
           "#19d3f3",
           "#FF6692",
           "#B6E880",
           "#FF97FF",
           "#FECB52"
          ],
          "font": {
           "color": "#2a3f5f"
          },
          "geo": {
           "bgcolor": "white",
           "lakecolor": "white",
           "landcolor": "#E5ECF6",
           "showlakes": true,
           "showland": true,
           "subunitcolor": "white"
          },
          "hoverlabel": {
           "align": "left"
          },
          "hovermode": "closest",
          "mapbox": {
           "style": "light"
          },
          "paper_bgcolor": "white",
          "plot_bgcolor": "#E5ECF6",
          "polar": {
           "angularaxis": {
            "gridcolor": "white",
            "linecolor": "white",
            "ticks": ""
           },
           "bgcolor": "#E5ECF6",
           "radialaxis": {
            "gridcolor": "white",
            "linecolor": "white",
            "ticks": ""
           }
          },
          "scene": {
           "xaxis": {
            "backgroundcolor": "#E5ECF6",
            "gridcolor": "white",
            "gridwidth": 2,
            "linecolor": "white",
            "showbackground": true,
            "ticks": "",
            "zerolinecolor": "white"
           },
           "yaxis": {
            "backgroundcolor": "#E5ECF6",
            "gridcolor": "white",
            "gridwidth": 2,
            "linecolor": "white",
            "showbackground": true,
            "ticks": "",
            "zerolinecolor": "white"
           },
           "zaxis": {
            "backgroundcolor": "#E5ECF6",
            "gridcolor": "white",
            "gridwidth": 2,
            "linecolor": "white",
            "showbackground": true,
            "ticks": "",
            "zerolinecolor": "white"
           }
          },
          "shapedefaults": {
           "line": {
            "color": "#2a3f5f"
           }
          },
          "ternary": {
           "aaxis": {
            "gridcolor": "white",
            "linecolor": "white",
            "ticks": ""
           },
           "baxis": {
            "gridcolor": "white",
            "linecolor": "white",
            "ticks": ""
           },
           "bgcolor": "#E5ECF6",
           "caxis": {
            "gridcolor": "white",
            "linecolor": "white",
            "ticks": ""
           }
          },
          "title": {
           "x": 0.05
          },
          "xaxis": {
           "automargin": true,
           "gridcolor": "white",
           "linecolor": "white",
           "ticks": "",
           "title": {
            "standoff": 15
           },
           "zerolinecolor": "white",
           "zerolinewidth": 2
          },
          "yaxis": {
           "automargin": true,
           "gridcolor": "white",
           "linecolor": "white",
           "ticks": "",
           "title": {
            "standoff": 15
           },
           "zerolinecolor": "white",
           "zerolinewidth": 2
          }
         }
        },
        "title": {
         "text": "Supernova Classification Over Time"
        },
        "xaxis": {
         "title": {
          "text": "Alertes"
         }
        },
        "yaxis": {
         "range": [
          0,
          1
         ],
         "title": {
          "text": "Probability"
         }
        }
       }
      }
     },
     "metadata": {},
     "output_type": "display_data"
    },
    {
     "name": "stdout",
     "output_type": "stream",
     "text": [
      "Type 1: 17, Type 2: 15\n",
      "The object is a Other\n",
      "Type 1: 19.29237937927246, Type 2: 12.960378646850586\n",
      "Final prediction: Other\n",
      "       objectId true_class  nb_predictions_type_1  nb_predictions_type_2  \\\n",
      "0  ZTF17aaaocnx          -                     17                     15   \n",
      "\n",
      "   nb_type_1  nb_type_2  last_type_1_prediction  last_type_2_prediction  \\\n",
      "0  19.292379  12.960379                 0.11908                0.899307   \n",
      "\n",
      "  final_prediction_by_counts final_prediction_by_sum  \n",
      "0                      Other                   Other  \n",
      "True class: -\n"
     ]
    },
    {
     "name": "stderr",
     "output_type": "stream",
     "text": [
      "Processing alerts:   0%|          | 0/2 [00:00<?, ?it/s]"
     ]
    },
    {
     "name": "stdout",
     "output_type": "stream",
     "text": [
      "No valid index found in photometry for the given object_alerts\n",
      "Error processing object ZTF17aaaptxx: 'NoneType' object has no attribute 'groupby'\n"
     ]
    },
    {
     "name": "stderr",
     "output_type": "stream",
     "text": [
      "\n"
     ]
    },
    {
     "name": "stdout",
     "output_type": "stream",
     "text": [
      "True class: LBV\n"
     ]
    },
    {
     "name": "stderr",
     "output_type": "stream",
     "text": [
      "Processing alerts:  76%|███████▋  | 230/301 [00:48<00:14,  4.78it/s]\n"
     ]
    },
    {
     "name": "stdout",
     "output_type": "stream",
     "text": [
      "\u001b[1m8/8\u001b[0m \u001b[32m━━━━━━━━━━━━━━━━━━━━\u001b[0m\u001b[37m\u001b[0m \u001b[1m1s\u001b[0m 103ms/step\n"
     ]
    },
    {
     "data": {
      "application/vnd.plotly.v1+json": {
       "config": {
        "plotlyServerURL": "https://plot.ly"
       },
       "data": [
        {
         "fill": "tozeroy",
         "fillcolor": "orange",
         "hoverinfo": "text",
         "mode": "none",
         "name": "Other",
         "text": [
          "<br>Other: 99.2444%",
          "<br>Other: 99.624%",
          "<br>Other: 99.1296%",
          "<br>Other: 98.9066%",
          "<br>Other: 99.6007%",
          "<br>Other: 99.6372%",
          "<br>Other: 99.2511%",
          "<br>Other: 99.1302%",
          "<br>Other: 98.8034%",
          "<br>Other: 98.8738%",
          "<br>Other: 96.4355%",
          "<br>Other: 96.8131%",
          "<br>Other: 97.3826%",
          "<br>Other: 93.4818%",
          "<br>Other: 93.7902%",
          "<br>Other: 94.0439%",
          "<br>Other: 20.7735%",
          "<br>Other: 26.615%",
          "<br>Other: 81.0894%",
          "<br>Other: 25.7273%",
          "<br>Other: 21.959%",
          "<br>Other: 20.2642%",
          "<br>Other: 49.3361%",
          "<br>Other: 40.6979%",
          "<br>Other: 41.4265%",
          "<br>Other: 1.1806%",
          "<br>Other: 39.0914%",
          "<br>Other: 28.618%",
          "<br>Other: 5.4911%",
          "<br>Other: 28.6883%",
          "<br>Other: 28.9379%",
          "<br>Other: 26.5763%",
          "<br>Other: 2.5042%",
          "<br>Other: 17.2176%",
          "<br>Other: 15.9776%",
          "<br>Other: 16.2013%",
          "<br>Other: 0.7773%",
          "<br>Other: 1.4153%",
          "<br>Other: 56.8856%",
          "<br>Other: 20.051%",
          "<br>Other: 19.0929%",
          "<br>Other: 18.4778%",
          "<br>Other: 20.5132%",
          "<br>Other: 22.1608%",
          "<br>Other: 20.5143%",
          "<br>Other: 20.881%",
          "<br>Other: 20.8994%",
          "<br>Other: 23.7088%",
          "<br>Other: 24.1361%",
          "<br>Other: 20.3203%",
          "<br>Other: 24.9223%",
          "<br>Other: 25.7075%",
          "<br>Other: 24.4502%",
          "<br>Other: 31.9736%",
          "<br>Other: 26.6292%",
          "<br>Other: 27.0744%",
          "<br>Other: 28.6704%",
          "<br>Other: 21.9224%",
          "<br>Other: 26.6911%",
          "<br>Other: 26.2528%",
          "<br>Other: 22.4097%",
          "<br>Other: 25.7122%",
          "<br>Other: 32.8621%",
          "<br>Other: 24.7157%",
          "<br>Other: 19.9093%",
          "<br>Other: 19.7623%",
          "<br>Other: 19.2657%",
          "<br>Other: 26.2047%",
          "<br>Other: 21.9211%",
          "<br>Other: 30.0439%",
          "<br>Other: 27.6919%",
          "<br>Other: 21.3676%",
          "<br>Other: 19.9587%",
          "<br>Other: 18.2455%",
          "<br>Other: 18.5314%",
          "<br>Other: 30.8631%",
          "<br>Other: 26.0356%",
          "<br>Other: 21.1486%",
          "<br>Other: 20.8219%",
          "<br>Other: 21.1322%",
          "<br>Other: 18.1982%",
          "<br>Other: 20.6125%",
          "<br>Other: 17.0252%",
          "<br>Other: 17.731%",
          "<br>Other: 12.8925%",
          "<br>Other: 17.196%",
          "<br>Other: 16.9632%",
          "<br>Other: 15.8584%",
          "<br>Other: 16.8967%",
          "<br>Other: 14.471%",
          "<br>Other: 16.102%",
          "<br>Other: 20.166%",
          "<br>Other: 19.298%",
          "<br>Other: 15.6834%",
          "<br>Other: 15.9288%",
          "<br>Other: 21.5104%",
          "<br>Other: 21.0454%",
          "<br>Other: 15.015%",
          "<br>Other: 16.3555%",
          "<br>Other: 15.8139%",
          "<br>Other: 16.5854%",
          "<br>Other: 10.2263%",
          "<br>Other: 17.9487%",
          "<br>Other: 20.4003%",
          "<br>Other: 18.6524%",
          "<br>Other: 16.4034%",
          "<br>Other: 17.8723%",
          "<br>Other: 20.0097%",
          "<br>Other: 14.9669%",
          "<br>Other: 16.2094%",
          "<br>Other: 14.9848%",
          "<br>Other: 14.3872%",
          "<br>Other: 14.6534%",
          "<br>Other: 14.3758%",
          "<br>Other: 14.1413%",
          "<br>Other: 13.6225%",
          "<br>Other: 17.3059%",
          "<br>Other: 15.6291%",
          "<br>Other: 16.9324%",
          "<br>Other: 19.8364%",
          "<br>Other: 16.898%",
          "<br>Other: 15.0968%",
          "<br>Other: 16.083%",
          "<br>Other: 19.6761%",
          "<br>Other: 15.4617%",
          "<br>Other: 19.2346%",
          "<br>Other: 14.2542%",
          "<br>Other: 14.4075%",
          "<br>Other: 13.9156%",
          "<br>Other: 12.8212%",
          "<br>Other: 13.4302%",
          "<br>Other: 15.5367%",
          "<br>Other: 16.0783%",
          "<br>Other: 14.6441%",
          "<br>Other: 15.0934%",
          "<br>Other: 15.1895%",
          "<br>Other: 14.7371%",
          "<br>Other: 26.8029%",
          "<br>Other: 22.0416%",
          "<br>Other: 18.3437%",
          "<br>Other: 20.3033%",
          "<br>Other: 14.3981%",
          "<br>Other: 17.6654%",
          "<br>Other: 12.5349%",
          "<br>Other: 11.2464%",
          "<br>Other: 15.9342%",
          "<br>Other: 13.5522%",
          "<br>Other: 7.9418%",
          "<br>Other: 11.9931%",
          "<br>Other: 9.9509%",
          "<br>Other: 12.2359%",
          "<br>Other: 15.2189%",
          "<br>Other: 26.1722%",
          "<br>Other: 16.7119%",
          "<br>Other: 11.5682%",
          "<br>Other: 14.7781%",
          "<br>Other: 4.4205%",
          "<br>Other: 19.3604%",
          "<br>Other: 10.2701%",
          "<br>Other: 14.8592%",
          "<br>Other: 14.5535%",
          "<br>Other: 10.9913%",
          "<br>Other: 21.5265%",
          "<br>Other: 17.645%",
          "<br>Other: 19.5165%",
          "<br>Other: 18.5193%",
          "<br>Other: 18.0151%",
          "<br>Other: 16.0834%",
          "<br>Other: 13.6711%",
          "<br>Other: 18.3963%",
          "<br>Other: 27.9598%",
          "<br>Other: 26.428%",
          "<br>Other: 29.1471%",
          "<br>Other: 16.6604%",
          "<br>Other: 30.8582%",
          "<br>Other: 28.8638%",
          "<br>Other: 36.2865%",
          "<br>Other: 17.1778%",
          "<br>Other: 27.9395%",
          "<br>Other: 27.2973%",
          "<br>Other: 11.3187%",
          "<br>Other: 39.2468%",
          "<br>Other: 35.5428%",
          "<br>Other: 14.4173%",
          "<br>Other: 16.3153%",
          "<br>Other: 27.8628%",
          "<br>Other: 16.01%",
          "<br>Other: 14.2464%",
          "<br>Other: 29.9692%",
          "<br>Other: 23.0295%",
          "<br>Other: 33.3323%",
          "<br>Other: 38.4592%",
          "<br>Other: 29.6152%",
          "<br>Other: 55.8037%",
          "<br>Other: 40.8971%",
          "<br>Other: 49.9345%",
          "<br>Other: 17.2605%",
          "<br>Other: 34.8557%",
          "<br>Other: 14.0593%",
          "<br>Other: 14.6048%",
          "<br>Other: 35.2383%",
          "<br>Other: 14.651%",
          "<br>Other: 17.3092%",
          "<br>Other: 34.7556%",
          "<br>Other: 42.1736%",
          "<br>Other: 17.774%",
          "<br>Other: 16.9597%",
          "<br>Other: 23.9517%",
          "<br>Other: 33.5419%",
          "<br>Other: 4.9773%",
          "<br>Other: 5.8261%",
          "<br>Other: 14.7737%",
          "<br>Other: 16.7354%",
          "<br>Other: 45.8256%",
          "<br>Other: 23.8777%",
          "<br>Other: 14.2147%",
          "<br>Other: 41.4512%",
          "<br>Other: 53.8031%",
          "<br>Other: 19.2817%",
          "<br>Other: 15.5883%",
          "<br>Other: 34.5338%",
          "<br>Other: 32.245%",
          "<br>Other: 45.3349%",
          "<br>Other: 39.0607%",
          "<br>Other: 11.9407%",
          "<br>Other: 8.9708%",
          "<br>Other: 14.8588%",
          "<br>Other: 15.5604%"
         ],
         "type": "scatter",
         "x": [
          71,
          72,
          73,
          74,
          75,
          76,
          77,
          78,
          79,
          80,
          81,
          82,
          83,
          84,
          85,
          86,
          87,
          88,
          89,
          90,
          91,
          92,
          93,
          94,
          95,
          96,
          97,
          98,
          99,
          100,
          101,
          102,
          103,
          104,
          105,
          106,
          107,
          108,
          109,
          110,
          111,
          112,
          113,
          114,
          115,
          116,
          117,
          118,
          119,
          120,
          121,
          122,
          123,
          124,
          125,
          126,
          127,
          128,
          129,
          130,
          131,
          132,
          133,
          134,
          135,
          136,
          137,
          138,
          139,
          140,
          141,
          142,
          143,
          144,
          145,
          146,
          147,
          148,
          149,
          150,
          151,
          152,
          153,
          154,
          155,
          156,
          157,
          158,
          159,
          160,
          161,
          162,
          163,
          164,
          165,
          166,
          167,
          168,
          169,
          170,
          171,
          172,
          173,
          174,
          175,
          176,
          177,
          178,
          179,
          180,
          181,
          182,
          183,
          184,
          185,
          186,
          187,
          188,
          189,
          190,
          191,
          192,
          193,
          194,
          195,
          196,
          197,
          198,
          199,
          200,
          201,
          202,
          203,
          204,
          205,
          206,
          207,
          208,
          209,
          210,
          211,
          212,
          213,
          214,
          215,
          216,
          217,
          218,
          219,
          220,
          221,
          222,
          223,
          224,
          225,
          226,
          227,
          228,
          229,
          232,
          233,
          234,
          235,
          236,
          237,
          238,
          239,
          240,
          241,
          242,
          243,
          244,
          245,
          246,
          247,
          248,
          249,
          250,
          251,
          252,
          253,
          254,
          255,
          256,
          257,
          258,
          259,
          260,
          261,
          262,
          263,
          264,
          265,
          266,
          267,
          268,
          269,
          270,
          271,
          272,
          273,
          274,
          275,
          276,
          277,
          278,
          279,
          280,
          281,
          282,
          283,
          284,
          285,
          286,
          287,
          288,
          289,
          290,
          291,
          292,
          293,
          294,
          295,
          296,
          297,
          298,
          299,
          300
         ],
         "y": [
          0.9924435019493103,
          0.996240496635437,
          0.9912964701652527,
          0.989066481590271,
          0.9960070848464966,
          0.996372401714325,
          0.9925113916397095,
          0.9913023114204407,
          0.9880337119102478,
          0.9887380599975586,
          0.96435546875,
          0.9681309461593628,
          0.9738258719444275,
          0.9348177313804626,
          0.9379015564918518,
          0.9404385685920715,
          0.20773504674434662,
          0.26614999771118164,
          0.8108938932418823,
          0.2572728097438812,
          0.21959027647972107,
          0.20264241099357605,
          0.493361234664917,
          0.4069792926311493,
          0.41426539421081543,
          0.011806069873273373,
          0.39091402292251587,
          0.28618040680885315,
          0.054910991340875626,
          0.28688305616378784,
          0.28937917947769165,
          0.2657625079154968,
          0.025041529908776283,
          0.1721763014793396,
          0.1597760170698166,
          0.1620127111673355,
          0.007773291319608688,
          0.014153411611914635,
          0.5688563585281372,
          0.20050972700119019,
          0.19092883169651031,
          0.18477798998355865,
          0.20513185858726501,
          0.2216082215309143,
          0.20514285564422607,
          0.20881035923957825,
          0.2089935690164566,
          0.23708781599998474,
          0.24136148393154144,
          0.20320336520671844,
          0.24922260642051697,
          0.25707513093948364,
          0.2445020079612732,
          0.3197357952594757,
          0.266292005777359,
          0.27074387669563293,
          0.2867036759853363,
          0.21922387182712555,
          0.2669108211994171,
          0.26252827048301697,
          0.22409650683403015,
          0.25712165236473083,
          0.32862114906311035,
          0.2471565157175064,
          0.1990930587053299,
          0.1976233720779419,
          0.19265669584274292,
          0.2620471119880676,
          0.2192111313343048,
          0.3004389703273773,
          0.2769186496734619,
          0.21367627382278442,
          0.1995869129896164,
          0.18245546519756317,
          0.18531423807144165,
          0.3086313307285309,
          0.26035553216934204,
          0.21148629486560822,
          0.2082185000181198,
          0.21132218837738037,
          0.18198201060295105,
          0.2061251550912857,
          0.17025244235992432,
          0.1773103028535843,
          0.12892483174800873,
          0.17195957899093628,
          0.16963203251361847,
          0.15858381986618042,
          0.16896724700927734,
          0.14471028745174408,
          0.16101977229118347,
          0.20165982842445374,
          0.19298025965690613,
          0.15683388710021973,
          0.15928815305233002,
          0.21510443091392517,
          0.21045441925525665,
          0.15014973282814026,
          0.16355514526367188,
          0.1581386774778366,
          0.16585366427898407,
          0.10226254165172577,
          0.1794872283935547,
          0.20400293171405792,
          0.1865241974592209,
          0.16403396427631378,
          0.17872337996959686,
          0.20009708404541016,
          0.14966942369937897,
          0.16209419071674347,
          0.14984755218029022,
          0.14387190341949463,
          0.14653438329696655,
          0.14375846087932587,
          0.14141304790973663,
          0.1362251192331314,
          0.1730591058731079,
          0.1562911719083786,
          0.16932423412799835,
          0.1983635276556015,
          0.16897964477539062,
          0.1509675234556198,
          0.16082966327667236,
          0.19676081836223602,
          0.15461739897727966,
          0.1923462152481079,
          0.1425415575504303,
          0.14407525956630707,
          0.13915565609931946,
          0.1282116323709488,
          0.13430160284042358,
          0.15536700189113617,
          0.1607826054096222,
          0.14644134044647217,
          0.15093359351158142,
          0.15189500153064728,
          0.14737099409103394,
          0.2680286765098572,
          0.22041557729244232,
          0.1834372729063034,
          0.2030334770679474,
          0.1439809799194336,
          0.17665421962738037,
          0.12534905970096588,
          0.11246418952941895,
          0.15934224426746368,
          0.1355215609073639,
          0.0794176459312439,
          0.119930699467659,
          0.09950920194387436,
          0.12235872447490692,
          0.1521889865398407,
          0.26172229647636414,
          0.16711892187595367,
          0.1156817302107811,
          0.14778146147727966,
          0.04420462250709534,
          0.1936035454273224,
          0.10270140320062637,
          0.14859165251255035,
          0.14553511142730713,
          0.1099134236574173,
          0.21526499092578888,
          0.17645031213760376,
          0.19516508281230927,
          0.18519315123558044,
          0.1801505982875824,
          0.16083425283432007,
          0.13671088218688965,
          0.18396325409412384,
          0.27959784865379333,
          0.26427969336509705,
          0.2914709746837616,
          0.16660425066947937,
          0.3085815906524658,
          0.2886378765106201,
          0.3628653883934021,
          0.17177802324295044,
          0.27939504384994507,
          0.2729727029800415,
          0.11318667978048325,
          0.3924684226512909,
          0.3554275333881378,
          0.14417299628257751,
          0.163153275847435,
          0.2786276340484619,
          0.16009962558746338,
          0.14246442914009094,
          0.2996920049190521,
          0.23029452562332153,
          0.3333234190940857,
          0.3845917880535126,
          0.2961524426937103,
          0.5580369234085083,
          0.4089711904525757,
          0.4993451237678528,
          0.1726050078868866,
          0.34855663776397705,
          0.14059287309646606,
          0.1460484266281128,
          0.35238295793533325,
          0.14650970697402954,
          0.1730915755033493,
          0.3475562334060669,
          0.42173632979393005,
          0.1777401864528656,
          0.1695970594882965,
          0.23951664566993713,
          0.3354185223579407,
          0.04977283999323845,
          0.058261383324861526,
          0.14773650467395782,
          0.16735386848449707,
          0.4582560658454895,
          0.23877675831317902,
          0.14214666187763214,
          0.41451236605644226,
          0.5380311012268066,
          0.19281719624996185,
          0.15588253736495972,
          0.34533828496932983,
          0.3224503993988037,
          0.4533485174179077,
          0.3906067907810211,
          0.11940684914588928,
          0.08970792591571808,
          0.14858824014663696,
          0.15560413897037506
         ]
        },
        {
         "fill": "tonexty",
         "fillcolor": "blue",
         "hoverinfo": "text",
         "mode": "none",
         "name": "SN",
         "text": [
          "Alerte: 71<br>Prediction: Other<br>---<br>ztfr: 3 | ztfg: 0 | ztfi: 0<br>---<br>SN: 0.729%",
          "Alerte: 72<br>Prediction: Other<br>---<br>ztfr: 3 | ztfg: 0 | ztfi: 0<br>---<br>SN: 0.3621%",
          "Alerte: 73<br>Prediction: Other<br>---<br>ztfr: 3 | ztfg: 0 | ztfi: 0<br>---<br>SN: 0.8399%",
          "Alerte: 74<br>Prediction: Other<br>---<br>ztfr: 4 | ztfg: 0 | ztfi: 0<br>---<br>SN: 1.0801%",
          "Alerte: 75<br>Prediction: Other<br>---<br>ztfr: 4 | ztfg: 0 | ztfi: 0<br>---<br>SN: 0.3936%",
          "Alerte: 76<br>Prediction: Other<br>---<br>ztfr: 4 | ztfg: 0 | ztfi: 0<br>---<br>SN: 0.3575%",
          "Alerte: 77<br>Prediction: Other<br>---<br>ztfr: 3 | ztfg: 0 | ztfi: 0<br>---<br>SN: 0.7224%",
          "Alerte: 78<br>Prediction: Other<br>---<br>ztfr: 5 | ztfg: 0 | ztfi: 0<br>---<br>SN: 0.8564%",
          "Alerte: 79<br>Prediction: Other<br>---<br>ztfr: 5 | ztfg: 0 | ztfi: 0<br>---<br>SN: 1.179%",
          "Alerte: 80<br>Prediction: Other<br>---<br>ztfr: 5 | ztfg: 0 | ztfi: 0<br>---<br>SN: 1.1095%",
          "Alerte: 81<br>Prediction: Other<br>---<br>ztfr: 6 | ztfg: 0 | ztfi: 0<br>---<br>SN: 3.3768%",
          "Alerte: 82<br>Prediction: Other<br>---<br>ztfr: 6 | ztfg: 0 | ztfi: 0<br>---<br>SN: 3.0178%",
          "Alerte: 83<br>Prediction: Other<br>---<br>ztfr: 6 | ztfg: 0 | ztfi: 0<br>---<br>SN: 2.4768%",
          "Alerte: 84<br>Prediction: Other<br>---<br>ztfr: 7 | ztfg: 0 | ztfi: 0<br>---<br>SN: 6.6428%",
          "Alerte: 85<br>Prediction: Other<br>---<br>ztfr: 7 | ztfg: 0 | ztfi: 0<br>---<br>SN: 6.3284%",
          "Alerte: 86<br>Prediction: Other<br>---<br>ztfr: 7 | ztfg: 0 | ztfi: 0<br>---<br>SN: 6.0696%",
          "Alerte: 87<br>Prediction: SN<br>---<br>ztfr: 8 | ztfg: 1 | ztfi: 0<br>---<br>SN: 77.343%",
          "Alerte: 88<br>Prediction: SN<br>---<br>ztfr: 8 | ztfg: 1 | ztfi: 0<br>---<br>SN: 71.1514%",
          "Alerte: 89<br>Prediction: Other<br>---<br>ztfr: 8 | ztfg: 0 | ztfi: 0<br>---<br>SN: 18.5447%",
          "Alerte: 90<br>Prediction: SN<br>---<br>ztfr: 8 | ztfg: 1 | ztfi: 0<br>---<br>SN: 72.0871%",
          "Alerte: 91<br>Prediction: SN<br>---<br>ztfr: 8 | ztfg: 1 | ztfi: 0<br>---<br>SN: 76.0799%",
          "Alerte: 92<br>Prediction: SN<br>---<br>ztfr: 8 | ztfg: 1 | ztfi: 0<br>---<br>SN: 77.8867%",
          "Alerte: 93<br>Prediction: Other<br>---<br>ztfr: 9 | ztfg: 1 | ztfi: 0<br>---<br>SN: 47.7938%",
          "Alerte: 94<br>Prediction: SN<br>---<br>ztfr: 9 | ztfg: 1 | ztfi: 0<br>---<br>SN: 56.5203%",
          "Alerte: 95<br>Prediction: SN<br>---<br>ztfr: 9 | ztfg: 1 | ztfi: 0<br>---<br>SN: 55.7775%",
          "Alerte: 96<br>Prediction: SN<br>---<br>ztfr: 14 | ztfg: 2 | ztfi: 0<br>---<br>SN: 98.7557%",
          "Alerte: 97<br>Prediction: SN<br>---<br>ztfr: 9 | ztfg: 1 | ztfi: 0<br>---<br>SN: 58.1624%",
          "Alerte: 98<br>Prediction: SN<br>---<br>ztfr: 10 | ztfg: 1 | ztfi: 0<br>---<br>SN: 69.0598%",
          "Alerte: 99<br>Prediction: SN<br>---<br>ztfr: 15 | ztfg: 2 | ztfi: 0<br>---<br>SN: 94.0393%",
          "Alerte: 100<br>Prediction: SN<br>---<br>ztfr: 10 | ztfg: 1 | ztfi: 0<br>---<br>SN: 68.9861%",
          "Alerte: 101<br>Prediction: SN<br>---<br>ztfr: 10 | ztfg: 1 | ztfi: 0<br>---<br>SN: 68.7247%",
          "Alerte: 102<br>Prediction: SN<br>---<br>ztfr: 10 | ztfg: 1 | ztfi: 0<br>---<br>SN: 71.2046%",
          "Alerte: 103<br>Prediction: SN<br>---<br>ztfr: 11 | ztfg: 1 | ztfi: 0<br>---<br>SN: 97.0075%",
          "Alerte: 104<br>Prediction: SN<br>---<br>ztfr: 11 | ztfg: 2 | ztfi: 0<br>---<br>SN: 80.5964%",
          "Alerte: 105<br>Prediction: SN<br>---<br>ztfr: 11 | ztfg: 2 | ztfi: 0<br>---<br>SN: 81.9622%",
          "Alerte: 106<br>Prediction: SN<br>---<br>ztfr: 11 | ztfg: 2 | ztfi: 0<br>---<br>SN: 81.7154%",
          "Alerte: 107<br>Prediction: SN<br>---<br>ztfr: 12 | ztfg: 2 | ztfi: 0<br>---<br>SN: 99.1956%",
          "Alerte: 108<br>Prediction: SN<br>---<br>ztfr: 13 | ztfg: 2 | ztfi: 0<br>---<br>SN: 98.5139%",
          "Alerte: 109<br>Prediction: Other<br>---<br>ztfr: 16 | ztfg: 2 | ztfi: 0<br>---<br>SN: 39.9276%",
          "Alerte: 110<br>Prediction: SN<br>---<br>ztfr: 17 | ztfg: 2 | ztfi: 0<br>---<br>SN: 76.0665%",
          "Alerte: 111<br>Prediction: SN<br>---<br>ztfr: 17 | ztfg: 2 | ztfi: 0<br>---<br>SN: 77.1592%",
          "Alerte: 112<br>Prediction: SN<br>---<br>ztfr: 18 | ztfg: 2 | ztfi: 0<br>---<br>SN: 77.8459%",
          "Alerte: 113<br>Prediction: SN<br>---<br>ztfr: 18 | ztfg: 2 | ztfi: 0<br>---<br>SN: 75.5223%",
          "Alerte: 114<br>Prediction: SN<br>---<br>ztfr: 19 | ztfg: 2 | ztfi: 0<br>---<br>SN: 73.7065%",
          "Alerte: 115<br>Prediction: SN<br>---<br>ztfr: 19 | ztfg: 2 | ztfi: 0<br>---<br>SN: 75.5673%",
          "Alerte: 116<br>Prediction: SN<br>---<br>ztfr: 19 | ztfg: 2 | ztfi: 0<br>---<br>SN: 75.1516%",
          "Alerte: 117<br>Prediction: SN<br>---<br>ztfr: 19 | ztfg: 2 | ztfi: 0<br>---<br>SN: 75.1309%",
          "Alerte: 118<br>Prediction: SN<br>---<br>ztfr: 20 | ztfg: 3 | ztfi: 0<br>---<br>SN: 72.2137%",
          "Alerte: 119<br>Prediction: SN<br>---<br>ztfr: 21 | ztfg: 3 | ztfi: 0<br>---<br>SN: 71.7401%",
          "Alerte: 120<br>Prediction: SN<br>---<br>ztfr: 19 | ztfg: 2 | ztfi: 0<br>---<br>SN: 75.7875%",
          "Alerte: 121<br>Prediction: SN<br>---<br>ztfr: 21 | ztfg: 3 | ztfi: 0<br>---<br>SN: 70.8695%",
          "Alerte: 122<br>Prediction: SN<br>---<br>ztfr: 21 | ztfg: 3 | ztfi: 0<br>---<br>SN: 70.0029%",
          "Alerte: 123<br>Prediction: SN<br>---<br>ztfr: 22 | ztfg: 3 | ztfi: 0<br>---<br>SN: 71.4335%",
          "Alerte: 124<br>Prediction: SN<br>---<br>ztfr: 22 | ztfg: 3 | ztfi: 0<br>---<br>SN: 63.2422%",
          "Alerte: 125<br>Prediction: SN<br>---<br>ztfr: 23 | ztfg: 3 | ztfi: 0<br>---<br>SN: 69.0837%",
          "Alerte: 126<br>Prediction: SN<br>---<br>ztfr: 23 | ztfg: 3 | ztfi: 0<br>---<br>SN: 68.5966%",
          "Alerte: 127<br>Prediction: SN<br>---<br>ztfr: 24 | ztfg: 3 | ztfi: 0<br>---<br>SN: 66.8652%",
          "Alerte: 128<br>Prediction: SN<br>---<br>ztfr: 25 | ztfg: 4 | ztfi: 0<br>---<br>SN: 74.2451%",
          "Alerte: 129<br>Prediction: SN<br>---<br>ztfr: 26 | ztfg: 4 | ztfi: 0<br>---<br>SN: 68.8687%",
          "Alerte: 130<br>Prediction: SN<br>---<br>ztfr: 26 | ztfg: 4 | ztfi: 0<br>---<br>SN: 69.3503%",
          "Alerte: 131<br>Prediction: SN<br>---<br>ztfr: 28 | ztfg: 6 | ztfi: 0<br>---<br>SN: 73.3152%",
          "Alerte: 132<br>Prediction: SN<br>---<br>ztfr: 28 | ztfg: 7 | ztfi: 0<br>---<br>SN: 69.6046%",
          "Alerte: 133<br>Prediction: SN<br>---<br>ztfr: 28 | ztfg: 7 | ztfi: 0<br>---<br>SN: 61.8053%",
          "Alerte: 134<br>Prediction: SN<br>---<br>ztfr: 27 | ztfg: 6 | ztfi: 0<br>---<br>SN: 70.8814%",
          "Alerte: 135<br>Prediction: SN<br>---<br>ztfr: 28 | ztfg: 7 | ztfi: 0<br>---<br>SN: 76.1367%",
          "Alerte: 136<br>Prediction: SN<br>---<br>ztfr: 29 | ztfg: 7 | ztfi: 0<br>---<br>SN: 76.3301%",
          "Alerte: 137<br>Prediction: SN<br>---<br>ztfr: 29 | ztfg: 7 | ztfi: 0<br>---<br>SN: 76.8978%",
          "Alerte: 138<br>Prediction: SN<br>---<br>ztfr: 30 | ztfg: 7 | ztfi: 0<br>---<br>SN: 69.0479%",
          "Alerte: 139<br>Prediction: SN<br>---<br>ztfr: 30 | ztfg: 7 | ztfi: 0<br>---<br>SN: 73.8414%",
          "Alerte: 140<br>Prediction: SN<br>---<br>ztfr: 31 | ztfg: 7 | ztfi: 0<br>---<br>SN: 64.8037%",
          "Alerte: 141<br>Prediction: SN<br>---<br>ztfr: 27 | ztfg: 5 | ztfi: 0<br>---<br>SN: 67.6254%",
          "Alerte: 142<br>Prediction: SN<br>---<br>ztfr: 31 | ztfg: 7 | ztfi: 0<br>---<br>SN: 74.4413%",
          "Alerte: 143<br>Prediction: SN<br>---<br>ztfr: 31 | ztfg: 7 | ztfi: 0<br>---<br>SN: 76.0455%",
          "Alerte: 144<br>Prediction: SN<br>---<br>ztfr: 32 | ztfg: 7 | ztfi: 0<br>---<br>SN: 77.9961%",
          "Alerte: 145<br>Prediction: SN<br>---<br>ztfr: 32 | ztfg: 7 | ztfi: 0<br>---<br>SN: 77.6667%",
          "Alerte: 146<br>Prediction: SN<br>---<br>ztfr: 27 | ztfg: 6 | ztfi: 0<br>---<br>SN: 64.1461%",
          "Alerte: 147<br>Prediction: SN<br>---<br>ztfr: 28 | ztfg: 6 | ztfi: 0<br>---<br>SN: 69.2631%",
          "Alerte: 148<br>Prediction: SN<br>---<br>ztfr: 32 | ztfg: 7 | ztfi: 0<br>---<br>SN: 74.6732%",
          "Alerte: 149<br>Prediction: SN<br>---<br>ztfr: 32 | ztfg: 7 | ztfi: 0<br>---<br>SN: 75.0449%",
          "Alerte: 150<br>Prediction: SN<br>---<br>ztfr: 33 | ztfg: 7 | ztfi: 0<br>---<br>SN: 74.6454%",
          "Alerte: 151<br>Prediction: SN<br>---<br>ztfr: 34 | ztfg: 7 | ztfi: 0<br>---<br>SN: 77.9956%",
          "Alerte: 152<br>Prediction: SN<br>---<br>ztfr: 37 | ztfg: 8 | ztfi: 0<br>---<br>SN: 74.9541%",
          "Alerte: 153<br>Prediction: SN<br>---<br>ztfr: 34 | ztfg: 7 | ztfi: 0<br>---<br>SN: 79.3546%",
          "Alerte: 154<br>Prediction: SN<br>---<br>ztfr: 34 | ztfg: 7 | ztfi: 0<br>---<br>SN: 78.536%",
          "Alerte: 155<br>Prediction: SN<br>---<br>ztfr: 35 | ztfg: 7 | ztfi: 0<br>---<br>SN: 84.0837%",
          "Alerte: 156<br>Prediction: SN<br>---<br>ztfr: 36 | ztfg: 7 | ztfi: 0<br>---<br>SN: 78.9402%",
          "Alerte: 157<br>Prediction: SN<br>---<br>ztfr: 37 | ztfg: 8 | ztfi: 0<br>---<br>SN: 79.1904%",
          "Alerte: 158<br>Prediction: SN<br>---<br>ztfr: 37 | ztfg: 8 | ztfi: 0<br>---<br>SN: 80.4894%",
          "Alerte: 159<br>Prediction: SN<br>---<br>ztfr: 38 | ztfg: 8 | ztfi: 0<br>---<br>SN: 79.2263%",
          "Alerte: 160<br>Prediction: SN<br>---<br>ztfr: 36 | ztfg: 8 | ztfi: 0<br>---<br>SN: 82.1647%",
          "Alerte: 161<br>Prediction: SN<br>---<br>ztfr: 38 | ztfg: 8 | ztfi: 0<br>---<br>SN: 80.1617%",
          "Alerte: 162<br>Prediction: SN<br>---<br>ztfr: 38 | ztfg: 10 | ztfi: 0<br>---<br>SN: 75.5688%",
          "Alerte: 163<br>Prediction: SN<br>---<br>ztfr: 38 | ztfg: 11 | ztfi: 0<br>---<br>SN: 76.6138%",
          "Alerte: 164<br>Prediction: SN<br>---<br>ztfr: 38 | ztfg: 11 | ztfi: 0<br>---<br>SN: 80.8199%",
          "Alerte: 165<br>Prediction: SN<br>---<br>ztfr: 39 | ztfg: 11 | ztfi: 0<br>---<br>SN: 80.4826%",
          "Alerte: 166<br>Prediction: SN<br>---<br>ztfr: 39 | ztfg: 11 | ztfi: 0<br>---<br>SN: 74.0177%",
          "Alerte: 167<br>Prediction: SN<br>---<br>ztfr: 38 | ztfg: 11 | ztfi: 0<br>---<br>SN: 74.6085%",
          "Alerte: 168<br>Prediction: SN<br>---<br>ztfr: 39 | ztfg: 12 | ztfi: 0<br>---<br>SN: 81.5432%",
          "Alerte: 169<br>Prediction: SN<br>---<br>ztfr: 38 | ztfg: 9 | ztfi: 0<br>---<br>SN: 79.9096%",
          "Alerte: 170<br>Prediction: SN<br>---<br>ztfr: 39 | ztfg: 11 | ztfi: 0<br>---<br>SN: 80.6177%",
          "Alerte: 171<br>Prediction: SN<br>---<br>ztfr: 39 | ztfg: 11 | ztfi: 0<br>---<br>SN: 79.7123%",
          "Alerte: 172<br>Prediction: SN<br>---<br>ztfr: 38 | ztfg: 10 | ztfi: 0<br>---<br>SN: 87.2934%",
          "Alerte: 173<br>Prediction: SN<br>---<br>ztfr: 38 | ztfg: 10 | ztfi: 0<br>---<br>SN: 78.1315%",
          "Alerte: 174<br>Prediction: SN<br>---<br>ztfr: 39 | ztfg: 12 | ztfi: 0<br>---<br>SN: 75.2686%",
          "Alerte: 175<br>Prediction: SN<br>---<br>ztfr: 39 | ztfg: 13 | ztfi: 0<br>---<br>SN: 77.2945%",
          "Alerte: 176<br>Prediction: SN<br>---<br>ztfr: 39 | ztfg: 13 | ztfi: 0<br>---<br>SN: 79.9165%",
          "Alerte: 177<br>Prediction: SN<br>---<br>ztfr: 39 | ztfg: 14 | ztfi: 0<br>---<br>SN: 78.2896%",
          "Alerte: 178<br>Prediction: SN<br>---<br>ztfr: 40 | ztfg: 15 | ztfi: 0<br>---<br>SN: 75.6976%",
          "Alerte: 179<br>Prediction: SN<br>---<br>ztfr: 40 | ztfg: 16 | ztfi: 0<br>---<br>SN: 81.5834%",
          "Alerte: 180<br>Prediction: SN<br>---<br>ztfr: 40 | ztfg: 16 | ztfi: 0<br>---<br>SN: 80.1185%",
          "Alerte: 181<br>Prediction: SN<br>---<br>ztfr: 39 | ztfg: 14 | ztfi: 0<br>---<br>SN: 81.6651%",
          "Alerte: 182<br>Prediction: SN<br>---<br>ztfr: 41 | ztfg: 16 | ztfi: 0<br>---<br>SN: 82.2512%",
          "Alerte: 183<br>Prediction: SN<br>---<br>ztfr: 43 | ztfg: 16 | ztfi: 0<br>---<br>SN: 81.9543%",
          "Alerte: 184<br>Prediction: SN<br>---<br>ztfr: 44 | ztfg: 16 | ztfi: 0<br>---<br>SN: 82.2711%",
          "Alerte: 185<br>Prediction: SN<br>---<br>ztfr: 42 | ztfg: 16 | ztfi: 0<br>---<br>SN: 82.5426%",
          "Alerte: 186<br>Prediction: SN<br>---<br>ztfr: 42 | ztfg: 16 | ztfi: 0<br>---<br>SN: 83.1604%",
          "Alerte: 187<br>Prediction: SN<br>---<br>ztfr: 43 | ztfg: 16 | ztfi: 0<br>---<br>SN: 78.8334%",
          "Alerte: 188<br>Prediction: SN<br>---<br>ztfr: 44 | ztfg: 16 | ztfi: 0<br>---<br>SN: 80.788%",
          "Alerte: 189<br>Prediction: SN<br>---<br>ztfr: 44 | ztfg: 16 | ztfi: 0<br>---<br>SN: 79.2562%",
          "Alerte: 190<br>Prediction: SN<br>---<br>ztfr: 44 | ztfg: 17 | ztfi: 0<br>---<br>SN: 75.8963%",
          "Alerte: 191<br>Prediction: SN<br>---<br>ztfr: 44 | ztfg: 17 | ztfi: 0<br>---<br>SN: 79.3101%",
          "Alerte: 192<br>Prediction: SN<br>---<br>ztfr: 45 | ztfg: 17 | ztfi: 0<br>---<br>SN: 81.435%",
          "Alerte: 193<br>Prediction: SN<br>---<br>ztfr: 44 | ztfg: 17 | ztfi: 0<br>---<br>SN: 80.2664%",
          "Alerte: 194<br>Prediction: SN<br>---<br>ztfr: 45 | ztfg: 18 | ztfi: 0<br>---<br>SN: 76.0912%",
          "Alerte: 195<br>Prediction: SN<br>---<br>ztfr: 45 | ztfg: 18 | ztfi: 0<br>---<br>SN: 81.0066%",
          "Alerte: 196<br>Prediction: SN<br>---<br>ztfr: 45 | ztfg: 18 | ztfi: 0<br>---<br>SN: 76.601%",
          "Alerte: 197<br>Prediction: SN<br>---<br>ztfr: 45 | ztfg: 18 | ztfi: 0<br>---<br>SN: 82.4355%",
          "Alerte: 198<br>Prediction: SN<br>---<br>ztfr: 46 | ztfg: 18 | ztfi: 0<br>---<br>SN: 82.2308%",
          "Alerte: 199<br>Prediction: SN<br>---<br>ztfr: 47 | ztfg: 18 | ztfi: 0<br>---<br>SN: 82.8108%",
          "Alerte: 200<br>Prediction: SN<br>---<br>ztfr: 47 | ztfg: 18 | ztfi: 0<br>---<br>SN: 84.1177%",
          "Alerte: 201<br>Prediction: SN<br>---<br>ztfr: 47 | ztfg: 18 | ztfi: 0<br>---<br>SN: 83.3895%",
          "Alerte: 202<br>Prediction: SN<br>---<br>ztfr: 45 | ztfg: 18 | ztfi: 0<br>---<br>SN: 80.9182%",
          "Alerte: 203<br>Prediction: SN<br>---<br>ztfr: 47 | ztfg: 18 | ztfi: 0<br>---<br>SN: 80.2506%",
          "Alerte: 204<br>Prediction: SN<br>---<br>ztfr: 48 | ztfg: 19 | ztfi: 0<br>---<br>SN: 81.7864%",
          "Alerte: 205<br>Prediction: SN<br>---<br>ztfr: 48 | ztfg: 19 | ztfi: 0<br>---<br>SN: 81.2507%",
          "Alerte: 206<br>Prediction: SN<br>---<br>ztfr: 48 | ztfg: 18 | ztfi: 0<br>---<br>SN: 81.2635%",
          "Alerte: 207<br>Prediction: SN<br>---<br>ztfr: 49 | ztfg: 19 | ztfi: 0<br>---<br>SN: 81.6442%",
          "Alerte: 208<br>Prediction: SN<br>---<br>ztfr: 49 | ztfg: 19 | ztfi: 0<br>---<br>SN: 67.704%",
          "Alerte: 209<br>Prediction: SN<br>---<br>ztfr: 49 | ztfg: 20 | ztfi: 0<br>---<br>SN: 73.0846%",
          "Alerte: 210<br>Prediction: SN<br>---<br>ztfr: 49 | ztfg: 20 | ztfi: 0<br>---<br>SN: 77.3707%",
          "Alerte: 211<br>Prediction: SN<br>---<br>ztfr: 50 | ztfg: 20 | ztfi: 0<br>---<br>SN: 74.9748%",
          "Alerte: 212<br>Prediction: SN<br>---<br>ztfr: 51 | ztfg: 21 | ztfi: 0<br>---<br>SN: 81.8961%",
          "Alerte: 213<br>Prediction: SN<br>---<br>ztfr: 52 | ztfg: 21 | ztfi: 0<br>---<br>SN: 77.9175%",
          "Alerte: 214<br>Prediction: SN<br>---<br>ztfr: 52 | ztfg: 22 | ztfi: 0<br>---<br>SN: 84.0915%",
          "Alerte: 215<br>Prediction: SN<br>---<br>ztfr: 53 | ztfg: 22 | ztfi: 0<br>---<br>SN: 85.6411%",
          "Alerte: 216<br>Prediction: SN<br>---<br>ztfr: 49 | ztfg: 20 | ztfi: 0<br>---<br>SN: 80.2121%",
          "Alerte: 217<br>Prediction: SN<br>---<br>ztfr: 50 | ztfg: 20 | ztfi: 0<br>---<br>SN: 82.9741%",
          "Alerte: 218<br>Prediction: SN<br>---<br>ztfr: 54 | ztfg: 22 | ztfi: 0<br>---<br>SN: 89.7396%",
          "Alerte: 219<br>Prediction: SN<br>---<br>ztfr: 54 | ztfg: 22 | ztfi: 0<br>---<br>SN: 84.6902%",
          "Alerte: 220<br>Prediction: SN<br>---<br>ztfr: 55 | ztfg: 23 | ztfi: 0<br>---<br>SN: 87.1491%",
          "Alerte: 221<br>Prediction: SN<br>---<br>ztfr: 55 | ztfg: 22 | ztfi: 0<br>---<br>SN: 84.3264%",
          "Alerte: 222<br>Prediction: SN<br>---<br>ztfr: 55 | ztfg: 22 | ztfi: 0<br>---<br>SN: 80.6818%",
          "Alerte: 223<br>Prediction: SN<br>---<br>ztfr: 55 | ztfg: 23 | ztfi: 0<br>---<br>SN: 67.8355%",
          "Alerte: 224<br>Prediction: SN<br>---<br>ztfr: 55 | ztfg: 23 | ztfi: 0<br>---<br>SN: 78.8601%",
          "Alerte: 225<br>Prediction: SN<br>---<br>ztfr: 56 | ztfg: 24 | ztfi: 0<br>---<br>SN: 85.1613%",
          "Alerte: 226<br>Prediction: SN<br>---<br>ztfr: 55 | ztfg: 23 | ztfi: 0<br>---<br>SN: 81.1949%",
          "Alerte: 227<br>Prediction: SN<br>---<br>ztfr: 56 | ztfg: 24 | ztfi: 0<br>---<br>SN: 94.2085%",
          "Alerte: 228<br>Prediction: SN<br>---<br>ztfr: 56 | ztfg: 25 | ztfi: 1<br>---<br>SN: 76.554%",
          "Alerte: 229<br>Prediction: SN<br>---<br>ztfr: 56 | ztfg: 24 | ztfi: 0<br>---<br>SN: 86.7745%",
          "Alerte: 232<br>Prediction: SN<br>---<br>ztfr: 56 | ztfg: 23 | ztfi: 0<br>---<br>SN: 81.0804%",
          "Alerte: 233<br>Prediction: SN<br>---<br>ztfr: 56 | ztfg: 23 | ztfi: 0<br>---<br>SN: 81.4521%",
          "Alerte: 234<br>Prediction: SN<br>---<br>ztfr: 56 | ztfg: 24 | ztfi: 0<br>---<br>SN: 85.8766%",
          "Alerte: 235<br>Prediction: SN<br>---<br>ztfr: 56 | ztfg: 25 | ztfi: 1<br>---<br>SN: 74.0726%",
          "Alerte: 236<br>Prediction: SN<br>---<br>ztfr: 57 | ztfg: 25 | ztfi: 1<br>---<br>SN: 78.4989%",
          "Alerte: 237<br>Prediction: SN<br>---<br>ztfr: 58 | ztfg: 25 | ztfi: 1<br>---<br>SN: 76.4201%",
          "Alerte: 238<br>Prediction: SN<br>---<br>ztfr: 59 | ztfg: 25 | ztfi: 1<br>---<br>SN: 77.5585%",
          "Alerte: 239<br>Prediction: SN<br>---<br>ztfr: 60 | ztfg: 25 | ztfi: 1<br>---<br>SN: 78.1594%",
          "Alerte: 240<br>Prediction: SN<br>---<br>ztfr: 61 | ztfg: 25 | ztfi: 1<br>---<br>SN: 80.3686%",
          "Alerte: 241<br>Prediction: SN<br>---<br>ztfr: 62 | ztfg: 25 | ztfi: 1<br>---<br>SN: 83.0506%",
          "Alerte: 242<br>Prediction: SN<br>---<br>ztfr: 62 | ztfg: 26 | ztfi: 1<br>---<br>SN: 77.7019%",
          "Alerte: 243<br>Prediction: SN<br>---<br>ztfr: 63 | ztfg: 26 | ztfi: 1<br>---<br>SN: 66.6419%",
          "Alerte: 244<br>Prediction: SN<br>---<br>ztfr: 66 | ztfg: 26 | ztfi: 1<br>---<br>SN: 68.4269%",
          "Alerte: 245<br>Prediction: SN<br>---<br>ztfr: 64 | ztfg: 26 | ztfi: 1<br>---<br>SN: 65.4573%",
          "Alerte: 246<br>Prediction: SN<br>---<br>ztfr: 63 | ztfg: 26 | ztfi: 1<br>---<br>SN: 79.5237%",
          "Alerte: 247<br>Prediction: SN<br>---<br>ztfr: 65 | ztfg: 26 | ztfi: 1<br>---<br>SN: 63.5885%",
          "Alerte: 248<br>Prediction: SN<br>---<br>ztfr: 67 | ztfg: 26 | ztfi: 1<br>---<br>SN: 65.7325%",
          "Alerte: 249<br>Prediction: SN<br>---<br>ztfr: 68 | ztfg: 26 | ztfi: 1<br>---<br>SN: 57.7298%",
          "Alerte: 250<br>Prediction: SN<br>---<br>ztfr: 69 | ztfg: 26 | ztfi: 1<br>---<br>SN: 79.0232%",
          "Alerte: 251<br>Prediction: SN<br>---<br>ztfr: 70 | ztfg: 26 | ztfi: 1<br>---<br>SN: 66.7413%",
          "Alerte: 252<br>Prediction: SN<br>---<br>ztfr: 71 | ztfg: 26 | ztfi: 1<br>---<br>SN: 67.4716%",
          "Alerte: 253<br>Prediction: SN<br>---<br>ztfr: 72 | ztfg: 26 | ztfi: 1<br>---<br>SN: 85.9495%",
          "Alerte: 254<br>Prediction: SN<br>---<br>ztfr: 73 | ztfg: 27 | ztfi: 1<br>---<br>SN: 54.6148%",
          "Alerte: 255<br>Prediction: SN<br>---<br>ztfr: 74 | ztfg: 29 | ztfi: 1<br>---<br>SN: 58.4323%",
          "Alerte: 256<br>Prediction: SN<br>---<br>ztfr: 75 | ztfg: 29 | ztfi: 1<br>---<br>SN: 82.1847%",
          "Alerte: 257<br>Prediction: SN<br>---<br>ztfr: 76 | ztfg: 29 | ztfi: 1<br>---<br>SN: 79.9395%",
          "Alerte: 258<br>Prediction: SN<br>---<br>ztfr: 77 | ztfg: 29 | ztfi: 1<br>---<br>SN: 66.7094%",
          "Alerte: 259<br>Prediction: SN<br>---<br>ztfr: 78 | ztfg: 29 | ztfi: 1<br>---<br>SN: 80.2588%",
          "Alerte: 260<br>Prediction: SN<br>---<br>ztfr: 79 | ztfg: 29 | ztfi: 1<br>---<br>SN: 82.315%",
          "Alerte: 261<br>Prediction: SN<br>---<br>ztfr: 80 | ztfg: 29 | ztfi: 1<br>---<br>SN: 64.3262%",
          "Alerte: 262<br>Prediction: SN<br>---<br>ztfr: 81 | ztfg: 29 | ztfi: 1<br>---<br>SN: 72.0719%",
          "Alerte: 263<br>Prediction: SN<br>---<br>ztfr: 82 | ztfg: 29 | ztfi: 1<br>---<br>SN: 60.7387%",
          "Alerte: 264<br>Prediction: SN<br>---<br>ztfr: 83 | ztfg: 29 | ztfi: 1<br>---<br>SN: 55.3141%",
          "Alerte: 265<br>Prediction: SN<br>---<br>ztfr: 83 | ztfg: 29 | ztfi: 2<br>---<br>SN: 64.8075%",
          "Alerte: 266<br>Prediction: Other<br>---<br>ztfr: 83 | ztfg: 29 | ztfi: 3<br>---<br>SN: 37.9781%",
          "Alerte: 267<br>Prediction: SN<br>---<br>ztfr: 84 | ztfg: 29 | ztfi: 3<br>---<br>SN: 52.8001%",
          "Alerte: 268<br>Prediction: Other<br>---<br>ztfr: 84 | ztfg: 30 | ztfi: 3<br>---<br>SN: 43.6783%",
          "Alerte: 269<br>Prediction: SN<br>---<br>ztfr: 84 | ztfg: 31 | ztfi: 3<br>---<br>SN: 78.8109%",
          "Alerte: 270<br>Prediction: SN<br>---<br>ztfr: 85 | ztfg: 31 | ztfi: 3<br>---<br>SN: 59.0854%",
          "Alerte: 271<br>Prediction: SN<br>---<br>ztfr: 86 | ztfg: 31 | ztfi: 3<br>---<br>SN: 82.5691%",
          "Alerte: 272<br>Prediction: SN<br>---<br>ztfr: 87 | ztfg: 31 | ztfi: 3<br>---<br>SN: 81.9214%",
          "Alerte: 273<br>Prediction: SN<br>---<br>ztfr: 88 | ztfg: 31 | ztfi: 3<br>---<br>SN: 58.6948%",
          "Alerte: 274<br>Prediction: SN<br>---<br>ztfr: 89 | ztfg: 31 | ztfi: 3<br>---<br>SN: 81.8815%",
          "Alerte: 275<br>Prediction: SN<br>---<br>ztfr: 89 | ztfg: 32 | ztfi: 3<br>---<br>SN: 78.7407%",
          "Alerte: 276<br>Prediction: SN<br>---<br>ztfr: 89 | ztfg: 33 | ztfi: 3<br>---<br>SN: 59.2274%",
          "Alerte: 277<br>Prediction: SN<br>---<br>ztfr: 89 | ztfg: 33 | ztfi: 4<br>---<br>SN: 51.4314%",
          "Alerte: 278<br>Prediction: SN<br>---<br>ztfr: 89 | ztfg: 33 | ztfi: 5<br>---<br>SN: 78.1732%",
          "Alerte: 279<br>Prediction: SN<br>---<br>ztfr: 90 | ztfg: 33 | ztfi: 5<br>---<br>SN: 79.1296%",
          "Alerte: 280<br>Prediction: SN<br>---<br>ztfr: 90 | ztfg: 34 | ztfi: 5<br>---<br>SN: 71.0933%",
          "Alerte: 281<br>Prediction: SN<br>---<br>ztfr: 90 | ztfg: 34 | ztfi: 6<br>---<br>SN: 60.4701%",
          "Alerte: 282<br>Prediction: SN<br>---<br>ztfr: 90 | ztfg: 34 | ztfi: 7<br>---<br>SN: 93.6749%",
          "Alerte: 283<br>Prediction: SN<br>---<br>ztfr: 90 | ztfg: 35 | ztfi: 7<br>---<br>SN: 92.6349%",
          "Alerte: 284<br>Prediction: SN<br>---<br>ztfr: 90 | ztfg: 36 | ztfi: 7<br>---<br>SN: 81.752%",
          "Alerte: 285<br>Prediction: SN<br>---<br>ztfr: 91 | ztfg: 36 | ztfi: 7<br>---<br>SN: 79.4472%",
          "Alerte: 286<br>Prediction: SN<br>---<br>ztfr: 92 | ztfg: 36 | ztfi: 7<br>---<br>SN: 47.8116%",
          "Alerte: 287<br>Prediction: SN<br>---<br>ztfr: 93 | ztfg: 36 | ztfi: 7<br>---<br>SN: 71.1937%",
          "Alerte: 288<br>Prediction: SN<br>---<br>ztfr: 94 | ztfg: 36 | ztfi: 7<br>---<br>SN: 82.4086%",
          "Alerte: 289<br>Prediction: SN<br>---<br>ztfr: 94 | ztfg: 37 | ztfi: 7<br>---<br>SN: 52.2277%",
          "Alerte: 290<br>Prediction: Other<br>---<br>ztfr: 94 | ztfg: 37 | ztfi: 8<br>---<br>SN: 39.8983%",
          "Alerte: 291<br>Prediction: SN<br>---<br>ztfr: 94 | ztfg: 37 | ztfi: 9<br>---<br>SN: 76.4529%",
          "Alerte: 292<br>Prediction: SN<br>---<br>ztfr: 95 | ztfg: 40 | ztfi: 11<br>---<br>SN: 80.7566%",
          "Alerte: 293<br>Prediction: SN<br>---<br>ztfr: 96 | ztfg: 40 | ztfi: 11<br>---<br>SN: 59.4492%",
          "Alerte: 294<br>Prediction: SN<br>---<br>ztfr: 96 | ztfg: 40 | ztfi: 12<br>---<br>SN: 61.9122%",
          "Alerte: 295<br>Prediction: SN<br>---<br>ztfr: 94 | ztfg: 38 | ztfi: 9<br>---<br>SN: 48.263%",
          "Alerte: 296<br>Prediction: SN<br>---<br>ztfr: 94 | ztfg: 38 | ztfi: 10<br>---<br>SN: 54.7003%",
          "Alerte: 297<br>Prediction: SN<br>---<br>ztfr: 94 | ztfg: 38 | ztfi: 11<br>---<br>SN: 85.1315%",
          "Alerte: 298<br>Prediction: SN<br>---<br>ztfr: 94 | ztfg: 39 | ztfi: 11<br>---<br>SN: 88.7422%",
          "Alerte: 299<br>Prediction: SN<br>---<br>ztfr: 96 | ztfg: 40 | ztfi: 13<br>---<br>SN: 81.6244%",
          "Alerte: 300<br>Prediction: SN<br>---<br>ztfr: 97 | ztfg: 40 | ztfi: 13<br>---<br>SN: 80.8011%"
         ],
         "type": "scatter",
         "x": [
          71,
          72,
          73,
          74,
          75,
          76,
          77,
          78,
          79,
          80,
          81,
          82,
          83,
          84,
          85,
          86,
          87,
          88,
          89,
          90,
          91,
          92,
          93,
          94,
          95,
          96,
          97,
          98,
          99,
          100,
          101,
          102,
          103,
          104,
          105,
          106,
          107,
          108,
          109,
          110,
          111,
          112,
          113,
          114,
          115,
          116,
          117,
          118,
          119,
          120,
          121,
          122,
          123,
          124,
          125,
          126,
          127,
          128,
          129,
          130,
          131,
          132,
          133,
          134,
          135,
          136,
          137,
          138,
          139,
          140,
          141,
          142,
          143,
          144,
          145,
          146,
          147,
          148,
          149,
          150,
          151,
          152,
          153,
          154,
          155,
          156,
          157,
          158,
          159,
          160,
          161,
          162,
          163,
          164,
          165,
          166,
          167,
          168,
          169,
          170,
          171,
          172,
          173,
          174,
          175,
          176,
          177,
          178,
          179,
          180,
          181,
          182,
          183,
          184,
          185,
          186,
          187,
          188,
          189,
          190,
          191,
          192,
          193,
          194,
          195,
          196,
          197,
          198,
          199,
          200,
          201,
          202,
          203,
          204,
          205,
          206,
          207,
          208,
          209,
          210,
          211,
          212,
          213,
          214,
          215,
          216,
          217,
          218,
          219,
          220,
          221,
          222,
          223,
          224,
          225,
          226,
          227,
          228,
          229,
          232,
          233,
          234,
          235,
          236,
          237,
          238,
          239,
          240,
          241,
          242,
          243,
          244,
          245,
          246,
          247,
          248,
          249,
          250,
          251,
          252,
          253,
          254,
          255,
          256,
          257,
          258,
          259,
          260,
          261,
          262,
          263,
          264,
          265,
          266,
          267,
          268,
          269,
          270,
          271,
          272,
          273,
          274,
          275,
          276,
          277,
          278,
          279,
          280,
          281,
          282,
          283,
          284,
          285,
          286,
          287,
          288,
          289,
          290,
          291,
          292,
          293,
          294,
          295,
          296,
          297,
          298,
          299,
          300
         ],
         "y": [
          0.9997335076332092,
          0.9998618364334106,
          0.9996957778930664,
          0.9998675584793091,
          0.9999433159828186,
          0.9999477863311768,
          0.9997357726097107,
          0.9998660683631897,
          0.9998237490653992,
          0.9998326897621155,
          0.9981234669685364,
          0.9983091950416565,
          0.998593807220459,
          1.0012462139129639,
          1.0011851787567139,
          1.0011347532272339,
          0.98116534948349,
          0.9776636362075806,
          0.9963412284851074,
          0.9781438112258911,
          0.9803892374038696,
          0.9815089702606201,
          0.9712993502616882,
          0.9721819162368774,
          0.9720405340194702,
          0.9993627071380615,
          0.9725378751754761,
          0.9767781496047974,
          0.9953036904335022,
          0.9767444729804993,
          0.9766256809234619,
          0.97780841588974,
          0.9951164126396179,
          0.9781399965286255,
          0.979397714138031,
          0.979167103767395,
          0.9997289180755615,
          0.9992924928665161,
          0.9681326150894165,
          0.9611744284629822,
          0.9625210165977478,
          0.9632370471954346,
          0.9603551626205444,
          0.958673357963562,
          0.9608162045478821,
          0.9603264331817627,
          0.9603020548820496,
          0.959225058555603,
          0.9587627053260803,
          0.9610782265663147,
          0.9579176902770996,
          0.9571040868759155,
          0.9588371515274048,
          0.9521574974060059,
          0.9571293592453003,
          0.956709623336792,
          0.9553560018539429,
          0.9616748690605164,
          0.9555978775024414,
          0.9560316801071167,
          0.9572480916976929,
          0.9531677961349487,
          0.9466742277145386,
          0.9559709429740906,
          0.9604604840278625,
          0.9609242081642151,
          0.9616345763206482,
          0.9525256752967834,
          0.9576250314712524,
          0.9484759569168091,
          0.9531722068786621,
          0.9580895304679871,
          0.960042417049408,
          0.9624161720275879,
          0.9619815349578857,
          0.9500918388366699,
          0.9529861211776733,
          0.9582186341285706,
          0.9586673378944397,
          0.9577761888504028,
          0.9619385004043579,
          0.9556660652160645,
          0.9637988805770874,
          0.9626697897911072,
          0.9697623252868652,
          0.9613617658615112,
          0.9615358710289001,
          0.963477611541748,
          0.9612298011779785,
          0.966357409954071,
          0.9626363515853882,
          0.9573478698730469,
          0.9591182470321655,
          0.9650328159332275,
          0.9641141295433044,
          0.9552816152572632,
          0.9565398097038269,
          0.9655817747116089,
          0.9626513123512268,
          0.9643160700798035,
          0.962976336479187,
          0.9751968383789062,
          0.9608017802238464,
          0.9566892981529236,
          0.9594690799713135,
          0.9631991982460022,
          0.9616197943687439,
          0.9570733308792114,
          0.9655038714408875,
          0.9632795453071594,
          0.9664990305900574,
          0.9663841128349304,
          0.9660769701004028,
          0.9664690494537354,
          0.9668388962745667,
          0.9678289890289307,
          0.9613928198814392,
          0.9641711115837097,
          0.9618863463401794,
          0.9573265314102173,
          0.9620802998542786,
          0.9653172492980957,
          0.9634935259819031,
          0.9576727151870728,
          0.9646836519241333,
          0.958355724811554,
          0.9668964147567749,
          0.9663833975791931,
          0.9672635793685913,
          0.9693883657455444,
          0.9681965708732605,
          0.9645493626594543,
          0.9632890224456787,
          0.964305579662323,
          0.9634402990341187,
          0.9645296335220337,
          0.963813304901123,
          0.9450689554214478,
          0.9512617588043213,
          0.957144558429718,
          0.9527819156646729,
          0.9629420042037964,
          0.955828845500946,
          0.966264009475708,
          0.968875527381897,
          0.9614630937576294,
          0.9652628898620605,
          0.976813793182373,
          0.9668330550193787,
          0.9710001349449158,
          0.9656222462654114,
          0.9590065479278564,
          0.940077543258667,
          0.9557194113731384,
          0.9672948122024536,
          0.9597305059432983,
          0.9862899780273438,
          0.9591436386108398,
          0.9704462885856628,
          0.959395170211792,
          0.9600557684898376,
          0.9686790704727173,
          0.9559906721115112,
          0.961439311504364,
          0.9593664407730103,
          0.9607778787612915,
          0.9617440700531006,
          0.9645205140113831,
          0.9672164916992188,
          0.9609820246696472,
          0.9460165500640869,
          0.948548436164856,
          0.9460434913635254,
          0.961841344833374,
          0.9444663524627686,
          0.9459632635116577,
          0.9401633143424988,
          0.9620102047920227,
          0.9468079805374146,
          0.9476889371871948,
          0.9726818799972534,
          0.9386163949966431,
          0.9397501945495605,
          0.966019868850708,
          0.9625478386878967,
          0.9457219839096069,
          0.9626873135566711,
          0.9656140804290771,
          0.9429538249969482,
          0.9510130882263184,
          0.940710723400116,
          0.937732458114624,
          0.9442269802093506,
          0.9378174543380737,
          0.9369723200798035,
          0.9361281991004944,
          0.9607138633728027,
          0.9394107460975647,
          0.96628338098526,
          0.9652620553970337,
          0.9393306970596313,
          0.9653244018554688,
          0.9604983329772949,
          0.9398301839828491,
          0.9360501766204834,
          0.9594720602035522,
          0.9608927965164185,
          0.9504493474960327,
          0.940119743347168,
          0.9865215420722961,
          0.9846107959747314,
          0.96525639295578,
          0.9618260264396667,
          0.9363715648651123,
          0.9507139921188354,
          0.9662325978279114,
          0.9367891550064087,
          0.9370139837265015,
          0.9573463797569275,
          0.9634487628936768,
          0.93982994556427,
          0.9415726661682129,
          0.9359785318374634,
          0.9376096725463867,
          0.9707218408584595,
          0.9771300554275513,
          0.9648321866989136,
          0.9636151790618896
         ]
        }
       ],
       "layout": {
        "hovermode": "x unified",
        "template": {
         "data": {
          "bar": [
           {
            "error_x": {
             "color": "#2a3f5f"
            },
            "error_y": {
             "color": "#2a3f5f"
            },
            "marker": {
             "line": {
              "color": "#E5ECF6",
              "width": 0.5
             },
             "pattern": {
              "fillmode": "overlay",
              "size": 10,
              "solidity": 0.2
             }
            },
            "type": "bar"
           }
          ],
          "barpolar": [
           {
            "marker": {
             "line": {
              "color": "#E5ECF6",
              "width": 0.5
             },
             "pattern": {
              "fillmode": "overlay",
              "size": 10,
              "solidity": 0.2
             }
            },
            "type": "barpolar"
           }
          ],
          "carpet": [
           {
            "aaxis": {
             "endlinecolor": "#2a3f5f",
             "gridcolor": "white",
             "linecolor": "white",
             "minorgridcolor": "white",
             "startlinecolor": "#2a3f5f"
            },
            "baxis": {
             "endlinecolor": "#2a3f5f",
             "gridcolor": "white",
             "linecolor": "white",
             "minorgridcolor": "white",
             "startlinecolor": "#2a3f5f"
            },
            "type": "carpet"
           }
          ],
          "choropleth": [
           {
            "colorbar": {
             "outlinewidth": 0,
             "ticks": ""
            },
            "type": "choropleth"
           }
          ],
          "contour": [
           {
            "colorbar": {
             "outlinewidth": 0,
             "ticks": ""
            },
            "colorscale": [
             [
              0,
              "#0d0887"
             ],
             [
              0.1111111111111111,
              "#46039f"
             ],
             [
              0.2222222222222222,
              "#7201a8"
             ],
             [
              0.3333333333333333,
              "#9c179e"
             ],
             [
              0.4444444444444444,
              "#bd3786"
             ],
             [
              0.5555555555555556,
              "#d8576b"
             ],
             [
              0.6666666666666666,
              "#ed7953"
             ],
             [
              0.7777777777777778,
              "#fb9f3a"
             ],
             [
              0.8888888888888888,
              "#fdca26"
             ],
             [
              1,
              "#f0f921"
             ]
            ],
            "type": "contour"
           }
          ],
          "contourcarpet": [
           {
            "colorbar": {
             "outlinewidth": 0,
             "ticks": ""
            },
            "type": "contourcarpet"
           }
          ],
          "heatmap": [
           {
            "colorbar": {
             "outlinewidth": 0,
             "ticks": ""
            },
            "colorscale": [
             [
              0,
              "#0d0887"
             ],
             [
              0.1111111111111111,
              "#46039f"
             ],
             [
              0.2222222222222222,
              "#7201a8"
             ],
             [
              0.3333333333333333,
              "#9c179e"
             ],
             [
              0.4444444444444444,
              "#bd3786"
             ],
             [
              0.5555555555555556,
              "#d8576b"
             ],
             [
              0.6666666666666666,
              "#ed7953"
             ],
             [
              0.7777777777777778,
              "#fb9f3a"
             ],
             [
              0.8888888888888888,
              "#fdca26"
             ],
             [
              1,
              "#f0f921"
             ]
            ],
            "type": "heatmap"
           }
          ],
          "heatmapgl": [
           {
            "colorbar": {
             "outlinewidth": 0,
             "ticks": ""
            },
            "colorscale": [
             [
              0,
              "#0d0887"
             ],
             [
              0.1111111111111111,
              "#46039f"
             ],
             [
              0.2222222222222222,
              "#7201a8"
             ],
             [
              0.3333333333333333,
              "#9c179e"
             ],
             [
              0.4444444444444444,
              "#bd3786"
             ],
             [
              0.5555555555555556,
              "#d8576b"
             ],
             [
              0.6666666666666666,
              "#ed7953"
             ],
             [
              0.7777777777777778,
              "#fb9f3a"
             ],
             [
              0.8888888888888888,
              "#fdca26"
             ],
             [
              1,
              "#f0f921"
             ]
            ],
            "type": "heatmapgl"
           }
          ],
          "histogram": [
           {
            "marker": {
             "pattern": {
              "fillmode": "overlay",
              "size": 10,
              "solidity": 0.2
             }
            },
            "type": "histogram"
           }
          ],
          "histogram2d": [
           {
            "colorbar": {
             "outlinewidth": 0,
             "ticks": ""
            },
            "colorscale": [
             [
              0,
              "#0d0887"
             ],
             [
              0.1111111111111111,
              "#46039f"
             ],
             [
              0.2222222222222222,
              "#7201a8"
             ],
             [
              0.3333333333333333,
              "#9c179e"
             ],
             [
              0.4444444444444444,
              "#bd3786"
             ],
             [
              0.5555555555555556,
              "#d8576b"
             ],
             [
              0.6666666666666666,
              "#ed7953"
             ],
             [
              0.7777777777777778,
              "#fb9f3a"
             ],
             [
              0.8888888888888888,
              "#fdca26"
             ],
             [
              1,
              "#f0f921"
             ]
            ],
            "type": "histogram2d"
           }
          ],
          "histogram2dcontour": [
           {
            "colorbar": {
             "outlinewidth": 0,
             "ticks": ""
            },
            "colorscale": [
             [
              0,
              "#0d0887"
             ],
             [
              0.1111111111111111,
              "#46039f"
             ],
             [
              0.2222222222222222,
              "#7201a8"
             ],
             [
              0.3333333333333333,
              "#9c179e"
             ],
             [
              0.4444444444444444,
              "#bd3786"
             ],
             [
              0.5555555555555556,
              "#d8576b"
             ],
             [
              0.6666666666666666,
              "#ed7953"
             ],
             [
              0.7777777777777778,
              "#fb9f3a"
             ],
             [
              0.8888888888888888,
              "#fdca26"
             ],
             [
              1,
              "#f0f921"
             ]
            ],
            "type": "histogram2dcontour"
           }
          ],
          "mesh3d": [
           {
            "colorbar": {
             "outlinewidth": 0,
             "ticks": ""
            },
            "type": "mesh3d"
           }
          ],
          "parcoords": [
           {
            "line": {
             "colorbar": {
              "outlinewidth": 0,
              "ticks": ""
             }
            },
            "type": "parcoords"
           }
          ],
          "pie": [
           {
            "automargin": true,
            "type": "pie"
           }
          ],
          "scatter": [
           {
            "fillpattern": {
             "fillmode": "overlay",
             "size": 10,
             "solidity": 0.2
            },
            "type": "scatter"
           }
          ],
          "scatter3d": [
           {
            "line": {
             "colorbar": {
              "outlinewidth": 0,
              "ticks": ""
             }
            },
            "marker": {
             "colorbar": {
              "outlinewidth": 0,
              "ticks": ""
             }
            },
            "type": "scatter3d"
           }
          ],
          "scattercarpet": [
           {
            "marker": {
             "colorbar": {
              "outlinewidth": 0,
              "ticks": ""
             }
            },
            "type": "scattercarpet"
           }
          ],
          "scattergeo": [
           {
            "marker": {
             "colorbar": {
              "outlinewidth": 0,
              "ticks": ""
             }
            },
            "type": "scattergeo"
           }
          ],
          "scattergl": [
           {
            "marker": {
             "colorbar": {
              "outlinewidth": 0,
              "ticks": ""
             }
            },
            "type": "scattergl"
           }
          ],
          "scattermapbox": [
           {
            "marker": {
             "colorbar": {
              "outlinewidth": 0,
              "ticks": ""
             }
            },
            "type": "scattermapbox"
           }
          ],
          "scatterpolar": [
           {
            "marker": {
             "colorbar": {
              "outlinewidth": 0,
              "ticks": ""
             }
            },
            "type": "scatterpolar"
           }
          ],
          "scatterpolargl": [
           {
            "marker": {
             "colorbar": {
              "outlinewidth": 0,
              "ticks": ""
             }
            },
            "type": "scatterpolargl"
           }
          ],
          "scatterternary": [
           {
            "marker": {
             "colorbar": {
              "outlinewidth": 0,
              "ticks": ""
             }
            },
            "type": "scatterternary"
           }
          ],
          "surface": [
           {
            "colorbar": {
             "outlinewidth": 0,
             "ticks": ""
            },
            "colorscale": [
             [
              0,
              "#0d0887"
             ],
             [
              0.1111111111111111,
              "#46039f"
             ],
             [
              0.2222222222222222,
              "#7201a8"
             ],
             [
              0.3333333333333333,
              "#9c179e"
             ],
             [
              0.4444444444444444,
              "#bd3786"
             ],
             [
              0.5555555555555556,
              "#d8576b"
             ],
             [
              0.6666666666666666,
              "#ed7953"
             ],
             [
              0.7777777777777778,
              "#fb9f3a"
             ],
             [
              0.8888888888888888,
              "#fdca26"
             ],
             [
              1,
              "#f0f921"
             ]
            ],
            "type": "surface"
           }
          ],
          "table": [
           {
            "cells": {
             "fill": {
              "color": "#EBF0F8"
             },
             "line": {
              "color": "white"
             }
            },
            "header": {
             "fill": {
              "color": "#C8D4E3"
             },
             "line": {
              "color": "white"
             }
            },
            "type": "table"
           }
          ]
         },
         "layout": {
          "annotationdefaults": {
           "arrowcolor": "#2a3f5f",
           "arrowhead": 0,
           "arrowwidth": 1
          },
          "autotypenumbers": "strict",
          "coloraxis": {
           "colorbar": {
            "outlinewidth": 0,
            "ticks": ""
           }
          },
          "colorscale": {
           "diverging": [
            [
             0,
             "#8e0152"
            ],
            [
             0.1,
             "#c51b7d"
            ],
            [
             0.2,
             "#de77ae"
            ],
            [
             0.3,
             "#f1b6da"
            ],
            [
             0.4,
             "#fde0ef"
            ],
            [
             0.5,
             "#f7f7f7"
            ],
            [
             0.6,
             "#e6f5d0"
            ],
            [
             0.7,
             "#b8e186"
            ],
            [
             0.8,
             "#7fbc41"
            ],
            [
             0.9,
             "#4d9221"
            ],
            [
             1,
             "#276419"
            ]
           ],
           "sequential": [
            [
             0,
             "#0d0887"
            ],
            [
             0.1111111111111111,
             "#46039f"
            ],
            [
             0.2222222222222222,
             "#7201a8"
            ],
            [
             0.3333333333333333,
             "#9c179e"
            ],
            [
             0.4444444444444444,
             "#bd3786"
            ],
            [
             0.5555555555555556,
             "#d8576b"
            ],
            [
             0.6666666666666666,
             "#ed7953"
            ],
            [
             0.7777777777777778,
             "#fb9f3a"
            ],
            [
             0.8888888888888888,
             "#fdca26"
            ],
            [
             1,
             "#f0f921"
            ]
           ],
           "sequentialminus": [
            [
             0,
             "#0d0887"
            ],
            [
             0.1111111111111111,
             "#46039f"
            ],
            [
             0.2222222222222222,
             "#7201a8"
            ],
            [
             0.3333333333333333,
             "#9c179e"
            ],
            [
             0.4444444444444444,
             "#bd3786"
            ],
            [
             0.5555555555555556,
             "#d8576b"
            ],
            [
             0.6666666666666666,
             "#ed7953"
            ],
            [
             0.7777777777777778,
             "#fb9f3a"
            ],
            [
             0.8888888888888888,
             "#fdca26"
            ],
            [
             1,
             "#f0f921"
            ]
           ]
          },
          "colorway": [
           "#636efa",
           "#EF553B",
           "#00cc96",
           "#ab63fa",
           "#FFA15A",
           "#19d3f3",
           "#FF6692",
           "#B6E880",
           "#FF97FF",
           "#FECB52"
          ],
          "font": {
           "color": "#2a3f5f"
          },
          "geo": {
           "bgcolor": "white",
           "lakecolor": "white",
           "landcolor": "#E5ECF6",
           "showlakes": true,
           "showland": true,
           "subunitcolor": "white"
          },
          "hoverlabel": {
           "align": "left"
          },
          "hovermode": "closest",
          "mapbox": {
           "style": "light"
          },
          "paper_bgcolor": "white",
          "plot_bgcolor": "#E5ECF6",
          "polar": {
           "angularaxis": {
            "gridcolor": "white",
            "linecolor": "white",
            "ticks": ""
           },
           "bgcolor": "#E5ECF6",
           "radialaxis": {
            "gridcolor": "white",
            "linecolor": "white",
            "ticks": ""
           }
          },
          "scene": {
           "xaxis": {
            "backgroundcolor": "#E5ECF6",
            "gridcolor": "white",
            "gridwidth": 2,
            "linecolor": "white",
            "showbackground": true,
            "ticks": "",
            "zerolinecolor": "white"
           },
           "yaxis": {
            "backgroundcolor": "#E5ECF6",
            "gridcolor": "white",
            "gridwidth": 2,
            "linecolor": "white",
            "showbackground": true,
            "ticks": "",
            "zerolinecolor": "white"
           },
           "zaxis": {
            "backgroundcolor": "#E5ECF6",
            "gridcolor": "white",
            "gridwidth": 2,
            "linecolor": "white",
            "showbackground": true,
            "ticks": "",
            "zerolinecolor": "white"
           }
          },
          "shapedefaults": {
           "line": {
            "color": "#2a3f5f"
           }
          },
          "ternary": {
           "aaxis": {
            "gridcolor": "white",
            "linecolor": "white",
            "ticks": ""
           },
           "baxis": {
            "gridcolor": "white",
            "linecolor": "white",
            "ticks": ""
           },
           "bgcolor": "#E5ECF6",
           "caxis": {
            "gridcolor": "white",
            "linecolor": "white",
            "ticks": ""
           }
          },
          "title": {
           "x": 0.05
          },
          "xaxis": {
           "automargin": true,
           "gridcolor": "white",
           "linecolor": "white",
           "ticks": "",
           "title": {
            "standoff": 15
           },
           "zerolinecolor": "white",
           "zerolinewidth": 2
          },
          "yaxis": {
           "automargin": true,
           "gridcolor": "white",
           "linecolor": "white",
           "ticks": "",
           "title": {
            "standoff": 15
           },
           "zerolinecolor": "white",
           "zerolinewidth": 2
          }
         }
        },
        "title": {
         "text": "Supernova Classification Over Time"
        },
        "xaxis": {
         "title": {
          "text": "Alertes"
         }
        },
        "yaxis": {
         "range": [
          0,
          1
         ],
         "title": {
          "text": "Probability"
         }
        }
       }
      }
     },
     "metadata": {},
     "output_type": "display_data"
    },
    {
     "name": "stdout",
     "output_type": "stream",
     "text": [
      "Type 1: 22, Type 2: 206\n",
      "The object is a SN\n",
      "Type 1: 60.955528259277344, Type 2: 158.77099609375\n",
      "Final prediction: SN\n",
      "       objectId true_class  nb_predictions_type_1  nb_predictions_type_2  \\\n",
      "0  ZTF17aaapufz        LBV                     22                    206   \n",
      "\n",
      "   nb_type_1   nb_type_2  last_type_1_prediction  last_type_2_prediction  \\\n",
      "0  60.955528  158.770996                0.155604                0.808011   \n",
      "\n",
      "  final_prediction_by_counts final_prediction_by_sum  \n",
      "0                         SN                      SN  \n",
      "True class: TDE\n"
     ]
    },
    {
     "name": "stderr",
     "output_type": "stream",
     "text": [
      "Processing alerts:  90%|█████████ | 189/210 [04:07<01:09,  3.32s/it]"
     ]
    },
    {
     "name": "stdout",
     "output_type": "stream",
     "text": [
      "GP fit failed for ZTF17aaazdba! Using guessed GP parameters.\n"
     ]
    },
    {
     "name": "stderr",
     "output_type": "stream",
     "text": [
      "Processing alerts:  90%|█████████ | 190/210 [04:49<05:03, 15.17s/it]"
     ]
    },
    {
     "name": "stdout",
     "output_type": "stream",
     "text": [
      "GP fit failed for ZTF17aaazdba! Using guessed GP parameters.\n"
     ]
    },
    {
     "name": "stderr",
     "output_type": "stream",
     "text": [
      "Processing alerts: 100%|██████████| 210/210 [10:20<00:00,  2.96s/it]\n"
     ]
    },
    {
     "name": "stdout",
     "output_type": "stream",
     "text": [
      "\u001b[1m7/7\u001b[0m \u001b[32m━━━━━━━━━━━━━━━━━━━━\u001b[0m\u001b[37m\u001b[0m \u001b[1m1s\u001b[0m 112ms/step\n"
     ]
    },
    {
     "data": {
      "application/vnd.plotly.v1+json": {
       "config": {
        "plotlyServerURL": "https://plot.ly"
       },
       "data": [
        {
         "fill": "tozeroy",
         "fillcolor": "orange",
         "hoverinfo": "text",
         "mode": "none",
         "name": "Other",
         "text": [
          "<br>Other: 10.946%",
          "<br>Other: 4.9289%",
          "<br>Other: 76.6464%",
          "<br>Other: 19.8937%",
          "<br>Other: 50.0495%",
          "<br>Other: 39.3018%",
          "<br>Other: 26.6492%",
          "<br>Other: 43.4237%",
          "<br>Other: 14.8924%",
          "<br>Other: 93.8523%",
          "<br>Other: 10.9776%",
          "<br>Other: 68.2884%",
          "<br>Other: 5.2189%",
          "<br>Other: 97.8318%",
          "<br>Other: 96.8964%",
          "<br>Other: 51.7058%",
          "<br>Other: 94.3569%",
          "<br>Other: 61.2495%",
          "<br>Other: 58.0401%",
          "<br>Other: 14.3727%",
          "<br>Other: 97.7695%",
          "<br>Other: 93.9748%",
          "<br>Other: 31.9545%",
          "<br>Other: 55.3979%",
          "<br>Other: 65.1672%",
          "<br>Other: 76.4628%",
          "<br>Other: 73.0722%",
          "<br>Other: 29.8167%",
          "<br>Other: 49.9889%",
          "<br>Other: 3.5116%",
          "<br>Other: 73.7508%",
          "<br>Other: 13.7313%",
          "<br>Other: 47.0886%",
          "<br>Other: 66.2017%",
          "<br>Other: 70.2342%",
          "<br>Other: 20.5596%",
          "<br>Other: 83.6261%",
          "<br>Other: 77.5816%",
          "<br>Other: 84.5452%",
          "<br>Other: 37.7767%",
          "<br>Other: 17.6639%",
          "<br>Other: 38.9746%",
          "<br>Other: 90.6962%",
          "<br>Other: 72.8163%",
          "<br>Other: 75.44%",
          "<br>Other: 94.5678%",
          "<br>Other: 59.121%",
          "<br>Other: 59.4043%",
          "<br>Other: 61.2703%",
          "<br>Other: 13.9736%",
          "<br>Other: 37.2337%",
          "<br>Other: 61.6586%",
          "<br>Other: 10.5317%",
          "<br>Other: 12.5445%",
          "<br>Other: 94.3386%",
          "<br>Other: 52.6425%",
          "<br>Other: 79.1505%",
          "<br>Other: 38.384%",
          "<br>Other: 73.6772%",
          "<br>Other: 64.3674%",
          "<br>Other: 57.7028%",
          "<br>Other: 41.9589%",
          "<br>Other: 7.3193%",
          "<br>Other: 38.7131%",
          "<br>Other: 57.6415%",
          "<br>Other: 22.6914%",
          "<br>Other: 13.1793%",
          "<br>Other: 9.4102%",
          "<br>Other: 10.8571%",
          "<br>Other: 19.3923%",
          "<br>Other: 16.3094%",
          "<br>Other: 24.0806%",
          "<br>Other: 58.7715%",
          "<br>Other: 11.4157%",
          "<br>Other: 11.5757%",
          "<br>Other: 11.4853%",
          "<br>Other: 9.8513%",
          "<br>Other: 41.1003%",
          "<br>Other: 12.437%",
          "<br>Other: 8.8299%",
          "<br>Other: 17.3534%",
          "<br>Other: 37.6734%",
          "<br>Other: 13.3361%",
          "<br>Other: 9.0553%",
          "<br>Other: 13.1609%",
          "<br>Other: 31.056%",
          "<br>Other: 14.3017%",
          "<br>Other: 42.3101%",
          "<br>Other: 11.768%",
          "<br>Other: 11.35%",
          "<br>Other: 15.7658%",
          "<br>Other: 12.4694%",
          "<br>Other: 8.9265%",
          "<br>Other: 13.6469%",
          "<br>Other: 13.6791%",
          "<br>Other: 13.6194%",
          "<br>Other: 12.2292%",
          "<br>Other: 19.1314%",
          "<br>Other: 17.6499%",
          "<br>Other: 16.523%",
          "<br>Other: 20.8335%",
          "<br>Other: 54.5701%",
          "<br>Other: 14.6876%",
          "<br>Other: 12.6395%",
          "<br>Other: 18.5196%",
          "<br>Other: 21.3147%",
          "<br>Other: 30.0752%",
          "<br>Other: 12.5585%",
          "<br>Other: 14.0924%",
          "<br>Other: 14.8824%",
          "<br>Other: 22.9263%",
          "<br>Other: 15.0886%",
          "<br>Other: 12.4148%",
          "<br>Other: 12.764%",
          "<br>Other: 11.6716%",
          "<br>Other: 21.0031%",
          "<br>Other: 24.5667%",
          "<br>Other: 21.4988%",
          "<br>Other: 13.7563%",
          "<br>Other: 15.7125%",
          "<br>Other: 13.656%",
          "<br>Other: 12.7527%",
          "<br>Other: 12.531%",
          "<br>Other: 14.565%",
          "<br>Other: 19.2804%",
          "<br>Other: 13.782%",
          "<br>Other: 21.5033%",
          "<br>Other: 15.2047%",
          "<br>Other: 20.4896%",
          "<br>Other: 23.5718%",
          "<br>Other: 26.5045%",
          "<br>Other: 15.4184%",
          "<br>Other: 13.454%",
          "<br>Other: 11.5868%",
          "<br>Other: 11.8069%",
          "<br>Other: 85.0823%",
          "<br>Other: 23.1548%",
          "<br>Other: 11.3922%",
          "<br>Other: 33.1125%",
          "<br>Other: 27.0931%",
          "<br>Other: 9.545%",
          "<br>Other: 9.6493%",
          "<br>Other: 8.6441%",
          "<br>Other: 8.927%",
          "<br>Other: 8.755%",
          "<br>Other: 8.4353%",
          "<br>Other: 9.2101%",
          "<br>Other: 15.4627%",
          "<br>Other: 14.5893%",
          "<br>Other: 11.4558%",
          "<br>Other: 13.2746%",
          "<br>Other: 14.1509%",
          "<br>Other: 11.3301%",
          "<br>Other: 13.7162%",
          "<br>Other: 2.6222%",
          "<br>Other: 1.7228%",
          "<br>Other: 8.8023%",
          "<br>Other: 9.0641%",
          "<br>Other: 16.8305%",
          "<br>Other: 9.6907%",
          "<br>Other: 9.6494%",
          "<br>Other: 12.3652%",
          "<br>Other: 10.7182%",
          "<br>Other: 11.8698%",
          "<br>Other: 13.7303%",
          "<br>Other: 9.2155%",
          "<br>Other: 13.1063%",
          "<br>Other: 28.8345%",
          "<br>Other: 35.159%",
          "<br>Other: 22.7006%",
          "<br>Other: 28.4041%",
          "<br>Other: 15.9062%",
          "<br>Other: 14.527%",
          "<br>Other: 17.4384%",
          "<br>Other: 23.1157%",
          "<br>Other: 13.2377%",
          "<br>Other: 37.725%",
          "<br>Other: 18.3975%",
          "<br>Other: 32.7707%",
          "<br>Other: 34.7725%",
          "<br>Other: 42.0579%",
          "<br>Other: 1.1484%",
          "<br>Other: 1.4137%",
          "<br>Other: 1.5676%",
          "<br>Other: 2.5704%",
          "<br>Other: 2.6466%",
          "<br>Other: 0.8005%",
          "<br>Other: 3.0097%",
          "<br>Other: 27.5621%",
          "<br>Other: 24.3598%",
          "<br>Other: 9.5492%",
          "<br>Other: 20.6865%",
          "<br>Other: 9.5317%",
          "<br>Other: 8.1496%",
          "<br>Other: 10.8611%",
          "<br>Other: 10.8608%",
          "<br>Other: 19.5161%",
          "<br>Other: 19.6517%",
          "<br>Other: 18.0855%",
          "<br>Other: 3.226%",
          "<br>Other: 22.6818%",
          "<br>Other: 3.456%",
          "<br>Other: 2.6633%",
          "<br>Other: 5.3493%",
          "<br>Other: 28.3618%",
          "<br>Other: 0.9266%",
          "<br>Other: 0.9512%",
          "<br>Other: 1.7552%",
          "<br>Other: 15.0989%"
         ],
         "type": "scatter",
         "x": [
          0,
          1,
          2,
          3,
          4,
          5,
          6,
          7,
          8,
          9,
          10,
          11,
          12,
          13,
          14,
          15,
          16,
          17,
          18,
          19,
          20,
          21,
          22,
          23,
          24,
          25,
          26,
          27,
          28,
          29,
          30,
          31,
          32,
          33,
          34,
          35,
          36,
          37,
          38,
          39,
          40,
          41,
          42,
          43,
          44,
          45,
          46,
          47,
          48,
          49,
          50,
          51,
          52,
          53,
          54,
          55,
          56,
          57,
          58,
          59,
          60,
          61,
          62,
          63,
          64,
          65,
          66,
          67,
          68,
          69,
          70,
          71,
          72,
          73,
          74,
          75,
          76,
          77,
          78,
          79,
          80,
          81,
          82,
          83,
          84,
          85,
          87,
          88,
          89,
          90,
          91,
          92,
          93,
          94,
          95,
          96,
          97,
          98,
          99,
          100,
          101,
          102,
          103,
          104,
          105,
          106,
          107,
          108,
          109,
          110,
          111,
          112,
          113,
          114,
          115,
          116,
          117,
          118,
          119,
          120,
          121,
          122,
          123,
          124,
          125,
          126,
          127,
          128,
          129,
          130,
          131,
          132,
          133,
          134,
          135,
          136,
          137,
          138,
          139,
          140,
          141,
          142,
          143,
          144,
          145,
          146,
          147,
          148,
          149,
          150,
          151,
          152,
          153,
          154,
          155,
          156,
          157,
          158,
          159,
          160,
          161,
          162,
          163,
          164,
          165,
          166,
          167,
          168,
          169,
          170,
          171,
          172,
          173,
          174,
          175,
          176,
          177,
          178,
          179,
          180,
          181,
          182,
          183,
          184,
          185,
          186,
          187,
          188,
          189,
          190,
          191,
          192,
          193,
          194,
          195,
          196,
          197,
          198,
          199,
          200,
          201,
          202,
          203,
          204,
          205,
          206,
          207,
          208,
          209
         ],
         "y": [
          0.10946018248796463,
          0.049288954585790634,
          0.7664637565612793,
          0.19893738627433777,
          0.500495433807373,
          0.39301759004592896,
          0.2664920687675476,
          0.4342368245124817,
          0.14892426133155823,
          0.9385227560997009,
          0.10977621376514435,
          0.6828844547271729,
          0.05218896269798279,
          0.9783182144165039,
          0.9689644575119019,
          0.5170584917068481,
          0.9435691237449646,
          0.6124951839447021,
          0.5804014205932617,
          0.14372672140598297,
          0.9776949882507324,
          0.9397481679916382,
          0.3195452094078064,
          0.5539788603782654,
          0.6516722440719604,
          0.7646279335021973,
          0.730722188949585,
          0.2981671988964081,
          0.49988919496536255,
          0.03511577099561691,
          0.7375078201293945,
          0.137313112616539,
          0.4708862900733948,
          0.6620173454284668,
          0.7023418545722961,
          0.2055957019329071,
          0.8362614512443542,
          0.7758159637451172,
          0.8454521894454956,
          0.3777669370174408,
          0.17663869261741638,
          0.38974645733833313,
          0.9069623351097107,
          0.7281633019447327,
          0.7543999552726746,
          0.9456776976585388,
          0.5912095904350281,
          0.5940434336662292,
          0.6127026081085205,
          0.1397356390953064,
          0.37233665585517883,
          0.6165863871574402,
          0.10531706362962723,
          0.12544485926628113,
          0.9433860182762146,
          0.5264249444007874,
          0.7915048599243164,
          0.38384026288986206,
          0.7367724776268005,
          0.6436735987663269,
          0.5770276784896851,
          0.41958945989608765,
          0.07319329679012299,
          0.3871307373046875,
          0.5764151811599731,
          0.2269142121076584,
          0.1317925602197647,
          0.09410202503204346,
          0.10857147723436356,
          0.19392341375350952,
          0.16309432685375214,
          0.24080561101436615,
          0.5877150893211365,
          0.11415708065032959,
          0.11575650423765182,
          0.11485341936349869,
          0.09851348400115967,
          0.41100332140922546,
          0.1243700236082077,
          0.08829904347658157,
          0.17353399097919464,
          0.37673419713974,
          0.13336068391799927,
          0.09055348485708237,
          0.13160887360572815,
          0.31055977940559387,
          0.14301712810993195,
          0.42310118675231934,
          0.11768030375242233,
          0.11349979043006897,
          0.1576576828956604,
          0.12469412386417389,
          0.08926499634981155,
          0.13646867871284485,
          0.13679124414920807,
          0.13619376718997955,
          0.12229158729314804,
          0.1913137137889862,
          0.17649884521961212,
          0.1652296483516693,
          0.20833484828472137,
          0.5457010269165039,
          0.14687584340572357,
          0.1263948380947113,
          0.18519628047943115,
          0.21314693987369537,
          0.30075177550315857,
          0.12558528780937195,
          0.14092352986335754,
          0.1488238275051117,
          0.22926276922225952,
          0.1508864313364029,
          0.12414775788784027,
          0.12764018774032593,
          0.11671644449234009,
          0.21003054082393646,
          0.2456672638654709,
          0.21498841047286987,
          0.1375632882118225,
          0.1571253538131714,
          0.13656020164489746,
          0.12752659618854523,
          0.12531034648418427,
          0.14564968645572662,
          0.1928035318851471,
          0.13782039284706116,
          0.21503287553787231,
          0.15204745531082153,
          0.20489627122879028,
          0.23571793735027313,
          0.2650447189807892,
          0.1541835367679596,
          0.13454042375087738,
          0.11586762964725494,
          0.11806917190551758,
          0.8508226871490479,
          0.23154766857624054,
          0.1139216274023056,
          0.3311254680156708,
          0.27093082666397095,
          0.09545010328292847,
          0.0964934453368187,
          0.08644095063209534,
          0.08927039802074432,
          0.08754951506853104,
          0.08435280621051788,
          0.09210139513015747,
          0.15462739765644073,
          0.14589326083660126,
          0.11455755680799484,
          0.13274632394313812,
          0.14150947332382202,
          0.1133008673787117,
          0.13716188073158264,
          0.026222283020615578,
          0.017227811738848686,
          0.0880231037735939,
          0.09064099937677383,
          0.16830512881278992,
          0.09690673649311066,
          0.09649394452571869,
          0.12365159392356873,
          0.10718157142400742,
          0.11869819462299347,
          0.1373027116060257,
          0.09215490520000458,
          0.13106299936771393,
          0.2883452773094177,
          0.3515903055667877,
          0.22700609266757965,
          0.2840408384799957,
          0.1590622365474701,
          0.14527030289173126,
          0.1743842214345932,
          0.2311573624610901,
          0.1323772519826889,
          0.3772503137588501,
          0.18397454917430878,
          0.32770735025405884,
          0.34772545099258423,
          0.42057880759239197,
          0.011483618058264256,
          0.01413749810308218,
          0.015675591304898262,
          0.02570400945842266,
          0.026465529575943947,
          0.008004667237401009,
          0.030097156763076782,
          0.2756209969520569,
          0.24359823763370514,
          0.09549246728420258,
          0.2068646103143692,
          0.09531665593385696,
          0.08149603754281998,
          0.10861092060804367,
          0.10860805958509445,
          0.1951606124639511,
          0.19651727378368378,
          0.18085549771785736,
          0.03225995600223541,
          0.22681771218776703,
          0.03455996513366699,
          0.026633063331246376,
          0.053493302315473557,
          0.28361764550209045,
          0.009266025386750698,
          0.009511850774288177,
          0.017551613971590996,
          0.15098874270915985
         ]
        },
        {
         "fill": "tonexty",
         "fillcolor": "blue",
         "hoverinfo": "text",
         "mode": "none",
         "name": "SN",
         "text": [
          "Alerte: 0<br>Prediction: SN<br>---<br>ztfr: 29 | ztfg: 34 | ztfi: 0<br>---<br>SN: 86.1264%",
          "Alerte: 1<br>Prediction: SN<br>---<br>ztfr: 51 | ztfg: 45 | ztfi: 0<br>---<br>SN: 93.6058%",
          "Alerte: 2<br>Prediction: Other<br>---<br>ztfr: 201 | ztfg: 61 | ztfi: 0<br>---<br>SN: 18.9751%",
          "Alerte: 3<br>Prediction: SN<br>---<br>ztfr: 246 | ztfg: 63 | ztfi: 0<br>---<br>SN: 75.344%",
          "Alerte: 4<br>Prediction: Other<br>---<br>ztfr: 246 | ztfg: 65 | ztfi: 0<br>---<br>SN: 43.2491%",
          "Alerte: 5<br>Prediction: SN<br>---<br>ztfr: 246 | ztfg: 65 | ztfi: 0<br>---<br>SN: 54.1357%",
          "Alerte: 6<br>Prediction: SN<br>---<br>ztfr: 249 | ztfg: 65 | ztfi: 0<br>---<br>SN: 67.7909%",
          "Alerte: 7<br>Prediction: SN<br>---<br>ztfr: 249 | ztfg: 65 | ztfi: 0<br>---<br>SN: 49.8694%",
          "Alerte: 8<br>Prediction: SN<br>---<br>ztfr: 250 | ztfg: 65 | ztfi: 0<br>---<br>SN: 81.419%",
          "Alerte: 9<br>Prediction: Other<br>---<br>ztfr: 249 | ztfg: 65 | ztfi: 0<br>---<br>SN: 4.7362%",
          "Alerte: 10<br>Prediction: SN<br>---<br>ztfr: 246 | ztfg: 63 | ztfi: 0<br>---<br>SN: 86.0389%",
          "Alerte: 11<br>Prediction: Other<br>---<br>ztfr: 252 | ztfg: 67 | ztfi: 0<br>---<br>SN: 26.1602%",
          "Alerte: 12<br>Prediction: SN<br>---<br>ztfr: 252 | ztfg: 67 | ztfi: 0<br>---<br>SN: 93.3143%",
          "Alerte: 13<br>Prediction: Other<br>---<br>ztfr: 254 | ztfg: 67 | ztfi: 0<br>---<br>SN: 1.6608%",
          "Alerte: 14<br>Prediction: Other<br>---<br>ztfr: 250 | ztfg: 65 | ztfi: 0<br>---<br>SN: 2.3729%",
          "Alerte: 15<br>Prediction: Other<br>---<br>ztfr: 250 | ztfg: 65 | ztfi: 0<br>---<br>SN: 41.6424%",
          "Alerte: 16<br>Prediction: Other<br>---<br>ztfr: 252 | ztfg: 65 | ztfi: 0<br>---<br>SN: 4.3483%",
          "Alerte: 17<br>Prediction: Other<br>---<br>ztfr: 252 | ztfg: 65 | ztfi: 0<br>---<br>SN: 32.5769%",
          "Alerte: 18<br>Prediction: Other<br>---<br>ztfr: 254 | ztfg: 68 | ztfi: 0<br>---<br>SN: 35.6714%",
          "Alerte: 19<br>Prediction: SN<br>---<br>ztfr: 255 | ztfg: 69 | ztfi: 0<br>---<br>SN: 81.9305%",
          "Alerte: 20<br>Prediction: Other<br>---<br>ztfr: 255 | ztfg: 71 | ztfi: 0<br>---<br>SN: 1.6918%",
          "Alerte: 21<br>Prediction: Other<br>---<br>ztfr: 255 | ztfg: 71 | ztfi: 0<br>---<br>SN: 4.6224%",
          "Alerte: 22<br>Prediction: SN<br>---<br>ztfr: 257 | ztfg: 71 | ztfi: 0<br>---<br>SN: 61.5681%",
          "Alerte: 23<br>Prediction: Other<br>---<br>ztfr: 257 | ztfg: 72 | ztfi: 0<br>---<br>SN: 37.667%",
          "Alerte: 24<br>Prediction: Other<br>---<br>ztfr: 257 | ztfg: 73 | ztfi: 0<br>---<br>SN: 28.6166%",
          "Alerte: 25<br>Prediction: Other<br>---<br>ztfr: 257 | ztfg: 73 | ztfi: 0<br>---<br>SN: 18.7398%",
          "Alerte: 26<br>Prediction: Other<br>---<br>ztfr: 257 | ztfg: 73 | ztfi: 0<br>---<br>SN: 21.6409%",
          "Alerte: 27<br>Prediction: SN<br>---<br>ztfr: 257 | ztfg: 73 | ztfi: 0<br>---<br>SN: 63.9068%",
          "Alerte: 28<br>Prediction: Other<br>---<br>ztfr: 257 | ztfg: 73 | ztfi: 0<br>---<br>SN: 42.8987%",
          "Alerte: 29<br>Prediction: SN<br>---<br>ztfr: 257 | ztfg: 73 | ztfi: 0<br>---<br>SN: 95.4067%",
          "Alerte: 30<br>Prediction: Other<br>---<br>ztfr: 257 | ztfg: 73 | ztfi: 0<br>---<br>SN: 21.0561%",
          "Alerte: 31<br>Prediction: SN<br>---<br>ztfr: 257 | ztfg: 73 | ztfi: 0<br>---<br>SN: 82.5639%",
          "Alerte: 32<br>Prediction: Other<br>---<br>ztfr: 257 | ztfg: 73 | ztfi: 0<br>---<br>SN: 45.7699%",
          "Alerte: 33<br>Prediction: Other<br>---<br>ztfr: 257 | ztfg: 74 | ztfi: 0<br>---<br>SN: 27.6848%",
          "Alerte: 34<br>Prediction: Other<br>---<br>ztfr: 257 | ztfg: 74 | ztfi: 0<br>---<br>SN: 24.1092%",
          "Alerte: 35<br>Prediction: SN<br>---<br>ztfr: 257 | ztfg: 74 | ztfi: 0<br>---<br>SN: 74.4192%",
          "Alerte: 36<br>Prediction: Other<br>---<br>ztfr: 257 | ztfg: 74 | ztfi: 0<br>---<br>SN: 12.7813%",
          "Alerte: 37<br>Prediction: Other<br>---<br>ztfr: 257 | ztfg: 74 | ztfi: 0<br>---<br>SN: 17.7929%",
          "Alerte: 38<br>Prediction: Other<br>---<br>ztfr: 257 | ztfg: 74 | ztfi: 0<br>---<br>SN: 12.0334%",
          "Alerte: 39<br>Prediction: SN<br>---<br>ztfr: 257 | ztfg: 74 | ztfi: 0<br>---<br>SN: 55.3179%",
          "Alerte: 40<br>Prediction: SN<br>---<br>ztfr: 257 | ztfg: 75 | ztfi: 0<br>---<br>SN: 78.0183%",
          "Alerte: 41<br>Prediction: SN<br>---<br>ztfr: 258 | ztfg: 76 | ztfi: 0<br>---<br>SN: 54.4051%",
          "Alerte: 42<br>Prediction: Other<br>---<br>ztfr: 258 | ztfg: 76 | ztfi: 0<br>---<br>SN: 7.2141%",
          "Alerte: 43<br>Prediction: Other<br>---<br>ztfr: 260 | ztfg: 76 | ztfi: 0<br>---<br>SN: 22.0598%",
          "Alerte: 44<br>Prediction: Other<br>---<br>ztfr: 260 | ztfg: 76 | ztfi: 0<br>---<br>SN: 19.7919%",
          "Alerte: 45<br>Prediction: Other<br>---<br>ztfr: 257 | ztfg: 76 | ztfi: 0<br>---<br>SN: 4.1553%",
          "Alerte: 46<br>Prediction: Other<br>---<br>ztfr: 260 | ztfg: 78 | ztfi: 0<br>---<br>SN: 34.4276%",
          "Alerte: 47<br>Prediction: Other<br>---<br>ztfr: 260 | ztfg: 79 | ztfi: 0<br>---<br>SN: 34.2943%",
          "Alerte: 48<br>Prediction: Other<br>---<br>ztfr: 260 | ztfg: 80 | ztfi: 0<br>---<br>SN: 32.5549%",
          "Alerte: 49<br>Prediction: SN<br>---<br>ztfr: 261 | ztfg: 80 | ztfi: 0<br>---<br>SN: 82.5031%",
          "Alerte: 50<br>Prediction: SN<br>---<br>ztfr: 262 | ztfg: 80 | ztfi: 0<br>---<br>SN: 56.2897%",
          "Alerte: 51<br>Prediction: Other<br>---<br>ztfr: 262 | ztfg: 81 | ztfi: 0<br>---<br>SN: 32.1733%",
          "Alerte: 52<br>Prediction: SN<br>---<br>ztfr: 262 | ztfg: 83 | ztfi: 0<br>---<br>SN: 86.6263%",
          "Alerte: 53<br>Prediction: SN<br>---<br>ztfr: 262 | ztfg: 82 | ztfi: 0<br>---<br>SN: 84.2395%",
          "Alerte: 54<br>Prediction: Other<br>---<br>ztfr: 263 | ztfg: 84 | ztfi: 0<br>---<br>SN: 4.3274%",
          "Alerte: 55<br>Prediction: Other<br>---<br>ztfr: 263 | ztfg: 85 | ztfi: 0<br>---<br>SN: 40.5329%",
          "Alerte: 56<br>Prediction: Other<br>---<br>ztfr: 263 | ztfg: 86 | ztfi: 0<br>---<br>SN: 16.6058%",
          "Alerte: 57<br>Prediction: SN<br>---<br>ztfr: 263 | ztfg: 86 | ztfi: 0<br>---<br>SN: 54.9113%",
          "Alerte: 58<br>Prediction: Other<br>---<br>ztfr: 263 | ztfg: 88 | ztfi: 0<br>---<br>SN: 21.3096%",
          "Alerte: 59<br>Prediction: Other<br>---<br>ztfr: 263 | ztfg: 87 | ztfi: 0<br>---<br>SN: 29.4985%",
          "Alerte: 60<br>Prediction: Other<br>---<br>ztfr: 263 | ztfg: 89 | ztfi: 0<br>---<br>SN: 35.7481%",
          "Alerte: 61<br>Prediction: SN<br>---<br>ztfr: 264 | ztfg: 89 | ztfi: 0<br>---<br>SN: 51.241%",
          "Alerte: 62<br>Prediction: SN<br>---<br>ztfr: 263 | ztfg: 87 | ztfi: 0<br>---<br>SN: 90.5932%",
          "Alerte: 63<br>Prediction: SN<br>---<br>ztfr: 266 | ztfg: 89 | ztfi: 0<br>---<br>SN: 54.7279%",
          "Alerte: 64<br>Prediction: Other<br>---<br>ztfr: 266 | ztfg: 89 | ztfi: 0<br>---<br>SN: 35.909%",
          "Alerte: 65<br>Prediction: SN<br>---<br>ztfr: 266 | ztfg: 91 | ztfi: 0<br>---<br>SN: 72.2635%",
          "Alerte: 66<br>Prediction: SN<br>---<br>ztfr: 266 | ztfg: 91 | ztfi: 0<br>---<br>SN: 83.4556%",
          "Alerte: 67<br>Prediction: SN<br>---<br>ztfr: 268 | ztfg: 91 | ztfi: 0<br>---<br>SN: 88.1163%",
          "Alerte: 68<br>Prediction: SN<br>---<br>ztfr: 268 | ztfg: 91 | ztfi: 0<br>---<br>SN: 86.3427%",
          "Alerte: 69<br>Prediction: SN<br>---<br>ztfr: 270 | ztfg: 91 | ztfi: 0<br>---<br>SN: 75.9437%",
          "Alerte: 70<br>Prediction: SN<br>---<br>ztfr: 271 | ztfg: 91 | ztfi: 0<br>---<br>SN: 79.5888%",
          "Alerte: 71<br>Prediction: SN<br>---<br>ztfr: 272 | ztfg: 91 | ztfi: 0<br>---<br>SN: 70.5319%",
          "Alerte: 72<br>Prediction: Other<br>---<br>ztfr: 272 | ztfg: 91 | ztfi: 0<br>---<br>SN: 34.6821%",
          "Alerte: 73<br>Prediction: SN<br>---<br>ztfr: 279 | ztfg: 98 | ztfi: 0<br>---<br>SN: 85.5469%",
          "Alerte: 74<br>Prediction: SN<br>---<br>ztfr: 279 | ztfg: 98 | ztfi: 0<br>---<br>SN: 85.351%",
          "Alerte: 75<br>Prediction: SN<br>---<br>ztfr: 277 | ztfg: 95 | ztfi: 0<br>---<br>SN: 85.3813%",
          "Alerte: 76<br>Prediction: SN<br>---<br>ztfr: 277 | ztfg: 96 | ztfi: 0<br>---<br>SN: 87.3982%",
          "Alerte: 77<br>Prediction: SN<br>---<br>ztfr: 274 | ztfg: 94 | ztfi: 0<br>---<br>SN: 52.1128%",
          "Alerte: 78<br>Prediction: SN<br>---<br>ztfr: 273 | ztfg: 93 | ztfi: 0<br>---<br>SN: 84.2202%",
          "Alerte: 79<br>Prediction: SN<br>---<br>ztfr: 274 | ztfg: 93 | ztfi: 0<br>---<br>SN: 88.6777%",
          "Alerte: 80<br>Prediction: SN<br>---<br>ztfr: 272 | ztfg: 92 | ztfi: 0<br>---<br>SN: 78.3806%",
          "Alerte: 81<br>Prediction: SN<br>---<br>ztfr: 279 | ztfg: 100 | ztfi: 0<br>---<br>SN: 55.5931%",
          "Alerte: 82<br>Prediction: SN<br>---<br>ztfr: 279 | ztfg: 100 | ztfi: 0<br>---<br>SN: 83.1393%",
          "Alerte: 83<br>Prediction: SN<br>---<br>ztfr: 282 | ztfg: 100 | ztfi: 0<br>---<br>SN: 88.3885%",
          "Alerte: 84<br>Prediction: SN<br>---<br>ztfr: 283 | ztfg: 101 | ztfi: 0<br>---<br>SN: 83.3297%",
          "Alerte: 85<br>Prediction: SN<br>---<br>ztfr: 283 | ztfg: 102 | ztfi: 0<br>---<br>SN: 62.6622%",
          "Alerte: 87<br>Prediction: SN<br>---<br>ztfr: 285 | ztfg: 107 | ztfi: 0<br>---<br>SN: 82.0152%",
          "Alerte: 88<br>Prediction: SN<br>---<br>ztfr: 285 | ztfg: 107 | ztfi: 0<br>---<br>SN: 50.8504%",
          "Alerte: 89<br>Prediction: SN<br>---<br>ztfr: 286 | ztfg: 108 | ztfi: 0<br>---<br>SN: 85.1113%",
          "Alerte: 90<br>Prediction: SN<br>---<br>ztfr: 286 | ztfg: 109 | ztfi: 0<br>---<br>SN: 85.5924%",
          "Alerte: 91<br>Prediction: SN<br>---<br>ztfr: 288 | ztfg: 111 | ztfi: 0<br>---<br>SN: 80.1505%",
          "Alerte: 92<br>Prediction: SN<br>---<br>ztfr: 288 | ztfg: 112 | ztfi: 0<br>---<br>SN: 84.1443%",
          "Alerte: 93<br>Prediction: SN<br>---<br>ztfr: 290 | ztfg: 112 | ztfi: 0<br>---<br>SN: 88.5186%",
          "Alerte: 94<br>Prediction: SN<br>---<br>ztfr: 292 | ztfg: 112 | ztfi: 0<br>---<br>SN: 82.7618%",
          "Alerte: 95<br>Prediction: SN<br>---<br>ztfr: 294 | ztfg: 113 | ztfi: 0<br>---<br>SN: 82.7765%",
          "Alerte: 96<br>Prediction: SN<br>---<br>ztfr: 294 | ztfg: 112 | ztfi: 0<br>---<br>SN: 82.8336%",
          "Alerte: 97<br>Prediction: SN<br>---<br>ztfr: 296 | ztfg: 114 | ztfi: 0<br>---<br>SN: 84.4858%",
          "Alerte: 98<br>Prediction: SN<br>---<br>ztfr: 298 | ztfg: 116 | ztfi: 0<br>---<br>SN: 76.3989%",
          "Alerte: 99<br>Prediction: SN<br>---<br>ztfr: 298 | ztfg: 116 | ztfi: 0<br>---<br>SN: 78.1363%",
          "Alerte: 100<br>Prediction: SN<br>---<br>ztfr: 301 | ztfg: 118 | ztfi: 0<br>---<br>SN: 79.3041%",
          "Alerte: 101<br>Prediction: SN<br>---<br>ztfr: 303 | ztfg: 121 | ztfi: 0<br>---<br>SN: 74.2409%",
          "Alerte: 102<br>Prediction: Other<br>---<br>ztfr: 303 | ztfg: 121 | ztfi: 0<br>---<br>SN: 38.6319%",
          "Alerte: 103<br>Prediction: SN<br>---<br>ztfr: 303 | ztfg: 123 | ztfi: 0<br>---<br>SN: 81.5138%",
          "Alerte: 104<br>Prediction: SN<br>---<br>ztfr: 311 | ztfg: 124 | ztfi: 0<br>---<br>SN: 83.9812%",
          "Alerte: 105<br>Prediction: SN<br>---<br>ztfr: 318 | ztfg: 124 | ztfi: 0<br>---<br>SN: 76.9241%",
          "Alerte: 106<br>Prediction: SN<br>---<br>ztfr: 334 | ztfg: 124 | ztfi: 0<br>---<br>SN: 73.6567%",
          "Alerte: 107<br>Prediction: SN<br>---<br>ztfr: 335 | ztfg: 124 | ztfi: 0<br>---<br>SN: 63.7593%",
          "Alerte: 108<br>Prediction: SN<br>---<br>ztfr: 353 | ztfg: 124 | ztfi: 0<br>---<br>SN: 84.0764%",
          "Alerte: 109<br>Prediction: SN<br>---<br>ztfr: 355 | ztfg: 124 | ztfi: 0<br>---<br>SN: 82.2111%",
          "Alerte: 110<br>Prediction: SN<br>---<br>ztfr: 376 | ztfg: 124 | ztfi: 0<br>---<br>SN: 81.2557%",
          "Alerte: 111<br>Prediction: SN<br>---<br>ztfr: 364 | ztfg: 124 | ztfi: 0<br>---<br>SN: 71.7955%",
          "Alerte: 112<br>Prediction: SN<br>---<br>ztfr: 384 | ztfg: 124 | ztfi: 0<br>---<br>SN: 81.0067%",
          "Alerte: 113<br>Prediction: SN<br>---<br>ztfr: 385 | ztfg: 124 | ztfi: 0<br>---<br>SN: 84.2501%",
          "Alerte: 114<br>Prediction: SN<br>---<br>ztfr: 388 | ztfg: 124 | ztfi: 0<br>---<br>SN: 83.8232%",
          "Alerte: 115<br>Prediction: SN<br>---<br>ztfr: 387 | ztfg: 124 | ztfi: 0<br>---<br>SN: 85.1606%",
          "Alerte: 116<br>Prediction: SN<br>---<br>ztfr: 399 | ztfg: 124 | ztfi: 0<br>---<br>SN: 74.013%",
          "Alerte: 117<br>Prediction: SN<br>---<br>ztfr: 409 | ztfg: 124 | ztfi: 0<br>---<br>SN: 69.916%",
          "Alerte: 118<br>Prediction: SN<br>---<br>ztfr: 413 | ztfg: 124 | ztfi: 0<br>---<br>SN: 73.4364%",
          "Alerte: 119<br>Prediction: SN<br>---<br>ztfr: 412 | ztfg: 124 | ztfi: 0<br>---<br>SN: 82.6144%",
          "Alerte: 120<br>Prediction: SN<br>---<br>ztfr: 433 | ztfg: 124 | ztfi: 0<br>---<br>SN: 80.255%",
          "Alerte: 121<br>Prediction: SN<br>---<br>ztfr: 449 | ztfg: 124 | ztfi: 0<br>---<br>SN: 82.7355%",
          "Alerte: 122<br>Prediction: SN<br>---<br>ztfr: 453 | ztfg: 124 | ztfi: 0<br>---<br>SN: 83.8361%",
          "Alerte: 123<br>Prediction: SN<br>---<br>ztfr: 454 | ztfg: 124 | ztfi: 0<br>---<br>SN: 84.1062%",
          "Alerte: 124<br>Prediction: SN<br>---<br>ztfr: 456 | ztfg: 124 | ztfi: 0<br>---<br>SN: 81.6357%",
          "Alerte: 125<br>Prediction: SN<br>---<br>ztfr: 457 | ztfg: 124 | ztfi: 0<br>---<br>SN: 76.0238%",
          "Alerte: 126<br>Prediction: SN<br>---<br>ztfr: 458 | ztfg: 124 | ztfi: 0<br>---<br>SN: 82.5838%",
          "Alerte: 127<br>Prediction: SN<br>---<br>ztfr: 487 | ztfg: 124 | ztfi: 0<br>---<br>SN: 73.4325%",
          "Alerte: 128<br>Prediction: SN<br>---<br>ztfr: 488 | ztfg: 124 | ztfi: 0<br>---<br>SN: 80.8652%",
          "Alerte: 129<br>Prediction: SN<br>---<br>ztfr: 489 | ztfg: 124 | ztfi: 0<br>---<br>SN: 74.6094%",
          "Alerte: 130<br>Prediction: SN<br>---<br>ztfr: 492 | ztfg: 124 | ztfi: 0<br>---<br>SN: 71.0506%",
          "Alerte: 131<br>Prediction: SN<br>---<br>ztfr: 495 | ztfg: 124 | ztfi: 0<br>---<br>SN: 67.7255%",
          "Alerte: 132<br>Prediction: SN<br>---<br>ztfr: 497 | ztfg: 124 | ztfi: 0<br>---<br>SN: 80.6087%",
          "Alerte: 133<br>Prediction: SN<br>---<br>ztfr: 499 | ztfg: 124 | ztfi: 0<br>---<br>SN: 82.982%",
          "Alerte: 134<br>Prediction: SN<br>---<br>ztfr: 503 | ztfg: 124 | ztfi: 0<br>---<br>SN: 85.2629%",
          "Alerte: 135<br>Prediction: SN<br>---<br>ztfr: 508 | ztfg: 124 | ztfi: 0<br>---<br>SN: 84.9796%",
          "Alerte: 136<br>Prediction: Other<br>---<br>ztfr: 599 | ztfg: 125 | ztfi: 0<br>---<br>SN: 12.2522%",
          "Alerte: 137<br>Prediction: SN<br>---<br>ztfr: 600 | ztfg: 125 | ztfi: 0<br>---<br>SN: 71.7726%",
          "Alerte: 138<br>Prediction: SN<br>---<br>ztfr: 601 | ztfg: 125 | ztfi: 0<br>---<br>SN: 85.6178%",
          "Alerte: 139<br>Prediction: SN<br>---<br>ztfr: 601 | ztfg: 126 | ztfi: 0<br>---<br>SN: 60.6857%",
          "Alerte: 140<br>Prediction: SN<br>---<br>ztfr: 604 | ztfg: 127 | ztfi: 0<br>---<br>SN: 67.4721%",
          "Alerte: 141<br>Prediction: SN<br>---<br>ztfr: 695 | ztfg: 128 | ztfi: 0<br>---<br>SN: 87.5415%",
          "Alerte: 142<br>Prediction: SN<br>---<br>ztfr: 697 | ztfg: 128 | ztfi: 0<br>---<br>SN: 87.413%",
          "Alerte: 143<br>Prediction: SN<br>---<br>ztfr: 698 | ztfg: 128 | ztfi: 0<br>---<br>SN: 88.6928%",
          "Alerte: 144<br>Prediction: SN<br>---<br>ztfr: 699 | ztfg: 128 | ztfi: 0<br>---<br>SN: 88.3326%",
          "Alerte: 145<br>Prediction: SN<br>---<br>ztfr: 706 | ztfg: 128 | ztfi: 0<br>---<br>SN: 88.5494%",
          "Alerte: 146<br>Prediction: SN<br>---<br>ztfr: 706 | ztfg: 128 | ztfi: 0<br>---<br>SN: 88.9564%",
          "Alerte: 147<br>Prediction: SN<br>---<br>ztfr: 709 | ztfg: 128 | ztfi: 0<br>---<br>SN: 87.9706%",
          "Alerte: 148<br>Prediction: SN<br>---<br>ztfr: 725 | ztfg: 128 | ztfi: 0<br>---<br>SN: 80.6454%",
          "Alerte: 149<br>Prediction: SN<br>---<br>ztfr: 726 | ztfg: 128 | ztfi: 0<br>---<br>SN: 81.6926%",
          "Alerte: 150<br>Prediction: SN<br>---<br>ztfr: 727 | ztfg: 128 | ztfi: 0<br>---<br>SN: 85.4955%",
          "Alerte: 151<br>Prediction: SN<br>---<br>ztfr: 756 | ztfg: 129 | ztfi: 0<br>---<br>SN: 83.2262%",
          "Alerte: 152<br>Prediction: SN<br>---<br>ztfr: 763 | ztfg: 131 | ztfi: 0<br>---<br>SN: 82.2308%",
          "Alerte: 153<br>Prediction: SN<br>---<br>ztfr: 778 | ztfg: 132 | ztfi: 0<br>---<br>SN: 85.6112%",
          "Alerte: 154<br>Prediction: SN<br>---<br>ztfr: 823 | ztfg: 132 | ztfi: 0<br>---<br>SN: 82.7054%",
          "Alerte: 155<br>Prediction: SN<br>---<br>ztfr: 943 | ztfg: 135 | ztfi: 0<br>---<br>SN: 96.5226%",
          "Alerte: 156<br>Prediction: SN<br>---<br>ztfr: 943 | ztfg: 135 | ztfi: 0<br>---<br>SN: 97.7104%",
          "Alerte: 157<br>Prediction: SN<br>---<br>ztfr: 959 | ztfg: 135 | ztfi: 0<br>---<br>SN: 88.7131%",
          "Alerte: 158<br>Prediction: SN<br>---<br>ztfr: 953 | ztfg: 135 | ztfi: 0<br>---<br>SN: 88.387%",
          "Alerte: 159<br>Prediction: SN<br>---<br>ztfr: 974 | ztfg: 135 | ztfi: 0<br>---<br>SN: 78.9089%",
          "Alerte: 160<br>Prediction: SN<br>---<br>ztfr: 979 | ztfg: 135 | ztfi: 0<br>---<br>SN: 87.6885%",
          "Alerte: 161<br>Prediction: SN<br>---<br>ztfr: 959 | ztfg: 135 | ztfi: 0<br>---<br>SN: 87.6571%",
          "Alerte: 162<br>Prediction: SN<br>---<br>ztfr: 990 | ztfg: 135 | ztfi: 0<br>---<br>SN: 84.388%",
          "Alerte: 163<br>Prediction: SN<br>---<br>ztfr: 970 | ztfg: 135 | ztfi: 0<br>---<br>SN: 86.3062%",
          "Alerte: 164<br>Prediction: SN<br>---<br>ztfr: 990 | ztfg: 135 | ztfi: 0<br>---<br>SN: 84.9923%",
          "Alerte: 165<br>Prediction: SN<br>---<br>ztfr: 991 | ztfg: 135 | ztfi: 0<br>---<br>SN: 82.7137%",
          "Alerte: 166<br>Prediction: SN<br>---<br>ztfr: 1016 | ztfg: 137 | ztfi: 0<br>---<br>SN: 88.1841%",
          "Alerte: 167<br>Prediction: SN<br>---<br>ztfr: 1069 | ztfg: 137 | ztfi: 0<br>---<br>SN: 83.3447%",
          "Alerte: 168<br>Prediction: SN<br>---<br>ztfr: 1097 | ztfg: 137 | ztfi: 0<br>---<br>SN: 65.0401%",
          "Alerte: 169<br>Prediction: SN<br>---<br>ztfr: 1166 | ztfg: 138 | ztfi: 0<br>---<br>SN: 58.7784%",
          "Alerte: 170<br>Prediction: SN<br>---<br>ztfr: 1166 | ztfg: 138 | ztfi: 0<br>---<br>SN: 72.4975%",
          "Alerte: 171<br>Prediction: SN<br>---<br>ztfr: 1172 | ztfg: 140 | ztfi: 0<br>---<br>SN: 66.304%",
          "Alerte: 172<br>Prediction: SN<br>---<br>ztfr: 1174 | ztfg: 140 | ztfi: 0<br>---<br>SN: 80.5174%",
          "Alerte: 173<br>Prediction: SN<br>---<br>ztfr: 1186 | ztfg: 140 | ztfi: 0<br>---<br>SN: 82.165%",
          "Alerte: 174<br>Prediction: SN<br>---<br>ztfr: 1202 | ztfg: 140 | ztfi: 0<br>---<br>SN: 78.7396%",
          "Alerte: 175<br>Prediction: SN<br>---<br>ztfr: 1201 | ztfg: 140 | ztfi: 0<br>---<br>SN: 72.2145%",
          "Alerte: 176<br>Prediction: SN<br>---<br>ztfr: 1212 | ztfg: 140 | ztfi: 0<br>---<br>SN: 83.6694%",
          "Alerte: 177<br>Prediction: SN<br>---<br>ztfr: 1236 | ztfg: 150 | ztfi: 0<br>---<br>SN: 56.4962%",
          "Alerte: 178<br>Prediction: SN<br>---<br>ztfr: 1236 | ztfg: 150 | ztfi: 0<br>---<br>SN: 77.7596%",
          "Alerte: 179<br>Prediction: SN<br>---<br>ztfr: 1244 | ztfg: 151 | ztfi: 0<br>---<br>SN: 61.4563%",
          "Alerte: 180<br>Prediction: SN<br>---<br>ztfr: 1246 | ztfg: 155 | ztfi: 0<br>---<br>SN: 59.9665%",
          "Alerte: 181<br>Prediction: SN<br>---<br>ztfr: 1252 | ztfg: 157 | ztfi: 0<br>---<br>SN: 52.2396%",
          "Alerte: 182<br>Prediction: SN<br>---<br>ztfr: 1252 | ztfg: 161 | ztfi: 0<br>---<br>SN: 98.5421%",
          "Alerte: 183<br>Prediction: SN<br>---<br>ztfr: 1252 | ztfg: 163 | ztfi: 0<br>---<br>SN: 98.1832%",
          "Alerte: 184<br>Prediction: SN<br>---<br>ztfr: 1257 | ztfg: 165 | ztfi: 0<br>---<br>SN: 98.0634%",
          "Alerte: 185<br>Prediction: SN<br>---<br>ztfr: 1265 | ztfg: 168 | ztfi: 0<br>---<br>SN: 96.5242%",
          "Alerte: 186<br>Prediction: SN<br>---<br>ztfr: 1276 | ztfg: 174 | ztfi: 0<br>---<br>SN: 96.4796%",
          "Alerte: 187<br>Prediction: SN<br>---<br>ztfr: 1276 | ztfg: 176 | ztfi: 0<br>---<br>SN: 98.9491%",
          "Alerte: 188<br>Prediction: SN<br>---<br>ztfr: 1302 | ztfg: 203 | ztfi: 0<br>---<br>SN: 95.9882%",
          "Alerte: 189<br>Prediction: SN<br>---<br>ztfr: 1311 | ztfg: 217 | ztfi: 0<br>---<br>SN: 67.1194%",
          "Alerte: 190<br>Prediction: SN<br>---<br>ztfr: 1313 | ztfg: 218 | ztfi: 0<br>---<br>SN: 70.7041%",
          "Alerte: 191<br>Prediction: SN<br>---<br>ztfr: 1317 | ztfg: 218 | ztfi: 0<br>---<br>SN: 87.7508%",
          "Alerte: 192<br>Prediction: SN<br>---<br>ztfr: 1319 | ztfg: 222 | ztfi: 0<br>---<br>SN: 75.2064%",
          "Alerte: 193<br>Prediction: SN<br>---<br>ztfr: 1332 | ztfg: 232 | ztfi: 1<br>---<br>SN: 87.4809%",
          "Alerte: 194<br>Prediction: SN<br>---<br>ztfr: 1343 | ztfg: 256 | ztfi: 1<br>---<br>SN: 89.6184%",
          "Alerte: 195<br>Prediction: SN<br>---<br>ztfr: 1393 | ztfg: 281 | ztfi: 1<br>---<br>SN: 86.2243%",
          "Alerte: 196<br>Prediction: SN<br>---<br>ztfr: 1393 | ztfg: 281 | ztfi: 1<br>---<br>SN: 86.2246%",
          "Alerte: 197<br>Prediction: SN<br>---<br>ztfr: 1412 | ztfg: 304 | ztfi: 1<br>---<br>SN: 75.3852%",
          "Alerte: 198<br>Prediction: SN<br>---<br>ztfr: 1421 | ztfg: 315 | ztfi: 4<br>---<br>SN: 77.028%",
          "Alerte: 199<br>Prediction: SN<br>---<br>ztfr: 1430 | ztfg: 319 | ztfi: 5<br>---<br>SN: 77.2928%",
          "Alerte: 200<br>Prediction: SN<br>---<br>ztfr: 1436 | ztfg: 322 | ztfi: 5<br>---<br>SN: 95.8513%",
          "Alerte: 201<br>Prediction: SN<br>---<br>ztfr: 1465 | ztfg: 355 | ztfi: 7<br>---<br>SN: 72.606%",
          "Alerte: 202<br>Prediction: SN<br>---<br>ztfr: 1551 | ztfg: 442 | ztfi: 15<br>---<br>SN: 95.343%",
          "Alerte: 203<br>Prediction: SN<br>---<br>ztfr: 1551 | ztfg: 442 | ztfi: 15<br>---<br>SN: 96.4027%",
          "Alerte: 204<br>Prediction: SN<br>---<br>ztfr: 1551 | ztfg: 442 | ztfi: 15<br>---<br>SN: 92.8344%",
          "Alerte: 205<br>Prediction: SN<br>---<br>ztfr: 1552 | ztfg: 442 | ztfi: 15<br>---<br>SN: 70.7821%",
          "Alerte: 206<br>Prediction: SN<br>---<br>ztfr: 1552 | ztfg: 443 | ztfi: 15<br>---<br>SN: 98.7242%",
          "Alerte: 207<br>Prediction: SN<br>---<br>ztfr: 1552 | ztfg: 443 | ztfi: 15<br>---<br>SN: 98.6904%",
          "Alerte: 208<br>Prediction: SN<br>---<br>ztfr: 1552 | ztfg: 443 | ztfi: 15<br>---<br>SN: 97.5879%",
          "Alerte: 209<br>Prediction: SN<br>---<br>ztfr: 1552 | ztfg: 445 | ztfi: 15<br>---<br>SN: 83.9247%"
         ],
         "type": "scatter",
         "x": [
          0,
          1,
          2,
          3,
          4,
          5,
          6,
          7,
          8,
          9,
          10,
          11,
          12,
          13,
          14,
          15,
          16,
          17,
          18,
          19,
          20,
          21,
          22,
          23,
          24,
          25,
          26,
          27,
          28,
          29,
          30,
          31,
          32,
          33,
          34,
          35,
          36,
          37,
          38,
          39,
          40,
          41,
          42,
          43,
          44,
          45,
          46,
          47,
          48,
          49,
          50,
          51,
          52,
          53,
          54,
          55,
          56,
          57,
          58,
          59,
          60,
          61,
          62,
          63,
          64,
          65,
          66,
          67,
          68,
          69,
          70,
          71,
          72,
          73,
          74,
          75,
          76,
          77,
          78,
          79,
          80,
          81,
          82,
          83,
          84,
          85,
          87,
          88,
          89,
          90,
          91,
          92,
          93,
          94,
          95,
          96,
          97,
          98,
          99,
          100,
          101,
          102,
          103,
          104,
          105,
          106,
          107,
          108,
          109,
          110,
          111,
          112,
          113,
          114,
          115,
          116,
          117,
          118,
          119,
          120,
          121,
          122,
          123,
          124,
          125,
          126,
          127,
          128,
          129,
          130,
          131,
          132,
          133,
          134,
          135,
          136,
          137,
          138,
          139,
          140,
          141,
          142,
          143,
          144,
          145,
          146,
          147,
          148,
          149,
          150,
          151,
          152,
          153,
          154,
          155,
          156,
          157,
          158,
          159,
          160,
          161,
          162,
          163,
          164,
          165,
          166,
          167,
          168,
          169,
          170,
          171,
          172,
          173,
          174,
          175,
          176,
          177,
          178,
          179,
          180,
          181,
          182,
          183,
          184,
          185,
          186,
          187,
          188,
          189,
          190,
          191,
          192,
          193,
          194,
          195,
          196,
          197,
          198,
          199,
          200,
          201,
          202,
          203,
          204,
          205,
          206,
          207,
          208,
          209
         ],
         "y": [
          0.9707239270210266,
          0.9853464961051941,
          0.9562146067619324,
          0.9523779153823853,
          0.932986855506897,
          0.9343745112419128,
          0.9444009065628052,
          0.932930588722229,
          0.9631146192550659,
          0.9858842492103577,
          0.9701653122901917,
          0.9444863200187683,
          0.9853323698043823,
          0.994925856590271,
          0.9926934242248535,
          0.93348228931427,
          0.9870516657829285,
          0.9382638931274414,
          0.9371155500411987,
          0.9630312323570251,
          0.9946131110191345,
          0.9859718680381775,
          0.9352260231971741,
          0.9306493401527405,
          0.9378379583358765,
          0.9520260095596313,
          0.9471315741539001,
          0.9372351169586182,
          0.9288759231567383,
          0.989182710647583,
          0.9480683207511902,
          0.9629521369934082,
          0.9285849332809448,
          0.9388654232025146,
          0.9434342384338379,
          0.9497876167297363,
          0.9640740752220154,
          0.953745424747467,
          0.9657858610153198,
          0.9309461116790771,
          0.9568217992782593,
          0.9337971210479736,
          0.979103147983551,
          0.9487611651420593,
          0.9523186087608337,
          0.9872305393218994,
          0.9354853630065918,
          0.9369867444038391,
          0.9382519125938416,
          0.9647670388221741,
          0.9352332353591919,
          0.938319742679596,
          0.9715800285339355,
          0.9678397178649902,
          0.986659824848175,
          0.9317536950111389,
          0.9575631022453308,
          0.9329529404640198,
          0.9498686194419861,
          0.9386588931083679,
          0.9345086812973022,
          0.9319993257522583,
          0.9791253805160522,
          0.934409499168396,
          0.9355053305625916,
          0.9495490789413452,
          0.9663490056991577,
          0.9752654433250427,
          0.9719979763031006,
          0.9533608555793762,
          0.958981990814209,
          0.946124255657196,
          0.9345359802246094,
          0.9696256518363953,
          0.9692665338516235,
          0.9686664342880249,
          0.9724958539009094,
          0.9321310520172119,
          0.9665725231170654,
          0.9750755429267883,
          0.9573401212692261,
          0.9326655268669128,
          0.9647536277770996,
          0.9744383096694946,
          0.9649062156677246,
          0.9371814727783203,
          0.9631688594818115,
          0.931605339050293,
          0.9687930345535278,
          0.9694236516952515,
          0.9591631293296814,
          0.9661368727684021,
          0.9744506478309631,
          0.9640870094299316,
          0.9645558595657349,
          0.9645295739173889,
          0.9671499133110046,
          0.9553028345108032,
          0.9578618407249451,
          0.9582705497741699,
          0.9507438540458679,
          0.9320195317268372,
          0.9620142579078674,
          0.9662063121795654,
          0.9544376730918884,
          0.9497138857841492,
          0.938345193862915,
          0.9663493633270264,
          0.963034987449646,
          0.9613810777664185,
          0.9472180604934692,
          0.9609533548355103,
          0.966648280620575,
          0.9658726453781128,
          0.9683224558830261,
          0.9501608610153198,
          0.9448269009590149,
          0.9493528604507446,
          0.9637068510055542,
          0.9596752524375916,
          0.9639151692390442,
          0.9658875465393066,
          0.9663728475570679,
          0.9620067477226257,
          0.9530419111251831,
          0.9636585712432861,
          0.9493579864501953,
          0.9606997966766357,
          0.9509903192520142,
          0.9462239742279053,
          0.9422997236251831,
          0.960270881652832,
          0.9643604755401611,
          0.9684966802597046,
          0.9678649306297302,
          0.9733450412750244,
          0.9492733478546143,
          0.9700994491577148,
          0.9379829168319702,
          0.9456520676612854,
          0.9708654880523682,
          0.9706233739852905,
          0.9733688831329346,
          0.9725964069366455,
          0.9730439186096191,
          0.9739170670509338,
          0.9718077778816223,
          0.9610812664031982,
          0.9628197550773621,
          0.9695124626159668,
          0.965008020401001,
          0.9638173580169678,
          0.9694129824638367,
          0.9642153978347778,
          0.9914480447769165,
          0.9943315982818604,
          0.9751540422439575,
          0.9745112061500549,
          0.9573942422866821,
          0.973791241645813,
          0.9730647206306458,
          0.9675319194793701,
          0.970243513584137,
          0.9686216115951538,
          0.9644395112991333,
          0.9739963412284851,
          0.9645097851753235,
          0.93874591588974,
          0.939374566078186,
          0.9519814252853394,
          0.9470813274383545,
          0.9642366170883179,
          0.9669205546379089,
          0.9617801904678345,
          0.9533026814460754,
          0.9690709710121155,
          0.9422126412391663,
          0.9615709185600281,
          0.9422698616981506,
          0.947390079498291,
          0.9429749250411987,
          0.9969041347503662,
          0.9959690570831299,
          0.9963095188140869,
          0.9909459352493286,
          0.9912617206573486,
          0.9974955916404724,
          0.98997962474823,
          0.9468147158622742,
          0.9506387710571289,
          0.9730000495910645,
          0.9589288234710693,
          0.9701259732246399,
          0.9776804447174072,
          0.970853865146637,
          0.9708545207977295,
          0.9490121603012085,
          0.9667971134185791,
          0.9537837505340576,
          0.9907729029655457,
          0.9528778791427612,
          0.9879896640777588,
          0.9906603693962097,
          0.9818372130393982,
          0.9914383888244629,
          0.9965079426765442,
          0.9964158535003662,
          0.9934309124946594,
          0.9902356266975403
         ]
        }
       ],
       "layout": {
        "hovermode": "x unified",
        "template": {
         "data": {
          "bar": [
           {
            "error_x": {
             "color": "#2a3f5f"
            },
            "error_y": {
             "color": "#2a3f5f"
            },
            "marker": {
             "line": {
              "color": "#E5ECF6",
              "width": 0.5
             },
             "pattern": {
              "fillmode": "overlay",
              "size": 10,
              "solidity": 0.2
             }
            },
            "type": "bar"
           }
          ],
          "barpolar": [
           {
            "marker": {
             "line": {
              "color": "#E5ECF6",
              "width": 0.5
             },
             "pattern": {
              "fillmode": "overlay",
              "size": 10,
              "solidity": 0.2
             }
            },
            "type": "barpolar"
           }
          ],
          "carpet": [
           {
            "aaxis": {
             "endlinecolor": "#2a3f5f",
             "gridcolor": "white",
             "linecolor": "white",
             "minorgridcolor": "white",
             "startlinecolor": "#2a3f5f"
            },
            "baxis": {
             "endlinecolor": "#2a3f5f",
             "gridcolor": "white",
             "linecolor": "white",
             "minorgridcolor": "white",
             "startlinecolor": "#2a3f5f"
            },
            "type": "carpet"
           }
          ],
          "choropleth": [
           {
            "colorbar": {
             "outlinewidth": 0,
             "ticks": ""
            },
            "type": "choropleth"
           }
          ],
          "contour": [
           {
            "colorbar": {
             "outlinewidth": 0,
             "ticks": ""
            },
            "colorscale": [
             [
              0,
              "#0d0887"
             ],
             [
              0.1111111111111111,
              "#46039f"
             ],
             [
              0.2222222222222222,
              "#7201a8"
             ],
             [
              0.3333333333333333,
              "#9c179e"
             ],
             [
              0.4444444444444444,
              "#bd3786"
             ],
             [
              0.5555555555555556,
              "#d8576b"
             ],
             [
              0.6666666666666666,
              "#ed7953"
             ],
             [
              0.7777777777777778,
              "#fb9f3a"
             ],
             [
              0.8888888888888888,
              "#fdca26"
             ],
             [
              1,
              "#f0f921"
             ]
            ],
            "type": "contour"
           }
          ],
          "contourcarpet": [
           {
            "colorbar": {
             "outlinewidth": 0,
             "ticks": ""
            },
            "type": "contourcarpet"
           }
          ],
          "heatmap": [
           {
            "colorbar": {
             "outlinewidth": 0,
             "ticks": ""
            },
            "colorscale": [
             [
              0,
              "#0d0887"
             ],
             [
              0.1111111111111111,
              "#46039f"
             ],
             [
              0.2222222222222222,
              "#7201a8"
             ],
             [
              0.3333333333333333,
              "#9c179e"
             ],
             [
              0.4444444444444444,
              "#bd3786"
             ],
             [
              0.5555555555555556,
              "#d8576b"
             ],
             [
              0.6666666666666666,
              "#ed7953"
             ],
             [
              0.7777777777777778,
              "#fb9f3a"
             ],
             [
              0.8888888888888888,
              "#fdca26"
             ],
             [
              1,
              "#f0f921"
             ]
            ],
            "type": "heatmap"
           }
          ],
          "heatmapgl": [
           {
            "colorbar": {
             "outlinewidth": 0,
             "ticks": ""
            },
            "colorscale": [
             [
              0,
              "#0d0887"
             ],
             [
              0.1111111111111111,
              "#46039f"
             ],
             [
              0.2222222222222222,
              "#7201a8"
             ],
             [
              0.3333333333333333,
              "#9c179e"
             ],
             [
              0.4444444444444444,
              "#bd3786"
             ],
             [
              0.5555555555555556,
              "#d8576b"
             ],
             [
              0.6666666666666666,
              "#ed7953"
             ],
             [
              0.7777777777777778,
              "#fb9f3a"
             ],
             [
              0.8888888888888888,
              "#fdca26"
             ],
             [
              1,
              "#f0f921"
             ]
            ],
            "type": "heatmapgl"
           }
          ],
          "histogram": [
           {
            "marker": {
             "pattern": {
              "fillmode": "overlay",
              "size": 10,
              "solidity": 0.2
             }
            },
            "type": "histogram"
           }
          ],
          "histogram2d": [
           {
            "colorbar": {
             "outlinewidth": 0,
             "ticks": ""
            },
            "colorscale": [
             [
              0,
              "#0d0887"
             ],
             [
              0.1111111111111111,
              "#46039f"
             ],
             [
              0.2222222222222222,
              "#7201a8"
             ],
             [
              0.3333333333333333,
              "#9c179e"
             ],
             [
              0.4444444444444444,
              "#bd3786"
             ],
             [
              0.5555555555555556,
              "#d8576b"
             ],
             [
              0.6666666666666666,
              "#ed7953"
             ],
             [
              0.7777777777777778,
              "#fb9f3a"
             ],
             [
              0.8888888888888888,
              "#fdca26"
             ],
             [
              1,
              "#f0f921"
             ]
            ],
            "type": "histogram2d"
           }
          ],
          "histogram2dcontour": [
           {
            "colorbar": {
             "outlinewidth": 0,
             "ticks": ""
            },
            "colorscale": [
             [
              0,
              "#0d0887"
             ],
             [
              0.1111111111111111,
              "#46039f"
             ],
             [
              0.2222222222222222,
              "#7201a8"
             ],
             [
              0.3333333333333333,
              "#9c179e"
             ],
             [
              0.4444444444444444,
              "#bd3786"
             ],
             [
              0.5555555555555556,
              "#d8576b"
             ],
             [
              0.6666666666666666,
              "#ed7953"
             ],
             [
              0.7777777777777778,
              "#fb9f3a"
             ],
             [
              0.8888888888888888,
              "#fdca26"
             ],
             [
              1,
              "#f0f921"
             ]
            ],
            "type": "histogram2dcontour"
           }
          ],
          "mesh3d": [
           {
            "colorbar": {
             "outlinewidth": 0,
             "ticks": ""
            },
            "type": "mesh3d"
           }
          ],
          "parcoords": [
           {
            "line": {
             "colorbar": {
              "outlinewidth": 0,
              "ticks": ""
             }
            },
            "type": "parcoords"
           }
          ],
          "pie": [
           {
            "automargin": true,
            "type": "pie"
           }
          ],
          "scatter": [
           {
            "fillpattern": {
             "fillmode": "overlay",
             "size": 10,
             "solidity": 0.2
            },
            "type": "scatter"
           }
          ],
          "scatter3d": [
           {
            "line": {
             "colorbar": {
              "outlinewidth": 0,
              "ticks": ""
             }
            },
            "marker": {
             "colorbar": {
              "outlinewidth": 0,
              "ticks": ""
             }
            },
            "type": "scatter3d"
           }
          ],
          "scattercarpet": [
           {
            "marker": {
             "colorbar": {
              "outlinewidth": 0,
              "ticks": ""
             }
            },
            "type": "scattercarpet"
           }
          ],
          "scattergeo": [
           {
            "marker": {
             "colorbar": {
              "outlinewidth": 0,
              "ticks": ""
             }
            },
            "type": "scattergeo"
           }
          ],
          "scattergl": [
           {
            "marker": {
             "colorbar": {
              "outlinewidth": 0,
              "ticks": ""
             }
            },
            "type": "scattergl"
           }
          ],
          "scattermapbox": [
           {
            "marker": {
             "colorbar": {
              "outlinewidth": 0,
              "ticks": ""
             }
            },
            "type": "scattermapbox"
           }
          ],
          "scatterpolar": [
           {
            "marker": {
             "colorbar": {
              "outlinewidth": 0,
              "ticks": ""
             }
            },
            "type": "scatterpolar"
           }
          ],
          "scatterpolargl": [
           {
            "marker": {
             "colorbar": {
              "outlinewidth": 0,
              "ticks": ""
             }
            },
            "type": "scatterpolargl"
           }
          ],
          "scatterternary": [
           {
            "marker": {
             "colorbar": {
              "outlinewidth": 0,
              "ticks": ""
             }
            },
            "type": "scatterternary"
           }
          ],
          "surface": [
           {
            "colorbar": {
             "outlinewidth": 0,
             "ticks": ""
            },
            "colorscale": [
             [
              0,
              "#0d0887"
             ],
             [
              0.1111111111111111,
              "#46039f"
             ],
             [
              0.2222222222222222,
              "#7201a8"
             ],
             [
              0.3333333333333333,
              "#9c179e"
             ],
             [
              0.4444444444444444,
              "#bd3786"
             ],
             [
              0.5555555555555556,
              "#d8576b"
             ],
             [
              0.6666666666666666,
              "#ed7953"
             ],
             [
              0.7777777777777778,
              "#fb9f3a"
             ],
             [
              0.8888888888888888,
              "#fdca26"
             ],
             [
              1,
              "#f0f921"
             ]
            ],
            "type": "surface"
           }
          ],
          "table": [
           {
            "cells": {
             "fill": {
              "color": "#EBF0F8"
             },
             "line": {
              "color": "white"
             }
            },
            "header": {
             "fill": {
              "color": "#C8D4E3"
             },
             "line": {
              "color": "white"
             }
            },
            "type": "table"
           }
          ]
         },
         "layout": {
          "annotationdefaults": {
           "arrowcolor": "#2a3f5f",
           "arrowhead": 0,
           "arrowwidth": 1
          },
          "autotypenumbers": "strict",
          "coloraxis": {
           "colorbar": {
            "outlinewidth": 0,
            "ticks": ""
           }
          },
          "colorscale": {
           "diverging": [
            [
             0,
             "#8e0152"
            ],
            [
             0.1,
             "#c51b7d"
            ],
            [
             0.2,
             "#de77ae"
            ],
            [
             0.3,
             "#f1b6da"
            ],
            [
             0.4,
             "#fde0ef"
            ],
            [
             0.5,
             "#f7f7f7"
            ],
            [
             0.6,
             "#e6f5d0"
            ],
            [
             0.7,
             "#b8e186"
            ],
            [
             0.8,
             "#7fbc41"
            ],
            [
             0.9,
             "#4d9221"
            ],
            [
             1,
             "#276419"
            ]
           ],
           "sequential": [
            [
             0,
             "#0d0887"
            ],
            [
             0.1111111111111111,
             "#46039f"
            ],
            [
             0.2222222222222222,
             "#7201a8"
            ],
            [
             0.3333333333333333,
             "#9c179e"
            ],
            [
             0.4444444444444444,
             "#bd3786"
            ],
            [
             0.5555555555555556,
             "#d8576b"
            ],
            [
             0.6666666666666666,
             "#ed7953"
            ],
            [
             0.7777777777777778,
             "#fb9f3a"
            ],
            [
             0.8888888888888888,
             "#fdca26"
            ],
            [
             1,
             "#f0f921"
            ]
           ],
           "sequentialminus": [
            [
             0,
             "#0d0887"
            ],
            [
             0.1111111111111111,
             "#46039f"
            ],
            [
             0.2222222222222222,
             "#7201a8"
            ],
            [
             0.3333333333333333,
             "#9c179e"
            ],
            [
             0.4444444444444444,
             "#bd3786"
            ],
            [
             0.5555555555555556,
             "#d8576b"
            ],
            [
             0.6666666666666666,
             "#ed7953"
            ],
            [
             0.7777777777777778,
             "#fb9f3a"
            ],
            [
             0.8888888888888888,
             "#fdca26"
            ],
            [
             1,
             "#f0f921"
            ]
           ]
          },
          "colorway": [
           "#636efa",
           "#EF553B",
           "#00cc96",
           "#ab63fa",
           "#FFA15A",
           "#19d3f3",
           "#FF6692",
           "#B6E880",
           "#FF97FF",
           "#FECB52"
          ],
          "font": {
           "color": "#2a3f5f"
          },
          "geo": {
           "bgcolor": "white",
           "lakecolor": "white",
           "landcolor": "#E5ECF6",
           "showlakes": true,
           "showland": true,
           "subunitcolor": "white"
          },
          "hoverlabel": {
           "align": "left"
          },
          "hovermode": "closest",
          "mapbox": {
           "style": "light"
          },
          "paper_bgcolor": "white",
          "plot_bgcolor": "#E5ECF6",
          "polar": {
           "angularaxis": {
            "gridcolor": "white",
            "linecolor": "white",
            "ticks": ""
           },
           "bgcolor": "#E5ECF6",
           "radialaxis": {
            "gridcolor": "white",
            "linecolor": "white",
            "ticks": ""
           }
          },
          "scene": {
           "xaxis": {
            "backgroundcolor": "#E5ECF6",
            "gridcolor": "white",
            "gridwidth": 2,
            "linecolor": "white",
            "showbackground": true,
            "ticks": "",
            "zerolinecolor": "white"
           },
           "yaxis": {
            "backgroundcolor": "#E5ECF6",
            "gridcolor": "white",
            "gridwidth": 2,
            "linecolor": "white",
            "showbackground": true,
            "ticks": "",
            "zerolinecolor": "white"
           },
           "zaxis": {
            "backgroundcolor": "#E5ECF6",
            "gridcolor": "white",
            "gridwidth": 2,
            "linecolor": "white",
            "showbackground": true,
            "ticks": "",
            "zerolinecolor": "white"
           }
          },
          "shapedefaults": {
           "line": {
            "color": "#2a3f5f"
           }
          },
          "ternary": {
           "aaxis": {
            "gridcolor": "white",
            "linecolor": "white",
            "ticks": ""
           },
           "baxis": {
            "gridcolor": "white",
            "linecolor": "white",
            "ticks": ""
           },
           "bgcolor": "#E5ECF6",
           "caxis": {
            "gridcolor": "white",
            "linecolor": "white",
            "ticks": ""
           }
          },
          "title": {
           "x": 0.05
          },
          "xaxis": {
           "automargin": true,
           "gridcolor": "white",
           "linecolor": "white",
           "ticks": "",
           "title": {
            "standoff": 15
           },
           "zerolinecolor": "white",
           "zerolinewidth": 2
          },
          "yaxis": {
           "automargin": true,
           "gridcolor": "white",
           "linecolor": "white",
           "ticks": "",
           "title": {
            "standoff": 15
           },
           "zerolinecolor": "white",
           "zerolinewidth": 2
          }
         }
        },
        "title": {
         "text": "Supernova Classification Over Time"
        },
        "xaxis": {
         "title": {
          "text": "Alertes"
         }
        },
        "yaxis": {
         "range": [
          0,
          1
         ],
         "title": {
          "text": "Probability"
         }
        }
       }
      }
     },
     "metadata": {},
     "output_type": "display_data"
    },
    {
     "name": "stdout",
     "output_type": "stream",
     "text": [
      "Type 1: 42, Type 2: 167\n",
      "The object is a SN\n",
      "Type 1: 57.694580078125, Type 2: 143.1429443359375\n",
      "Final prediction: SN\n",
      "       objectId true_class  nb_predictions_type_1  nb_predictions_type_2  \\\n",
      "0  ZTF17aaazdba        TDE                     42                    167   \n",
      "\n",
      "   nb_type_1   nb_type_2  last_type_1_prediction  last_type_2_prediction  \\\n",
      "0   57.69458  143.142944                0.150989                0.839247   \n",
      "\n",
      "  final_prediction_by_counts final_prediction_by_sum  \n",
      "0                         SN                      SN  \n"
     ]
    }
   ],
   "source": [
    "df_res = loop_on_all(objIds, model)"
   ]
  },
  {
   "cell_type": "code",
   "execution_count": 118,
   "metadata": {},
   "outputs": [
    {
     "data": {
      "text/html": [
       "<div>\n",
       "<style scoped>\n",
       "    .dataframe tbody tr th:only-of-type {\n",
       "        vertical-align: middle;\n",
       "    }\n",
       "\n",
       "    .dataframe tbody tr th {\n",
       "        vertical-align: top;\n",
       "    }\n",
       "\n",
       "    .dataframe thead th {\n",
       "        text-align: right;\n",
       "    }\n",
       "</style>\n",
       "<table border=\"1\" class=\"dataframe\">\n",
       "  <thead>\n",
       "    <tr style=\"text-align: right;\">\n",
       "      <th></th>\n",
       "      <th>objectId</th>\n",
       "      <th>true_class</th>\n",
       "      <th>nb_predictions_type_1</th>\n",
       "      <th>nb_predictions_type_2</th>\n",
       "      <th>nb_type_1</th>\n",
       "      <th>nb_type_2</th>\n",
       "      <th>final_prediction_by_counts</th>\n",
       "      <th>final_prediction_by_sum</th>\n",
       "      <th>last_type_1_prediction</th>\n",
       "      <th>last_type_2_prediction</th>\n",
       "    </tr>\n",
       "  </thead>\n",
       "  <tbody>\n",
       "    <tr>\n",
       "      <th>0</th>\n",
       "      <td>ZTF18aayiono</td>\n",
       "      <td>SN Ia</td>\n",
       "      <td>13</td>\n",
       "      <td>10</td>\n",
       "      <td>13.602296</td>\n",
       "      <td>9.222004</td>\n",
       "      <td>Other</td>\n",
       "      <td>Other</td>\n",
       "      <td>0.029780</td>\n",
       "      <td>0.960375</td>\n",
       "    </tr>\n",
       "    <tr>\n",
       "      <th>1</th>\n",
       "      <td>ZTF17aaaeqms</td>\n",
       "      <td>-</td>\n",
       "      <td>69</td>\n",
       "      <td>28</td>\n",
       "      <td>62.440636</td>\n",
       "      <td>34.279812</td>\n",
       "      <td>Other</td>\n",
       "      <td>Other</td>\n",
       "      <td>0.389433</td>\n",
       "      <td>0.567659</td>\n",
       "    </tr>\n",
       "    <tr>\n",
       "      <th>2</th>\n",
       "      <td>ZTF17aaajowi</td>\n",
       "      <td>-</td>\n",
       "      <td>1</td>\n",
       "      <td>1</td>\n",
       "      <td>1.040309</td>\n",
       "      <td>0.953210</td>\n",
       "      <td>SN</td>\n",
       "      <td>Other</td>\n",
       "      <td>0.689461</td>\n",
       "      <td>0.306375</td>\n",
       "    </tr>\n",
       "    <tr>\n",
       "      <th>3</th>\n",
       "      <td>ZTF17aaaocnx</td>\n",
       "      <td>-</td>\n",
       "      <td>17</td>\n",
       "      <td>15</td>\n",
       "      <td>19.292379</td>\n",
       "      <td>12.960379</td>\n",
       "      <td>Other</td>\n",
       "      <td>Other</td>\n",
       "      <td>0.119080</td>\n",
       "      <td>0.899307</td>\n",
       "    </tr>\n",
       "    <tr>\n",
       "      <th>4</th>\n",
       "      <td>ZTF17aaapufz</td>\n",
       "      <td>LBV</td>\n",
       "      <td>22</td>\n",
       "      <td>206</td>\n",
       "      <td>60.955528</td>\n",
       "      <td>158.770996</td>\n",
       "      <td>SN</td>\n",
       "      <td>SN</td>\n",
       "      <td>0.155604</td>\n",
       "      <td>0.808011</td>\n",
       "    </tr>\n",
       "    <tr>\n",
       "      <th>5</th>\n",
       "      <td>ZTF17aaazdba</td>\n",
       "      <td>TDE</td>\n",
       "      <td>42</td>\n",
       "      <td>167</td>\n",
       "      <td>57.694580</td>\n",
       "      <td>143.142944</td>\n",
       "      <td>SN</td>\n",
       "      <td>SN</td>\n",
       "      <td>0.150989</td>\n",
       "      <td>0.839247</td>\n",
       "    </tr>\n",
       "  </tbody>\n",
       "</table>\n",
       "</div>"
      ],
      "text/plain": [
       "       objectId true_class nb_predictions_type_1 nb_predictions_type_2  \\\n",
       "0  ZTF18aayiono      SN Ia                    13                    10   \n",
       "1  ZTF17aaaeqms          -                    69                    28   \n",
       "2  ZTF17aaajowi          -                     1                     1   \n",
       "3  ZTF17aaaocnx          -                    17                    15   \n",
       "4  ZTF17aaapufz        LBV                    22                   206   \n",
       "5  ZTF17aaazdba        TDE                    42                   167   \n",
       "\n",
       "   nb_type_1   nb_type_2 final_prediction_by_counts final_prediction_by_sum  \\\n",
       "0  13.602296    9.222004                      Other                   Other   \n",
       "1  62.440636   34.279812                      Other                   Other   \n",
       "2   1.040309    0.953210                         SN                   Other   \n",
       "3  19.292379   12.960379                      Other                   Other   \n",
       "4  60.955528  158.770996                         SN                      SN   \n",
       "5  57.694580  143.142944                         SN                      SN   \n",
       "\n",
       "   last_type_1_prediction  last_type_2_prediction  \n",
       "0                0.029780                0.960375  \n",
       "1                0.389433                0.567659  \n",
       "2                0.689461                0.306375  \n",
       "3                0.119080                0.899307  \n",
       "4                0.155604                0.808011  \n",
       "5                0.150989                0.839247  "
      ]
     },
     "execution_count": 118,
     "metadata": {},
     "output_type": "execute_result"
    }
   ],
   "source": [
    "df_res"
   ]
  }
 ],
 "metadata": {
  "kernelspec": {
   "display_name": "skyportal_env",
   "language": "python",
   "name": "python3"
  },
  "language_info": {
   "codemirror_mode": {
    "name": "ipython",
    "version": 3
   },
   "file_extension": ".py",
   "mimetype": "text/x-python",
   "name": "python",
   "nbconvert_exporter": "python",
   "pygments_lexer": "ipython3",
   "version": "3.10.14"
  }
 },
 "nbformat": 4,
 "nbformat_minor": 2
}
